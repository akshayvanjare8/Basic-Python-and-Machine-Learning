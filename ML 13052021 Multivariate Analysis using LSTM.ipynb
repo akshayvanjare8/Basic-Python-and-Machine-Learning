{
  "nbformat": 4,
  "nbformat_minor": 0,
  "metadata": {
    "colab": {
      "name": "Multivariate or Multi Input Time Series Analysis using LSTM.ipynb",
      "provenance": [],
      "collapsed_sections": []
    },
    "kernelspec": {
      "name": "python3",
      "display_name": "Python 3"
    },
    "language_info": {
      "name": "python"
    }
  },
  "cells": [
    {
      "cell_type": "code",
      "metadata": {
        "id": "8Mex1mUk-EvZ"
      },
      "source": [
        "import pandas as pd \n",
        "import numpy as np \n",
        "import matplotlib.pyplot as plt"
      ],
      "execution_count": null,
      "outputs": []
    },
    {
      "cell_type": "code",
      "metadata": {
        "id": "n4u0CHLA-KW_"
      },
      "source": [
        "col_1 = np.array([10,20,30,40,50,60,70,80,90])\n",
        " \n",
        "col_2 = np.array([15,25,35,45,55,65,75,85,95])"
      ],
      "execution_count": null,
      "outputs": []
    },
    {
      "cell_type": "code",
      "metadata": {
        "id": "WLn3bv7OGbZD"
      },
      "source": [
        "out = [] \n",
        "for i in range(len(col_1)):\n",
        "  out.append(col_1[i] + col_2[i])\n",
        "out_col = np.array(out)"
      ],
      "execution_count": null,
      "outputs": []
    },
    {
      "cell_type": "code",
      "metadata": {
        "colab": {
          "base_uri": "https://localhost:8080/"
        },
        "id": "Wdxzqfy2G1pF",
        "outputId": "1939c345-4477-4153-f930-f40b5991a11f"
      },
      "source": [
        "out_col"
      ],
      "execution_count": null,
      "outputs": [
        {
          "output_type": "execute_result",
          "data": {
            "text/plain": [
              "array([ 25,  45,  65,  85, 105, 125, 145, 165, 185])"
            ]
          },
          "metadata": {
            "tags": []
          },
          "execution_count": 7
        }
      ]
    },
    {
      "cell_type": "code",
      "metadata": {
        "id": "SXv8Cjx9-Kcw"
      },
      "source": [
        "col_1 = col_1.reshape(len(col_1), 1)\n",
        "col_2 = col_2.reshape(len(col_2), 1)\n",
        "out_col = out_col.reshape(len(out_col), 1)"
      ],
      "execution_count": null,
      "outputs": []
    },
    {
      "cell_type": "code",
      "metadata": {
        "id": "yLEziO7S-Kju"
      },
      "source": [
        "data = np.hstack((col_1, col_2, out_col))"
      ],
      "execution_count": null,
      "outputs": []
    },
    {
      "cell_type": "code",
      "metadata": {
        "colab": {
          "base_uri": "https://localhost:8080/"
        },
        "id": "WEBQY-35Hkmm",
        "outputId": "50ecb8c1-7eba-49d4-9160-ab5b8ccdfd47"
      },
      "source": [
        "data"
      ],
      "execution_count": null,
      "outputs": [
        {
          "output_type": "execute_result",
          "data": {
            "text/plain": [
              "array([[ 10,  15,  25],\n",
              "       [ 20,  25,  45],\n",
              "       [ 30,  35,  65],\n",
              "       [ 40,  45,  85],\n",
              "       [ 50,  55, 105],\n",
              "       [ 60,  65, 125],\n",
              "       [ 70,  75, 145],\n",
              "       [ 80,  85, 165],\n",
              "       [ 90,  95, 185]])"
            ]
          },
          "metadata": {
            "tags": []
          },
          "execution_count": 10
        }
      ]
    },
    {
      "cell_type": "code",
      "metadata": {
        "id": "9aSVF4pI-Kpa"
      },
      "source": [
        "def feature_transform(n_steps, data):\n",
        "  x = []\n",
        "  y = [] \n",
        "  for i in range(n_steps, len(data) + 1):\n",
        "    x.append(data[i - n_steps: i, : -1])\n",
        "    y.append(data[i - 1, -1])\n",
        "  return np.array(x), np.array(y)"
      ],
      "execution_count": null,
      "outputs": []
    },
    {
      "cell_type": "code",
      "metadata": {
        "id": "vWMH_m6Y-Kwd"
      },
      "source": [
        "n_steps = 3"
      ],
      "execution_count": null,
      "outputs": []
    },
    {
      "cell_type": "code",
      "metadata": {
        "id": "c-KwU6rqLdY2"
      },
      "source": [
        "x, y = feature_transform(n_steps, data)"
      ],
      "execution_count": null,
      "outputs": []
    },
    {
      "cell_type": "code",
      "metadata": {
        "colab": {
          "base_uri": "https://localhost:8080/"
        },
        "id": "EkRakkAsLnis",
        "outputId": "546e252d-6561-473b-ee89-2b30096fc278"
      },
      "source": [
        "x, y"
      ],
      "execution_count": null,
      "outputs": [
        {
          "output_type": "execute_result",
          "data": {
            "text/plain": [
              "(array([[[10, 15],\n",
              "         [20, 25],\n",
              "         [30, 35]],\n",
              " \n",
              "        [[20, 25],\n",
              "         [30, 35],\n",
              "         [40, 45]],\n",
              " \n",
              "        [[30, 35],\n",
              "         [40, 45],\n",
              "         [50, 55]],\n",
              " \n",
              "        [[40, 45],\n",
              "         [50, 55],\n",
              "         [60, 65]],\n",
              " \n",
              "        [[50, 55],\n",
              "         [60, 65],\n",
              "         [70, 75]],\n",
              " \n",
              "        [[60, 65],\n",
              "         [70, 75],\n",
              "         [80, 85]],\n",
              " \n",
              "        [[70, 75],\n",
              "         [80, 85],\n",
              "         [90, 95]]]), array([ 65,  85, 105, 125, 145, 165, 185]))"
            ]
          },
          "metadata": {
            "tags": []
          },
          "execution_count": 19
        }
      ]
    },
    {
      "cell_type": "code",
      "metadata": {
        "colab": {
          "base_uri": "https://localhost:8080/"
        },
        "id": "ByxZIA-KLrB2",
        "outputId": "b4072dfd-8b98-41db-952a-ed3fcf1807b1"
      },
      "source": [
        "x.shape"
      ],
      "execution_count": null,
      "outputs": [
        {
          "output_type": "execute_result",
          "data": {
            "text/plain": [
              "(7, 3, 2)"
            ]
          },
          "metadata": {
            "tags": []
          },
          "execution_count": 20
        }
      ]
    },
    {
      "cell_type": "code",
      "metadata": {
        "id": "7CosKSH0-K2C",
        "colab": {
          "base_uri": "https://localhost:8080/"
        },
        "outputId": "61b7dc37-488f-45d3-9d56-2b5e97514f59"
      },
      "source": [
        "from keras.models import Sequential\n",
        "from keras.layers import Dense, LSTM\n",
        " \n",
        "model = Sequential() \n",
        " \n",
        "model.add(LSTM(50, activation = \"relu\", input_shape = (n_steps, x.shape[2])))\n",
        "model.add(Dense(1))\n",
        "model.compile(optimizer = 'adam', loss = 'mse')\n",
        " \n",
        "model.summary()"
      ],
      "execution_count": null,
      "outputs": [
        {
          "output_type": "stream",
          "text": [
            "Model: \"sequential\"\n",
            "_________________________________________________________________\n",
            "Layer (type)                 Output Shape              Param #   \n",
            "=================================================================\n",
            "lstm (LSTM)                  (None, 50)                10600     \n",
            "_________________________________________________________________\n",
            "dense (Dense)                (None, 1)                 51        \n",
            "=================================================================\n",
            "Total params: 10,651\n",
            "Trainable params: 10,651\n",
            "Non-trainable params: 0\n",
            "_________________________________________________________________\n"
          ],
          "name": "stdout"
        }
      ]
    },
    {
      "cell_type": "code",
      "metadata": {
        "id": "4c7XJhOh-K7r",
        "colab": {
          "base_uri": "https://localhost:8080/"
        },
        "outputId": "cf3a528e-32b7-42bb-baed-c0512537a0f8"
      },
      "source": [
        "history = model.fit(x, y, epochs = 100)"
      ],
      "execution_count": null,
      "outputs": [
        {
          "output_type": "stream",
          "text": [
            "Epoch 1/100\n",
            "1/1 [==============================] - 1s 1s/step - loss: 16798.9277\n",
            "Epoch 2/100\n",
            "1/1 [==============================] - 0s 9ms/step - loss: 16540.5762\n",
            "Epoch 3/100\n",
            "1/1 [==============================] - 0s 8ms/step - loss: 16285.8057\n",
            "Epoch 4/100\n",
            "1/1 [==============================] - 0s 5ms/step - loss: 16028.9072\n",
            "Epoch 5/100\n",
            "1/1 [==============================] - 0s 6ms/step - loss: 15767.7676\n",
            "Epoch 6/100\n",
            "1/1 [==============================] - 0s 6ms/step - loss: 15503.5908\n",
            "Epoch 7/100\n",
            "1/1 [==============================] - 0s 7ms/step - loss: 15232.4277\n",
            "Epoch 8/100\n",
            "1/1 [==============================] - 0s 6ms/step - loss: 14949.0088\n",
            "Epoch 9/100\n",
            "1/1 [==============================] - 0s 6ms/step - loss: 14651.8535\n",
            "Epoch 10/100\n",
            "1/1 [==============================] - 0s 7ms/step - loss: 14342.6650\n",
            "Epoch 11/100\n",
            "1/1 [==============================] - 0s 8ms/step - loss: 14022.9229\n",
            "Epoch 12/100\n",
            "1/1 [==============================] - 0s 5ms/step - loss: 13694.6709\n",
            "Epoch 13/100\n",
            "1/1 [==============================] - 0s 15ms/step - loss: 13360.3809\n",
            "Epoch 14/100\n",
            "1/1 [==============================] - 0s 7ms/step - loss: 13023.2100\n",
            "Epoch 15/100\n",
            "1/1 [==============================] - 0s 7ms/step - loss: 12686.9600\n",
            "Epoch 16/100\n",
            "1/1 [==============================] - 0s 7ms/step - loss: 12355.3594\n",
            "Epoch 17/100\n",
            "1/1 [==============================] - 0s 11ms/step - loss: 12030.8857\n",
            "Epoch 18/100\n",
            "1/1 [==============================] - 0s 7ms/step - loss: 11713.9551\n",
            "Epoch 19/100\n",
            "1/1 [==============================] - 0s 6ms/step - loss: 11403.1084\n",
            "Epoch 20/100\n",
            "1/1 [==============================] - 0s 8ms/step - loss: 11096.0215\n",
            "Epoch 21/100\n",
            "1/1 [==============================] - 0s 7ms/step - loss: 10790.6465\n",
            "Epoch 22/100\n",
            "1/1 [==============================] - 0s 7ms/step - loss: 10485.6855\n",
            "Epoch 23/100\n",
            "1/1 [==============================] - 0s 7ms/step - loss: 10180.2998\n",
            "Epoch 24/100\n",
            "1/1 [==============================] - 0s 7ms/step - loss: 9873.5625\n",
            "Epoch 25/100\n",
            "1/1 [==============================] - 0s 8ms/step - loss: 9564.2793\n",
            "Epoch 26/100\n",
            "1/1 [==============================] - 0s 8ms/step - loss: 9251.2002\n",
            "Epoch 27/100\n",
            "1/1 [==============================] - 0s 7ms/step - loss: 8933.1562\n",
            "Epoch 28/100\n",
            "1/1 [==============================] - 0s 7ms/step - loss: 8608.7959\n",
            "Epoch 29/100\n",
            "1/1 [==============================] - 0s 8ms/step - loss: 8275.7070\n",
            "Epoch 30/100\n",
            "1/1 [==============================] - 0s 7ms/step - loss: 7929.1367\n",
            "Epoch 31/100\n",
            "1/1 [==============================] - 0s 7ms/step - loss: 7560.8203\n",
            "Epoch 32/100\n",
            "1/1 [==============================] - 0s 7ms/step - loss: 7159.0288\n",
            "Epoch 33/100\n",
            "1/1 [==============================] - 0s 7ms/step - loss: 6711.9287\n",
            "Epoch 34/100\n",
            "1/1 [==============================] - 0s 6ms/step - loss: 6215.9624\n",
            "Epoch 35/100\n",
            "1/1 [==============================] - 0s 9ms/step - loss: 5684.5952\n",
            "Epoch 36/100\n",
            "1/1 [==============================] - 0s 7ms/step - loss: 5144.1123\n",
            "Epoch 37/100\n",
            "1/1 [==============================] - 0s 7ms/step - loss: 4617.9683\n",
            "Epoch 38/100\n",
            "1/1 [==============================] - 0s 7ms/step - loss: 4120.1421\n",
            "Epoch 39/100\n",
            "1/1 [==============================] - 0s 7ms/step - loss: 3657.6487\n",
            "Epoch 40/100\n",
            "1/1 [==============================] - 0s 8ms/step - loss: 3231.8738\n",
            "Epoch 41/100\n",
            "1/1 [==============================] - 0s 20ms/step - loss: 2840.1462\n",
            "Epoch 42/100\n",
            "1/1 [==============================] - 0s 11ms/step - loss: 2477.5542\n",
            "Epoch 43/100\n",
            "1/1 [==============================] - 0s 9ms/step - loss: 2137.5173\n",
            "Epoch 44/100\n",
            "1/1 [==============================] - 0s 16ms/step - loss: 1813.7900\n",
            "Epoch 45/100\n",
            "1/1 [==============================] - 0s 12ms/step - loss: 1505.5221\n",
            "Epoch 46/100\n",
            "1/1 [==============================] - 0s 13ms/step - loss: 1219.8280\n",
            "Epoch 47/100\n",
            "1/1 [==============================] - 0s 8ms/step - loss: 967.3868\n",
            "Epoch 48/100\n",
            "1/1 [==============================] - 0s 8ms/step - loss: 755.2220\n",
            "Epoch 49/100\n",
            "1/1 [==============================] - 0s 11ms/step - loss: 579.5680\n",
            "Epoch 50/100\n",
            "1/1 [==============================] - 0s 15ms/step - loss: 430.7133\n",
            "Epoch 51/100\n",
            "1/1 [==============================] - 0s 6ms/step - loss: 305.7556\n",
            "Epoch 52/100\n",
            "1/1 [==============================] - 0s 5ms/step - loss: 213.2441\n",
            "Epoch 53/100\n",
            "1/1 [==============================] - 0s 8ms/step - loss: 167.9009\n",
            "Epoch 54/100\n",
            "1/1 [==============================] - 0s 7ms/step - loss: 170.4287\n",
            "Epoch 55/100\n",
            "1/1 [==============================] - 0s 8ms/step - loss: 203.3661\n",
            "Epoch 56/100\n",
            "1/1 [==============================] - 0s 17ms/step - loss: 245.0122\n",
            "Epoch 57/100\n",
            "1/1 [==============================] - 0s 12ms/step - loss: 278.1818\n",
            "Epoch 58/100\n",
            "1/1 [==============================] - 0s 8ms/step - loss: 293.2477\n",
            "Epoch 59/100\n",
            "1/1 [==============================] - 0s 7ms/step - loss: 288.0960\n",
            "Epoch 60/100\n",
            "1/1 [==============================] - 0s 6ms/step - loss: 266.1960\n",
            "Epoch 61/100\n",
            "1/1 [==============================] - 0s 7ms/step - loss: 235.6020\n",
            "Epoch 62/100\n",
            "1/1 [==============================] - 0s 7ms/step - loss: 206.4543\n",
            "Epoch 63/100\n",
            "1/1 [==============================] - 0s 10ms/step - loss: 183.5971\n",
            "Epoch 64/100\n",
            "1/1 [==============================] - 0s 7ms/step - loss: 165.8154\n",
            "Epoch 65/100\n",
            "1/1 [==============================] - 0s 8ms/step - loss: 150.9889\n",
            "Epoch 66/100\n",
            "1/1 [==============================] - 0s 7ms/step - loss: 138.1870\n",
            "Epoch 67/100\n",
            "1/1 [==============================] - 0s 8ms/step - loss: 127.2542\n",
            "Epoch 68/100\n",
            "1/1 [==============================] - 0s 8ms/step - loss: 118.0690\n",
            "Epoch 69/100\n",
            "1/1 [==============================] - 0s 6ms/step - loss: 110.4689\n",
            "Epoch 70/100\n",
            "1/1 [==============================] - 0s 7ms/step - loss: 104.2628\n",
            "Epoch 71/100\n",
            "1/1 [==============================] - 0s 7ms/step - loss: 99.1987\n",
            "Epoch 72/100\n",
            "1/1 [==============================] - 0s 10ms/step - loss: 94.9927\n",
            "Epoch 73/100\n",
            "1/1 [==============================] - 0s 10ms/step - loss: 91.5121\n",
            "Epoch 74/100\n",
            "1/1 [==============================] - 0s 10ms/step - loss: 88.4631\n",
            "Epoch 75/100\n",
            "1/1 [==============================] - 0s 13ms/step - loss: 85.5444\n",
            "Epoch 76/100\n",
            "1/1 [==============================] - 0s 7ms/step - loss: 82.7116\n",
            "Epoch 77/100\n",
            "1/1 [==============================] - 0s 8ms/step - loss: 79.9594\n",
            "Epoch 78/100\n",
            "1/1 [==============================] - 0s 9ms/step - loss: 77.1006\n",
            "Epoch 79/100\n",
            "1/1 [==============================] - 0s 8ms/step - loss: 73.8697\n",
            "Epoch 80/100\n",
            "1/1 [==============================] - 0s 7ms/step - loss: 70.0881\n",
            "Epoch 81/100\n",
            "1/1 [==============================] - 0s 8ms/step - loss: 66.0228\n",
            "Epoch 82/100\n",
            "1/1 [==============================] - 0s 7ms/step - loss: 62.2873\n",
            "Epoch 83/100\n",
            "1/1 [==============================] - 0s 9ms/step - loss: 59.4577\n",
            "Epoch 84/100\n",
            "1/1 [==============================] - 0s 8ms/step - loss: 55.9131\n",
            "Epoch 85/100\n",
            "1/1 [==============================] - 0s 12ms/step - loss: 52.4733\n",
            "Epoch 86/100\n",
            "1/1 [==============================] - 0s 11ms/step - loss: 49.0807\n",
            "Epoch 87/100\n",
            "1/1 [==============================] - 0s 7ms/step - loss: 45.4629\n",
            "Epoch 88/100\n",
            "1/1 [==============================] - 0s 7ms/step - loss: 41.7773\n",
            "Epoch 89/100\n",
            "1/1 [==============================] - 0s 7ms/step - loss: 37.9773\n",
            "Epoch 90/100\n",
            "1/1 [==============================] - 0s 7ms/step - loss: 34.1071\n",
            "Epoch 91/100\n",
            "1/1 [==============================] - 0s 6ms/step - loss: 30.3136\n",
            "Epoch 92/100\n",
            "1/1 [==============================] - 0s 9ms/step - loss: 26.6112\n",
            "Epoch 93/100\n",
            "1/1 [==============================] - 0s 7ms/step - loss: 23.1215\n",
            "Epoch 94/100\n",
            "1/1 [==============================] - 0s 9ms/step - loss: 19.9920\n",
            "Epoch 95/100\n",
            "1/1 [==============================] - 0s 7ms/step - loss: 17.2076\n",
            "Epoch 96/100\n",
            "1/1 [==============================] - 0s 13ms/step - loss: 14.9413\n",
            "Epoch 97/100\n",
            "1/1 [==============================] - 0s 10ms/step - loss: 13.1192\n",
            "Epoch 98/100\n",
            "1/1 [==============================] - 0s 13ms/step - loss: 11.7815\n",
            "Epoch 99/100\n",
            "1/1 [==============================] - 0s 8ms/step - loss: 10.7554\n",
            "Epoch 100/100\n",
            "1/1 [==============================] - 0s 9ms/step - loss: 9.9630\n"
          ],
          "name": "stdout"
        }
      ]
    },
    {
      "cell_type": "code",
      "metadata": {
        "id": "QDB6DJqr-LDp",
        "colab": {
          "base_uri": "https://localhost:8080/",
          "height": 214
        },
        "outputId": "b249c7de-6024-49f4-e8bc-71e9225c821d"
      },
      "source": [
        "plt.plot(history.history[\"loss\"])\n",
        "plt.show()"
      ],
      "execution_count": null,
      "outputs": [
        {
          "output_type": "display_data",
          "data": {
            "image/png": "[encoded data removed]",
            "text/plain": [
              "<Figure size 432x288 with 1 Axes>"
            ]
          },
          "metadata": {
            "tags": [],
            "needs_background": "light"
          }
        }
      ]
    },
    {
      "cell_type": "code",
      "metadata": {
        "id": "tpkEapb8-LJc"
      },
      "source": [
        "# Testing \n",
        " \n",
        "x_test = np.array([[80, 85], [90, 95], [100, 105]])\n",
        " \n",
        "x_test = x_test.reshape((1, 3, 2))"
      ],
      "execution_count": null,
      "outputs": []
    },
    {
      "cell_type": "code",
      "metadata": {
        "id": "LTeICN9b-L-Q",
        "colab": {
          "base_uri": "https://localhost:8080/"
        },
        "outputId": "4c31af0a-ad70-4b97-b12d-e31fd30375c2"
      },
      "source": [
        "y_pred = model.predict(x_test)\n",
        "y_pred"
      ],
      "execution_count": null,
      "outputs": [
        {
          "output_type": "execute_result",
          "data": {
            "text/plain": [
              "array([[203.71259]], dtype=float32)"
            ]
          },
          "metadata": {
            "tags": []
          },
          "execution_count": 28
        }
      ]
    },
    {
      "cell_type": "markdown",
      "metadata": {
        "id": "U63GGW_IRCqU"
      },
      "source": [
        "# Google Data"
      ]
    },
    {
      "cell_type": "code",
      "metadata": {
        "id": "K4ba9oxk-MGm",
        "colab": {
          "base_uri": "https://localhost:8080/",
          "height": 223
        },
        "outputId": "c4c302dc-6a24-4444-e0f9-e8e215e4edf8"
      },
      "source": [
        "train = pd.read_csv(\"/content/Google_Stock_Price_Train.csv\")\n",
        "train.head()"
      ],
      "execution_count": null,
      "outputs": [
        {
          "output_type": "execute_result",
          "data": {
            "text/html": [
              "<div>\n",
              "<style scoped>\n",
              "    .dataframe tbody tr th:only-of-type {\n",
              "        vertical-align: middle;\n",
              "    }\n",
              "\n",
              "    .dataframe tbody tr th {\n",
              "        vertical-align: top;\n",
              "    }\n",
              "\n",
              "    .dataframe thead th {\n",
              "        text-align: right;\n",
              "    }\n",
              "</style>\n",
              "<table border=\"1\" class=\"dataframe\">\n",
              "  <thead>\n",
              "    <tr style=\"text-align: right;\">\n",
              "      <th></th>\n",
              "      <th>Date</th>\n",
              "      <th>Open</th>\n",
              "      <th>High</th>\n",
              "      <th>Low</th>\n",
              "      <th>Close</th>\n",
              "      <th>Volume</th>\n",
              "    </tr>\n",
              "  </thead>\n",
              "  <tbody>\n",
              "    <tr>\n",
              "      <th>0</th>\n",
              "      <td>1/3/2012</td>\n",
              "      <td>325.25</td>\n",
              "      <td>332.83</td>\n",
              "      <td>324.97</td>\n",
              "      <td>663.59</td>\n",
              "      <td>7,380,500</td>\n",
              "    </tr>\n",
              "    <tr>\n",
              "      <th>1</th>\n",
              "      <td>1/4/2012</td>\n",
              "      <td>331.27</td>\n",
              "      <td>333.87</td>\n",
              "      <td>329.08</td>\n",
              "      <td>666.45</td>\n",
              "      <td>5,749,400</td>\n",
              "    </tr>\n",
              "    <tr>\n",
              "      <th>2</th>\n",
              "      <td>1/5/2012</td>\n",
              "      <td>329.83</td>\n",
              "      <td>330.75</td>\n",
              "      <td>326.89</td>\n",
              "      <td>657.21</td>\n",
              "      <td>6,590,300</td>\n",
              "    </tr>\n",
              "    <tr>\n",
              "      <th>3</th>\n",
              "      <td>1/6/2012</td>\n",
              "      <td>328.34</td>\n",
              "      <td>328.77</td>\n",
              "      <td>323.68</td>\n",
              "      <td>648.24</td>\n",
              "      <td>5,405,900</td>\n",
              "    </tr>\n",
              "    <tr>\n",
              "      <th>4</th>\n",
              "      <td>1/9/2012</td>\n",
              "      <td>322.04</td>\n",
              "      <td>322.29</td>\n",
              "      <td>309.46</td>\n",
              "      <td>620.76</td>\n",
              "      <td>11,688,800</td>\n",
              "    </tr>\n",
              "  </tbody>\n",
              "</table>\n",
              "</div>"
            ],
            "text/plain": [
              "       Date    Open    High     Low   Close      Volume\n",
              "0  1/3/2012  325.25  332.83  324.97  663.59   7,380,500\n",
              "1  1/4/2012  331.27  333.87  329.08  666.45   5,749,400\n",
              "2  1/5/2012  329.83  330.75  326.89  657.21   6,590,300\n",
              "3  1/6/2012  328.34  328.77  323.68  648.24   5,405,900\n",
              "4  1/9/2012  322.04  322.29  309.46  620.76  11,688,800"
            ]
          },
          "metadata": {
            "tags": []
          },
          "execution_count": 29
        }
      ]
    },
    {
      "cell_type": "code",
      "metadata": {
        "id": "0SBeWHdz-MN_",
        "colab": {
          "base_uri": "https://localhost:8080/",
          "height": 203
        },
        "outputId": "18bd862d-66d5-433d-a723-f34a8bb20b4a"
      },
      "source": [
        "x_train = train[[\"Open\", \"Close\"]] \n",
        "x_train.head()"
      ],
      "execution_count": null,
      "outputs": [
        {
          "output_type": "execute_result",
          "data": {
            "text/html": [
              "<div>\n",
              "<style scoped>\n",
              "    .dataframe tbody tr th:only-of-type {\n",
              "        vertical-align: middle;\n",
              "    }\n",
              "\n",
              "    .dataframe tbody tr th {\n",
              "        vertical-align: top;\n",
              "    }\n",
              "\n",
              "    .dataframe thead th {\n",
              "        text-align: right;\n",
              "    }\n",
              "</style>\n",
              "<table border=\"1\" class=\"dataframe\">\n",
              "  <thead>\n",
              "    <tr style=\"text-align: right;\">\n",
              "      <th></th>\n",
              "      <th>Open</th>\n",
              "      <th>Close</th>\n",
              "    </tr>\n",
              "  </thead>\n",
              "  <tbody>\n",
              "    <tr>\n",
              "      <th>0</th>\n",
              "      <td>325.25</td>\n",
              "      <td>663.59</td>\n",
              "    </tr>\n",
              "    <tr>\n",
              "      <th>1</th>\n",
              "      <td>331.27</td>\n",
              "      <td>666.45</td>\n",
              "    </tr>\n",
              "    <tr>\n",
              "      <th>2</th>\n",
              "      <td>329.83</td>\n",
              "      <td>657.21</td>\n",
              "    </tr>\n",
              "    <tr>\n",
              "      <th>3</th>\n",
              "      <td>328.34</td>\n",
              "      <td>648.24</td>\n",
              "    </tr>\n",
              "    <tr>\n",
              "      <th>4</th>\n",
              "      <td>322.04</td>\n",
              "      <td>620.76</td>\n",
              "    </tr>\n",
              "  </tbody>\n",
              "</table>\n",
              "</div>"
            ],
            "text/plain": [
              "     Open   Close\n",
              "0  325.25  663.59\n",
              "1  331.27  666.45\n",
              "2  329.83  657.21\n",
              "3  328.34  648.24\n",
              "4  322.04  620.76"
            ]
          },
          "metadata": {
            "tags": []
          },
          "execution_count": 30
        }
      ]
    },
    {
      "cell_type": "code",
      "metadata": {
        "colab": {
          "base_uri": "https://localhost:8080/"
        },
        "id": "N-HBO4SlSCOl",
        "outputId": "a5f2618b-654a-4798-bfae-fab7c9755a52"
      },
      "source": [
        "x_train.info()"
      ],
      "execution_count": null,
      "outputs": [
        {
          "output_type": "stream",
          "text": [
            "<class 'pandas.core.frame.DataFrame'>\n",
            "RangeIndex: 1258 entries, 0 to 1257\n",
            "Data columns (total 2 columns):\n",
            " #   Column  Non-Null Count  Dtype  \n",
            "---  ------  --------------  -----  \n",
            " 0   Open    1258 non-null   float64\n",
            " 1   Close   1258 non-null   object \n",
            "dtypes: float64(1), object(1)\n",
            "memory usage: 19.8+ KB\n"
          ],
          "name": "stdout"
        }
      ]
    },
    {
      "cell_type": "code",
      "metadata": {
        "colab": {
          "base_uri": "https://localhost:8080/"
        },
        "id": "NZjfvRbJSHB2",
        "outputId": "178951d7-9886-417f-b563-872ed9ea4ab0"
      },
      "source": [
        "x_train[\"Close\"] = x_train[\"Close\"].apply(lambda x:float(x.replace(\",\", \"\")))"
      ],
      "execution_count": null,
      "outputs": [
        {
          "output_type": "stream",
          "text": [
            "/usr/local/lib/python3.7/dist-packages/ipykernel_launcher.py:1: SettingWithCopyWarning: \n",
            "A value is trying to be set on a copy of a slice from a DataFrame.\n",
            "Try using .loc[row_indexer,col_indexer] = value instead\n",
            "\n",
            "See the caveats in the documentation: https://pandas.pydata.org/pandas-docs/stable/user_guide/indexing.html#returning-a-view-versus-a-copy\n",
            "  \"\"\"Entry point for launching an IPython kernel.\n"
          ],
          "name": "stderr"
        }
      ]
    },
    {
      "cell_type": "code",
      "metadata": {
        "id": "aPnGFhf--MU_"
      },
      "source": [
        "from sklearn.preprocessing import StandardScaler \n",
        " \n",
        "sc = StandardScaler() \n",
        " \n",
        "sc_x_train = sc.fit_transform(x_train)"
      ],
      "execution_count": null,
      "outputs": []
    },
    {
      "cell_type": "code",
      "metadata": {
        "id": "Ywim0cuf-MbC",
        "colab": {
          "base_uri": "https://localhost:8080/"
        },
        "outputId": "a0c30c22-1440-4192-8068-84fa1dcc0ef3"
      },
      "source": [
        "sc_x_train.shape"
      ],
      "execution_count": null,
      "outputs": [
        {
          "output_type": "execute_result",
          "data": {
            "text/plain": [
              "(1258, 2)"
            ]
          },
          "metadata": {
            "tags": []
          },
          "execution_count": 35
        }
      ]
    },
    {
      "cell_type": "code",
      "metadata": {
        "id": "RstiFKHU-Mhk",
        "colab": {
          "base_uri": "https://localhost:8080/"
        },
        "outputId": "2f73f8f4-0f7a-49a9-eb73-26e3a83a65b2"
      },
      "source": [
        "out_col = sc_x_train[:,0] + sc_x_train[:,1] \n",
        " \n",
        "out_col"
      ],
      "execution_count": null,
      "outputs": [
        {
          "output_type": "execute_result",
          "data": {
            "text/plain": [
              "array([-1.67087244, -1.61386023, -1.67945005, ...,  2.15172044,\n",
              "        2.0697037 ,  1.99927282])"
            ]
          },
          "metadata": {
            "tags": []
          },
          "execution_count": 37
        }
      ]
    },
    {
      "cell_type": "code",
      "metadata": {
        "id": "Ko63XYPu-Mxn",
        "colab": {
          "base_uri": "https://localhost:8080/"
        },
        "outputId": "a1be14f3-00f6-4cf1-c216-f61a9a86b976"
      },
      "source": [
        "data = np.hstack((sc_x_train[:,0].reshape((out_col.shape[0], 1)), sc_x_train[:,1].reshape((out_col.shape[0], 1)), out_col.reshape((out_col.shape[0], 1))))\n",
        "data"
      ],
      "execution_count": null,
      "outputs": [
        {
          "output_type": "execute_result",
          "data": {
            "text/plain": [
              "array([[-1.37285476, -0.29801768, -1.67087244],\n",
              "       [-1.33320882, -0.28065141, -1.61386023],\n",
              "       [-1.34269224, -0.33675781, -1.67945005],\n",
              "       ...,\n",
              "       [ 1.71221829,  0.43950216,  2.15172044],\n",
              "       [ 1.64392454,  0.42577916,  2.0697037 ],\n",
              "       [ 1.64010483,  0.35916799,  1.99927282]])"
            ]
          },
          "metadata": {
            "tags": []
          },
          "execution_count": 43
        }
      ]
    },
    {
      "cell_type": "code",
      "metadata": {
        "id": "7r9M6J_scyHE"
      },
      "source": [
        "def feature_transform(n_steps, data):\n",
        "  x = []\n",
        "  y = [] \n",
        "  for i in range(n_steps, len(data) + 1):\n",
        "    x.append(data[i - n_steps: i, : -1])\n",
        "    y.append(data[i - 1, -1])\n",
        "  return np.array(x), np.array(y)"
      ],
      "execution_count": null,
      "outputs": []
    },
    {
      "cell_type": "code",
      "metadata": {
        "id": "DcpUyDOAb9Uf"
      },
      "source": [
        "n_steps = 12\n",
        " \n",
        "x_train, y_train = feature_transform(n_steps,data)"
      ],
      "execution_count": null,
      "outputs": []
    },
    {
      "cell_type": "code",
      "metadata": {
        "colab": {
          "base_uri": "https://localhost:8080/"
        },
        "id": "OJFuH4_Bb9eh",
        "outputId": "9cf32d21-34c9-4309-bcbc-4da9b91cf3b9"
      },
      "source": [
        "x_train.shape"
      ],
      "execution_count": null,
      "outputs": [
        {
          "output_type": "execute_result",
          "data": {
            "text/plain": [
              "(1247, 12, 2)"
            ]
          },
          "metadata": {
            "tags": []
          },
          "execution_count": 46
        }
      ]
    },
    {
      "cell_type": "code",
      "metadata": {
        "id": "A_UXZduc-M4o",
        "colab": {
          "base_uri": "https://localhost:8080/"
        },
        "outputId": "6181892e-4f20-4caf-fae0-970b57685137"
      },
      "source": [
        "from keras.models import Sequential\n",
        "from keras.layers import Dense, LSTM\n",
        " \n",
        "model = Sequential() \n",
        " \n",
        "model.add(LSTM(50, activation = \"relu\", input_shape = (n_steps, x.shape[2])))\n",
        "model.add(Dense(1))\n",
        "model.compile(optimizer = 'adam', loss = 'mse')\n",
        " \n",
        "model.summary()"
      ],
      "execution_count": null,
      "outputs": [
        {
          "output_type": "stream",
          "text": [
            "Model: \"sequential_1\"\n",
            "_________________________________________________________________\n",
            "Layer (type)                 Output Shape              Param #   \n",
            "=================================================================\n",
            "lstm_1 (LSTM)                (None, 50)                10600     \n",
            "_________________________________________________________________\n",
            "dense_1 (Dense)              (None, 1)                 51        \n",
            "=================================================================\n",
            "Total params: 10,651\n",
            "Trainable params: 10,651\n",
            "Non-trainable params: 0\n",
            "_________________________________________________________________\n"
          ],
          "name": "stdout"
        }
      ]
    },
    {
      "cell_type": "code",
      "metadata": {
        "colab": {
          "base_uri": "https://localhost:8080/"
        },
        "id": "2uTusl0RdK2e",
        "outputId": "fa489b7f-fcef-4854-bfd4-cc92893d16f0"
      },
      "source": [
        "history = model.fit(x_train, y_train, epochs = 100, batch_size=30)"
      ],
      "execution_count": null,
      "outputs": [
        {
          "output_type": "stream",
          "text": [
            "Epoch 1/100\n",
            "42/42 [==============================] - 2s 6ms/step - loss: 1.4545\n",
            "Epoch 2/100\n",
            "42/42 [==============================] - 0s 6ms/step - loss: 0.1209\n",
            "Epoch 3/100\n",
            "42/42 [==============================] - 0s 6ms/step - loss: 0.0902\n",
            "Epoch 4/100\n",
            "42/42 [==============================] - 0s 6ms/step - loss: 0.0498\n",
            "Epoch 5/100\n",
            "42/42 [==============================] - 0s 6ms/step - loss: 0.0376\n",
            "Epoch 6/100\n",
            "42/42 [==============================] - 0s 6ms/step - loss: 0.0205\n",
            "Epoch 7/100\n",
            "42/42 [==============================] - 0s 7ms/step - loss: 0.0123\n",
            "Epoch 8/100\n",
            "42/42 [==============================] - 0s 6ms/step - loss: 0.0189\n",
            "Epoch 9/100\n",
            "42/42 [==============================] - 0s 6ms/step - loss: 0.0120\n",
            "Epoch 10/100\n",
            "42/42 [==============================] - 0s 6ms/step - loss: 0.0105\n",
            "Epoch 11/100\n",
            "42/42 [==============================] - 0s 6ms/step - loss: 0.0061\n",
            "Epoch 12/100\n",
            "42/42 [==============================] - 0s 6ms/step - loss: 0.0092\n",
            "Epoch 13/100\n",
            "42/42 [==============================] - 0s 6ms/step - loss: 0.0088\n",
            "Epoch 14/100\n",
            "42/42 [==============================] - 0s 6ms/step - loss: 0.0052\n",
            "Epoch 15/100\n",
            "42/42 [==============================] - 0s 7ms/step - loss: 0.0036\n",
            "Epoch 16/100\n",
            "42/42 [==============================] - 0s 6ms/step - loss: 0.0051\n",
            "Epoch 17/100\n",
            "42/42 [==============================] - 0s 7ms/step - loss: 0.0039\n",
            "Epoch 18/100\n",
            "42/42 [==============================] - 0s 7ms/step - loss: 0.0021\n",
            "Epoch 19/100\n",
            "42/42 [==============================] - 0s 6ms/step - loss: 0.0023\n",
            "Epoch 20/100\n",
            "42/42 [==============================] - 0s 6ms/step - loss: 0.0021\n",
            "Epoch 21/100\n",
            "42/42 [==============================] - 0s 6ms/step - loss: 0.0015\n",
            "Epoch 22/100\n",
            "42/42 [==============================] - 0s 6ms/step - loss: 0.0034\n",
            "Epoch 23/100\n",
            "42/42 [==============================] - 0s 6ms/step - loss: 0.0022\n",
            "Epoch 24/100\n",
            "42/42 [==============================] - 0s 6ms/step - loss: 0.0011\n",
            "Epoch 25/100\n",
            "42/42 [==============================] - 0s 6ms/step - loss: 0.0012\n",
            "Epoch 26/100\n",
            "42/42 [==============================] - 0s 6ms/step - loss: 9.2859e-04\n",
            "Epoch 27/100\n",
            "42/42 [==============================] - 0s 6ms/step - loss: 0.0010\n",
            "Epoch 28/100\n",
            "42/42 [==============================] - 0s 6ms/step - loss: 8.7874e-04\n",
            "Epoch 29/100\n",
            "42/42 [==============================] - 0s 7ms/step - loss: 7.4121e-04\n",
            "Epoch 30/100\n",
            "42/42 [==============================] - 0s 6ms/step - loss: 4.4415e-04\n",
            "Epoch 31/100\n",
            "42/42 [==============================] - 0s 6ms/step - loss: 8.0311e-04\n",
            "Epoch 32/100\n",
            "42/42 [==============================] - 0s 7ms/step - loss: 5.2760e-04\n",
            "Epoch 33/100\n",
            "42/42 [==============================] - 0s 6ms/step - loss: 7.1530e-04\n",
            "Epoch 34/100\n",
            "42/42 [==============================] - 0s 6ms/step - loss: 3.8927e-04\n",
            "Epoch 35/100\n",
            "42/42 [==============================] - 0s 6ms/step - loss: 5.3547e-04\n",
            "Epoch 36/100\n",
            "42/42 [==============================] - 0s 6ms/step - loss: 0.0011\n",
            "Epoch 37/100\n",
            "42/42 [==============================] - 0s 6ms/step - loss: 5.6604e-04\n",
            "Epoch 38/100\n",
            "42/42 [==============================] - 0s 6ms/step - loss: 4.9970e-04\n",
            "Epoch 39/100\n",
            "42/42 [==============================] - 0s 6ms/step - loss: 4.6104e-04\n",
            "Epoch 40/100\n",
            "42/42 [==============================] - 0s 6ms/step - loss: 3.1092e-04\n",
            "Epoch 41/100\n",
            "42/42 [==============================] - 0s 7ms/step - loss: 1.9441e-04\n",
            "Epoch 42/100\n",
            "42/42 [==============================] - 0s 7ms/step - loss: 4.2871e-04\n",
            "Epoch 43/100\n",
            "42/42 [==============================] - 0s 6ms/step - loss: 5.1340e-04\n",
            "Epoch 44/100\n",
            "42/42 [==============================] - 0s 6ms/step - loss: 3.0545e-04\n",
            "Epoch 45/100\n",
            "42/42 [==============================] - 0s 6ms/step - loss: 3.4467e-04\n",
            "Epoch 46/100\n",
            "42/42 [==============================] - 0s 6ms/step - loss: 4.9319e-04\n",
            "Epoch 47/100\n",
            "42/42 [==============================] - 0s 6ms/step - loss: 5.3186e-04\n",
            "Epoch 48/100\n",
            "42/42 [==============================] - 0s 6ms/step - loss: 2.4245e-04\n",
            "Epoch 49/100\n",
            "42/42 [==============================] - 0s 6ms/step - loss: 2.0935e-04\n",
            "Epoch 50/100\n",
            "42/42 [==============================] - 0s 6ms/step - loss: 1.6277e-04\n",
            "Epoch 51/100\n",
            "42/42 [==============================] - 0s 6ms/step - loss: 2.1560e-04\n",
            "Epoch 52/100\n",
            "42/42 [==============================] - 0s 6ms/step - loss: 1.2280e-04\n",
            "Epoch 53/100\n",
            "42/42 [==============================] - 0s 6ms/step - loss: 2.8307e-04\n",
            "Epoch 54/100\n",
            "42/42 [==============================] - 0s 6ms/step - loss: 1.7017e-04\n",
            "Epoch 55/100\n",
            "42/42 [==============================] - 0s 6ms/step - loss: 2.9968e-04\n",
            "Epoch 56/100\n",
            "42/42 [==============================] - 0s 6ms/step - loss: 1.6119e-04\n",
            "Epoch 57/100\n",
            "42/42 [==============================] - 0s 6ms/step - loss: 2.0458e-04\n",
            "Epoch 58/100\n",
            "42/42 [==============================] - 0s 6ms/step - loss: 2.2080e-04\n",
            "Epoch 59/100\n",
            "42/42 [==============================] - 0s 6ms/step - loss: 1.4286e-04\n",
            "Epoch 60/100\n",
            "42/42 [==============================] - 0s 6ms/step - loss: 1.0197e-04\n",
            "Epoch 61/100\n",
            "42/42 [==============================] - 0s 6ms/step - loss: 1.3608e-04\n",
            "Epoch 62/100\n",
            "42/42 [==============================] - 0s 6ms/step - loss: 2.1645e-04\n",
            "Epoch 63/100\n",
            "42/42 [==============================] - 0s 6ms/step - loss: 2.0899e-04\n",
            "Epoch 64/100\n",
            "42/42 [==============================] - 0s 6ms/step - loss: 1.0439e-04\n",
            "Epoch 65/100\n",
            "42/42 [==============================] - 0s 6ms/step - loss: 1.2656e-04\n",
            "Epoch 66/100\n",
            "42/42 [==============================] - 0s 6ms/step - loss: 1.6546e-04\n",
            "Epoch 67/100\n",
            "42/42 [==============================] - 0s 6ms/step - loss: 2.6252e-04\n",
            "Epoch 68/100\n",
            "42/42 [==============================] - 0s 6ms/step - loss: 1.4073e-04\n",
            "Epoch 69/100\n",
            "42/42 [==============================] - 0s 6ms/step - loss: 9.7291e-05\n",
            "Epoch 70/100\n",
            "42/42 [==============================] - 0s 6ms/step - loss: 1.6113e-04\n",
            "Epoch 71/100\n",
            "42/42 [==============================] - 0s 6ms/step - loss: 5.0997e-04\n",
            "Epoch 72/100\n",
            "42/42 [==============================] - 0s 6ms/step - loss: 1.6058e-04\n",
            "Epoch 73/100\n",
            "42/42 [==============================] - 0s 6ms/step - loss: 9.3468e-05\n",
            "Epoch 74/100\n",
            "42/42 [==============================] - 0s 6ms/step - loss: 1.3537e-04\n",
            "Epoch 75/100\n",
            "42/42 [==============================] - 0s 6ms/step - loss: 8.1762e-05\n",
            "Epoch 76/100\n",
            "42/42 [==============================] - 0s 7ms/step - loss: 9.0429e-05\n",
            "Epoch 77/100\n",
            "42/42 [==============================] - 0s 6ms/step - loss: 1.3102e-04\n",
            "Epoch 78/100\n",
            "42/42 [==============================] - 0s 6ms/step - loss: 1.3756e-04\n",
            "Epoch 79/100\n",
            "42/42 [==============================] - 0s 6ms/step - loss: 1.2291e-04\n",
            "Epoch 80/100\n",
            "42/42 [==============================] - 0s 6ms/step - loss: 2.5960e-04\n",
            "Epoch 81/100\n",
            "42/42 [==============================] - 0s 6ms/step - loss: 1.1841e-04\n",
            "Epoch 82/100\n",
            "42/42 [==============================] - 0s 7ms/step - loss: 2.6516e-04\n",
            "Epoch 83/100\n",
            "42/42 [==============================] - 0s 7ms/step - loss: 7.4045e-04\n",
            "Epoch 84/100\n",
            "42/42 [==============================] - 0s 6ms/step - loss: 6.7103e-04\n",
            "Epoch 85/100\n",
            "42/42 [==============================] - 0s 6ms/step - loss: 6.6418e-04\n",
            "Epoch 86/100\n",
            "42/42 [==============================] - 0s 6ms/step - loss: 7.1939e-04\n",
            "Epoch 87/100\n",
            "42/42 [==============================] - 0s 6ms/step - loss: 2.6496e-04\n",
            "Epoch 88/100\n",
            "42/42 [==============================] - 0s 6ms/step - loss: 1.2729e-04\n",
            "Epoch 89/100\n",
            "42/42 [==============================] - 0s 6ms/step - loss: 4.4110e-04\n",
            "Epoch 90/100\n",
            "42/42 [==============================] - 0s 6ms/step - loss: 1.9168e-04\n",
            "Epoch 91/100\n",
            "42/42 [==============================] - 0s 6ms/step - loss: 1.1645e-04\n",
            "Epoch 92/100\n",
            "42/42 [==============================] - 0s 6ms/step - loss: 0.0019\n",
            "Epoch 93/100\n",
            "42/42 [==============================] - 0s 6ms/step - loss: 3.2254e-04\n",
            "Epoch 94/100\n",
            "42/42 [==============================] - 0s 6ms/step - loss: 0.0013\n",
            "Epoch 95/100\n",
            "42/42 [==============================] - 0s 6ms/step - loss: 6.8653e-04\n",
            "Epoch 96/100\n",
            "42/42 [==============================] - 0s 6ms/step - loss: 5.7903e-04\n",
            "Epoch 97/100\n",
            "42/42 [==============================] - 0s 6ms/step - loss: 5.6379e-04\n",
            "Epoch 98/100\n",
            "42/42 [==============================] - 0s 6ms/step - loss: 2.7434e-04\n",
            "Epoch 99/100\n",
            "42/42 [==============================] - 0s 6ms/step - loss: 1.4210e-04\n",
            "Epoch 100/100\n",
            "42/42 [==============================] - 0s 6ms/step - loss: 1.5749e-04\n"
          ],
          "name": "stdout"
        }
      ]
    },
    {
      "cell_type": "code",
      "metadata": {
        "colab": {
          "base_uri": "https://localhost:8080/",
          "height": 223
        },
        "id": "qELiQ1oXdgVl",
        "outputId": "ab3cb9c9-384d-4fdf-c490-521655022cd5"
      },
      "source": [
        "plt.plot(history.history[\"loss\"])\n",
        "plt.xlabel(\"Epochs\")\n",
        "plt.ylabel(\"Loss\")\n",
        "plt.show()"
      ],
      "execution_count": null,
      "outputs": [
        {
          "output_type": "display_data",
          "data": {
            "image/png": "[encoded data removed]",
            "text/plain": [
              "<Figure size 432x288 with 1 Axes>"
            ]
          },
          "metadata": {
            "tags": [],
            "needs_background": "light"
          }
        }
      ]
    },
    {
      "cell_type": "code",
      "metadata": {
        "colab": {
          "base_uri": "https://localhost:8080/",
          "height": 223
        },
        "id": "KWdPjiHPdgye",
        "outputId": "4270b4fa-e742-46f7-d6a3-6f7c13aab075"
      },
      "source": [
        "test = pd.read_csv(\"/content/Google_Stock_Price_Test.csv\")\n",
        "test.head()"
      ],
      "execution_count": null,
      "outputs": [
        {
          "output_type": "execute_result",
          "data": {
            "text/html": [
              "<div>\n",
              "<style scoped>\n",
              "    .dataframe tbody tr th:only-of-type {\n",
              "        vertical-align: middle;\n",
              "    }\n",
              "\n",
              "    .dataframe tbody tr th {\n",
              "        vertical-align: top;\n",
              "    }\n",
              "\n",
              "    .dataframe thead th {\n",
              "        text-align: right;\n",
              "    }\n",
              "</style>\n",
              "<table border=\"1\" class=\"dataframe\">\n",
              "  <thead>\n",
              "    <tr style=\"text-align: right;\">\n",
              "      <th></th>\n",
              "      <th>Date</th>\n",
              "      <th>Open</th>\n",
              "      <th>High</th>\n",
              "      <th>Low</th>\n",
              "      <th>Close</th>\n",
              "      <th>Volume</th>\n",
              "    </tr>\n",
              "  </thead>\n",
              "  <tbody>\n",
              "    <tr>\n",
              "      <th>0</th>\n",
              "      <td>1/3/2017</td>\n",
              "      <td>778.81</td>\n",
              "      <td>789.63</td>\n",
              "      <td>775.80</td>\n",
              "      <td>786.14</td>\n",
              "      <td>1,657,300</td>\n",
              "    </tr>\n",
              "    <tr>\n",
              "      <th>1</th>\n",
              "      <td>1/4/2017</td>\n",
              "      <td>788.36</td>\n",
              "      <td>791.34</td>\n",
              "      <td>783.16</td>\n",
              "      <td>786.90</td>\n",
              "      <td>1,073,000</td>\n",
              "    </tr>\n",
              "    <tr>\n",
              "      <th>2</th>\n",
              "      <td>1/5/2017</td>\n",
              "      <td>786.08</td>\n",
              "      <td>794.48</td>\n",
              "      <td>785.02</td>\n",
              "      <td>794.02</td>\n",
              "      <td>1,335,200</td>\n",
              "    </tr>\n",
              "    <tr>\n",
              "      <th>3</th>\n",
              "      <td>1/6/2017</td>\n",
              "      <td>795.26</td>\n",
              "      <td>807.90</td>\n",
              "      <td>792.20</td>\n",
              "      <td>806.15</td>\n",
              "      <td>1,640,200</td>\n",
              "    </tr>\n",
              "    <tr>\n",
              "      <th>4</th>\n",
              "      <td>1/9/2017</td>\n",
              "      <td>806.40</td>\n",
              "      <td>809.97</td>\n",
              "      <td>802.83</td>\n",
              "      <td>806.65</td>\n",
              "      <td>1,272,400</td>\n",
              "    </tr>\n",
              "  </tbody>\n",
              "</table>\n",
              "</div>"
            ],
            "text/plain": [
              "       Date    Open    High     Low   Close     Volume\n",
              "0  1/3/2017  778.81  789.63  775.80  786.14  1,657,300\n",
              "1  1/4/2017  788.36  791.34  783.16  786.90  1,073,000\n",
              "2  1/5/2017  786.08  794.48  785.02  794.02  1,335,200\n",
              "3  1/6/2017  795.26  807.90  792.20  806.15  1,640,200\n",
              "4  1/9/2017  806.40  809.97  802.83  806.65  1,272,400"
            ]
          },
          "metadata": {
            "tags": []
          },
          "execution_count": 51
        }
      ]
    },
    {
      "cell_type": "code",
      "metadata": {
        "id": "AUVbJLZcd9P5"
      },
      "source": [
        "x_test = test[[\"Open\", \"Close\"]]"
      ],
      "execution_count": null,
      "outputs": []
    },
    {
      "cell_type": "code",
      "metadata": {
        "colab": {
          "base_uri": "https://localhost:8080/"
        },
        "id": "dHmAojeZd2Vf",
        "outputId": "4156973d-e876-4c27-9ffe-f8568094a7f0"
      },
      "source": [
        "x_test.info()"
      ],
      "execution_count": null,
      "outputs": [
        {
          "output_type": "stream",
          "text": [
            "<class 'pandas.core.frame.DataFrame'>\n",
            "RangeIndex: 20 entries, 0 to 19\n",
            "Data columns (total 2 columns):\n",
            " #   Column  Non-Null Count  Dtype  \n",
            "---  ------  --------------  -----  \n",
            " 0   Open    20 non-null     float64\n",
            " 1   Close   20 non-null     float64\n",
            "dtypes: float64(2)\n",
            "memory usage: 448.0 bytes\n"
          ],
          "name": "stdout"
        }
      ]
    },
    {
      "cell_type": "code",
      "metadata": {
        "id": "8X8-Ip-weTOM"
      },
      "source": [
        "sc_x_test = sc.fit_transform(x_test)"
      ],
      "execution_count": null,
      "outputs": []
    },
    {
      "cell_type": "code",
      "metadata": {
        "colab": {
          "base_uri": "https://localhost:8080/"
        },
        "id": "JVf6roboegsO",
        "outputId": "7701c8e8-c1dd-4277-e49f-9d6f6e15466d"
      },
      "source": [
        "out_col = sc_x_test[:,0] + sc_x_test[:,1]\n",
        "out_col"
      ],
      "execution_count": null,
      "outputs": [
        {
          "output_type": "execute_result",
          "data": {
            "text/plain": [
              "array([-3.63821297, -2.93139712, -2.53306873, -0.96828492, -0.17381045,\n",
              "       -0.21923594, -0.17091485, -0.14613847, -0.00502307, -0.28612433,\n",
              "       -0.2588774 , -0.60857951, -0.26581249,  0.86710126,  2.24212143,\n",
              "        3.65510904,  3.93726257,  3.04041547,  0.05018159, -1.5867111 ])"
            ]
          },
          "metadata": {
            "tags": []
          },
          "execution_count": 57
        }
      ]
    },
    {
      "cell_type": "code",
      "metadata": {
        "id": "jI4ji6zEehHE"
      },
      "source": [
        "test_data = np.hstack((sc_x_test[:,0].reshape(out_col.shape[0], 1), sc_x_test[:,1].reshape(out_col.shape[0], 1), out_col.reshape(out_col.shape[0], 1)))"
      ],
      "execution_count": null,
      "outputs": []
    },
    {
      "cell_type": "code",
      "metadata": {
        "id": "lbK6sW-iehP9"
      },
      "source": [
        "x_test, y_test = feature_transform(n_steps, test_data)"
      ],
      "execution_count": null,
      "outputs": []
    },
    {
      "cell_type": "code",
      "metadata": {
        "colab": {
          "base_uri": "https://localhost:8080/"
        },
        "id": "hjSkHRDBehXr",
        "outputId": "f2bf665a-e87b-40b9-8b96-920f8ddd3211"
      },
      "source": [
        "x_test.shape"
      ],
      "execution_count": null,
      "outputs": [
        {
          "output_type": "execute_result",
          "data": {
            "text/plain": [
              "(9, 12, 2)"
            ]
          },
          "metadata": {
            "tags": []
          },
          "execution_count": 63
        }
      ]
    },
    {
      "cell_type": "code",
      "metadata": {
        "id": "mfwLa5cWehqL"
      },
      "source": [
        "y_pred = model.predict(x_test)"
      ],
      "execution_count": null,
      "outputs": []
    },
    {
      "cell_type": "code",
      "metadata": {
        "id": "yYzUJH6XehyR"
      },
      "source": [
        "final = np.hstack((y_pred, y_test.reshape(-1,1)))\n",
        " \n",
        "output = sc.inverse_transform(final)\n",
        " \n",
        "Actual = output[:,1]\n",
        " \n",
        "predicted = output[:,0]"
      ],
      "execution_count": null,
      "outputs": []
    },
    {
      "cell_type": "code",
      "metadata": {
        "colab": {
          "base_uri": "https://localhost:8080/",
          "height": 218
        },
        "id": "RQECuUeyeh6E",
        "outputId": "dfd52b85-1a3a-4b6e-b699-474f8badd213"
      },
      "source": [
        "plt.plot(Actual, label = \"Actual Values\")\n",
        "plt.plot(predicted, label = \"Predicted Values\")\n",
        "plt.legend()\n",
        "plt.show()"
      ],
      "execution_count": null,
      "outputs": [
        {
          "output_type": "display_data",
          "data": {
            "image/png": "[encoded data removed]",
            "text/plain": [
              "<Figure size 432x288 with 1 Axes>"
            ]
          },
          "metadata": {
            "tags": [],
            "needs_background": "light"
          }
        }
      ]
    }
  ]
}