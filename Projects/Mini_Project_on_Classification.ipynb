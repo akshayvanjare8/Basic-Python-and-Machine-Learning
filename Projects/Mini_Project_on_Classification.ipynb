{
  "nbformat": 4,
  "nbformat_minor": 0,
  "metadata": {
    "colab": {
      "name": "FST_Project_Classification.ipynb",
      "provenance": [],
      "collapsed_sections": []
    },
    "kernelspec": {
      "name": "python3",
      "display_name": "Python 3"
    },
    "language_info": {
      "name": "python"
    }
  },
  "cells": [
    {
      "cell_type": "markdown",
      "metadata": {
        "id": "j736qi75odPx"
      },
      "source": [
        "#State of India's Birds 2020\n",
        "The State of India’s Birds report was created to assess the conservation status of the majority of species that regularly occur in the country. Worldwide, common and widespread species are declining; but in India, lack of information has meant that conservation attention has been focussed on only a few species (usually large, charismatic and threatened).\n",
        "\n",
        "The report fills this gap by using over 10 million observations uploaded to the eBird platform by more than 15,500 birdwatchers to evaluate the distribution range size of 867 Indian birds, and their trends in abundance in both the long term (over 25+ years) and currently (past 5 years). Using these three measures, plus information from the IUCN Red List of global threat status, this report places Indian species into Low, Moderate and High categories of Conservation Concern for India. A large number of species that are thought to be common and widespread find themselves as of High Conservation Concern.\n",
        "\n",
        "Migratory status (resident, local migrant or long-distance migrant) within the Indian Subcontinent "
      ]
    },
    {
      "cell_type": "markdown",
      "metadata": {
        "id": "OpqQPEbxzLmf"
      },
      "source": [
        "1. Try out different classification algorithms\n",
        "\n",
        "2. Filter out Best fitting model\n",
        "\n",
        "3. Retrain and Evaluate Best fitted Model."
      ]
    },
    {
      "cell_type": "markdown",
      "metadata": {
        "id": "hUvyDTN4r9Ao"
      },
      "source": [
        "##Data importing and Preprocessing"
      ]
    },
    {
      "cell_type": "code",
      "metadata": {
        "id": "gvrYoE7cn21b"
      },
      "source": [
        "import numpy as np\n",
        "import pandas as pd\n",
        "import matplotlib.pyplot as plt\n",
        "import seaborn as sns\n",
        "from sklearn.preprocessing import LabelEncoder\n",
        "from sklearn.model_selection import train_test_split\n",
        "from sklearn.metrics import accuracy_score,classification_report,confusion_matrix\n",
        "from sklearn.preprocessing import StandardScaler,MinMaxScaler,LabelEncoder\n",
        "from sklearn.model_selection import RepeatedStratifiedKFold,GridSearchCV\n",
        "from sklearn.pipeline import Pipeline"
      ],
      "execution_count": null,
      "outputs": []
    },
    {
      "cell_type": "code",
      "metadata": {
        "colab": {
          "base_uri": "https://localhost:8080/",
          "height": 518
        },
        "id": "JLNZjZ_IpEkE",
        "outputId": "213669bd-cff4-497e-db82-98fe59573784"
      },
      "source": [
        "df=pd.read_excel('/content/State of Indias Birds - Essentials.xlsx',index_col='Serial Number')\n",
        "df.head()"
      ],
      "execution_count": null,
      "outputs": [
        {
          "output_type": "execute_result",
          "data": {
            "text/html": [
              "<div>\n",
              "<style scoped>\n",
              "    .dataframe tbody tr th:only-of-type {\n",
              "        vertical-align: middle;\n",
              "    }\n",
              "\n",
              "    .dataframe tbody tr th {\n",
              "        vertical-align: top;\n",
              "    }\n",
              "\n",
              "    .dataframe thead th {\n",
              "        text-align: right;\n",
              "    }\n",
              "</style>\n",
              "<table border=\"1\" class=\"dataframe\">\n",
              "  <thead>\n",
              "    <tr style=\"text-align: right;\">\n",
              "      <th></th>\n",
              "      <th>Common Name (India Checklist)</th>\n",
              "      <th>Scientific Name (India Checklist)</th>\n",
              "      <th>IUCN Status</th>\n",
              "      <th>WLPA Schedule</th>\n",
              "      <th>Analysed Long-term</th>\n",
              "      <th>Analysed Current</th>\n",
              "      <th>Long-term Trend (%)</th>\n",
              "      <th>Long-term Trend CI (%)</th>\n",
              "      <th>Current Annual Change (%)</th>\n",
              "      <th>Current Annual Change CI (%)</th>\n",
              "      <th>Distribution Range Size (units of 10,000 sq. km.)</th>\n",
              "      <th>Distribution Range Size CI (units of 10,000 sq. km.)</th>\n",
              "      <th>Long Term Status</th>\n",
              "      <th>Current Status</th>\n",
              "      <th>Distribution Status</th>\n",
              "      <th>Status of Conservation Concern</th>\n",
              "      <th>Assessed Primarily Based On</th>\n",
              "      <th>Migratory Status</th>\n",
              "    </tr>\n",
              "    <tr>\n",
              "      <th>Serial Number</th>\n",
              "      <th></th>\n",
              "      <th></th>\n",
              "      <th></th>\n",
              "      <th></th>\n",
              "      <th></th>\n",
              "      <th></th>\n",
              "      <th></th>\n",
              "      <th></th>\n",
              "      <th></th>\n",
              "      <th></th>\n",
              "      <th></th>\n",
              "      <th></th>\n",
              "      <th></th>\n",
              "      <th></th>\n",
              "      <th></th>\n",
              "      <th></th>\n",
              "      <th></th>\n",
              "      <th></th>\n",
              "    </tr>\n",
              "  </thead>\n",
              "  <tbody>\n",
              "    <tr>\n",
              "      <th>1</th>\n",
              "      <td>Fulvous Whistling Duck</td>\n",
              "      <td>Dendrocygna bicolor</td>\n",
              "      <td>Least Concern</td>\n",
              "      <td>Schedule-I</td>\n",
              "      <td>NaN</td>\n",
              "      <td>X</td>\n",
              "      <td>NaN</td>\n",
              "      <td>NaN</td>\n",
              "      <td>-1.873458</td>\n",
              "      <td>11.421401</td>\n",
              "      <td>13.407499</td>\n",
              "      <td>0.0711</td>\n",
              "      <td>Data Deficient</td>\n",
              "      <td>Uncertain</td>\n",
              "      <td>Moderate</td>\n",
              "      <td>Low</td>\n",
              "      <td>Trends &amp; Range Size</td>\n",
              "      <td>Resident</td>\n",
              "    </tr>\n",
              "    <tr>\n",
              "      <th>2</th>\n",
              "      <td>Lesser Whistling Duck</td>\n",
              "      <td>Dendrocygna javanica</td>\n",
              "      <td>Least Concern</td>\n",
              "      <td>Schedule-IV</td>\n",
              "      <td>X</td>\n",
              "      <td>X</td>\n",
              "      <td>4.607645</td>\n",
              "      <td>19.496768</td>\n",
              "      <td>-3.907999</td>\n",
              "      <td>2.727740</td>\n",
              "      <td>149.898761</td>\n",
              "      <td>0.0987</td>\n",
              "      <td>Stable</td>\n",
              "      <td>Moderate Decline</td>\n",
              "      <td>Very Large</td>\n",
              "      <td>Low</td>\n",
              "      <td>Trends &amp; Range Size</td>\n",
              "      <td>Resident</td>\n",
              "    </tr>\n",
              "    <tr>\n",
              "      <th>3</th>\n",
              "      <td>Bar-headed Goose</td>\n",
              "      <td>Anser indicus</td>\n",
              "      <td>Least Concern</td>\n",
              "      <td>Schedule-IV</td>\n",
              "      <td>X</td>\n",
              "      <td>X</td>\n",
              "      <td>-13.399940</td>\n",
              "      <td>217.658129</td>\n",
              "      <td>-6.935407</td>\n",
              "      <td>38.946950</td>\n",
              "      <td>45.447258</td>\n",
              "      <td>0.0700</td>\n",
              "      <td>Uncertain</td>\n",
              "      <td>Uncertain</td>\n",
              "      <td>Large</td>\n",
              "      <td>Low</td>\n",
              "      <td>Trends &amp; Range Size</td>\n",
              "      <td>Migratory-Local</td>\n",
              "    </tr>\n",
              "    <tr>\n",
              "      <th>4</th>\n",
              "      <td>Greylag Goose</td>\n",
              "      <td>Anser anser</td>\n",
              "      <td>Least Concern</td>\n",
              "      <td>Schedule-IV</td>\n",
              "      <td>X</td>\n",
              "      <td>X</td>\n",
              "      <td>-38.402762</td>\n",
              "      <td>34.943843</td>\n",
              "      <td>-3.091665</td>\n",
              "      <td>8.853505</td>\n",
              "      <td>24.569174</td>\n",
              "      <td>0.1045</td>\n",
              "      <td>Uncertain</td>\n",
              "      <td>Uncertain</td>\n",
              "      <td>Moderate</td>\n",
              "      <td>Low</td>\n",
              "      <td>Trends &amp; Range Size</td>\n",
              "      <td>Migratory-Long-Distance</td>\n",
              "    </tr>\n",
              "    <tr>\n",
              "      <th>5</th>\n",
              "      <td>Comb Duck</td>\n",
              "      <td>Sarkidiornis melanotos</td>\n",
              "      <td>Least Concern</td>\n",
              "      <td>Schedule-IV</td>\n",
              "      <td>X</td>\n",
              "      <td>X</td>\n",
              "      <td>1.291713</td>\n",
              "      <td>31.154296</td>\n",
              "      <td>-6.018774</td>\n",
              "      <td>4.432597</td>\n",
              "      <td>81.233442</td>\n",
              "      <td>0.0836</td>\n",
              "      <td>Uncertain</td>\n",
              "      <td>Moderate Decline</td>\n",
              "      <td>Large</td>\n",
              "      <td>Moderate</td>\n",
              "      <td>Trends &amp; Range Size</td>\n",
              "      <td>Resident</td>\n",
              "    </tr>\n",
              "  </tbody>\n",
              "</table>\n",
              "</div>"
            ],
            "text/plain": [
              "              Common Name (India Checklist)  ...         Migratory Status\n",
              "Serial Number                                ...                         \n",
              "1                    Fulvous Whistling Duck  ...                 Resident\n",
              "2                     Lesser Whistling Duck  ...                 Resident\n",
              "3                          Bar-headed Goose  ...          Migratory-Local\n",
              "4                             Greylag Goose  ...  Migratory-Long-Distance\n",
              "5                                 Comb Duck  ...                 Resident\n",
              "\n",
              "[5 rows x 18 columns]"
            ]
          },
          "metadata": {
            "tags": []
          },
          "execution_count": 2
        }
      ]
    },
    {
      "cell_type": "code",
      "metadata": {
        "colab": {
          "base_uri": "https://localhost:8080/"
        },
        "id": "Hvf4YOtSpMrE",
        "outputId": "8b82defb-1ee3-4a5d-b447-2aae261047be"
      },
      "source": [
        "df.shape"
      ],
      "execution_count": null,
      "outputs": [
        {
          "output_type": "execute_result",
          "data": {
            "text/plain": [
              "(867, 18)"
            ]
          },
          "metadata": {
            "tags": []
          },
          "execution_count": 3
        }
      ]
    },
    {
      "cell_type": "code",
      "metadata": {
        "colab": {
          "base_uri": "https://localhost:8080/"
        },
        "id": "CuiIyF4fpZGV",
        "outputId": "4d2ac4cf-cd4e-4d89-bb46-d8e58aff573f"
      },
      "source": [
        "df.info()"
      ],
      "execution_count": null,
      "outputs": [
        {
          "output_type": "stream",
          "text": [
            "<class 'pandas.core.frame.DataFrame'>\n",
            "Int64Index: 867 entries, 1 to 867\n",
            "Data columns (total 18 columns):\n",
            " #   Column                                                Non-Null Count  Dtype  \n",
            "---  ------                                                --------------  -----  \n",
            " 0   Common Name (India Checklist)                         867 non-null    object \n",
            " 1   Scientific Name (India Checklist)                     867 non-null    object \n",
            " 2   IUCN Status                                           867 non-null    object \n",
            " 3   WLPA Schedule                                         867 non-null    object \n",
            " 4   Analysed Long-term                                    485 non-null    object \n",
            " 5   Analysed Current                                      675 non-null    object \n",
            " 6   Long-term Trend (%)                                   487 non-null    float64\n",
            " 7   Long-term Trend CI (%)                                487 non-null    float64\n",
            " 8   Current Annual Change (%)                             677 non-null    float64\n",
            " 9   Current Annual Change CI (%)                          677 non-null    float64\n",
            " 10  Distribution Range Size (units of 10,000 sq. km.)     856 non-null    float64\n",
            " 11  Distribution Range Size CI (units of 10,000 sq. km.)  856 non-null    float64\n",
            " 12  Long Term Status                                      862 non-null    object \n",
            " 13  Current Status                                        862 non-null    object \n",
            " 14  Distribution Status                                   862 non-null    object \n",
            " 15  Status of Conservation Concern                        862 non-null    object \n",
            " 16  Assessed Primarily Based On                           866 non-null    object \n",
            " 17  Migratory Status                                      867 non-null    object \n",
            "dtypes: float64(6), object(12)\n",
            "memory usage: 128.7+ KB\n"
          ],
          "name": "stdout"
        }
      ]
    },
    {
      "cell_type": "code",
      "metadata": {
        "colab": {
          "base_uri": "https://localhost:8080/",
          "height": 318
        },
        "id": "sqLt3DDUtAwD",
        "outputId": "6d2750d2-ce6d-41ac-de57-67d7a9da4e81"
      },
      "source": [
        "df.describe()"
      ],
      "execution_count": null,
      "outputs": [
        {
          "output_type": "execute_result",
          "data": {
            "text/html": [
              "<div>\n",
              "<style scoped>\n",
              "    .dataframe tbody tr th:only-of-type {\n",
              "        vertical-align: middle;\n",
              "    }\n",
              "\n",
              "    .dataframe tbody tr th {\n",
              "        vertical-align: top;\n",
              "    }\n",
              "\n",
              "    .dataframe thead th {\n",
              "        text-align: right;\n",
              "    }\n",
              "</style>\n",
              "<table border=\"1\" class=\"dataframe\">\n",
              "  <thead>\n",
              "    <tr style=\"text-align: right;\">\n",
              "      <th></th>\n",
              "      <th>Long-term Trend (%)</th>\n",
              "      <th>Long-term Trend CI (%)</th>\n",
              "      <th>Current Annual Change (%)</th>\n",
              "      <th>Current Annual Change CI (%)</th>\n",
              "      <th>Distribution Range Size (units of 10,000 sq. km.)</th>\n",
              "      <th>Distribution Range Size CI (units of 10,000 sq. km.)</th>\n",
              "    </tr>\n",
              "  </thead>\n",
              "  <tbody>\n",
              "    <tr>\n",
              "      <th>count</th>\n",
              "      <td>487.000000</td>\n",
              "      <td>487.000000</td>\n",
              "      <td>677.000000</td>\n",
              "      <td>677.000000</td>\n",
              "      <td>856.000000</td>\n",
              "      <td>856.000000</td>\n",
              "    </tr>\n",
              "    <tr>\n",
              "      <th>mean</th>\n",
              "      <td>-23.771736</td>\n",
              "      <td>35.660908</td>\n",
              "      <td>-1.508480</td>\n",
              "      <td>14.041841</td>\n",
              "      <td>35.951108</td>\n",
              "      <td>0.075573</td>\n",
              "    </tr>\n",
              "    <tr>\n",
              "      <th>std</th>\n",
              "      <td>40.640144</td>\n",
              "      <td>35.405406</td>\n",
              "      <td>10.239282</td>\n",
              "      <td>21.119122</td>\n",
              "      <td>50.519018</td>\n",
              "      <td>0.035236</td>\n",
              "    </tr>\n",
              "    <tr>\n",
              "      <th>min</th>\n",
              "      <td>-97.040887</td>\n",
              "      <td>0.914415</td>\n",
              "      <td>-24.033897</td>\n",
              "      <td>1.185877</td>\n",
              "      <td>0.000900</td>\n",
              "      <td>0.000000</td>\n",
              "    </tr>\n",
              "    <tr>\n",
              "      <th>25%</th>\n",
              "      <td>-53.361035</td>\n",
              "      <td>15.724150</td>\n",
              "      <td>-5.989720</td>\n",
              "      <td>4.787951</td>\n",
              "      <td>5.653592</td>\n",
              "      <td>0.059075</td>\n",
              "    </tr>\n",
              "    <tr>\n",
              "      <th>50%</th>\n",
              "      <td>-30.045127</td>\n",
              "      <td>26.164983</td>\n",
              "      <td>-2.535760</td>\n",
              "      <td>8.648848</td>\n",
              "      <td>13.659506</td>\n",
              "      <td>0.074500</td>\n",
              "    </tr>\n",
              "    <tr>\n",
              "      <th>75%</th>\n",
              "      <td>-1.467697</td>\n",
              "      <td>42.704433</td>\n",
              "      <td>1.640885</td>\n",
              "      <td>16.217987</td>\n",
              "      <td>37.720139</td>\n",
              "      <td>0.090525</td>\n",
              "    </tr>\n",
              "    <tr>\n",
              "      <th>max</th>\n",
              "      <td>171.255544</td>\n",
              "      <td>368.877213</td>\n",
              "      <td>191.156998</td>\n",
              "      <td>400.802847</td>\n",
              "      <td>224.354113</td>\n",
              "      <td>0.441700</td>\n",
              "    </tr>\n",
              "  </tbody>\n",
              "</table>\n",
              "</div>"
            ],
            "text/plain": [
              "       Long-term Trend (%)  ...  Distribution Range Size CI (units of 10,000 sq. km.)\n",
              "count           487.000000  ...                                         856.000000   \n",
              "mean            -23.771736  ...                                           0.075573   \n",
              "std              40.640144  ...                                           0.035236   \n",
              "min             -97.040887  ...                                           0.000000   \n",
              "25%             -53.361035  ...                                           0.059075   \n",
              "50%             -30.045127  ...                                           0.074500   \n",
              "75%              -1.467697  ...                                           0.090525   \n",
              "max             171.255544  ...                                           0.441700   \n",
              "\n",
              "[8 rows x 6 columns]"
            ]
          },
          "metadata": {
            "tags": []
          },
          "execution_count": 5
        }
      ]
    },
    {
      "cell_type": "code",
      "metadata": {
        "colab": {
          "base_uri": "https://localhost:8080/"
        },
        "id": "XyLCo0IerS5_",
        "outputId": "102af2fa-5871-488c-c3a5-32b604059354"
      },
      "source": [
        "df.isna().sum()"
      ],
      "execution_count": null,
      "outputs": [
        {
          "output_type": "execute_result",
          "data": {
            "text/plain": [
              "Common Name (India Checklist)                             0\n",
              "Scientific Name (India Checklist)                         0\n",
              "IUCN Status                                               0\n",
              "WLPA Schedule                                             0\n",
              "Analysed Long-term                                      382\n",
              "Analysed Current                                        192\n",
              "Long-term Trend (%)                                     380\n",
              "Long-term Trend CI (%)                                  380\n",
              "Current Annual Change (%)                               190\n",
              "Current Annual Change CI (%)                            190\n",
              "Distribution Range Size (units of 10,000 sq. km.)        11\n",
              "Distribution Range Size CI (units of 10,000 sq. km.)     11\n",
              "Long Term Status                                          5\n",
              "Current Status                                            5\n",
              "Distribution Status                                       5\n",
              "Status of Conservation Concern                            5\n",
              "Assessed Primarily Based On                               1\n",
              "Migratory Status                                          0\n",
              "dtype: int64"
            ]
          },
          "metadata": {
            "tags": []
          },
          "execution_count": 6
        }
      ]
    },
    {
      "cell_type": "code",
      "metadata": {
        "colab": {
          "base_uri": "https://localhost:8080/",
          "height": 455
        },
        "id": "krKi1mpBGXPv",
        "outputId": "1030776d-648f-4d24-96a6-924402a25082"
      },
      "source": [
        "sns.catplot(df['Migratory Status'],kind='count',data=df)"
      ],
      "execution_count": null,
      "outputs": [
        {
          "output_type": "stream",
          "text": [
            "/usr/local/lib/python3.7/dist-packages/seaborn/_decorators.py:43: FutureWarning: Pass the following variable as a keyword arg: x. From version 0.12, the only valid positional argument will be `data`, and passing other arguments without an explicit keyword will result in an error or misinterpretation.\n",
            "  FutureWarning\n"
          ],
          "name": "stderr"
        },
        {
          "output_type": "execute_result",
          "data": {
            "text/plain": [
              "<seaborn.axisgrid.FacetGrid at 0x7f702b30b9d0>"
            ]
          },
          "metadata": {
            "tags": []
          },
          "execution_count": 7
        },
        {
          "output_type": "display_data",
          "data": {
            "image/png": "[encoded data removed]",
            "text/plain": [
              "<Figure size 360x360 with 1 Axes>"
            ]
          },
          "metadata": {
            "tags": [],
            "needs_background": "light"
          }
        }
      ]
    },
    {
      "cell_type": "code",
      "metadata": {
        "colab": {
          "base_uri": "https://localhost:8080/"
        },
        "id": "CB6HyXpItR6i",
        "outputId": "7cc68270-58ae-4260-8e1c-68deb8cce784"
      },
      "source": [
        "df.columns"
      ],
      "execution_count": null,
      "outputs": [
        {
          "output_type": "execute_result",
          "data": {
            "text/plain": [
              "Index(['Common Name (India Checklist)', 'Scientific Name (India Checklist)',\n",
              "       'IUCN Status', 'WLPA Schedule', 'Analysed Long-term',\n",
              "       'Analysed Current', 'Long-term Trend (%)', 'Long-term Trend CI (%)',\n",
              "       'Current Annual Change (%)', 'Current Annual Change CI (%)',\n",
              "       'Distribution Range Size (units of 10,000 sq. km.)',\n",
              "       'Distribution Range Size CI (units of 10,000 sq. km.)',\n",
              "       'Long Term Status', 'Current Status', 'Distribution Status',\n",
              "       'Status of Conservation Concern', 'Assessed Primarily Based On',\n",
              "       'Migratory Status'],\n",
              "      dtype='object')"
            ]
          },
          "metadata": {
            "tags": []
          },
          "execution_count": 8
        }
      ]
    },
    {
      "cell_type": "code",
      "metadata": {
        "colab": {
          "base_uri": "https://localhost:8080/"
        },
        "id": "gwEAentNry6Z",
        "outputId": "650a856c-a17a-4ed2-aed2-5593e1f4258d"
      },
      "source": [
        "#fillna using mode\n",
        "#same value X in whole column will not show any effect on labels\n",
        "df=df.drop(columns=['Analysed Current','Analysed Long-term'])\n",
        "\n",
        "df['Long-term Trend (%)']=df['Long-term Trend (%)'].fillna(df['Long-term Trend (%)'].median())\n",
        "df['Long-term Trend CI (%)']=df['Long-term Trend CI (%)'].fillna(df['Long-term Trend CI (%)'].median())\n",
        "df['Current Annual Change (%)']=df['Current Annual Change (%)'].fillna(df['Current Annual Change (%)'].median())\n",
        "df['Current Annual Change CI (%)']=df['Current Annual Change CI (%)'].fillna(df['Current Annual Change CI (%)'].median())\n",
        "df['Distribution Range Size (units of 10,000 sq. km.)']=df['Distribution Range Size (units of 10,000 sq. km.)'].fillna(df['Distribution Range Size (units of 10,000 sq. km.)'].median())\n",
        "df['Distribution Range Size CI (units of 10,000 sq. km.)']=df['Distribution Range Size CI (units of 10,000 sq. km.)'].fillna(df['Distribution Range Size CI (units of 10,000 sq. km.)'].median())\n",
        "\n",
        "df['Long Term Status']=df['Long Term Status'].fillna(df['Long Term Status'].mode())\n",
        "df['Current Status']=df['Current Status'].fillna(df['Current Status'].mode())\n",
        "df['Distribution Status']=df['Distribution Status'].fillna(df['Distribution Status'].mode())\n",
        "df['Status of Conservation Concern']=df['Status of Conservation Concern'].fillna(df['Status of Conservation Concern'].mode())\n",
        "df['Assessed Primarily Based On']=df['Assessed Primarily Based On'].fillna(df['Assessed Primarily Based On'].mode())\n",
        "\n",
        "\n",
        "df.isna().sum()"
      ],
      "execution_count": null,
      "outputs": [
        {
          "output_type": "execute_result",
          "data": {
            "text/plain": [
              "Common Name (India Checklist)                           0\n",
              "Scientific Name (India Checklist)                       0\n",
              "IUCN Status                                             0\n",
              "WLPA Schedule                                           0\n",
              "Long-term Trend (%)                                     0\n",
              "Long-term Trend CI (%)                                  0\n",
              "Current Annual Change (%)                               0\n",
              "Current Annual Change CI (%)                            0\n",
              "Distribution Range Size (units of 10,000 sq. km.)       0\n",
              "Distribution Range Size CI (units of 10,000 sq. km.)    0\n",
              "Long Term Status                                        5\n",
              "Current Status                                          5\n",
              "Distribution Status                                     5\n",
              "Status of Conservation Concern                          5\n",
              "Assessed Primarily Based On                             1\n",
              "Migratory Status                                        0\n",
              "dtype: int64"
            ]
          },
          "metadata": {
            "tags": []
          },
          "execution_count": 9
        }
      ]
    },
    {
      "cell_type": "code",
      "metadata": {
        "colab": {
          "base_uri": "https://localhost:8080/"
        },
        "id": "jUq0_Wrt0DKv",
        "outputId": "d8e7db14-d4a3-4db5-c1e0-912cee56f95d"
      },
      "source": [
        "df=df.dropna()\n",
        "df.isna().sum()"
      ],
      "execution_count": null,
      "outputs": [
        {
          "output_type": "execute_result",
          "data": {
            "text/plain": [
              "Common Name (India Checklist)                           0\n",
              "Scientific Name (India Checklist)                       0\n",
              "IUCN Status                                             0\n",
              "WLPA Schedule                                           0\n",
              "Long-term Trend (%)                                     0\n",
              "Long-term Trend CI (%)                                  0\n",
              "Current Annual Change (%)                               0\n",
              "Current Annual Change CI (%)                            0\n",
              "Distribution Range Size (units of 10,000 sq. km.)       0\n",
              "Distribution Range Size CI (units of 10,000 sq. km.)    0\n",
              "Long Term Status                                        0\n",
              "Current Status                                          0\n",
              "Distribution Status                                     0\n",
              "Status of Conservation Concern                          0\n",
              "Assessed Primarily Based On                             0\n",
              "Migratory Status                                        0\n",
              "dtype: int64"
            ]
          },
          "metadata": {
            "tags": []
          },
          "execution_count": 10
        }
      ]
    },
    {
      "cell_type": "code",
      "metadata": {
        "colab": {
          "base_uri": "https://localhost:8080/"
        },
        "id": "xjRRyb_2-1HK",
        "outputId": "d75a4d4c-90d2-4114-95c0-72d84ab32ca9"
      },
      "source": [
        "df.shape"
      ],
      "execution_count": null,
      "outputs": [
        {
          "output_type": "execute_result",
          "data": {
            "text/plain": [
              "(862, 16)"
            ]
          },
          "metadata": {
            "tags": []
          },
          "execution_count": 11
        }
      ]
    },
    {
      "cell_type": "code",
      "metadata": {
        "id": "yTRzz6cgsSY5"
      },
      "source": [
        "#encoding categorised columns\n",
        "le=LabelEncoder()\n",
        "\n",
        "df['IUCN Status']=le.fit_transform(df['IUCN Status'])\n",
        "df['WLPA Schedule']=le.fit_transform(df['WLPA Schedule'])\n",
        "df['Long Term Status']=le.fit_transform(df['Long Term Status'])\n",
        "df['Long Term Status']=le.fit_transform(df['Long Term Status'])\n",
        "df['Current Status']=le.fit_transform(df['Current Status'])\n",
        "df['Distribution Status']=le.fit_transform(df['Distribution Status'])\n",
        "df['Status of Conservation Concern']=le.fit_transform(df['Status of Conservation Concern'])\n",
        "df['Assessed Primarily Based On']=le.fit_transform(df['Assessed Primarily Based On'])\n",
        "df['Migratory Status']=le.fit_transform(df['Migratory Status'])\n"
      ],
      "execution_count": null,
      "outputs": []
    },
    {
      "cell_type": "code",
      "metadata": {
        "colab": {
          "base_uri": "https://localhost:8080/",
          "height": 466
        },
        "id": "QwfhjfMazB_B",
        "outputId": "8362c0eb-6464-4650-d6d0-5f005da49c37"
      },
      "source": [
        "\n",
        "df.head()"
      ],
      "execution_count": null,
      "outputs": [
        {
          "output_type": "execute_result",
          "data": {
            "text/html": [
              "<div>\n",
              "<style scoped>\n",
              "    .dataframe tbody tr th:only-of-type {\n",
              "        vertical-align: middle;\n",
              "    }\n",
              "\n",
              "    .dataframe tbody tr th {\n",
              "        vertical-align: top;\n",
              "    }\n",
              "\n",
              "    .dataframe thead th {\n",
              "        text-align: right;\n",
              "    }\n",
              "</style>\n",
              "<table border=\"1\" class=\"dataframe\">\n",
              "  <thead>\n",
              "    <tr style=\"text-align: right;\">\n",
              "      <th></th>\n",
              "      <th>Common Name (India Checklist)</th>\n",
              "      <th>Scientific Name (India Checklist)</th>\n",
              "      <th>IUCN Status</th>\n",
              "      <th>WLPA Schedule</th>\n",
              "      <th>Long-term Trend (%)</th>\n",
              "      <th>Long-term Trend CI (%)</th>\n",
              "      <th>Current Annual Change (%)</th>\n",
              "      <th>Current Annual Change CI (%)</th>\n",
              "      <th>Distribution Range Size (units of 10,000 sq. km.)</th>\n",
              "      <th>Distribution Range Size CI (units of 10,000 sq. km.)</th>\n",
              "      <th>Long Term Status</th>\n",
              "      <th>Current Status</th>\n",
              "      <th>Distribution Status</th>\n",
              "      <th>Status of Conservation Concern</th>\n",
              "      <th>Assessed Primarily Based On</th>\n",
              "      <th>Migratory Status</th>\n",
              "    </tr>\n",
              "    <tr>\n",
              "      <th>Serial Number</th>\n",
              "      <th></th>\n",
              "      <th></th>\n",
              "      <th></th>\n",
              "      <th></th>\n",
              "      <th></th>\n",
              "      <th></th>\n",
              "      <th></th>\n",
              "      <th></th>\n",
              "      <th></th>\n",
              "      <th></th>\n",
              "      <th></th>\n",
              "      <th></th>\n",
              "      <th></th>\n",
              "      <th></th>\n",
              "      <th></th>\n",
              "      <th></th>\n",
              "    </tr>\n",
              "  </thead>\n",
              "  <tbody>\n",
              "    <tr>\n",
              "      <th>1</th>\n",
              "      <td>Fulvous Whistling Duck</td>\n",
              "      <td>Dendrocygna bicolor</td>\n",
              "      <td>2</td>\n",
              "      <td>0</td>\n",
              "      <td>-30.045127</td>\n",
              "      <td>26.164983</td>\n",
              "      <td>-1.873458</td>\n",
              "      <td>11.421401</td>\n",
              "      <td>13.407499</td>\n",
              "      <td>0.0711</td>\n",
              "      <td>0</td>\n",
              "      <td>6</td>\n",
              "      <td>2</td>\n",
              "      <td>1</td>\n",
              "      <td>4</td>\n",
              "      <td>2</td>\n",
              "    </tr>\n",
              "    <tr>\n",
              "      <th>2</th>\n",
              "      <td>Lesser Whistling Duck</td>\n",
              "      <td>Dendrocygna javanica</td>\n",
              "      <td>2</td>\n",
              "      <td>1</td>\n",
              "      <td>4.607645</td>\n",
              "      <td>19.496768</td>\n",
              "      <td>-3.907999</td>\n",
              "      <td>2.727740</td>\n",
              "      <td>149.898761</td>\n",
              "      <td>0.0987</td>\n",
              "      <td>3</td>\n",
              "      <td>1</td>\n",
              "      <td>4</td>\n",
              "      <td>1</td>\n",
              "      <td>4</td>\n",
              "      <td>2</td>\n",
              "    </tr>\n",
              "    <tr>\n",
              "      <th>3</th>\n",
              "      <td>Bar-headed Goose</td>\n",
              "      <td>Anser indicus</td>\n",
              "      <td>2</td>\n",
              "      <td>1</td>\n",
              "      <td>-13.399940</td>\n",
              "      <td>217.658129</td>\n",
              "      <td>-6.935407</td>\n",
              "      <td>38.946950</td>\n",
              "      <td>45.447258</td>\n",
              "      <td>0.0700</td>\n",
              "      <td>6</td>\n",
              "      <td>6</td>\n",
              "      <td>1</td>\n",
              "      <td>1</td>\n",
              "      <td>4</td>\n",
              "      <td>0</td>\n",
              "    </tr>\n",
              "    <tr>\n",
              "      <th>4</th>\n",
              "      <td>Greylag Goose</td>\n",
              "      <td>Anser anser</td>\n",
              "      <td>2</td>\n",
              "      <td>1</td>\n",
              "      <td>-38.402762</td>\n",
              "      <td>34.943843</td>\n",
              "      <td>-3.091665</td>\n",
              "      <td>8.853505</td>\n",
              "      <td>24.569174</td>\n",
              "      <td>0.1045</td>\n",
              "      <td>6</td>\n",
              "      <td>6</td>\n",
              "      <td>2</td>\n",
              "      <td>1</td>\n",
              "      <td>4</td>\n",
              "      <td>1</td>\n",
              "    </tr>\n",
              "    <tr>\n",
              "      <th>5</th>\n",
              "      <td>Comb Duck</td>\n",
              "      <td>Sarkidiornis melanotos</td>\n",
              "      <td>2</td>\n",
              "      <td>1</td>\n",
              "      <td>1.291713</td>\n",
              "      <td>31.154296</td>\n",
              "      <td>-6.018774</td>\n",
              "      <td>4.432597</td>\n",
              "      <td>81.233442</td>\n",
              "      <td>0.0836</td>\n",
              "      <td>6</td>\n",
              "      <td>1</td>\n",
              "      <td>1</td>\n",
              "      <td>2</td>\n",
              "      <td>4</td>\n",
              "      <td>2</td>\n",
              "    </tr>\n",
              "  </tbody>\n",
              "</table>\n",
              "</div>"
            ],
            "text/plain": [
              "              Common Name (India Checklist)  ... Migratory Status\n",
              "Serial Number                                ...                 \n",
              "1                    Fulvous Whistling Duck  ...                2\n",
              "2                     Lesser Whistling Duck  ...                2\n",
              "3                          Bar-headed Goose  ...                0\n",
              "4                             Greylag Goose  ...                1\n",
              "5                                 Comb Duck  ...                2\n",
              "\n",
              "[5 rows x 16 columns]"
            ]
          },
          "metadata": {
            "tags": []
          },
          "execution_count": 13
        }
      ]
    },
    {
      "cell_type": "markdown",
      "metadata": {
        "id": "fJ-bhig-yXo-"
      },
      "source": [
        "**Conclusion :** Now data is well cleaned."
      ]
    },
    {
      "cell_type": "code",
      "metadata": {
        "id": "zKtvpBB9060R"
      },
      "source": [
        "df=df.iloc[:,2:]\n",
        "x=df.iloc[:,:-1]\n",
        "y=df.iloc[:,-1]"
      ],
      "execution_count": null,
      "outputs": []
    },
    {
      "cell_type": "code",
      "metadata": {
        "id": "Wza3RazYC6jD"
      },
      "source": [
        "xtrain,xtest,ytrain,ytest=train_test_split(x,y,test_size=0.2,random_state=0)"
      ],
      "execution_count": null,
      "outputs": []
    },
    {
      "cell_type": "markdown",
      "metadata": {
        "id": "631F8ZvUzPkz"
      },
      "source": [
        "##Different Classification Algorithms"
      ]
    },
    {
      "cell_type": "code",
      "metadata": {
        "id": "kgwuusUZ_BYh"
      },
      "source": [
        "#import models\n",
        "from sklearn.linear_model import LogisticRegression\n",
        "from sklearn.neighbors import KNeighborsClassifier\n",
        "from sklearn.svm import SVC\n",
        "from sklearn.naive_bayes import GaussianNB\n",
        "from sklearn.tree import DecisionTreeClassifier\n",
        "from sklearn.ensemble import RandomForestClassifier,AdaBoostClassifier,GradientBoostingClassifier\n",
        "from xgboost import XGBClassifier"
      ],
      "execution_count": null,
      "outputs": []
    },
    {
      "cell_type": "code",
      "metadata": {
        "id": "S1qJ8fZX0AWw"
      },
      "source": [
        "#models to be used\n",
        "models={\"LogisticRegression\":LogisticRegression(),\n",
        "        \"DecisionTreeClassifier\":DecisionTreeClassifier(),\n",
        "        \"SVM\":SVC(),\n",
        "        \"Naive Bays\":GaussianNB(),\n",
        "        \"KNN\":KNeighborsClassifier(),\n",
        "        \"RandomForestClassifier\":RandomForestClassifier(),\n",
        "        \"AdaBoostClassifier\":AdaBoostClassifier(),\n",
        "        \"GradientBoostingClassifier\":GradientBoostingClassifier(),\n",
        "        \"XGBClassifier\":XGBClassifier()}\n"
      ],
      "execution_count": null,
      "outputs": []
    },
    {
      "cell_type": "markdown",
      "metadata": {
        "id": "MsIi7gIN0hLq"
      },
      "source": [
        "###Create functions"
      ]
    },
    {
      "cell_type": "code",
      "metadata": {
        "id": "dSY2WLdS0dCL"
      },
      "source": [
        "#models,x,y,scaleFlag=0,1,2\n",
        "def modelAccuracy(models,x,y,scaleFlag):\n",
        "  #split data\n",
        "  xtrain,xtest,ytrain,ytest=train_test_split(x,y,test_size=0.2,random_state=0)\n",
        "  acc_result={}\n",
        "  for name,model in models.items():\n",
        "    #create pipeline\n",
        "    if scaleFlag==0: \n",
        "      pipeline=Pipeline([(\"MinMaxScalar\",MinMaxScaler()),\n",
        "                       (\"model\",model)])\n",
        "    elif scaleFlag==1:\n",
        "      pipeline=Pipeline([(\"StandardScalar\",StandardScaler()),\n",
        "                       (\"model\",model)])\n",
        "    elif scaleFlag==2:\n",
        "      pipeline=Pipeline([(\"model\",model)])\n",
        "\n",
        "#Fitting model\n",
        "    model_fit=pipeline.fit(xtrain,ytrain)\n",
        "    ypred=model_fit.predict(xtest)\n",
        "    acc=accuracy_score(ytest,ypred)\n",
        "    print(\"The accuracy for \",name, \" is \",acc)\n",
        "    acc_result[name]=acc\n",
        "\n",
        "  return acc_result\n"
      ],
      "execution_count": null,
      "outputs": []
    },
    {
      "cell_type": "code",
      "metadata": {
        "id": "BqnRUFS61ai5"
      },
      "source": [
        "def best_model(result):\n",
        "  high=0\n",
        "  for name,acc in result.items():\n",
        "    if high<acc:\n",
        "      high=acc\n",
        "      model_name=name\n",
        "  print('Best model is ',model_name,\" with accuracy : \",high)"
      ],
      "execution_count": null,
      "outputs": []
    },
    {
      "cell_type": "code",
      "metadata": {
        "id": "d5r6vHcD1eia"
      },
      "source": [
        "def bestParam(model,param,xtrain,ytrain):\n",
        "  #cv\n",
        "  cv=RepeatedStratifiedKFold(n_splits=10,n_repeats=3)\n",
        "  gridcv=GridSearchCV(estimator=model,param_grid=param,scoring='accuracy',cv=cv)\n",
        "  res=gridcv.fit(xtrain,ytrain)\n",
        "  \n",
        "  print(\"Best parameters are :\",res.best_params_)\n",
        "  print(\"Best accuracy is : \",res.best_score_)"
      ],
      "execution_count": null,
      "outputs": []
    },
    {
      "cell_type": "markdown",
      "metadata": {
        "id": "XdNBm5Y3B_Tm"
      },
      "source": [
        "###Call functions and get best fitting model"
      ]
    },
    {
      "cell_type": "code",
      "metadata": {
        "colab": {
          "base_uri": "https://localhost:8080/"
        },
        "id": "qPQZSobP1ivE",
        "outputId": "e3bda65b-09cc-46aa-fe23-9ee585b186ac"
      },
      "source": [
        "acc=modelAccuracy(models,x,y,2)"
      ],
      "execution_count": null,
      "outputs": [
        {
          "output_type": "stream",
          "text": [
            "/usr/local/lib/python3.7/dist-packages/sklearn/linear_model/_logistic.py:940: ConvergenceWarning: lbfgs failed to converge (status=1):\n",
            "STOP: TOTAL NO. of ITERATIONS REACHED LIMIT.\n",
            "\n",
            "Increase the number of iterations (max_iter) or scale the data as shown in:\n",
            "    https://scikit-learn.org/stable/modules/preprocessing.html\n",
            "Please also refer to the documentation for alternative solver options:\n",
            "    https://scikit-learn.org/stable/modules/linear_model.html#logistic-regression\n",
            "  extra_warning_msg=_LOGISTIC_SOLVER_CONVERGENCE_MSG)\n"
          ],
          "name": "stderr"
        },
        {
          "output_type": "stream",
          "text": [
            "The accuracy for  LogisticRegression  is  0.791907514450867\n",
            "The accuracy for  DecisionTreeClassifier  is  0.6763005780346821\n",
            "The accuracy for  SVM  is  0.791907514450867\n",
            "The accuracy for  Naive Bays  is  0.3063583815028902\n",
            "The accuracy for  KNN  is  0.791907514450867\n",
            "The accuracy for  RandomForestClassifier  is  0.8092485549132948\n",
            "The accuracy for  AdaBoostClassifier  is  0.7803468208092486\n",
            "The accuracy for  GradientBoostingClassifier  is  0.8034682080924855\n",
            "The accuracy for  XGBClassifier  is  0.8092485549132948\n"
          ],
          "name": "stdout"
        }
      ]
    },
    {
      "cell_type": "code",
      "metadata": {
        "colab": {
          "base_uri": "https://localhost:8080/"
        },
        "id": "UCvyMd97BNof",
        "outputId": "6bd4aa07-6fdf-4a90-b342-269c8bb2069e"
      },
      "source": [
        "best_model(acc)"
      ],
      "execution_count": null,
      "outputs": [
        {
          "output_type": "stream",
          "text": [
            "Best model is  RandomForestClassifier  with accuracy :  0.8092485549132948\n"
          ],
          "name": "stdout"
        }
      ]
    },
    {
      "cell_type": "markdown",
      "metadata": {
        "id": "aST3bDT8CmpA"
      },
      "source": [
        "**Conclusion :** Best model is  RandomForestClassifier  with accuracy :  0.8208092485549133\n"
      ]
    },
    {
      "cell_type": "code",
      "metadata": {
        "id": "qPtxN_ozB8kE"
      },
      "source": [
        "# model=RandomForestClassifier()\n",
        "# params={\"n_estimators\":[10,50,100,500],\n",
        "#         \"criterion\":[\"gini\", \"entropy\"],\n",
        "#         \"max_depth\":[3,5,7,8,9,10]}\n",
        "# bestParam(model,params,xtrain,ytrain)"
      ],
      "execution_count": null,
      "outputs": []
    },
    {
      "cell_type": "markdown",
      "metadata": {
        "id": "S8lwmNsDDDX3"
      },
      "source": [
        "###Retrain the best fitted model using best parameters"
      ]
    },
    {
      "cell_type": "code",
      "metadata": {
        "id": "Yb0Q2vj5Cy58"
      },
      "source": [
        "model=RandomForestClassifier(criterion='entropy', max_depth= 9, n_estimators= 500)\n",
        "model.fit(xtrain,ytrain)\n",
        "ypred=model.predict(xtest)"
      ],
      "execution_count": null,
      "outputs": []
    },
    {
      "cell_type": "code",
      "metadata": {
        "colab": {
          "base_uri": "https://localhost:8080/",
          "height": 528
        },
        "id": "dOOC_Dm7FEB-",
        "outputId": "993924d2-3c4f-46cb-ad43-d9532f01a85f"
      },
      "source": [
        "# Final Evaluation\n",
        "print(accuracy_score(ytest,ypred))\n",
        "print(classification_report(ytest,ypred))\n",
        "cm=confusion_matrix(ytest,ypred)\n",
        "sns.heatmap(cm,annot=True)"
      ],
      "execution_count": null,
      "outputs": [
        {
          "output_type": "stream",
          "text": [
            "0.8092485549132948\n",
            "              precision    recall  f1-score   support\n",
            "\n",
            "           0       0.00      0.00      0.00        12\n",
            "           1       0.75      0.12      0.21        24\n",
            "           2       0.81      1.00      0.90       137\n",
            "\n",
            "    accuracy                           0.81       173\n",
            "   macro avg       0.52      0.38      0.37       173\n",
            "weighted avg       0.75      0.81      0.74       173\n",
            "\n"
          ],
          "name": "stdout"
        },
        {
          "output_type": "stream",
          "text": [
            "/usr/local/lib/python3.7/dist-packages/sklearn/metrics/_classification.py:1272: UndefinedMetricWarning: Precision and F-score are ill-defined and being set to 0.0 in labels with no predicted samples. Use `zero_division` parameter to control this behavior.\n",
            "  _warn_prf(average, modifier, msg_start, len(result))\n"
          ],
          "name": "stderr"
        },
        {
          "output_type": "execute_result",
          "data": {
            "text/plain": [
              "<matplotlib.axes._subplots.AxesSubplot at 0x7f7000027ad0>"
            ]
          },
          "metadata": {
            "tags": []
          },
          "execution_count": 25
        },
        {
          "output_type": "display_data",
          "data": {
            "image/png": "[encoded data removed]",
            "text/plain": [
              "<Figure size 432x288 with 2 Axes>"
            ]
          },
          "metadata": {
            "tags": [],
            "needs_background": "light"
          }
        }
      ]
    },
    {
      "cell_type": "code",
      "metadata": {
        "id": "ZV7e13BBKQag",
        "colab": {
          "base_uri": "https://localhost:8080/",
          "height": 455
        },
        "outputId": "fbb64cd3-fcca-4be5-fc6f-0faba32ae6d0"
      },
      "source": [
        "sns.catplot(df['Migratory Status'],kind='count',data=df)"
      ],
      "execution_count": null,
      "outputs": [
        {
          "output_type": "stream",
          "text": [
            "/usr/local/lib/python3.7/dist-packages/seaborn/_decorators.py:43: FutureWarning: Pass the following variable as a keyword arg: x. From version 0.12, the only valid positional argument will be `data`, and passing other arguments without an explicit keyword will result in an error or misinterpretation.\n",
            "  FutureWarning\n"
          ],
          "name": "stderr"
        },
        {
          "output_type": "execute_result",
          "data": {
            "text/plain": [
              "<seaborn.axisgrid.FacetGrid at 0x7f70000bdcd0>"
            ]
          },
          "metadata": {
            "tags": []
          },
          "execution_count": 26
        },
        {
          "output_type": "display_data",
          "data": {
            "image/png": "[encoded data removed]",
            "text/plain": [
              "<Figure size 360x360 with 1 Axes>"
            ]
          },
          "metadata": {
            "tags": [],
            "needs_background": "light"
          }
        }
      ]
    },
    {
      "cell_type": "code",
      "metadata": {
        "id": "YrhrlUFfmL7p"
      },
      "source": [
        "#Applying oversampling\n",
        "#0-local, 1- long, 2-resident\n",
        "long_mig=df[df['Migratory Status']==1].index\n",
        "resident=df[df['Migratory Status']==2].index\n",
        "local=df[df['Migratory Status']==0].index\n",
        "\n",
        "#get random index from long_mig equal to mejority resident\n",
        "random_index1=np.array(np.random.choice(long_mig,size=len(resident),replace=True))\n",
        "oversample_index=np.concatenate([resident,random_index1])\n",
        "oversample=df.loc[oversample_index,:]\n",
        "\n",
        "# #get random index from local equal to mejority resident\n",
        "random_index2=np.array(np.random.choice(local,size=len(resident),replace=True))\n",
        "oversample_index=np.concatenate([resident,random_index2])\n",
        "\n",
        "oversample=df.loc[oversample_index,:]\n"
      ],
      "execution_count": null,
      "outputs": []
    },
    {
      "cell_type": "code",
      "metadata": {
        "colab": {
          "base_uri": "https://localhost:8080/",
          "height": 455
        },
        "id": "Q06TkkLNngrx",
        "outputId": "256758ce-6436-4990-f5a3-abb365c2654a"
      },
      "source": [
        "sns.catplot(oversample['Migratory Status'],kind='count',data=oversample)"
      ],
      "execution_count": null,
      "outputs": [
        {
          "output_type": "stream",
          "text": [
            "/usr/local/lib/python3.7/dist-packages/seaborn/_decorators.py:43: FutureWarning: Pass the following variable as a keyword arg: x. From version 0.12, the only valid positional argument will be `data`, and passing other arguments without an explicit keyword will result in an error or misinterpretation.\n",
            "  FutureWarning\n"
          ],
          "name": "stderr"
        },
        {
          "output_type": "execute_result",
          "data": {
            "text/plain": [
              "<seaborn.axisgrid.FacetGrid at 0x7f6ffff35090>"
            ]
          },
          "metadata": {
            "tags": []
          },
          "execution_count": 28
        },
        {
          "output_type": "display_data",
          "data": {
            "image/png": "[encoded data removed]",
            "text/plain": [
              "<Figure size 360x360 with 1 Axes>"
            ]
          },
          "metadata": {
            "tags": [],
            "needs_background": "light"
          }
        }
      ]
    },
    {
      "cell_type": "code",
      "metadata": {
        "colab": {
          "base_uri": "https://localhost:8080/"
        },
        "id": "0swxY9QQqNaz",
        "outputId": "6909a877-2614-493d-8548-6a334464195c"
      },
      "source": [
        "oversample.shape"
      ],
      "execution_count": null,
      "outputs": [
        {
          "output_type": "execute_result",
          "data": {
            "text/plain": [
              "(1390, 14)"
            ]
          },
          "metadata": {
            "tags": []
          },
          "execution_count": 29
        }
      ]
    },
    {
      "cell_type": "code",
      "metadata": {
        "id": "U5IVlp1Hrygc"
      },
      "source": [
        "x=oversample.iloc[:,:-1]\n",
        "y=oversample.iloc[:,-1]"
      ],
      "execution_count": null,
      "outputs": []
    },
    {
      "cell_type": "code",
      "metadata": {
        "id": "Heov0Zbhtf81"
      },
      "source": [
        "xtrain,xtest,ytrain,ytest=train_test_split(x,y,test_size=0.2,random_state=0)"
      ],
      "execution_count": null,
      "outputs": []
    },
    {
      "cell_type": "code",
      "metadata": {
        "id": "iuH_PxpStkSZ"
      },
      "source": [
        "model=RandomForestClassifier(criterion='entropy', max_depth= 9, n_estimators= 500)\n",
        "model.fit(xtrain,ytrain)\n",
        "ypred=model.predict(xtest)"
      ],
      "execution_count": null,
      "outputs": []
    },
    {
      "cell_type": "code",
      "metadata": {
        "colab": {
          "base_uri": "https://localhost:8080/",
          "height": 456
        },
        "id": "iYPk4dlDtoX0",
        "outputId": "1240f521-3530-49cf-9ac5-b7cd0f59ecba"
      },
      "source": [
        "# Final Evaluation\n",
        "print(accuracy_score(ytest,ypred))\n",
        "print(classification_report(ytest,ypred))\n",
        "cm=confusion_matrix(ytest,ypred)\n",
        "sns.heatmap(cm,annot=True)"
      ],
      "execution_count": null,
      "outputs": [
        {
          "output_type": "stream",
          "text": [
            "0.9640287769784173\n",
            "              precision    recall  f1-score   support\n",
            "\n",
            "           0       0.94      0.99      0.96       135\n",
            "           2       0.99      0.94      0.96       143\n",
            "\n",
            "    accuracy                           0.96       278\n",
            "   macro avg       0.96      0.96      0.96       278\n",
            "weighted avg       0.97      0.96      0.96       278\n",
            "\n"
          ],
          "name": "stdout"
        },
        {
          "output_type": "execute_result",
          "data": {
            "text/plain": [
              "<matplotlib.axes._subplots.AxesSubplot at 0x7f700009cf50>"
            ]
          },
          "metadata": {
            "tags": []
          },
          "execution_count": 33
        },
        {
          "output_type": "display_data",
          "data": {
            "image/png": "[encoded data removed]",
            "text/plain": [
              "<Figure size 432x288 with 2 Axes>"
            ]
          },
          "metadata": {
            "tags": [],
            "needs_background": "light"
          }
        }
      ]
    },
    {
      "cell_type": "markdown",
      "metadata": {
        "id": "Y7hjZzwZynaD"
      },
      "source": [
        "**Conclusion :** After oversampling and balancing the data, we get best accuracy."
      ]
    },
    {
      "cell_type": "code",
      "metadata": {
        "id": "sR3OtR2LtsrN"
      },
      "source": [
        ""
      ],
      "execution_count": null,
      "outputs": []
    }
  ]
}