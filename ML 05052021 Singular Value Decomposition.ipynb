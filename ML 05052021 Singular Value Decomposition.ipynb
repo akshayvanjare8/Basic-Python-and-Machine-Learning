{
 "cells": [
  {
   "cell_type": "markdown",
   "id": "7002a457",
   "metadata": {},
   "source": [
    "### By using Numpy"
   ]
  },
  {
   "cell_type": "code",
   "execution_count": 1,
   "id": "3b50e957",
   "metadata": {},
   "outputs": [],
   "source": [
    "# SVD using Numpy\n",
    "\n",
    "import numpy as np"
   ]
  },
  {
   "cell_type": "code",
   "execution_count": 2,
   "id": "73caf4d3",
   "metadata": {},
   "outputs": [
    {
     "data": {
      "text/plain": [
       "array([[2, 3, 4],\n",
       "       [1, 3, 5],\n",
       "       [5, 2, 3]])"
      ]
     },
     "execution_count": 2,
     "metadata": {},
     "output_type": "execute_result"
    }
   ],
   "source": [
    "A = np.array([[2,3,4],[1,3,5],[5,2,3]])\n",
    "A"
   ]
  },
  {
   "cell_type": "code",
   "execution_count": 3,
   "id": "e639edcc",
   "metadata": {},
   "outputs": [
    {
     "name": "stdout",
     "output_type": "stream",
     "text": [
      "Shape of U : (3, 3)\n",
      "[[-0.56007973 -0.20188704 -0.8034627 ]\n",
      " [-0.58531352 -0.5899184   0.55624128]\n",
      " [-0.58627534  0.78181705  0.21223413]]\n",
      "Shape of S : (3,)\n",
      "[9.52398371 3.3393669  0.37731013]\n",
      "Shape of Vt : (3, 3)\n",
      "[[-0.48686031 -0.48390785 -0.72718652]\n",
      " [ 0.87303757 -0.24309465 -0.42274152]\n",
      " [ 0.02779278 -0.84067722  0.54082287]]\n"
     ]
    }
   ],
   "source": [
    "# Getting U, S, Vt \n",
    "\n",
    "U,S,Vt = np.linalg.svd(A)\n",
    "\n",
    "print(\"Shape of U :\", U.shape)\n",
    "print(U)\n",
    "print(\"Shape of S :\", S.shape)\n",
    "print(S)\n",
    "print(\"Shape of Vt :\", Vt.shape)\n",
    "print(Vt)"
   ]
  },
  {
   "cell_type": "code",
   "execution_count": 4,
   "id": "c704a147",
   "metadata": {},
   "outputs": [
    {
     "data": {
      "text/plain": [
       "array([[9.52398371, 0.        , 0.        ],\n",
       "       [0.        , 3.3393669 , 0.        ],\n",
       "       [0.        , 0.        , 0.37731013]])"
      ]
     },
     "execution_count": 4,
     "metadata": {},
     "output_type": "execute_result"
    }
   ],
   "source": [
    "sigma = np.diag(S)\n",
    "sigma"
   ]
  },
  {
   "cell_type": "code",
   "execution_count": 5,
   "id": "459b7b8c",
   "metadata": {},
   "outputs": [
    {
     "data": {
      "text/plain": [
       "array([[-5.33419024, -0.6741749 , -0.30315462],\n",
       "       [-5.57451644, -1.96995399,  0.20987547],\n",
       "       [-5.58367681,  2.61077398,  0.08007809]])"
      ]
     },
     "execution_count": 5,
     "metadata": {},
     "output_type": "execute_result"
    }
   ],
   "source": [
    "# Transformation or Projection of Data\n",
    "\n",
    "T = U.dot(sigma)\n",
    "T = A.dot(Vt.T)\n",
    "T"
   ]
  },
  {
   "cell_type": "markdown",
   "id": "17fd4e85",
   "metadata": {},
   "source": [
    "### By using Scikit Learn"
   ]
  },
  {
   "cell_type": "code",
   "execution_count": 6,
   "id": "e44721da",
   "metadata": {},
   "outputs": [],
   "source": [
    "# SVD by using Scikit Learn \n",
    "\n",
    "from sklearn.decomposition import TruncatedSVD \n",
    "\n",
    "svd = TruncatedSVD()"
   ]
  },
  {
   "cell_type": "code",
   "execution_count": 7,
   "id": "32cf254f",
   "metadata": {},
   "outputs": [
    {
     "data": {
      "text/plain": [
       "TruncatedSVD()"
      ]
     },
     "execution_count": 7,
     "metadata": {},
     "output_type": "execute_result"
    }
   ],
   "source": [
    "svd.fit(A)"
   ]
  },
  {
   "cell_type": "code",
   "execution_count": 8,
   "id": "cdaed65c",
   "metadata": {},
   "outputs": [
    {
     "data": {
      "text/plain": [
       "array([[ 5.33419024, -0.6741749 ],\n",
       "       [ 5.57451644, -1.96995399],\n",
       "       [ 5.58367681,  2.61077398]])"
      ]
     },
     "execution_count": 8,
     "metadata": {},
     "output_type": "execute_result"
    }
   ],
   "source": [
    "T = svd.transform(A)\n",
    "T"
   ]
  },
  {
   "cell_type": "code",
   "execution_count": 9,
   "id": "92daef74",
   "metadata": {},
   "outputs": [
    {
     "data": {
      "text/plain": [
       "array([9.52398371, 3.3393669 ])"
      ]
     },
     "execution_count": 9,
     "metadata": {},
     "output_type": "execute_result"
    }
   ],
   "source": [
    "svd.singular_values_"
   ]
  },
  {
   "cell_type": "markdown",
   "id": "8b30ed9a",
   "metadata": {},
   "source": [
    "### By using Randomized SVD"
   ]
  },
  {
   "cell_type": "code",
   "execution_count": 10,
   "id": "afd0ecab",
   "metadata": {},
   "outputs": [],
   "source": [
    "# Randomised SVD \n",
    "\n",
    "from sklearn.utils.extmath import randomized_svd"
   ]
  },
  {
   "cell_type": "code",
   "execution_count": 11,
   "id": "4c8a9c44",
   "metadata": {},
   "outputs": [],
   "source": [
    "U, S, Vt = randomized_svd(A, n_components = 2)"
   ]
  },
  {
   "cell_type": "code",
   "execution_count": 12,
   "id": "f505f5a5",
   "metadata": {},
   "outputs": [
    {
     "name": "stdout",
     "output_type": "stream",
     "text": [
      "[[ 0.56007973 -0.20188704]\n",
      " [ 0.58531352 -0.5899184 ]\n",
      " [ 0.58627534  0.78181705]]\n"
     ]
    }
   ],
   "source": [
    "print(U)"
   ]
  },
  {
   "cell_type": "code",
   "execution_count": 13,
   "id": "8e0118ba",
   "metadata": {},
   "outputs": [
    {
     "name": "stdout",
     "output_type": "stream",
     "text": [
      "[9.52398371 3.3393669 ]\n"
     ]
    }
   ],
   "source": [
    "print(S)"
   ]
  },
  {
   "cell_type": "code",
   "execution_count": 14,
   "id": "910c6974",
   "metadata": {},
   "outputs": [
    {
     "name": "stdout",
     "output_type": "stream",
     "text": [
      "[[ 0.48686031  0.48390785  0.72718652]\n",
      " [ 0.87303757 -0.24309465 -0.42274152]]\n"
     ]
    }
   ],
   "source": [
    "print(Vt)"
   ]
  },
  {
   "cell_type": "markdown",
   "id": "bb28cd6f",
   "metadata": {},
   "source": [
    "# SVD on Diabetes Dataset"
   ]
  },
  {
   "cell_type": "code",
   "execution_count": 15,
   "id": "883dbc6d",
   "metadata": {},
   "outputs": [],
   "source": [
    "import pandas as pd \n",
    "import numpy as np \n",
    "import matplotlib.pyplot as plt \n",
    "%matplotlib inline \n",
    "import seaborn as sns "
   ]
  },
  {
   "cell_type": "code",
   "execution_count": 16,
   "id": "f929d9c5",
   "metadata": {},
   "outputs": [],
   "source": [
    "df = pd.read_csv(\"../DataSets/diabetes.csv\")"
   ]
  },
  {
   "cell_type": "code",
   "execution_count": 17,
   "id": "c02ffa17",
   "metadata": {},
   "outputs": [
    {
     "data": {
      "text/html": [
       "<div>\n",
       "<style scoped>\n",
       "    .dataframe tbody tr th:only-of-type {\n",
       "        vertical-align: middle;\n",
       "    }\n",
       "\n",
       "    .dataframe tbody tr th {\n",
       "        vertical-align: top;\n",
       "    }\n",
       "\n",
       "    .dataframe thead th {\n",
       "        text-align: right;\n",
       "    }\n",
       "</style>\n",
       "<table border=\"1\" class=\"dataframe\">\n",
       "  <thead>\n",
       "    <tr style=\"text-align: right;\">\n",
       "      <th></th>\n",
       "      <th>Pregnancies</th>\n",
       "      <th>Glucose</th>\n",
       "      <th>BloodPressure</th>\n",
       "      <th>SkinThickness</th>\n",
       "      <th>Insulin</th>\n",
       "      <th>BMI</th>\n",
       "      <th>DiabetesPedigreeFunction</th>\n",
       "      <th>Age</th>\n",
       "      <th>Outcome</th>\n",
       "    </tr>\n",
       "  </thead>\n",
       "  <tbody>\n",
       "    <tr>\n",
       "      <th>0</th>\n",
       "      <td>6</td>\n",
       "      <td>148</td>\n",
       "      <td>72</td>\n",
       "      <td>35</td>\n",
       "      <td>0</td>\n",
       "      <td>33.6</td>\n",
       "      <td>0.627</td>\n",
       "      <td>50</td>\n",
       "      <td>1</td>\n",
       "    </tr>\n",
       "    <tr>\n",
       "      <th>1</th>\n",
       "      <td>1</td>\n",
       "      <td>85</td>\n",
       "      <td>66</td>\n",
       "      <td>29</td>\n",
       "      <td>0</td>\n",
       "      <td>26.6</td>\n",
       "      <td>0.351</td>\n",
       "      <td>31</td>\n",
       "      <td>0</td>\n",
       "    </tr>\n",
       "    <tr>\n",
       "      <th>2</th>\n",
       "      <td>8</td>\n",
       "      <td>183</td>\n",
       "      <td>64</td>\n",
       "      <td>0</td>\n",
       "      <td>0</td>\n",
       "      <td>23.3</td>\n",
       "      <td>0.672</td>\n",
       "      <td>32</td>\n",
       "      <td>1</td>\n",
       "    </tr>\n",
       "    <tr>\n",
       "      <th>3</th>\n",
       "      <td>1</td>\n",
       "      <td>89</td>\n",
       "      <td>66</td>\n",
       "      <td>23</td>\n",
       "      <td>94</td>\n",
       "      <td>28.1</td>\n",
       "      <td>0.167</td>\n",
       "      <td>21</td>\n",
       "      <td>0</td>\n",
       "    </tr>\n",
       "    <tr>\n",
       "      <th>4</th>\n",
       "      <td>0</td>\n",
       "      <td>137</td>\n",
       "      <td>40</td>\n",
       "      <td>35</td>\n",
       "      <td>168</td>\n",
       "      <td>43.1</td>\n",
       "      <td>2.288</td>\n",
       "      <td>33</td>\n",
       "      <td>1</td>\n",
       "    </tr>\n",
       "  </tbody>\n",
       "</table>\n",
       "</div>"
      ],
      "text/plain": [
       "   Pregnancies  Glucose  BloodPressure  SkinThickness  Insulin   BMI  \\\n",
       "0            6      148             72             35        0  33.6   \n",
       "1            1       85             66             29        0  26.6   \n",
       "2            8      183             64              0        0  23.3   \n",
       "3            1       89             66             23       94  28.1   \n",
       "4            0      137             40             35      168  43.1   \n",
       "\n",
       "   DiabetesPedigreeFunction  Age  Outcome  \n",
       "0                     0.627   50        1  \n",
       "1                     0.351   31        0  \n",
       "2                     0.672   32        1  \n",
       "3                     0.167   21        0  \n",
       "4                     2.288   33        1  "
      ]
     },
     "execution_count": 17,
     "metadata": {},
     "output_type": "execute_result"
    }
   ],
   "source": [
    "df.head()"
   ]
  },
  {
   "cell_type": "code",
   "execution_count": 18,
   "id": "13e5d0ea",
   "metadata": {},
   "outputs": [],
   "source": [
    "x = df.drop(columns = [\"Outcome\"])\n",
    "y = df[\"Outcome\"]"
   ]
  },
  {
   "cell_type": "code",
   "execution_count": 19,
   "id": "e547a61a",
   "metadata": {},
   "outputs": [],
   "source": [
    "from sklearn.model_selection import train_test_split\n",
    "\n",
    "x_train, x_test, y_train, y_test = train_test_split(x, y, test_size = 0.2)\n"
   ]
  },
  {
   "cell_type": "code",
   "execution_count": 20,
   "id": "568e04bd",
   "metadata": {},
   "outputs": [],
   "source": [
    "from sklearn.preprocessing import StandardScaler\n",
    "sc = StandardScaler()\n",
    "\n",
    "sc_x_train = sc.fit_transform(x_train)\n",
    "\n",
    "sc_x_test = sc.fit_transform(x_test)"
   ]
  },
  {
   "cell_type": "code",
   "execution_count": 21,
   "id": "58e86104",
   "metadata": {},
   "outputs": [
    {
     "name": "stdout",
     "output_type": "stream",
     "text": [
      "Accuracy is : 0.7792207792207793\n",
      "              precision    recall  f1-score   support\n",
      "\n",
      "           0       0.75      0.93      0.83        90\n",
      "           1       0.86      0.56      0.68        64\n",
      "\n",
      "    accuracy                           0.78       154\n",
      "   macro avg       0.80      0.75      0.76       154\n",
      "weighted avg       0.79      0.78      0.77       154\n",
      "\n"
     ]
    }
   ],
   "source": [
    "from sklearn.linear_model import LogisticRegression\n",
    "model = LogisticRegression()\n",
    "\n",
    "model.fit(sc_x_train,y_train)\n",
    "y_pred = model.predict(sc_x_test)\n",
    "\n",
    "from sklearn.metrics import accuracy_score, classification_report\n",
    "print(\"Accuracy is :\",accuracy_score(y_test,y_pred)) # Logistic Accuracy with Scaled Data\n",
    "print(classification_report(y_test,y_pred))\n"
   ]
  },
  {
   "cell_type": "code",
   "execution_count": 22,
   "id": "959c2a6a",
   "metadata": {},
   "outputs": [],
   "source": [
    "from sklearn.decomposition import TruncatedSVD \n",
    "\n",
    "svd = TruncatedSVD() \n",
    "\n",
    "s_xtrain = svd.fit_transform(sc_x_train)\n",
    "s_xtest = svd.fit_transform(sc_x_test)\n"
   ]
  },
  {
   "cell_type": "code",
   "execution_count": 23,
   "id": "de03165b",
   "metadata": {},
   "outputs": [
    {
     "name": "stdout",
     "output_type": "stream",
     "text": [
      "Accuracy is : 0.4675324675324675\n",
      "              precision    recall  f1-score   support\n",
      "\n",
      "           0       0.53      0.69      0.60        90\n",
      "           1       0.26      0.16      0.20        64\n",
      "\n",
      "    accuracy                           0.47       154\n",
      "   macro avg       0.40      0.42      0.40       154\n",
      "weighted avg       0.42      0.47      0.43       154\n",
      "\n"
     ]
    }
   ],
   "source": [
    "model = LogisticRegression()\n",
    "\n",
    "model.fit(s_xtrain,y_train)\n",
    "\n",
    "y_pred = model.predict(s_xtest)\n",
    "\n",
    "from sklearn.metrics import accuracy_score, classification_report\n",
    "\n",
    "print(\"Accuracy is :\",accuracy_score(y_test,y_pred)) # Logistic Accuracy with SVD \n",
    "print(classification_report(y_test,y_pred))"
   ]
  },
  {
   "cell_type": "code",
   "execution_count": 24,
   "id": "c98a3b41",
   "metadata": {},
   "outputs": [
    {
     "name": "stdout",
     "output_type": "stream",
     "text": [
      "Accuracy is : 0.7012987012987013\n",
      "              precision    recall  f1-score   support\n",
      "\n",
      "           0       0.68      0.92      0.78        90\n",
      "           1       0.78      0.39      0.52        64\n",
      "\n",
      "    accuracy                           0.70       154\n",
      "   macro avg       0.73      0.66      0.65       154\n",
      "weighted avg       0.72      0.70      0.67       154\n",
      "\n"
     ]
    }
   ],
   "source": [
    "s_xtrain = svd.fit_transform(x_train)\n",
    "s_xtest = svd.fit_transform(x_test)\n",
    "model = LogisticRegression()\n",
    "model.fit(s_xtrain,y_train)\n",
    "y_pred = model.predict(s_xtest)\n",
    "from sklearn.metrics import accuracy_score, classification_report\n",
    "print(\"Accuracy is :\",accuracy_score(y_test,y_pred))\n",
    "print(classification_report(y_test,y_pred))\n"
   ]
  },
  {
   "cell_type": "code",
   "execution_count": 25,
   "id": "58c84256",
   "metadata": {},
   "outputs": [
    {
     "name": "stdout",
     "output_type": "stream",
     "text": [
      "for no. of component  1  ,Accuracy is =>  0.7142857142857143\n",
      "for no. of component  2  ,Accuracy is =>  0.7597402597402597\n",
      "for no. of component  3  ,Accuracy is =>  0.7727272727272727\n",
      "for no. of component  4  ,Accuracy is =>  0.7402597402597403\n",
      "for no. of component  5  ,Accuracy is =>  0.7597402597402597\n",
      "for no. of component  6  ,Accuracy is =>  0.7792207792207793\n",
      "for no. of component  7  ,Accuracy is =>  0.7987012987012987\n"
     ]
    }
   ],
   "source": [
    "comps=list(range(1,8))\n",
    "xtrain,xtest,ytrain,ytest=train_test_split(x,y,test_size=0.2,random_state=0)\n",
    "for i in comps:\n",
    "    svd=TruncatedSVD(n_components=i)\n",
    "    sxtrain= svd.fit_transform(xtrain)\n",
    "    sxtest= svd.fit_transform(xtest)\n",
    "    model=LogisticRegression()\n",
    "    model.fit(sxtrain,ytrain)\n",
    "    ypred=model.predict(sxtest)\n",
    "    print(\"for no. of component \",i,\" ,Accuracy is => \",accuracy_score(ytest,ypred))"
   ]
  },
  {
   "cell_type": "code",
   "execution_count": null,
   "id": "8f8c3625",
   "metadata": {},
   "outputs": [],
   "source": []
  }
 ],
 "metadata": {
  "kernelspec": {
   "display_name": "Python 3",
   "language": "python",
   "name": "python3"
  },
  "language_info": {
   "codemirror_mode": {
    "name": "ipython",
    "version": 3
   },
   "file_extension": ".py",
   "mimetype": "text/x-python",
   "name": "python",
   "nbconvert_exporter": "python",
   "pygments_lexer": "ipython3",
   "version": "3.8.3"
  }
 },
 "nbformat": 4,
 "nbformat_minor": 5
}
