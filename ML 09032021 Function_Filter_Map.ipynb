{
 "cells": [
  {
   "cell_type": "markdown",
   "metadata": {},
   "source": [
    "# Function ..... to be continued"
   ]
  },
  {
   "cell_type": "code",
   "execution_count": 1,
   "metadata": {},
   "outputs": [
    {
     "name": "stdout",
     "output_type": "stream",
     "text": [
      "13\n"
     ]
    }
   ],
   "source": [
    "def add():\n",
    "    a=8\n",
    "    b=5\n",
    "    print(a+b)\n",
    "add()"
   ]
  },
  {
   "cell_type": "markdown",
   "metadata": {},
   "source": [
    "### Function with Parentheses"
   ]
  },
  {
   "cell_type": "code",
   "execution_count": 2,
   "metadata": {},
   "outputs": [
    {
     "name": "stdout",
     "output_type": "stream",
     "text": [
      "15\n",
      "189\n",
      "143\n"
     ]
    }
   ],
   "source": [
    "def add(a,b):\n",
    "    c=a+b\n",
    "    print(c)\n",
    "    \n",
    "add(5,10)\n",
    "\n",
    "add(90,99)\n",
    "\n",
    "add(76,67)"
   ]
  },
  {
   "cell_type": "code",
   "execution_count": 3,
   "metadata": {},
   "outputs": [
    {
     "name": "stdout",
     "output_type": "stream",
     "text": [
      "5\n",
      "0\n",
      "5\n",
      "10\n"
     ]
    }
   ],
   "source": [
    "def add(a=0,b=0):\n",
    "    c=a+b\n",
    "    print(c)\n",
    "    \n",
    "add(2,3)\n",
    "add()\n",
    "add(5,)\n",
    "add(10)"
   ]
  },
  {
   "cell_type": "markdown",
   "metadata": {},
   "source": [
    "### Function with return statement"
   ]
  },
  {
   "cell_type": "code",
   "execution_count": 4,
   "metadata": {},
   "outputs": [
    {
     "name": "stdout",
     "output_type": "stream",
     "text": [
      "11\n",
      "11\n"
     ]
    }
   ],
   "source": [
    "def add(a,b):\n",
    "    c=a+b\n",
    "    return c\n",
    "c=add(5,6)\n",
    "print(c)\n",
    "\n",
    "print(add(5,6))"
   ]
  },
  {
   "cell_type": "code",
   "execution_count": 5,
   "metadata": {},
   "outputs": [
    {
     "name": "stdout",
     "output_type": "stream",
     "text": [
      "4 5 9\n",
      "(4, 5, 9)\n"
     ]
    }
   ],
   "source": [
    "#return multiple values\n",
    "\n",
    "def add(a,b):\n",
    "    c=a+b\n",
    "    return a,b,c\n",
    "num1,num2,res=add(4,5)\n",
    "\n",
    "print(num1,num2,res)\n",
    "\n",
    "res=add(4,5)\n",
    "\n",
    "print(res)"
   ]
  },
  {
   "cell_type": "code",
   "execution_count": 6,
   "metadata": {},
   "outputs": [],
   "source": [
    "#Calculator Code with Function\n",
    "\n",
    "def add(a,b):\n",
    "    c=a+b\n",
    "    return c\n",
    "def sub(a,b):\n",
    "    c=a-b\n",
    "    return c\n",
    "def mul(a,b):\n",
    "    c=a*b\n",
    "    return c\n",
    "def div(a,b):\n",
    "    c=a/b\n",
    "    return c"
   ]
  },
  {
   "cell_type": "code",
   "execution_count": 7,
   "metadata": {
    "scrolled": false
   },
   "outputs": [
    {
     "name": "stdout",
     "output_type": "stream",
     "text": [
      "enter a number: 75\n",
      "enter a number: 65\n",
      "1.Addition 2.Substraction 3.Multiplication 4.Division\n",
      "enter your choice: 1\n",
      "140\n",
      "1.Addition 2.Substraction 3.Multiplication 4.Division\n",
      "enter your choice: 2\n",
      "10\n",
      "1.Addition 2.Substraction 3.Multiplication 4.Division\n",
      "enter your choice: 3\n",
      "4875\n",
      "1.Addition 2.Substraction 3.Multiplication 4.Division\n",
      "enter your choice: 4\n",
      "1.1538461538461537\n",
      "1.Addition 2.Substraction 3.Multiplication 4.Division\n",
      "enter your choice: 5\n",
      ".... Invalid Choice....\n"
     ]
    }
   ],
   "source": [
    "a = int(input (\"enter a number: \"))\n",
    "b = int(input (\"enter a number: \"))\n",
    "ch=0\n",
    "while (ch<5):\n",
    "    print (\"1.Addition 2.Substraction 3.Multiplication 4.Division\")\n",
    "    ch=int(input(\"enter your choice: \"))\n",
    "    if(ch==1):\n",
    "        print(add(a,b))\n",
    "    elif(ch==2):\n",
    "        print (sub(a,b))\n",
    "    elif(ch==3):\n",
    "        print (mul(a,b))\n",
    "    elif(ch==4 and b!=0):\n",
    "        #here we may get zero division error when we get zero \n",
    "        if (b==0):\n",
    "            print (\"can't devide by zero\")\n",
    "        else:\n",
    "            print(div(a,b))\n",
    "    else:\n",
    "        print (\".... Invalid Choice....\")"
   ]
  },
  {
   "cell_type": "code",
   "execution_count": 8,
   "metadata": {},
   "outputs": [
    {
     "name": "stdout",
     "output_type": "stream",
     "text": [
      "Hii\n",
      "(1, 2, 3, 4, 5, 6, 7, 8, 9, 10)\n",
      "<class 'tuple'>\n",
      "1\n",
      "2\n",
      "3\n",
      "4\n",
      "5\n",
      "6\n",
      "7\n",
      "8\n",
      "9\n",
      "10\n"
     ]
    }
   ],
   "source": [
    "### Function with multiple arguments\n",
    "\n",
    "\n",
    "def my_fun(*arg): #write anything in arg\n",
    "    print(\"Hii\")\n",
    "    print (arg)\n",
    "    print(type(arg))\n",
    "    for i in arg:\n",
    "        print(i)\n",
    "    \n",
    "my_fun(1,2,3,4,5,6,7,8,9,10)"
   ]
  },
  {
   "cell_type": "markdown",
   "metadata": {},
   "source": [
    "### Function with Keyword arguments"
   ]
  },
  {
   "cell_type": "code",
   "execution_count": 9,
   "metadata": {},
   "outputs": [
    {
     "name": "stdout",
     "output_type": "stream",
     "text": [
      "Jae\n",
      "{'name': 'Jae', 'marks': 90, 'roll': 1}\n",
      "<class 'dict'>\n",
      "90\n",
      "1\n"
     ]
    }
   ],
   "source": [
    "def myfun(**kwargs): #enter the anything with place of kwargs\n",
    "    print(kwargs[\"name\"])\n",
    "    print(kwargs)\n",
    "    print(type(kwargs))\n",
    "    print(kwargs[\"marks\"])\n",
    "    print(kwargs[\"roll\"])\n",
    "    \n",
    "\n",
    "myfun(name=\"Jae\",marks=90,roll=1)"
   ]
  },
  {
   "cell_type": "code",
   "execution_count": 10,
   "metadata": {},
   "outputs": [
    {
     "name": "stdout",
     "output_type": "stream",
     "text": [
      "8 is minimum & 88 is maximun\n"
     ]
    }
   ],
   "source": [
    "#1 maximum minimum\n",
    "\n",
    "list=[23,57,56,75,48,15,88,45,18,48,47,84,54,8]\n",
    "\n",
    "def minmax(list):\n",
    "    high=list[0]\n",
    "    low=list[0]\n",
    "    for i in list:\n",
    "        if i>high:\n",
    "            high=i\n",
    "    for i in list:\n",
    "        if i<low:\n",
    "            low=i\n",
    "    return low, high\n",
    "\n",
    "minimum, maximum=minmax(list)\n",
    "print(minimum, \"is minimum\", \"&\", maximum, \"is maximun\")"
   ]
  },
  {
   "cell_type": "code",
   "execution_count": 11,
   "metadata": {},
   "outputs": [
    {
     "name": "stdout",
     "output_type": "stream",
     "text": [
      "(8, 88)\n"
     ]
    }
   ],
   "source": [
    "#mam ans\n",
    "\n",
    "def getminmax(list):\n",
    "    high=list[0]\n",
    "    low=list[0]\n",
    "    for i in list:\n",
    "        if i>high:\n",
    "            high=i\n",
    "        if i<low:\n",
    "            low=i\n",
    "    return low,high\n",
    "\n",
    "print(getminmax(list))"
   ]
  },
  {
   "cell_type": "code",
   "execution_count": 12,
   "metadata": {},
   "outputs": [
    {
     "name": "stdout",
     "output_type": "stream",
     "text": [
      "23 is odd\n",
      "57 is odd\n",
      "56 is even\n",
      "75 is odd\n",
      "48 is even\n",
      "15 is odd\n",
      "88 is even\n",
      "45 is odd\n",
      "18 is even\n",
      "48 is even\n",
      "47 is odd\n",
      "84 is even\n",
      "54 is even\n",
      "8 is even\n"
     ]
    }
   ],
   "source": [
    "#2 odd even\n",
    "\n",
    "list=[23,57,56,75,48,15,88,45,18,48,47,84,54,8]\n",
    "\n",
    "def oddeven(list):\n",
    "    \n",
    "    for i in list:\n",
    "        if i%2==0:\n",
    "            print(i, \"is even\")\n",
    "        else:\n",
    "            print(i, \"is odd\")\n",
    "\n",
    "oddeven(list)"
   ]
  },
  {
   "cell_type": "code",
   "execution_count": 13,
   "metadata": {},
   "outputs": [
    {
     "name": "stdout",
     "output_type": "stream",
     "text": [
      "Enter the number75\n",
      "odd\n"
     ]
    }
   ],
   "source": [
    "#mam answer\n",
    "\n",
    "a=int(input('Enter the number'))\n",
    "\n",
    "def evenodd(a):\n",
    "    if(a%2==0):\n",
    "        return \"even\"\n",
    "    else:\n",
    "        return \"odd\"\n",
    "print(evenodd(a))"
   ]
  },
  {
   "cell_type": "code",
   "execution_count": 14,
   "metadata": {},
   "outputs": [
    {
     "name": "stdout",
     "output_type": "stream",
     "text": [
      "Enter the String: AKSHAY\n",
      "Not Palindrome\n"
     ]
    }
   ],
   "source": [
    "#3 palindrome (eg. NITIN/NITIN)\n",
    "\n",
    "st=input(\"Enter the String: \")\n",
    "def Palindrome(st):\n",
    "    if st==st[: :-1]:\n",
    "        return \"Palindrome\"\n",
    "    else:\n",
    "        return \"Not Palindrome\"\n",
    "\n",
    "print(Palindrome(st))"
   ]
  },
  {
   "cell_type": "markdown",
   "metadata": {},
   "source": [
    "### Anonymous Function"
   ]
  },
  {
   "cell_type": "code",
   "execution_count": 15,
   "metadata": {},
   "outputs": [
    {
     "name": "stdout",
     "output_type": "stream",
     "text": [
      "11\n"
     ]
    }
   ],
   "source": [
    "#syntex\n",
    "#lambda args : expression\n",
    "\n",
    "x=lambda a,b:a+b\n",
    "print(x(5,6))"
   ]
  },
  {
   "cell_type": "code",
   "execution_count": 16,
   "metadata": {},
   "outputs": [
    {
     "name": "stdout",
     "output_type": "stream",
     "text": [
      "4\n"
     ]
    }
   ],
   "source": [
    "y=lambda a:a**2\n",
    "print(y(2))"
   ]
  },
  {
   "cell_type": "markdown",
   "metadata": {},
   "source": [
    "# Filter"
   ]
  },
  {
   "cell_type": "code",
   "execution_count": null,
   "metadata": {
    "scrolled": true
   },
   "outputs": [],
   "source": [
    "#function,list\n",
    "\n",
    "res=list(filter(lambda a:a%2==0,[1,2,3,4,5,6,7,8,9,10]))\n",
    "print(res) #code is correct"
   ]
  },
  {
   "cell_type": "code",
   "execution_count": null,
   "metadata": {},
   "outputs": [],
   "source": [
    "def check(a):\n",
    "    if a%2==0:\n",
    "        return True\n",
    "    else:\n",
    "        return False\n",
    "\n",
    "res=list(filter(check,[1,2,3,4,5,6,7,8]))\n",
    "print(res) #code is correct"
   ]
  },
  {
   "cell_type": "markdown",
   "metadata": {},
   "source": [
    "# Map"
   ]
  },
  {
   "cell_type": "code",
   "execution_count": null,
   "metadata": {},
   "outputs": [],
   "source": [
    "#function,list\n",
    "\n",
    "\n",
    "res=list(map(lambda a:a*a, [1,2,3,4,5,6,7,8]))\n",
    "print(res) #code is correct"
   ]
  }
 ],
 "metadata": {
  "kernelspec": {
   "display_name": "Python 3",
   "language": "python",
   "name": "python3"
  },
  "language_info": {
   "codemirror_mode": {
    "name": "ipython",
    "version": 3
   },
   "file_extension": ".py",
   "mimetype": "text/x-python",
   "name": "python",
   "nbconvert_exporter": "python",
   "pygments_lexer": "ipython3",
   "version": "3.7.3"
  }
 },
 "nbformat": 4,
 "nbformat_minor": 2
}
