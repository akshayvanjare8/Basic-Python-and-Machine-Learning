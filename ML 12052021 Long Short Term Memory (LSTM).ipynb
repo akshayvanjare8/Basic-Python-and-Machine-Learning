{
 "cells": [
  {
   "cell_type": "markdown",
   "id": "a2fd23c9",
   "metadata": {
    "id": "a2fd23c9"
   },
   "source": [
    "# Normal LSTM "
   ]
  },
  {
   "cell_type": "code",
   "execution_count": null,
   "id": "559467c8",
   "metadata": {
    "id": "559467c8"
   },
   "outputs": [],
   "source": [
    "import pandas as pd \n",
    "import numpy as np \n",
    "import matplotlib.pyplot as plt \n",
    "%matplotlib inline \n",
    "import seaborn as sns"
   ]
  },
  {
   "cell_type": "code",
   "execution_count": null,
   "id": "5ce00827",
   "metadata": {
    "id": "5ce00827"
   },
   "outputs": [],
   "source": [
    "data = [1,2,3,4,5,6,7,8,9] \n",
    "n_steps = 3"
   ]
  },
  {
   "cell_type": "code",
   "execution_count": null,
   "id": "2921608e",
   "metadata": {
    "id": "2921608e"
   },
   "outputs": [],
   "source": [
    "x = [] \n",
    "y = [] \n",
    "for i in range(n_steps, len(data)):\n",
    "    x.append(data[i-n_steps:i])\n",
    "    y.append(data[i])"
   ]
  },
  {
   "cell_type": "code",
   "execution_count": null,
   "id": "7fdb40e6",
   "metadata": {
    "id": "7fdb40e6"
   },
   "outputs": [],
   "source": [
    "x, y = np.array(x), np.array(y)"
   ]
  },
  {
   "cell_type": "code",
   "execution_count": null,
   "id": "d8026598",
   "metadata": {
    "colab": {
     "base_uri": "https://localhost:8080/"
    },
    "id": "d8026598",
    "outputId": "8093cf9f-1056-4fda-d146-e8f99c9b1306"
   },
   "outputs": [
    {
     "data": {
      "text/plain": [
       "((6, 3), (6,))"
      ]
     },
     "execution_count": 5,
     "metadata": {
      "tags": []
     },
     "output_type": "execute_result"
    }
   ],
   "source": [
    "x.shape, y.shape"
   ]
  },
  {
   "cell_type": "code",
   "execution_count": null,
   "id": "bb462d0f",
   "metadata": {
    "colab": {
     "base_uri": "https://localhost:8080/"
    },
    "id": "bb462d0f",
    "outputId": "67fe5497-964f-4b3d-9626-9d2c9fc4fe87"
   },
   "outputs": [
    {
     "data": {
      "text/plain": [
       "(6, 3, 1)"
      ]
     },
     "execution_count": 6,
     "metadata": {
      "tags": []
     },
     "output_type": "execute_result"
    }
   ],
   "source": [
    "# [rows, steps, feature] -> [6,3,1] \n",
    "x = x.reshape(x.shape[0], x.shape[1], 1) \n",
    "x.shape"
   ]
  },
  {
   "cell_type": "code",
   "execution_count": null,
   "id": "8247564f",
   "metadata": {
    "id": "8247564f"
   },
   "outputs": [],
   "source": [
    "# pip install keras"
   ]
  },
  {
   "cell_type": "code",
   "execution_count": null,
   "id": "57db6bcf",
   "metadata": {
    "colab": {
     "base_uri": "https://localhost:8080/"
    },
    "id": "57db6bcf",
    "outputId": "3d09ee78-2151-451a-95da-d2911d30c1ff"
   },
   "outputs": [
    {
     "name": "stdout",
     "output_type": "stream",
     "text": [
      "Requirement already satisfied: tensorflow in /usr/local/lib/python3.7/dist-packages (2.4.1)\n",
      "Requirement already satisfied: typing-extensions~=3.7.4 in /usr/local/lib/python3.7/dist-packages (from tensorflow) (3.7.4.3)\n",
      "Requirement already satisfied: h5py~=2.10.0 in /usr/local/lib/python3.7/dist-packages (from tensorflow) (2.10.0)\n",
      "Requirement already satisfied: gast==0.3.3 in /usr/local/lib/python3.7/dist-packages (from tensorflow) (0.3.3)\n",
      "Requirement already satisfied: tensorboard~=2.4 in /usr/local/lib/python3.7/dist-packages (from tensorflow) (2.4.1)\n",
      "Requirement already satisfied: absl-py~=0.10 in /usr/local/lib/python3.7/dist-packages (from tensorflow) (0.12.0)\n",
      "Requirement already satisfied: protobuf>=3.9.2 in /usr/local/lib/python3.7/dist-packages (from tensorflow) (3.12.4)\n",
      "Requirement already satisfied: keras-preprocessing~=1.1.2 in /usr/local/lib/python3.7/dist-packages (from tensorflow) (1.1.2)\n",
      "Requirement already satisfied: termcolor~=1.1.0 in /usr/local/lib/python3.7/dist-packages (from tensorflow) (1.1.0)\n",
      "Requirement already satisfied: astunparse~=1.6.3 in /usr/local/lib/python3.7/dist-packages (from tensorflow) (1.6.3)\n",
      "Requirement already satisfied: google-pasta~=0.2 in /usr/local/lib/python3.7/dist-packages (from tensorflow) (0.2.0)\n",
      "Requirement already satisfied: opt-einsum~=3.3.0 in /usr/local/lib/python3.7/dist-packages (from tensorflow) (3.3.0)\n",
      "Requirement already satisfied: wheel~=0.35 in /usr/local/lib/python3.7/dist-packages (from tensorflow) (0.36.2)\n",
      "Requirement already satisfied: numpy~=1.19.2 in /usr/local/lib/python3.7/dist-packages (from tensorflow) (1.19.5)\n",
      "Requirement already satisfied: wrapt~=1.12.1 in /usr/local/lib/python3.7/dist-packages (from tensorflow) (1.12.1)\n",
      "Requirement already satisfied: tensorflow-estimator<2.5.0,>=2.4.0 in /usr/local/lib/python3.7/dist-packages (from tensorflow) (2.4.0)\n",
      "Requirement already satisfied: flatbuffers~=1.12.0 in /usr/local/lib/python3.7/dist-packages (from tensorflow) (1.12)\n",
      "Requirement already satisfied: grpcio~=1.32.0 in /usr/local/lib/python3.7/dist-packages (from tensorflow) (1.32.0)\n",
      "Requirement already satisfied: six~=1.15.0 in /usr/local/lib/python3.7/dist-packages (from tensorflow) (1.15.0)\n",
      "Requirement already satisfied: werkzeug>=0.11.15 in /usr/local/lib/python3.7/dist-packages (from tensorboard~=2.4->tensorflow) (1.0.1)\n",
      "Requirement already satisfied: requests<3,>=2.21.0 in /usr/local/lib/python3.7/dist-packages (from tensorboard~=2.4->tensorflow) (2.23.0)\n",
      "Requirement already satisfied: setuptools>=41.0.0 in /usr/local/lib/python3.7/dist-packages (from tensorboard~=2.4->tensorflow) (56.1.0)\n",
      "Requirement already satisfied: markdown>=2.6.8 in /usr/local/lib/python3.7/dist-packages (from tensorboard~=2.4->tensorflow) (3.3.4)\n",
      "Requirement already satisfied: google-auth-oauthlib<0.5,>=0.4.1 in /usr/local/lib/python3.7/dist-packages (from tensorboard~=2.4->tensorflow) (0.4.4)\n",
      "Requirement already satisfied: tensorboard-plugin-wit>=1.6.0 in /usr/local/lib/python3.7/dist-packages (from tensorboard~=2.4->tensorflow) (1.8.0)\n",
      "Requirement already satisfied: google-auth<2,>=1.6.3 in /usr/local/lib/python3.7/dist-packages (from tensorboard~=2.4->tensorflow) (1.28.1)\n",
      "Requirement already satisfied: idna<3,>=2.5 in /usr/local/lib/python3.7/dist-packages (from requests<3,>=2.21.0->tensorboard~=2.4->tensorflow) (2.10)\n",
      "Requirement already satisfied: chardet<4,>=3.0.2 in /usr/local/lib/python3.7/dist-packages (from requests<3,>=2.21.0->tensorboard~=2.4->tensorflow) (3.0.4)\n",
      "Requirement already satisfied: urllib3!=1.25.0,!=1.25.1,<1.26,>=1.21.1 in /usr/local/lib/python3.7/dist-packages (from requests<3,>=2.21.0->tensorboard~=2.4->tensorflow) (1.24.3)\n",
      "Requirement already satisfied: certifi>=2017.4.17 in /usr/local/lib/python3.7/dist-packages (from requests<3,>=2.21.0->tensorboard~=2.4->tensorflow) (2020.12.5)\n",
      "Requirement already satisfied: importlib-metadata; python_version < \"3.8\" in /usr/local/lib/python3.7/dist-packages (from markdown>=2.6.8->tensorboard~=2.4->tensorflow) (3.10.1)\n",
      "Requirement already satisfied: requests-oauthlib>=0.7.0 in /usr/local/lib/python3.7/dist-packages (from google-auth-oauthlib<0.5,>=0.4.1->tensorboard~=2.4->tensorflow) (1.3.0)\n",
      "Requirement already satisfied: pyasn1-modules>=0.2.1 in /usr/local/lib/python3.7/dist-packages (from google-auth<2,>=1.6.3->tensorboard~=2.4->tensorflow) (0.2.8)\n",
      "Requirement already satisfied: cachetools<5.0,>=2.0.0 in /usr/local/lib/python3.7/dist-packages (from google-auth<2,>=1.6.3->tensorboard~=2.4->tensorflow) (4.2.1)\n",
      "Requirement already satisfied: rsa<5,>=3.1.4; python_version >= \"3.6\" in /usr/local/lib/python3.7/dist-packages (from google-auth<2,>=1.6.3->tensorboard~=2.4->tensorflow) (4.7.2)\n",
      "Requirement already satisfied: zipp>=0.5 in /usr/local/lib/python3.7/dist-packages (from importlib-metadata; python_version < \"3.8\"->markdown>=2.6.8->tensorboard~=2.4->tensorflow) (3.4.1)\n",
      "Requirement already satisfied: oauthlib>=3.0.0 in /usr/local/lib/python3.7/dist-packages (from requests-oauthlib>=0.7.0->google-auth-oauthlib<0.5,>=0.4.1->tensorboard~=2.4->tensorflow) (3.1.0)\n",
      "Requirement already satisfied: pyasn1<0.5.0,>=0.4.6 in /usr/local/lib/python3.7/dist-packages (from pyasn1-modules>=0.2.1->google-auth<2,>=1.6.3->tensorboard~=2.4->tensorflow) (0.4.8)\n"
     ]
    }
   ],
   "source": [
    "# pip install tensorflow"
   ]
  },
  {
   "cell_type": "code",
   "execution_count": null,
   "id": "169f8030",
   "metadata": {
    "colab": {
     "base_uri": "https://localhost:8080/"
    },
    "id": "169f8030",
    "outputId": "4d69f5b6-b839-4eab-a819-9148ab05aab2"
   },
   "outputs": [
    {
     "name": "stdout",
     "output_type": "stream",
     "text": [
      "Model: \"sequential_1\"\n",
      "_________________________________________________________________\n",
      "Layer (type)                 Output Shape              Param #   \n",
      "=================================================================\n",
      "lstm (LSTM)                  (None, 50)                10400     \n",
      "_________________________________________________________________\n",
      "dense (Dense)                (None, 1)                 51        \n",
      "=================================================================\n",
      "Total params: 10,451\n",
      "Trainable params: 10,451\n",
      "Non-trainable params: 0\n",
      "_________________________________________________________________\n"
     ]
    }
   ],
   "source": [
    "from keras.models import Sequential \n",
    "from keras.layers import LSTM, Dense \n",
    " \n",
    "model = Sequential() \n",
    " \n",
    "model.add(LSTM(50, activation = 'relu', input_shape = (n_steps, 1))) \n",
    " \n",
    "model.add(Dense(1)) \n",
    " \n",
    "model.compile(loss = 'mean_squared_error' , optimizer = 'adam') \n",
    " \n",
    "model.summary()"
   ]
  },
  {
   "cell_type": "code",
   "execution_count": null,
   "id": "636157f0",
   "metadata": {
    "id": "636157f0"
   },
   "outputs": [],
   "source": [
    "history = model.fit(x, y, epochs = 300, batch_size = 2, verbose = 0)"
   ]
  },
  {
   "cell_type": "code",
   "execution_count": null,
   "id": "1b4b6468",
   "metadata": {
    "colab": {
     "base_uri": "https://localhost:8080/",
     "height": 222
    },
    "id": "1b4b6468",
    "outputId": "b911d30f-97b8-4f59-f35a-56cf258d461f"
   },
   "outputs": [
    {
     "data": {
      "image/png": "[encoded data removed]",
      "text/plain": [
       "<Figure size 432x288 with 1 Axes>"
      ]
     },
     "metadata": {
      "needs_background": "light",
      "tags": []
     },
     "output_type": "display_data"
    }
   ],
   "source": [
    "plt.plot(history.history[\"loss\"]) \n",
    "plt.show()"
   ]
  },
  {
   "cell_type": "code",
   "execution_count": null,
   "id": "3e7c7142",
   "metadata": {
    "id": "3e7c7142"
   },
   "outputs": [],
   "source": [
    "test = np.array([7, 8, 9]) \n",
    "\n",
    "test = test.reshape((1, n_steps, 1))"
   ]
  },
  {
   "cell_type": "code",
   "execution_count": null,
   "id": "bc75f82c",
   "metadata": {
    "colab": {
     "base_uri": "https://localhost:8080/"
    },
    "id": "bc75f82c",
    "outputId": "38fd6da8-fd89-45c0-d43f-1a6b93d80cf4"
   },
   "outputs": [
    {
     "data": {
      "text/plain": [
       "array([[9.653919]], dtype=float32)"
      ]
     },
     "execution_count": 18,
     "metadata": {
      "tags": []
     },
     "output_type": "execute_result"
    }
   ],
   "source": [
    "output = model.predict(test) \n",
    "output"
   ]
  },
  {
   "cell_type": "markdown",
   "id": "f8d5140d",
   "metadata": {
    "id": "f8d5140d"
   },
   "source": [
    "# Stacked **LSTM**"
   ]
  },
  {
   "cell_type": "code",
   "execution_count": null,
   "id": "85220818",
   "metadata": {
    "colab": {
     "base_uri": "https://localhost:8080/"
    },
    "id": "85220818",
    "outputId": "a0c3dcdd-4d50-410d-e298-4fc65aba1e2f"
   },
   "outputs": [
    {
     "name": "stdout",
     "output_type": "stream",
     "text": [
      "Model: \"sequential_5\"\n",
      "_________________________________________________________________\n",
      "Layer (type)                 Output Shape              Param #   \n",
      "=================================================================\n",
      "lstm_1 (LSTM)                (None, 3, 50)             10400     \n",
      "_________________________________________________________________\n",
      "dense_1 (Dense)              (None, 3, 1)              51        \n",
      "=================================================================\n",
      "Total params: 10,451\n",
      "Trainable params: 10,451\n",
      "Non-trainable params: 0\n",
      "_________________________________________________________________\n"
     ]
    }
   ],
   "source": [
    "from keras.models import Sequential \n",
    "from keras.layers import LSTM, Dense \n",
    " \n",
    "model = Sequential() \n",
    " \n",
    "model.add(LSTM(50, activation = 'relu', return_sequences = True, input_shape = (n_steps, 1))) \n",
    " \n",
    "model.add(Dense(1)) \n",
    " \n",
    "model.compile(loss = 'mean_squared_error' , optimizer = 'adam') \n",
    " \n",
    "model.summary()"
   ]
  },
  {
   "cell_type": "code",
   "execution_count": null,
   "id": "a289329d",
   "metadata": {
    "id": "a289329d"
   },
   "outputs": [],
   "source": [
    "history = model.fit(x, y, epochs = 100, batch_size = 2, verbose = 0)"
   ]
  },
  {
   "cell_type": "code",
   "execution_count": null,
   "id": "e379f0f6",
   "metadata": {
    "colab": {
     "base_uri": "https://localhost:8080/",
     "height": 222
    },
    "id": "e379f0f6",
    "outputId": "50b07324-e157-478c-dbe3-cd966bb254f5"
   },
   "outputs": [
    {
     "data": {
      "image/png": "[encoded data removed]",
      "text/plain": [
       "<Figure size 432x288 with 1 Axes>"
      ]
     },
     "metadata": {
      "needs_background": "light",
      "tags": []
     },
     "output_type": "display_data"
    }
   ],
   "source": [
    "plt.plot(history.history[\"loss\"]) \n",
    "plt.show()"
   ]
  },
  {
   "cell_type": "code",
   "execution_count": null,
   "id": "ce55b68a",
   "metadata": {
    "id": "ce55b68a"
   },
   "outputs": [],
   "source": [
    "test = np.array([7, 8, 9]) \n",
    " \n",
    "test = test.reshape((1, n_steps, 1))"
   ]
  },
  {
   "cell_type": "code",
   "execution_count": null,
   "id": "34798973",
   "metadata": {
    "colab": {
     "base_uri": "https://localhost:8080/"
    },
    "id": "34798973",
    "outputId": "b2e677df-426a-4268-c97c-391f24ab0afb"
   },
   "outputs": [
    {
     "data": {
      "text/plain": [
       "array([[[ 8.32098  ],\n",
       "        [10.77978  ],\n",
       "        [ 9.8353405]]], dtype=float32)"
      ]
     },
     "execution_count": 28,
     "metadata": {
      "tags": []
     },
     "output_type": "execute_result"
    }
   ],
   "source": [
    "output = model.predict(test) \n",
    "output"
   ]
  },
  {
   "cell_type": "markdown",
   "id": "8489deb6",
   "metadata": {
    "id": "8489deb6"
   },
   "source": [
    "# Bidirectional LSTM "
   ]
  },
  {
   "cell_type": "code",
   "execution_count": null,
   "id": "1pzlRSheC0-8",
   "metadata": {
    "id": "1pzlRSheC0-8"
   },
   "outputs": [],
   "source": [
    "from keras.layers import Bidirectional\n",
    " \n",
    "model = Sequential()\n",
    " \n",
    "model.add(Bidirectional(LSTM(50, activation = \"relu\"), input_shape = (n_steps,1)))\n",
    " \n",
    "model.add(Dense(1))\n",
    " \n",
    "model.compile(loss = 'mean_squared_error', optimizer = 'adam')"
   ]
  },
  {
   "cell_type": "code",
   "execution_count": null,
   "id": "c30e2eb4",
   "metadata": {
    "id": "c30e2eb4"
   },
   "outputs": [],
   "source": [
    "history = model.fit(x, y, epochs = 100, batch_size = 2, verbose = 0)"
   ]
  },
  {
   "cell_type": "code",
   "execution_count": null,
   "id": "63f2c03c",
   "metadata": {
    "colab": {
     "base_uri": "https://localhost:8080/",
     "height": 222
    },
    "id": "63f2c03c",
    "outputId": "1ea5d495-5641-4582-83aa-36eb0d375b10"
   },
   "outputs": [
    {
     "data": {
      "image/png": "[encoded data removed]",
      "text/plain": [
       "<Figure size 432x288 with 1 Axes>"
      ]
     },
     "metadata": {
      "needs_background": "light",
      "tags": []
     },
     "output_type": "display_data"
    }
   ],
   "source": [
    "plt.plot(history.history[\"loss\"]) \n",
    "plt.show()"
   ]
  },
  {
   "cell_type": "code",
   "execution_count": null,
   "id": "c34c492f",
   "metadata": {
    "id": "c34c492f"
   },
   "outputs": [],
   "source": [
    "test = np.array([7, 8, 9]) \n",
    " \n",
    "test = test.reshape((1, n_steps, 1))"
   ]
  },
  {
   "cell_type": "code",
   "execution_count": null,
   "id": "83260fde",
   "metadata": {
    "colab": {
     "base_uri": "https://localhost:8080/"
    },
    "id": "83260fde",
    "outputId": "01f8a6ce-c90d-411c-a40d-56dcd3b5f121"
   },
   "outputs": [
    {
     "data": {
      "text/plain": [
       "array([[9.898629]], dtype=float32)"
      ]
     },
     "execution_count": 38,
     "metadata": {
      "tags": []
     },
     "output_type": "execute_result"
    }
   ],
   "source": [
    "output = model.predict(test) \n",
    "output"
   ]
  },
  {
   "cell_type": "markdown",
   "id": "D9iKBdoFDRCd",
   "metadata": {
    "id": "D9iKBdoFDRCd"
   },
   "source": [
    "# LSTM with Google Train & Test Dataset"
   ]
  },
  {
   "cell_type": "code",
   "execution_count": null,
   "id": "7lVWUNQ3Ddfw",
   "metadata": {
    "id": "7lVWUNQ3Ddfw"
   },
   "outputs": [],
   "source": [
    "import pandas as pd \n",
    "import numpy as np \n",
    "import matplotlib.pyplot as plt"
   ]
  },
  {
   "cell_type": "code",
   "execution_count": null,
   "id": "eVTQUfj1Dwln",
   "metadata": {
    "colab": {
     "base_uri": "https://localhost:8080/",
     "height": 223
    },
    "id": "eVTQUfj1Dwln",
    "outputId": "a7102dff-0662-4970-e3b7-e5d37fa62d5c"
   },
   "outputs": [
    {
     "data": {
      "text/html": [
       "<div>\n",
       "<style scoped>\n",
       "    .dataframe tbody tr th:only-of-type {\n",
       "        vertical-align: middle;\n",
       "    }\n",
       "\n",
       "    .dataframe tbody tr th {\n",
       "        vertical-align: top;\n",
       "    }\n",
       "\n",
       "    .dataframe thead th {\n",
       "        text-align: right;\n",
       "    }\n",
       "</style>\n",
       "<table border=\"1\" class=\"dataframe\">\n",
       "  <thead>\n",
       "    <tr style=\"text-align: right;\">\n",
       "      <th></th>\n",
       "      <th>Date</th>\n",
       "      <th>Open</th>\n",
       "      <th>High</th>\n",
       "      <th>Low</th>\n",
       "      <th>Close</th>\n",
       "      <th>Volume</th>\n",
       "    </tr>\n",
       "  </thead>\n",
       "  <tbody>\n",
       "    <tr>\n",
       "      <th>0</th>\n",
       "      <td>1/3/2012</td>\n",
       "      <td>325.25</td>\n",
       "      <td>332.83</td>\n",
       "      <td>324.97</td>\n",
       "      <td>663.59</td>\n",
       "      <td>7,380,500</td>\n",
       "    </tr>\n",
       "    <tr>\n",
       "      <th>1</th>\n",
       "      <td>1/4/2012</td>\n",
       "      <td>331.27</td>\n",
       "      <td>333.87</td>\n",
       "      <td>329.08</td>\n",
       "      <td>666.45</td>\n",
       "      <td>5,749,400</td>\n",
       "    </tr>\n",
       "    <tr>\n",
       "      <th>2</th>\n",
       "      <td>1/5/2012</td>\n",
       "      <td>329.83</td>\n",
       "      <td>330.75</td>\n",
       "      <td>326.89</td>\n",
       "      <td>657.21</td>\n",
       "      <td>6,590,300</td>\n",
       "    </tr>\n",
       "    <tr>\n",
       "      <th>3</th>\n",
       "      <td>1/6/2012</td>\n",
       "      <td>328.34</td>\n",
       "      <td>328.77</td>\n",
       "      <td>323.68</td>\n",
       "      <td>648.24</td>\n",
       "      <td>5,405,900</td>\n",
       "    </tr>\n",
       "    <tr>\n",
       "      <th>4</th>\n",
       "      <td>1/9/2012</td>\n",
       "      <td>322.04</td>\n",
       "      <td>322.29</td>\n",
       "      <td>309.46</td>\n",
       "      <td>620.76</td>\n",
       "      <td>11,688,800</td>\n",
       "    </tr>\n",
       "  </tbody>\n",
       "</table>\n",
       "</div>"
      ],
      "text/plain": [
       "       Date    Open    High     Low   Close      Volume\n",
       "0  1/3/2012  325.25  332.83  324.97  663.59   7,380,500\n",
       "1  1/4/2012  331.27  333.87  329.08  666.45   5,749,400\n",
       "2  1/5/2012  329.83  330.75  326.89  657.21   6,590,300\n",
       "3  1/6/2012  328.34  328.77  323.68  648.24   5,405,900\n",
       "4  1/9/2012  322.04  322.29  309.46  620.76  11,688,800"
      ]
     },
     "execution_count": 40,
     "metadata": {
      "tags": []
     },
     "output_type": "execute_result"
    }
   ],
   "source": [
    "train = pd.read_csv(\"Google_Stock_Price_Train.csv\") \n",
    "train.head()"
   ]
  },
  {
   "cell_type": "code",
   "execution_count": null,
   "id": "111DCR9CDY-P",
   "metadata": {
    "id": "111DCR9CDY-P"
   },
   "outputs": [],
   "source": [
    "x_train = train[[\"Open\"]]"
   ]
  },
  {
   "cell_type": "code",
   "execution_count": null,
   "id": "Wc_tQazDEC8L",
   "metadata": {
    "id": "Wc_tQazDEC8L"
   },
   "outputs": [],
   "source": [
    "from sklearn.preprocessing import StandardScaler \n",
    " \n",
    "sc = StandardScaler() \n",
    " \n",
    "sc_x_train = sc.fit_transform(x_train)"
   ]
  },
  {
   "cell_type": "code",
   "execution_count": null,
   "id": "j29Ja_xjEcds",
   "metadata": {
    "colab": {
     "base_uri": "https://localhost:8080/"
    },
    "id": "j29Ja_xjEcds",
    "outputId": "246077ae-d0ed-42e6-b2bb-30a8dfbc1157"
   },
   "outputs": [
    {
     "data": {
      "text/plain": [
       "array([[-1.37285476],\n",
       "       [-1.33320882],\n",
       "       [-1.34269224],\n",
       "       ...,\n",
       "       [ 1.71221829],\n",
       "       [ 1.64392454],\n",
       "       [ 1.64010483]])"
      ]
     },
     "execution_count": 46,
     "metadata": {
      "tags": []
     },
     "output_type": "execute_result"
    }
   ],
   "source": [
    "sc_x_train"
   ]
  },
  {
   "cell_type": "code",
   "execution_count": null,
   "id": "SfflToc_EmV6",
   "metadata": {
    "id": "SfflToc_EmV6"
   },
   "outputs": [],
   "source": [
    "def feature_transform(n_steps, data):\n",
    "  x = [] \n",
    "  y = [] \n",
    "  for i in range(n_steps, len(data)):\n",
    "    x.append(data[i-n_steps:i, 0])\n",
    "    y.append(data[i, 0])\n",
    "  return np.array(x), np.array(y)"
   ]
  },
  {
   "cell_type": "code",
   "execution_count": null,
   "id": "sV4zXqKrGAlD",
   "metadata": {
    "id": "sV4zXqKrGAlD"
   },
   "outputs": [],
   "source": [
    "n_steps = 12"
   ]
  },
  {
   "cell_type": "code",
   "execution_count": null,
   "id": "AUVABK4XGGac",
   "metadata": {
    "id": "AUVABK4XGGac"
   },
   "outputs": [],
   "source": [
    "x_train, y_train = feature_transform(n_steps, sc_x_train)"
   ]
  },
  {
   "cell_type": "code",
   "execution_count": null,
   "id": "hC3qR2nlGYgG",
   "metadata": {
    "colab": {
     "base_uri": "https://localhost:8080/"
    },
    "id": "hC3qR2nlGYgG",
    "outputId": "a8b5a50a-c730-4c09-8baa-a3a69e747579"
   },
   "outputs": [
    {
     "data": {
      "text/plain": [
       "((1246, 12), (1246,))"
      ]
     },
     "execution_count": 52,
     "metadata": {
      "tags": []
     },
     "output_type": "execute_result"
    }
   ],
   "source": [
    "x_train.shape, y_train.shape"
   ]
  },
  {
   "cell_type": "code",
   "execution_count": null,
   "id": "dSAz_YxQGfEe",
   "metadata": {
    "id": "dSAz_YxQGfEe"
   },
   "outputs": [],
   "source": [
    "x_train = x_train.reshape((x_train.shape[0], x_train.shape[1], 1))"
   ]
  },
  {
   "cell_type": "code",
   "execution_count": null,
   "id": "jdtaDcs5G-fN",
   "metadata": {
    "colab": {
     "base_uri": "https://localhost:8080/"
    },
    "id": "jdtaDcs5G-fN",
    "outputId": "3482395d-4266-426e-ac8c-d98b1e630cf8"
   },
   "outputs": [
    {
     "name": "stdout",
     "output_type": "stream",
     "text": [
      "Model: \"sequential_8\"\n",
      "_________________________________________________________________\n",
      "Layer (type)                 Output Shape              Param #   \n",
      "=================================================================\n",
      "lstm_5 (LSTM)                (None, 200)               161600    \n",
      "_________________________________________________________________\n",
      "dense_4 (Dense)              (None, 1)                 201       \n",
      "=================================================================\n",
      "Total params: 161,801\n",
      "Trainable params: 161,801\n",
      "Non-trainable params: 0\n",
      "_________________________________________________________________\n"
     ]
    }
   ],
   "source": [
    "from keras.models import Sequential \n",
    "from keras.layers import LSTM, Dense \n",
    " \n",
    "model = Sequential() \n",
    " \n",
    "model.add(LSTM(200, activation = 'relu', input_shape = (n_steps, 1))) \n",
    " \n",
    "model.add(Dense(1)) \n",
    " \n",
    "model.compile(loss = 'mean_squared_error' , optimizer = 'adam') \n",
    " \n",
    "model.summary()"
   ]
  },
  {
   "cell_type": "code",
   "execution_count": null,
   "id": "V1XfbVkAHUxK",
   "metadata": {
    "colab": {
     "base_uri": "https://localhost:8080/"
    },
    "id": "V1XfbVkAHUxK",
    "outputId": "2be362d0-8baf-40d4-af24-8e3403cdc489"
   },
   "outputs": [
    {
     "name": "stdout",
     "output_type": "stream",
     "text": [
      "Epoch 1/100\n",
      "42/42 [==============================] - 2s 26ms/step - loss: 0.4094\n",
      "Epoch 2/100\n",
      "42/42 [==============================] - 1s 25ms/step - loss: 0.0149\n",
      "Epoch 3/100\n",
      "42/42 [==============================] - 1s 25ms/step - loss: 0.0082\n",
      "Epoch 4/100\n",
      "42/42 [==============================] - 1s 25ms/step - loss: 0.0086\n",
      "Epoch 5/100\n",
      "42/42 [==============================] - 1s 25ms/step - loss: 0.0083\n",
      "Epoch 6/100\n",
      "42/42 [==============================] - 1s 25ms/step - loss: 0.0081\n",
      "Epoch 7/100\n",
      "42/42 [==============================] - 1s 24ms/step - loss: 0.0077\n",
      "Epoch 8/100\n",
      "42/42 [==============================] - 1s 25ms/step - loss: 0.0065\n",
      "Epoch 9/100\n",
      "42/42 [==============================] - 1s 25ms/step - loss: 0.0070\n",
      "Epoch 10/100\n",
      "42/42 [==============================] - 1s 26ms/step - loss: 0.0058\n",
      "Epoch 11/100\n",
      "42/42 [==============================] - 1s 24ms/step - loss: 0.0062\n",
      "Epoch 12/100\n",
      "42/42 [==============================] - 1s 25ms/step - loss: 0.0055\n",
      "Epoch 13/100\n",
      "42/42 [==============================] - 1s 25ms/step - loss: 0.0074\n",
      "Epoch 14/100\n",
      "42/42 [==============================] - 1s 26ms/step - loss: 0.0054\n",
      "Epoch 15/100\n",
      "42/42 [==============================] - 1s 25ms/step - loss: 0.0048\n",
      "Epoch 16/100\n",
      "42/42 [==============================] - 1s 25ms/step - loss: 0.0051\n",
      "Epoch 17/100\n",
      "42/42 [==============================] - 1s 25ms/step - loss: 0.0055\n",
      "Epoch 18/100\n",
      "42/42 [==============================] - 1s 25ms/step - loss: 0.0052\n",
      "Epoch 19/100\n",
      "42/42 [==============================] - 1s 25ms/step - loss: 0.0044\n",
      "Epoch 20/100\n",
      "42/42 [==============================] - 1s 25ms/step - loss: 0.0056\n",
      "Epoch 21/100\n",
      "42/42 [==============================] - 1s 25ms/step - loss: 0.0052\n",
      "Epoch 22/100\n",
      "42/42 [==============================] - 1s 26ms/step - loss: 0.0060\n",
      "Epoch 23/100\n",
      "42/42 [==============================] - 1s 25ms/step - loss: 0.0044\n",
      "Epoch 24/100\n",
      "42/42 [==============================] - 1s 26ms/step - loss: 0.0052\n",
      "Epoch 25/100\n",
      "42/42 [==============================] - 1s 25ms/step - loss: 0.0047\n",
      "Epoch 26/100\n",
      "42/42 [==============================] - 1s 25ms/step - loss: 0.0048\n",
      "Epoch 27/100\n",
      "42/42 [==============================] - 1s 25ms/step - loss: 0.0059\n",
      "Epoch 28/100\n",
      "42/42 [==============================] - 1s 25ms/step - loss: 0.0039\n",
      "Epoch 29/100\n",
      "42/42 [==============================] - 1s 26ms/step - loss: 0.0043\n",
      "Epoch 30/100\n",
      "42/42 [==============================] - 1s 25ms/step - loss: 0.0040\n",
      "Epoch 31/100\n",
      "42/42 [==============================] - 1s 25ms/step - loss: 0.0041\n",
      "Epoch 32/100\n",
      "42/42 [==============================] - 1s 25ms/step - loss: 0.0044\n",
      "Epoch 33/100\n",
      "42/42 [==============================] - 1s 25ms/step - loss: 0.0048\n",
      "Epoch 34/100\n",
      "42/42 [==============================] - 1s 26ms/step - loss: 0.0042\n",
      "Epoch 35/100\n",
      "42/42 [==============================] - 1s 25ms/step - loss: 0.0037\n",
      "Epoch 36/100\n",
      "42/42 [==============================] - 1s 25ms/step - loss: 0.0041\n",
      "Epoch 37/100\n",
      "42/42 [==============================] - 1s 26ms/step - loss: 0.0037\n",
      "Epoch 38/100\n",
      "42/42 [==============================] - 1s 26ms/step - loss: 0.0042\n",
      "Epoch 39/100\n",
      "42/42 [==============================] - 1s 25ms/step - loss: 0.0055\n",
      "Epoch 40/100\n",
      "42/42 [==============================] - 1s 25ms/step - loss: 0.0036\n",
      "Epoch 41/100\n",
      "42/42 [==============================] - 1s 25ms/step - loss: 0.0049\n",
      "Epoch 42/100\n",
      "42/42 [==============================] - 1s 26ms/step - loss: 0.0043\n",
      "Epoch 43/100\n",
      "42/42 [==============================] - 1s 25ms/step - loss: 0.0036\n",
      "Epoch 44/100\n",
      "42/42 [==============================] - 1s 25ms/step - loss: 0.0045\n",
      "Epoch 45/100\n",
      "42/42 [==============================] - 1s 26ms/step - loss: 0.0036\n",
      "Epoch 46/100\n",
      "42/42 [==============================] - 1s 26ms/step - loss: 0.0033\n",
      "Epoch 47/100\n",
      "42/42 [==============================] - 1s 25ms/step - loss: 0.0036\n",
      "Epoch 48/100\n",
      "42/42 [==============================] - 1s 24ms/step - loss: 0.0037\n",
      "Epoch 49/100\n",
      "42/42 [==============================] - 1s 25ms/step - loss: 0.0030\n",
      "Epoch 50/100\n",
      "42/42 [==============================] - 1s 25ms/step - loss: 0.0040\n",
      "Epoch 51/100\n",
      "42/42 [==============================] - 1s 25ms/step - loss: 0.0039\n",
      "Epoch 52/100\n",
      "42/42 [==============================] - 1s 25ms/step - loss: 0.0048\n",
      "Epoch 53/100\n",
      "42/42 [==============================] - 1s 25ms/step - loss: 0.0040\n",
      "Epoch 54/100\n",
      "42/42 [==============================] - 1s 26ms/step - loss: 0.0037\n",
      "Epoch 55/100\n",
      "42/42 [==============================] - 1s 26ms/step - loss: 0.0041\n",
      "Epoch 56/100\n",
      "42/42 [==============================] - 1s 25ms/step - loss: 0.0034\n",
      "Epoch 57/100\n",
      "42/42 [==============================] - 1s 26ms/step - loss: 0.0029\n",
      "Epoch 58/100\n",
      "42/42 [==============================] - 1s 24ms/step - loss: 0.0035\n",
      "Epoch 59/100\n",
      "42/42 [==============================] - 1s 26ms/step - loss: 0.0037\n",
      "Epoch 60/100\n",
      "42/42 [==============================] - 1s 26ms/step - loss: 0.0035\n",
      "Epoch 61/100\n",
      "42/42 [==============================] - 1s 25ms/step - loss: 0.0034\n",
      "Epoch 62/100\n",
      "42/42 [==============================] - 1s 25ms/step - loss: 0.0041\n",
      "Epoch 63/100\n",
      "42/42 [==============================] - 1s 26ms/step - loss: 0.0037\n",
      "Epoch 64/100\n",
      "42/42 [==============================] - 1s 25ms/step - loss: 0.0029\n",
      "Epoch 65/100\n",
      "42/42 [==============================] - 1s 25ms/step - loss: 0.0036\n",
      "Epoch 66/100\n",
      "42/42 [==============================] - 1s 25ms/step - loss: 0.0028\n",
      "Epoch 67/100\n",
      "42/42 [==============================] - 1s 26ms/step - loss: 0.0034\n",
      "Epoch 68/100\n",
      "42/42 [==============================] - 1s 25ms/step - loss: 0.0035\n",
      "Epoch 69/100\n",
      "42/42 [==============================] - 1s 26ms/step - loss: 0.0033\n",
      "Epoch 70/100\n",
      "42/42 [==============================] - 1s 25ms/step - loss: 0.0040\n",
      "Epoch 71/100\n",
      "42/42 [==============================] - 1s 26ms/step - loss: 0.0040\n",
      "Epoch 72/100\n",
      "42/42 [==============================] - 1s 25ms/step - loss: 0.0031\n",
      "Epoch 73/100\n",
      "42/42 [==============================] - 1s 26ms/step - loss: 0.0031\n",
      "Epoch 74/100\n",
      "42/42 [==============================] - 1s 26ms/step - loss: 0.0038\n",
      "Epoch 75/100\n",
      "42/42 [==============================] - 1s 26ms/step - loss: 0.0033\n",
      "Epoch 76/100\n",
      "42/42 [==============================] - 1s 25ms/step - loss: 0.0029\n",
      "Epoch 77/100\n",
      "42/42 [==============================] - 1s 26ms/step - loss: 0.0035\n",
      "Epoch 78/100\n",
      "42/42 [==============================] - 1s 26ms/step - loss: 0.0042\n",
      "Epoch 79/100\n",
      "42/42 [==============================] - 1s 24ms/step - loss: 0.0030\n",
      "Epoch 80/100\n",
      "42/42 [==============================] - 1s 25ms/step - loss: 0.0034\n",
      "Epoch 81/100\n",
      "42/42 [==============================] - 1s 25ms/step - loss: 0.0031\n",
      "Epoch 82/100\n",
      "42/42 [==============================] - 1s 25ms/step - loss: 0.0035\n",
      "Epoch 83/100\n",
      "42/42 [==============================] - 1s 25ms/step - loss: 0.0039\n",
      "Epoch 84/100\n",
      "42/42 [==============================] - 1s 26ms/step - loss: 0.0030\n",
      "Epoch 85/100\n",
      "42/42 [==============================] - 1s 26ms/step - loss: 0.0027\n",
      "Epoch 86/100\n",
      "42/42 [==============================] - 1s 26ms/step - loss: 0.0033\n",
      "Epoch 87/100\n",
      "42/42 [==============================] - 1s 26ms/step - loss: 0.0034\n",
      "Epoch 88/100\n",
      "42/42 [==============================] - 1s 26ms/step - loss: 0.0034\n",
      "Epoch 89/100\n",
      "42/42 [==============================] - 1s 26ms/step - loss: 0.0041\n",
      "Epoch 90/100\n",
      "42/42 [==============================] - 1s 26ms/step - loss: 0.0029\n",
      "Epoch 91/100\n",
      "42/42 [==============================] - 1s 26ms/step - loss: 0.0033\n",
      "Epoch 92/100\n",
      "42/42 [==============================] - 1s 24ms/step - loss: 0.0038\n",
      "Epoch 93/100\n",
      "42/42 [==============================] - 1s 25ms/step - loss: 0.0038\n",
      "Epoch 94/100\n",
      "42/42 [==============================] - 1s 25ms/step - loss: 0.0036\n",
      "Epoch 95/100\n",
      "42/42 [==============================] - 1s 26ms/step - loss: 0.0027\n",
      "Epoch 96/100\n",
      "42/42 [==============================] - 1s 27ms/step - loss: 0.0035\n",
      "Epoch 97/100\n",
      "42/42 [==============================] - 1s 25ms/step - loss: 0.0028\n",
      "Epoch 98/100\n",
      "42/42 [==============================] - 1s 26ms/step - loss: 0.0033\n",
      "Epoch 99/100\n",
      "42/42 [==============================] - 1s 25ms/step - loss: 0.0032\n",
      "Epoch 100/100\n",
      "42/42 [==============================] - 1s 26ms/step - loss: 0.0031\n"
     ]
    }
   ],
   "source": [
    "history = model.fit(x_train, y_train, epochs = 100, batch_size = 30)"
   ]
  },
  {
   "cell_type": "code",
   "execution_count": null,
   "id": "j2Xuij6vHg3A",
   "metadata": {
    "colab": {
     "base_uri": "https://localhost:8080/",
     "height": 213
    },
    "id": "j2Xuij6vHg3A",
    "outputId": "049dff78-efd7-4aee-e8c8-1f064398d21f"
   },
   "outputs": [
    {
     "data": {
      "image/png": "[encoded data removed]",
      "text/plain": [
       "<Figure size 432x288 with 1 Axes>"
      ]
     },
     "metadata": {
      "needs_background": "light",
      "tags": []
     },
     "output_type": "display_data"
    }
   ],
   "source": [
    "plt.plot(history.history[\"loss\"]) \n",
    "plt.show()"
   ]
  },
  {
   "cell_type": "code",
   "execution_count": null,
   "id": "W-WiPWqNHjA9",
   "metadata": {
    "colab": {
     "base_uri": "https://localhost:8080/",
     "height": 223
    },
    "id": "W-WiPWqNHjA9",
    "outputId": "df485db7-9e8a-4b23-c10a-56538c540bd4"
   },
   "outputs": [
    {
     "data": {
      "text/html": [
       "<div>\n",
       "<style scoped>\n",
       "    .dataframe tbody tr th:only-of-type {\n",
       "        vertical-align: middle;\n",
       "    }\n",
       "\n",
       "    .dataframe tbody tr th {\n",
       "        vertical-align: top;\n",
       "    }\n",
       "\n",
       "    .dataframe thead th {\n",
       "        text-align: right;\n",
       "    }\n",
       "</style>\n",
       "<table border=\"1\" class=\"dataframe\">\n",
       "  <thead>\n",
       "    <tr style=\"text-align: right;\">\n",
       "      <th></th>\n",
       "      <th>Date</th>\n",
       "      <th>Open</th>\n",
       "      <th>High</th>\n",
       "      <th>Low</th>\n",
       "      <th>Close</th>\n",
       "      <th>Volume</th>\n",
       "    </tr>\n",
       "  </thead>\n",
       "  <tbody>\n",
       "    <tr>\n",
       "      <th>0</th>\n",
       "      <td>1/3/2017</td>\n",
       "      <td>778.81</td>\n",
       "      <td>789.63</td>\n",
       "      <td>775.80</td>\n",
       "      <td>786.14</td>\n",
       "      <td>1,657,300</td>\n",
       "    </tr>\n",
       "    <tr>\n",
       "      <th>1</th>\n",
       "      <td>1/4/2017</td>\n",
       "      <td>788.36</td>\n",
       "      <td>791.34</td>\n",
       "      <td>783.16</td>\n",
       "      <td>786.90</td>\n",
       "      <td>1,073,000</td>\n",
       "    </tr>\n",
       "    <tr>\n",
       "      <th>2</th>\n",
       "      <td>1/5/2017</td>\n",
       "      <td>786.08</td>\n",
       "      <td>794.48</td>\n",
       "      <td>785.02</td>\n",
       "      <td>794.02</td>\n",
       "      <td>1,335,200</td>\n",
       "    </tr>\n",
       "    <tr>\n",
       "      <th>3</th>\n",
       "      <td>1/6/2017</td>\n",
       "      <td>795.26</td>\n",
       "      <td>807.90</td>\n",
       "      <td>792.20</td>\n",
       "      <td>806.15</td>\n",
       "      <td>1,640,200</td>\n",
       "    </tr>\n",
       "    <tr>\n",
       "      <th>4</th>\n",
       "      <td>1/9/2017</td>\n",
       "      <td>806.40</td>\n",
       "      <td>809.97</td>\n",
       "      <td>802.83</td>\n",
       "      <td>806.65</td>\n",
       "      <td>1,272,400</td>\n",
       "    </tr>\n",
       "  </tbody>\n",
       "</table>\n",
       "</div>"
      ],
      "text/plain": [
       "       Date    Open    High     Low   Close     Volume\n",
       "0  1/3/2017  778.81  789.63  775.80  786.14  1,657,300\n",
       "1  1/4/2017  788.36  791.34  783.16  786.90  1,073,000\n",
       "2  1/5/2017  786.08  794.48  785.02  794.02  1,335,200\n",
       "3  1/6/2017  795.26  807.90  792.20  806.15  1,640,200\n",
       "4  1/9/2017  806.40  809.97  802.83  806.65  1,272,400"
      ]
     },
     "execution_count": 58,
     "metadata": {
      "tags": []
     },
     "output_type": "execute_result"
    }
   ],
   "source": [
    "test = pd.read_csv(\"Google_Stock_Price_Test.csv\")\n",
    "test.head()"
   ]
  },
  {
   "cell_type": "code",
   "execution_count": null,
   "id": "QZI8fiyQHrk3",
   "metadata": {
    "id": "QZI8fiyQHrk3"
   },
   "outputs": [],
   "source": [
    "x_test = test[[\"Open\"]]\n",
    " \n",
    "sc_x_test = sc.fit_transform(x_test)"
   ]
  },
  {
   "cell_type": "code",
   "execution_count": null,
   "id": "ds_5sIKuIShV",
   "metadata": {
    "id": "ds_5sIKuIShV"
   },
   "outputs": [],
   "source": [
    "x_test, y_test = feature_transform(n_steps, sc_x_test)"
   ]
  },
  {
   "cell_type": "code",
   "execution_count": null,
   "id": "Djo2mwwsIfG6",
   "metadata": {
    "colab": {
     "base_uri": "https://localhost:8080/"
    },
    "id": "Djo2mwwsIfG6",
    "outputId": "db8d89f6-63b5-4d74-e235-95deb9657b48"
   },
   "outputs": [
    {
     "data": {
      "text/plain": [
       "((8, 12), (8,))"
      ]
     },
     "execution_count": 62,
     "metadata": {
      "tags": []
     },
     "output_type": "execute_result"
    }
   ],
   "source": [
    "x_test.shape, y_test.shape"
   ]
  },
  {
   "cell_type": "code",
   "execution_count": null,
   "id": "YZASTq3aIrSQ",
   "metadata": {
    "id": "YZASTq3aIrSQ"
   },
   "outputs": [],
   "source": [
    "x_test = x_test.reshape((x_test.shape[0], x_test.shape[1], 1))"
   ]
  },
  {
   "cell_type": "code",
   "execution_count": null,
   "id": "MXB2Y--3IyH5",
   "metadata": {
    "id": "MXB2Y--3IyH5"
   },
   "outputs": [],
   "source": [
    "y_pred = model.predict(x_test)"
   ]
  },
  {
   "cell_type": "code",
   "execution_count": null,
   "id": "4g-giwWBI5BJ",
   "metadata": {
    "id": "4g-giwWBI5BJ"
   },
   "outputs": [],
   "source": [
    "predictions = sc.inverse_transform(y_pred)"
   ]
  },
  {
   "cell_type": "code",
   "execution_count": null,
   "id": "-7cMuFMMJYET",
   "metadata": {
    "id": "-7cMuFMMJYET"
   },
   "outputs": [],
   "source": [
    "actual = sc.inverse_transform(y_test.reshape(-1, 1))"
   ]
  },
  {
   "cell_type": "code",
   "execution_count": null,
   "id": "jz7dqbfHJYY9",
   "metadata": {
    "colab": {
     "base_uri": "https://localhost:8080/"
    },
    "id": "jz7dqbfHJYY9",
    "outputId": "3984a762-292c-4e76-da3a-11564897db16"
   },
   "outputs": [
    {
     "data": {
      "text/plain": [
       "array([[806.91],\n",
       "       [807.25],\n",
       "       [822.3 ],\n",
       "       [829.62],\n",
       "       [837.81],\n",
       "       [834.71],\n",
       "       [814.66],\n",
       "       [796.86]])"
      ]
     },
     "execution_count": 69,
     "metadata": {
      "tags": []
     },
     "output_type": "execute_result"
    }
   ],
   "source": [
    "actual"
   ]
  },
  {
   "cell_type": "code",
   "execution_count": null,
   "id": "fIrKh3xtJ21Q",
   "metadata": {
    "colab": {
     "base_uri": "https://localhost:8080/"
    },
    "id": "fIrKh3xtJ21Q",
    "outputId": "c5944d8e-57b1-45b1-a389-9d24a80d19b9"
   },
   "outputs": [
    {
     "data": {
      "text/plain": [
       "array([[804.3561 ],\n",
       "       [806.38446],\n",
       "       [806.8634 ],\n",
       "       [819.14496],\n",
       "       [826.2582 ],\n",
       "       [831.2701 ],\n",
       "       [832.7622 ],\n",
       "       [812.6942 ]], dtype=float32)"
      ]
     },
     "execution_count": 70,
     "metadata": {
      "tags": []
     },
     "output_type": "execute_result"
    }
   ],
   "source": [
    "predictions"
   ]
  },
  {
   "cell_type": "code",
   "execution_count": null,
   "id": "fa8FrOYuJ5wT",
   "metadata": {
    "colab": {
     "base_uri": "https://localhost:8080/"
    },
    "id": "fa8FrOYuJ5wT",
    "outputId": "21de7fc4-a95f-409e-86ed-15834298b30e"
   },
   "outputs": [
    {
     "name": "stdout",
     "output_type": "stream",
     "text": [
      "Mean Squared Error :  134.8720664034327\n",
      "Root Mean Squared Error :  11.613443348268106\n"
     ]
    }
   ],
   "source": [
    "from sklearn.metrics import mean_squared_error \n",
    " \n",
    "mse = mean_squared_error(actual, predictions) \n",
    " \n",
    "rmse = np.sqrt(mse) \n",
    " \n",
    "print(\"Mean Squared Error : \", mse)\n",
    "print(\"Root Mean Squared Error : \", rmse)"
   ]
  },
  {
   "cell_type": "markdown",
   "id": "b0e57b87",
   "metadata": {
    "id": "qtXQoMKWS1OG"
   },
   "source": [
    " from keras.layers import GRU,Dense\n",
    "from keras.models import Sequential\n",
    "model=Sequential()\n",
    "model.add(GRU(200,activation='relu',input_shape=(n_steps,1)))\n",
    "model.add(Dense(1))\n",
    "model.compile(loss='mean_squared_error',optimizer='adam')\n",
    "model.summary()"
   ]
  }
 ],
 "metadata": {
  "colab": {
   "collapsed_sections": [
    "8489deb6"
   ],
   "name": "ML 12052021 Long Short Term Memory (LSTM).ipynb",
   "provenance": []
  },
  "kernelspec": {
   "display_name": "Python 3",
   "language": "python",
   "name": "python3"
  },
  "language_info": {
   "codemirror_mode": {
    "name": "ipython",
    "version": 3
   },
   "file_extension": ".py",
   "mimetype": "text/x-python",
   "name": "python",
   "nbconvert_exporter": "python",
   "pygments_lexer": "ipython3",
   "version": "3.8.3"
  }
 },
 "nbformat": 4,
 "nbformat_minor": 5
}
