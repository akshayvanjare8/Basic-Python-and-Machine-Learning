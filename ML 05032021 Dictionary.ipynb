{
 "cells": [
  {
   "cell_type": "markdown",
   "metadata": {},
   "source": [
    "### Dictionary"
   ]
  },
  {
   "cell_type": "code",
   "execution_count": 1,
   "metadata": {},
   "outputs": [
    {
     "name": "stdout",
     "output_type": "stream",
     "text": [
      "{}\n",
      "<class 'dict'>\n"
     ]
    }
   ],
   "source": [
    "d={}\n",
    "print(d)\n",
    "print(type(d))"
   ]
  },
  {
   "cell_type": "code",
   "execution_count": 2,
   "metadata": {
    "scrolled": true
   },
   "outputs": [
    {
     "name": "stdout",
     "output_type": "stream",
     "text": [
      "{1: 'akkii', 2: 'tanvir', 3: 'faruk', 4: 'abc', 5: 'pqr', 6: 'xyz'}\n",
      "<class 'dict'>\n"
     ]
    }
   ],
   "source": [
    "#kay:value   for inser values in dictionary \n",
    "\n",
    "d={1:\"akkii\",2:\"tanvir\",3:\"faruk\",4:\"abc\",5:\"pqr\",6:\"xyz\"}\n",
    "\n",
    "print(d)\n",
    "\n",
    "print(type(d))"
   ]
  },
  {
   "cell_type": "code",
   "execution_count": 3,
   "metadata": {},
   "outputs": [
    {
     "name": "stdout",
     "output_type": "stream",
     "text": [
      "faruk\n",
      "tanvir\n"
     ]
    }
   ],
   "source": [
    "#access dictionary\n",
    "\n",
    "#syntex\n",
    "#d[3]\n",
    "\n",
    "print(d[3])\n",
    "print(d[2])"
   ]
  },
  {
   "cell_type": "code",
   "execution_count": 4,
   "metadata": {},
   "outputs": [
    {
     "name": "stdout",
     "output_type": "stream",
     "text": [
      "{1: 'akkii', 2: 'tanvir', 3: 'faruk', 4: 'kiran', 5: 'pqr', 6: 'xyz'}\n"
     ]
    }
   ],
   "source": [
    "#add values \n",
    "\n",
    "#syntex\n",
    "#dictionary[new key]=value \n",
    "\n",
    "d[4]=\"kiran\"\n",
    "print(d)"
   ]
  },
  {
   "cell_type": "code",
   "execution_count": 5,
   "metadata": {},
   "outputs": [
    {
     "name": "stdout",
     "output_type": "stream",
     "text": [
      "{1: 'akkii', 2: 'tanveer', 3: 'faruk', 4: 'kiran', 5: 'pqr', 6: 'xyz'}\n"
     ]
    }
   ],
   "source": [
    "#update\n",
    "\n",
    "#syntex\n",
    "#dictionary[key]=new value \n",
    "d[2]=\"tanveer\"\n",
    "print(d)"
   ]
  },
  {
   "cell_type": "code",
   "execution_count": 6,
   "metadata": {},
   "outputs": [
    {
     "name": "stdout",
     "output_type": "stream",
     "text": [
      "{1: 'akkii', 2: 'tanveer', 4: 'kiran', 5: 'pqr', 6: 'xyz'}\n"
     ]
    }
   ],
   "source": [
    "#remove using pop \n",
    "\n",
    "#syntex\n",
    "#dictionary.pop(key)\n",
    "\n",
    "d.pop(3)\n",
    "print(d)"
   ]
  },
  {
   "cell_type": "code",
   "execution_count": 7,
   "metadata": {},
   "outputs": [
    {
     "name": "stdout",
     "output_type": "stream",
     "text": [
      "{1: 'akkii', 2: 'tanveer', 4: 'kiran', 5: 'pqr'}\n"
     ]
    }
   ],
   "source": [
    "#popitems\n",
    "\n",
    "#syntex\n",
    "#dictionary.popitem()\n",
    "d.popitem()\n",
    "print(d)"
   ]
  },
  {
   "cell_type": "code",
   "execution_count": 8,
   "metadata": {},
   "outputs": [
    {
     "name": "stdout",
     "output_type": "stream",
     "text": [
      "1\n",
      "2\n",
      "4\n",
      "5\n"
     ]
    }
   ],
   "source": [
    "#dict.keys()\n",
    "\n",
    "for i in d.keys():\n",
    "    print(i)"
   ]
  },
  {
   "cell_type": "code",
   "execution_count": 9,
   "metadata": {},
   "outputs": [
    {
     "name": "stdout",
     "output_type": "stream",
     "text": [
      "1 => akkii\n",
      "2 => tanveer\n",
      "4 => kiran\n",
      "5 => pqr\n"
     ]
    }
   ],
   "source": [
    "for i in d.keys():\n",
    "    print(i,\"=>\",d[i])\n"
   ]
  },
  {
   "cell_type": "code",
   "execution_count": 10,
   "metadata": {},
   "outputs": [
    {
     "name": "stdout",
     "output_type": "stream",
     "text": [
      "akkii\n",
      "tanveer\n",
      "kiran\n",
      "pqr\n"
     ]
    }
   ],
   "source": [
    "#dictionary.values()\n",
    "\n",
    "for i in d.values():\n",
    "    print (i)"
   ]
  },
  {
   "cell_type": "code",
   "execution_count": 11,
   "metadata": {},
   "outputs": [
    {
     "ename": "KeyError",
     "evalue": "'akkii'",
     "output_type": "error",
     "traceback": [
      "\u001b[1;31m---------------------------------------------------------------------------\u001b[0m",
      "\u001b[1;31mKeyError\u001b[0m                                  Traceback (most recent call last)",
      "\u001b[1;32m<ipython-input-11-0ea8caa36543>\u001b[0m in \u001b[0;36m<module>\u001b[1;34m\u001b[0m\n\u001b[0;32m      1\u001b[0m \u001b[1;31m#dictionary.values()\u001b[0m\u001b[1;33m\u001b[0m\u001b[1;33m\u001b[0m\u001b[1;33m\u001b[0m\u001b[0m\n\u001b[0;32m      2\u001b[0m \u001b[1;32mfor\u001b[0m \u001b[0mi\u001b[0m \u001b[1;32min\u001b[0m \u001b[0md\u001b[0m\u001b[1;33m.\u001b[0m\u001b[0mvalues\u001b[0m\u001b[1;33m(\u001b[0m\u001b[1;33m)\u001b[0m\u001b[1;33m:\u001b[0m\u001b[1;33m\u001b[0m\u001b[1;33m\u001b[0m\u001b[0m\n\u001b[1;32m----> 3\u001b[1;33m     \u001b[0mprint\u001b[0m \u001b[1;33m(\u001b[0m\u001b[0mi\u001b[0m\u001b[1;33m,\u001b[0m\u001b[1;34m\"=>\"\u001b[0m\u001b[1;33m,\u001b[0m\u001b[0md\u001b[0m\u001b[1;33m[\u001b[0m\u001b[0mi\u001b[0m\u001b[1;33m]\u001b[0m\u001b[1;33m)\u001b[0m \u001b[1;31m# invalid code\u001b[0m\u001b[1;33m\u001b[0m\u001b[1;33m\u001b[0m\u001b[0m\n\u001b[0m",
      "\u001b[1;31mKeyError\u001b[0m: 'akkii'"
     ]
    }
   ],
   "source": [
    "#dictionary.values()\n",
    "for i in d.values():\n",
    "    print (i,\"=>\",d[i]) # invalid code"
   ]
  },
  {
   "cell_type": "code",
   "execution_count": 12,
   "metadata": {},
   "outputs": [
    {
     "name": "stdout",
     "output_type": "stream",
     "text": [
      "(1, 'akkii')\n",
      "(2, 'tanveer')\n",
      "(4, 'kiran')\n",
      "(5, 'pqr')\n"
     ]
    }
   ],
   "source": [
    "#dictionary.items()\n",
    "\n",
    "for item in d.items():\n",
    "    print(item)"
   ]
  },
  {
   "cell_type": "code",
   "execution_count": 13,
   "metadata": {},
   "outputs": [
    {
     "name": "stdout",
     "output_type": "stream",
     "text": [
      "1 => akkii\n",
      "2 => tanveer\n",
      "4 => kiran\n",
      "5 => pqr\n"
     ]
    }
   ],
   "source": [
    "for key, value in d.items():\n",
    "    print(key,\"=>\",value)"
   ]
  },
  {
   "cell_type": "code",
   "execution_count": 14,
   "metadata": {},
   "outputs": [
    {
     "name": "stdout",
     "output_type": "stream",
     "text": [
      "65\n",
      "65 alex\n",
      "32\n",
      "32 doe\n"
     ]
    }
   ],
   "source": [
    "stud={\"alex\":65,\"jae\":34,\"lily\":45,\"doe\":32}\n",
    "\n",
    "#max marks \n",
    "\n",
    "high = 0\n",
    "for i in stud.values():\n",
    "    if i>high:\n",
    "        high=i \n",
    "print (high)\n",
    "    \n",
    "#max marks and student name \n",
    "\n",
    "high = 0\n",
    "for key,val in stud.items():\n",
    "    if val>high:\n",
    "        high=val \n",
    "        name=key\n",
    "print (high,name)\n",
    "\n",
    "#min marks \n",
    "low=65\n",
    "for i in stud.values():\n",
    "    if i<low:\n",
    "        low=i \n",
    "print (low)\n",
    "\n",
    "#min marks and student name \n",
    "low=65\n",
    "for key,val in stud.items():\n",
    "    if val<low:\n",
    "        low=val \n",
    "        name=key\n",
    "print (low,name)"
   ]
  },
  {
   "cell_type": "code",
   "execution_count": 16,
   "metadata": {
    "scrolled": false
   },
   "outputs": [
    {
     "name": "stdout",
     "output_type": "stream",
     "text": [
      "Enter your choice.... 1.Display Data 2.Add New student data 3. Get Result\n",
      "enter your choice1\n",
      "{'Tanvir': [80, 90, 95], 'Akshay': [70, 80, 90]}\n",
      "Enter your choice.... 1.Display Data 2.Add New student data 3. Get Result\n",
      "enter your choice2\n",
      "Enter Name of Student: vishal\n",
      "Enter Marks of New Student: 55\n",
      "Enter Marks of New Student: 75\n",
      "Enter Marks of New Student: 82\n",
      "[55, 75, 82]\n",
      "{'Tanvir': [80, 90, 95], 'Akshay': [70, 80, 90], 'vishal': [55, 75, 82]}\n",
      "Enter your choice.... 1.Display Data 2.Add New student data 3. Get Result\n",
      "enter your choice3\n",
      "{'Tanvir': [80, 90, 95], 'Akshay': [70, 80, 90], 'vishal': [55, 75, 82]}\n",
      "Enter the name of student: Akshay\n",
      "{'Akshay': 240}\n",
      "Congratulations, You are Pass\n",
      "Enter your choice.... 1.Display Data 2.Add New student data 3. Get Result\n",
      "enter your choice4\n"
     ]
    }
   ],
   "source": [
    "#Homework PCM \n",
    "\n",
    "student={\"Tanvir\":[80,90,95],\"Akshay\":[70,80,90]}\n",
    "\n",
    "n=0\n",
    "\n",
    "while (n<4):\n",
    "    print(\"Enter your choice.... 1.Display Data 2.Add New student data 3. Get Result\")\n",
    "    n=int(input(\"enter your choice\"))\n",
    "    if n==1:\n",
    "        print (student)\n",
    "    \n",
    "    \n",
    "    elif n==2:\n",
    "        name=input(\"Enter Name of Student: \")\n",
    "        marks=[]\n",
    "        for m in range(3):\n",
    "            m=int(input (\"Enter Marks of New Student: \"))\n",
    "            marks.append(m)\n",
    "        print(marks)\n",
    "        student[name]=marks \n",
    "        print(student)\n",
    "        \n",
    "    elif n==3:\n",
    "        output={}\n",
    "        print(student)\n",
    "        name=input(\"Enter the name of student: \")\n",
    "        total=0\n",
    "        for k in student[name]:\n",
    "            total = total + k\n",
    "        output[name]=total \n",
    "        print(output)\n",
    "        \n",
    "        if total>=150:\n",
    "            print(\"Congratulations, You are Pass\")\n",
    "        else:\n",
    "            print(\"Better Luck Next Time\")\n",
    "        "
   ]
  },
  {
   "cell_type": "code",
   "execution_count": null,
   "metadata": {},
   "outputs": [],
   "source": []
  }
 ],
 "metadata": {
  "kernelspec": {
   "display_name": "Python 3",
   "language": "python",
   "name": "python3"
  },
  "language_info": {
   "codemirror_mode": {
    "name": "ipython",
    "version": 3
   },
   "file_extension": ".py",
   "mimetype": "text/x-python",
   "name": "python",
   "nbconvert_exporter": "python",
   "pygments_lexer": "ipython3",
   "version": "3.7.3"
  }
 },
 "nbformat": 4,
 "nbformat_minor": 2
}
