{
  "nbformat": 4,
  "nbformat_minor": 0,
  "metadata": {
    "colab": {
      "name": "NeuralNetworkforClassification.ipynb",
      "provenance": [],
      "collapsed_sections": []
    },
    "kernelspec": {
      "name": "python3",
      "display_name": "Python 3"
    },
    "language_info": {
      "name": "python"
    }
  },
  "cells": [
    {
      "cell_type": "code",
      "metadata": {
        "id": "JmFXvfXIu_pb"
      },
      "source": [
        "import pandas as pd\n",
        "import numpy as np\n",
        "import matplotlib.pyplot as plt \n",
        "import seaborn as sns"
      ],
      "execution_count": null,
      "outputs": []
    },
    {
      "cell_type": "code",
      "metadata": {
        "colab": {
          "base_uri": "https://localhost:8080/",
          "height": 223
        },
        "id": "JQzkWw3TvVEP",
        "outputId": "b36bef17-149c-4f88-cca4-eccabdb9093d"
      },
      "source": [
        "df = pd.read_csv(\"/content/diabetes.csv\") \n",
        "df.head()"
      ],
      "execution_count": null,
      "outputs": [
        {
          "output_type": "execute_result",
          "data": {
            "text/html": [
              "<div>\n",
              "<style scoped>\n",
              "    .dataframe tbody tr th:only-of-type {\n",
              "        vertical-align: middle;\n",
              "    }\n",
              "\n",
              "    .dataframe tbody tr th {\n",
              "        vertical-align: top;\n",
              "    }\n",
              "\n",
              "    .dataframe thead th {\n",
              "        text-align: right;\n",
              "    }\n",
              "</style>\n",
              "<table border=\"1\" class=\"dataframe\">\n",
              "  <thead>\n",
              "    <tr style=\"text-align: right;\">\n",
              "      <th></th>\n",
              "      <th>Pregnancies</th>\n",
              "      <th>Glucose</th>\n",
              "      <th>BloodPressure</th>\n",
              "      <th>SkinThickness</th>\n",
              "      <th>Insulin</th>\n",
              "      <th>BMI</th>\n",
              "      <th>DiabetesPedigreeFunction</th>\n",
              "      <th>Age</th>\n",
              "      <th>Outcome</th>\n",
              "    </tr>\n",
              "  </thead>\n",
              "  <tbody>\n",
              "    <tr>\n",
              "      <th>0</th>\n",
              "      <td>6</td>\n",
              "      <td>148</td>\n",
              "      <td>72</td>\n",
              "      <td>35</td>\n",
              "      <td>0</td>\n",
              "      <td>33.6</td>\n",
              "      <td>0.627</td>\n",
              "      <td>50</td>\n",
              "      <td>1</td>\n",
              "    </tr>\n",
              "    <tr>\n",
              "      <th>1</th>\n",
              "      <td>1</td>\n",
              "      <td>85</td>\n",
              "      <td>66</td>\n",
              "      <td>29</td>\n",
              "      <td>0</td>\n",
              "      <td>26.6</td>\n",
              "      <td>0.351</td>\n",
              "      <td>31</td>\n",
              "      <td>0</td>\n",
              "    </tr>\n",
              "    <tr>\n",
              "      <th>2</th>\n",
              "      <td>8</td>\n",
              "      <td>183</td>\n",
              "      <td>64</td>\n",
              "      <td>0</td>\n",
              "      <td>0</td>\n",
              "      <td>23.3</td>\n",
              "      <td>0.672</td>\n",
              "      <td>32</td>\n",
              "      <td>1</td>\n",
              "    </tr>\n",
              "    <tr>\n",
              "      <th>3</th>\n",
              "      <td>1</td>\n",
              "      <td>89</td>\n",
              "      <td>66</td>\n",
              "      <td>23</td>\n",
              "      <td>94</td>\n",
              "      <td>28.1</td>\n",
              "      <td>0.167</td>\n",
              "      <td>21</td>\n",
              "      <td>0</td>\n",
              "    </tr>\n",
              "    <tr>\n",
              "      <th>4</th>\n",
              "      <td>0</td>\n",
              "      <td>137</td>\n",
              "      <td>40</td>\n",
              "      <td>35</td>\n",
              "      <td>168</td>\n",
              "      <td>43.1</td>\n",
              "      <td>2.288</td>\n",
              "      <td>33</td>\n",
              "      <td>1</td>\n",
              "    </tr>\n",
              "  </tbody>\n",
              "</table>\n",
              "</div>"
            ],
            "text/plain": [
              "   Pregnancies  Glucose  BloodPressure  ...  DiabetesPedigreeFunction  Age  Outcome\n",
              "0            6      148             72  ...                     0.627   50        1\n",
              "1            1       85             66  ...                     0.351   31        0\n",
              "2            8      183             64  ...                     0.672   32        1\n",
              "3            1       89             66  ...                     0.167   21        0\n",
              "4            0      137             40  ...                     2.288   33        1\n",
              "\n",
              "[5 rows x 9 columns]"
            ]
          },
          "metadata": {
            "tags": []
          },
          "execution_count": 2
        }
      ]
    },
    {
      "cell_type": "code",
      "metadata": {
        "id": "IyO3lX3zvnvC"
      },
      "source": [
        "x = df.drop(columns = [\"Outcome\"])\n",
        "y = df[\"Outcome\"]"
      ],
      "execution_count": null,
      "outputs": []
    },
    {
      "cell_type": "code",
      "metadata": {
        "colab": {
          "base_uri": "https://localhost:8080/"
        },
        "id": "0tDf6m1Uvn-d",
        "outputId": "057a4fe2-51b9-4602-acdf-99879cde2855"
      },
      "source": [
        "from keras.models import Sequential\n",
        "from keras.layers import Dense\n",
        " \n",
        "model = Sequential() \n",
        " \n",
        "#3 layers \n",
        "model.add(Dense(12, activation = \"relu\", input_dim = 8))\n",
        "model.add(Dense(10,activation = \"relu\"))\n",
        "model.add(Dense(1,activation = \"sigmoid\"))\n",
        " \n",
        "model.summary()"
      ],
      "execution_count": null,
      "outputs": [
        {
          "output_type": "stream",
          "text": [
            "Model: \"sequential\"\n",
            "_________________________________________________________________\n",
            "Layer (type)                 Output Shape              Param #   \n",
            "=================================================================\n",
            "dense (Dense)                (None, 12)                108       \n",
            "_________________________________________________________________\n",
            "dense_1 (Dense)              (None, 10)                130       \n",
            "_________________________________________________________________\n",
            "dense_2 (Dense)              (None, 1)                 11        \n",
            "=================================================================\n",
            "Total params: 249\n",
            "Trainable params: 249\n",
            "Non-trainable params: 0\n",
            "_________________________________________________________________\n"
          ],
          "name": "stdout"
        }
      ]
    },
    {
      "cell_type": "code",
      "metadata": {
        "id": "ICUeKlqcvoKd"
      },
      "source": [
        "#binary entropy hinge, squared hinge loss \n",
        " \n",
        "model.compile(loss = \"binary_crossentropy\", optimizer = \"adam\", metrics = ['accuracy'])"
      ],
      "execution_count": null,
      "outputs": []
    },
    {
      "cell_type": "code",
      "metadata": {
        "colab": {
          "base_uri": "https://localhost:8080/"
        },
        "id": "TCo28_zEvoU_",
        "outputId": "4d0c8ccb-e99f-44d0-9363-cbb98680c756"
      },
      "source": [
        "#epochs 50\n",
        "#batch 10\n",
        " \n",
        "history = model.fit(x, y, epochs = 50, batch_size = 10)"
      ],
      "execution_count": null,
      "outputs": [
        {
          "output_type": "stream",
          "text": [
            "Epoch 1/50\n",
            "77/77 [==============================] - 1s 1ms/step - loss: 4.8865 - accuracy: 0.5313\n",
            "Epoch 2/50\n",
            "77/77 [==============================] - 0s 1ms/step - loss: 1.8690 - accuracy: 0.5461\n",
            "Epoch 3/50\n",
            "77/77 [==============================] - 0s 1ms/step - loss: 1.1549 - accuracy: 0.5936\n",
            "Epoch 4/50\n",
            "77/77 [==============================] - 0s 1ms/step - loss: 1.0279 - accuracy: 0.5642\n",
            "Epoch 5/50\n",
            "77/77 [==============================] - 0s 2ms/step - loss: 0.8991 - accuracy: 0.5996\n",
            "Epoch 6/50\n",
            "77/77 [==============================] - 0s 1ms/step - loss: 0.8444 - accuracy: 0.5783\n",
            "Epoch 7/50\n",
            "77/77 [==============================] - 0s 1ms/step - loss: 0.7492 - accuracy: 0.6154\n",
            "Epoch 8/50\n",
            "77/77 [==============================] - 0s 1ms/step - loss: 0.7799 - accuracy: 0.6413\n",
            "Epoch 9/50\n",
            "77/77 [==============================] - 0s 1ms/step - loss: 0.6791 - accuracy: 0.6601\n",
            "Epoch 10/50\n",
            "77/77 [==============================] - 0s 1ms/step - loss: 0.7170 - accuracy: 0.6401\n",
            "Epoch 11/50\n",
            "77/77 [==============================] - 0s 1ms/step - loss: 0.6852 - accuracy: 0.6591\n",
            "Epoch 12/50\n",
            "77/77 [==============================] - 0s 1ms/step - loss: 0.7061 - accuracy: 0.6541\n",
            "Epoch 13/50\n",
            "77/77 [==============================] - 0s 1ms/step - loss: 0.6628 - accuracy: 0.6628\n",
            "Epoch 14/50\n",
            "77/77 [==============================] - 0s 1ms/step - loss: 0.6523 - accuracy: 0.7111\n",
            "Epoch 15/50\n",
            "77/77 [==============================] - 0s 1ms/step - loss: 0.6269 - accuracy: 0.7074\n",
            "Epoch 16/50\n",
            "77/77 [==============================] - 0s 1ms/step - loss: 0.7454 - accuracy: 0.6403\n",
            "Epoch 17/50\n",
            "77/77 [==============================] - 0s 1ms/step - loss: 0.6353 - accuracy: 0.6711\n",
            "Epoch 18/50\n",
            "77/77 [==============================] - 0s 1ms/step - loss: 0.6215 - accuracy: 0.6831\n",
            "Epoch 19/50\n",
            "77/77 [==============================] - 0s 1ms/step - loss: 0.5850 - accuracy: 0.6918\n",
            "Epoch 20/50\n",
            "77/77 [==============================] - 0s 1ms/step - loss: 0.5951 - accuracy: 0.6922\n",
            "Epoch 21/50\n",
            "77/77 [==============================] - 0s 1ms/step - loss: 0.6264 - accuracy: 0.6662\n",
            "Epoch 22/50\n",
            "77/77 [==============================] - 0s 1ms/step - loss: 0.5742 - accuracy: 0.7194\n",
            "Epoch 23/50\n",
            "77/77 [==============================] - 0s 1ms/step - loss: 0.6088 - accuracy: 0.6818\n",
            "Epoch 24/50\n",
            "77/77 [==============================] - 0s 1ms/step - loss: 0.6325 - accuracy: 0.6771\n",
            "Epoch 25/50\n",
            "77/77 [==============================] - 0s 2ms/step - loss: 0.6172 - accuracy: 0.6723\n",
            "Epoch 26/50\n",
            "77/77 [==============================] - 0s 1ms/step - loss: 0.5774 - accuracy: 0.6697\n",
            "Epoch 27/50\n",
            "77/77 [==============================] - 0s 1ms/step - loss: 0.5691 - accuracy: 0.7282\n",
            "Epoch 28/50\n",
            "77/77 [==============================] - 0s 1ms/step - loss: 0.6057 - accuracy: 0.7093\n",
            "Epoch 29/50\n",
            "77/77 [==============================] - 0s 2ms/step - loss: 0.5614 - accuracy: 0.7047\n",
            "Epoch 30/50\n",
            "77/77 [==============================] - 0s 1ms/step - loss: 0.5947 - accuracy: 0.6926\n",
            "Epoch 31/50\n",
            "77/77 [==============================] - 0s 1ms/step - loss: 0.5981 - accuracy: 0.6877\n",
            "Epoch 32/50\n",
            "77/77 [==============================] - 0s 1ms/step - loss: 0.5596 - accuracy: 0.7174\n",
            "Epoch 33/50\n",
            "77/77 [==============================] - 0s 1ms/step - loss: 0.5503 - accuracy: 0.7335\n",
            "Epoch 34/50\n",
            "77/77 [==============================] - 0s 1ms/step - loss: 0.5649 - accuracy: 0.7063\n",
            "Epoch 35/50\n",
            "77/77 [==============================] - 0s 1ms/step - loss: 0.5851 - accuracy: 0.7024\n",
            "Epoch 36/50\n",
            "77/77 [==============================] - 0s 1ms/step - loss: 0.5366 - accuracy: 0.7360\n",
            "Epoch 37/50\n",
            "77/77 [==============================] - 0s 1ms/step - loss: 0.5458 - accuracy: 0.7502\n",
            "Epoch 38/50\n",
            "77/77 [==============================] - 0s 1ms/step - loss: 0.5752 - accuracy: 0.7028\n",
            "Epoch 39/50\n",
            "77/77 [==============================] - 0s 1ms/step - loss: 0.5411 - accuracy: 0.6992\n",
            "Epoch 40/50\n",
            "77/77 [==============================] - 0s 1ms/step - loss: 0.5388 - accuracy: 0.7246\n",
            "Epoch 41/50\n",
            "77/77 [==============================] - 0s 1ms/step - loss: 0.5768 - accuracy: 0.7118\n",
            "Epoch 42/50\n",
            "77/77 [==============================] - 0s 1ms/step - loss: 0.5313 - accuracy: 0.7523\n",
            "Epoch 43/50\n",
            "77/77 [==============================] - 0s 1ms/step - loss: 0.5945 - accuracy: 0.6867\n",
            "Epoch 44/50\n",
            "77/77 [==============================] - 0s 1ms/step - loss: 0.5609 - accuracy: 0.7025\n",
            "Epoch 45/50\n",
            "77/77 [==============================] - 0s 1ms/step - loss: 0.5736 - accuracy: 0.7178\n",
            "Epoch 46/50\n",
            "77/77 [==============================] - 0s 1ms/step - loss: 0.5496 - accuracy: 0.7249\n",
            "Epoch 47/50\n",
            "77/77 [==============================] - 0s 1ms/step - loss: 0.5636 - accuracy: 0.7031\n",
            "Epoch 48/50\n",
            "77/77 [==============================] - 0s 1ms/step - loss: 0.5630 - accuracy: 0.7358\n",
            "Epoch 49/50\n",
            "77/77 [==============================] - 0s 1ms/step - loss: 0.5401 - accuracy: 0.7352\n",
            "Epoch 50/50\n",
            "77/77 [==============================] - 0s 1ms/step - loss: 0.5755 - accuracy: 0.7150\n"
          ],
          "name": "stdout"
        }
      ]
    },
    {
      "cell_type": "code",
      "metadata": {
        "colab": {
          "base_uri": "https://localhost:8080/",
          "height": 219
        },
        "id": "YMpZH1VxvofA",
        "outputId": "ef305e89-3b05-4227-e831-df3003310acf"
      },
      "source": [
        "plt.plot(range(1, 51), history.history[\"loss\"])\n",
        "plt.show()"
      ],
      "execution_count": null,
      "outputs": [
        {
          "output_type": "display_data",
          "data": {
            "image/png": "[encoded data removed]",
            "text/plain": [
              "<Figure size 432x288 with 1 Axes>"
            ]
          },
          "metadata": {
            "tags": [],
            "needs_background": "light"
          }
        }
      ]
    },
    {
      "cell_type": "code",
      "metadata": {
        "colab": {
          "base_uri": "https://localhost:8080/",
          "height": 216
        },
        "id": "Rq0mBmqSvoom",
        "outputId": "9fb9d03e-cd42-41d5-a7ec-ca7a74cc08b2"
      },
      "source": [
        "plt.plot(range(1, 51), history.history[\"accuracy\"])\n",
        "plt.show()"
      ],
      "execution_count": null,
      "outputs": [
        {
          "output_type": "display_data",
          "data": {
            "image/png": "[encoded data removed]",
            "text/plain": [
              "<Figure size 432x288 with 1 Axes>"
            ]
          },
          "metadata": {
            "tags": [],
            "needs_background": "light"
          }
        }
      ]
    },
    {
      "cell_type": "code",
      "metadata": {
        "colab": {
          "base_uri": "https://localhost:8080/"
        },
        "id": "mmfIBXRovoxd",
        "outputId": "d0f3023f-0a9d-45be-e3b9-611802922d00"
      },
      "source": [
        "x.shape, y.shape"
      ],
      "execution_count": null,
      "outputs": [
        {
          "output_type": "execute_result",
          "data": {
            "text/plain": [
              "((768, 8), (768,))"
            ]
          },
          "metadata": {
            "tags": []
          },
          "execution_count": 9
        }
      ]
    },
    {
      "cell_type": "code",
      "metadata": {
        "colab": {
          "base_uri": "https://localhost:8080/"
        },
        "id": "4LP8TO7Ovo53",
        "outputId": "0e639616-bb19-42a1-dbd9-b9e760ff3f57"
      },
      "source": [
        "ypred = model.predict_classes(x)"
      ],
      "execution_count": null,
      "outputs": [
        {
          "output_type": "stream",
          "text": [
            "/usr/local/lib/python3.7/dist-packages/tensorflow/python/keras/engine/sequential.py:450: UserWarning: `model.predict_classes()` is deprecated and will be removed after 2021-01-01. Please use instead:* `np.argmax(model.predict(x), axis=-1)`,   if your model does multi-class classification   (e.g. if it uses a `softmax` last-layer activation).* `(model.predict(x) > 0.5).astype(\"int32\")`,   if your model does binary classification   (e.g. if it uses a `sigmoid` last-layer activation).\n",
            "  warnings.warn('`model.predict_classes()` is deprecated and '\n"
          ],
          "name": "stderr"
        }
      ]
    },
    {
      "cell_type": "code",
      "metadata": {
        "colab": {
          "base_uri": "https://localhost:8080/"
        },
        "id": "zWu0VSRyvpM_",
        "outputId": "ceb8e0b2-e8cb-4027-b467-ce5d6b4599f6"
      },
      "source": [
        "ypred.flatten()"
      ],
      "execution_count": null,
      "outputs": [
        {
          "output_type": "execute_result",
          "data": {
            "text/plain": [
              "array([1, 0, 1, 0, 1, 0, 0, 1, 1, 0, 0, 1, 0, 1, 1, 0, 1, 0, 0, 0, 1, 0,\n",
              "       1, 0, 1, 0, 1, 0, 0, 0, 0, 1, 0, 0, 0, 0, 1, 0, 0, 0, 0, 0, 0, 1,\n",
              "       1, 1, 1, 0, 0, 0, 0, 0, 0, 1, 1, 0, 1, 0, 0, 0, 0, 0, 0, 0, 0, 0,\n",
              "       0, 0, 0, 0, 0, 0, 0, 0, 0, 0, 0, 0, 1, 0, 1, 0, 0, 0, 0, 0, 1, 0,\n",
              "       0, 0, 0, 1, 0, 0, 0, 0, 0, 0, 0, 1, 1, 1, 0, 0, 0, 1, 0, 1, 0, 0,\n",
              "       0, 1, 0, 0, 1, 0, 0, 0, 0, 0, 1, 0, 0, 0, 0, 0, 0, 0, 1, 0, 1, 1,\n",
              "       1, 0, 0, 1, 0, 0, 0, 1, 0, 0, 0, 0, 1, 0, 0, 0, 0, 0, 0, 0, 1, 1,\n",
              "       1, 0, 0, 0, 0, 0, 0, 0, 1, 0, 0, 1, 1, 0, 0, 0, 0, 0, 0, 0, 0, 1,\n",
              "       0, 0, 1, 0, 0, 0, 0, 0, 0, 1, 1, 0, 0, 0, 0, 0, 1, 1, 0, 1, 0, 0,\n",
              "       0, 1, 0, 0, 0, 0, 1, 0, 1, 0, 0, 1, 0, 0, 1, 1, 1, 1, 0, 0, 0, 0,\n",
              "       1, 0, 0, 1, 0, 0, 0, 1, 1, 0, 0, 1, 0, 0, 0, 1, 1, 0, 1, 0, 0, 0,\n",
              "       1, 0, 1, 1, 0, 1, 1, 0, 0, 0, 0, 0, 1, 0, 1, 0, 1, 1, 1, 1, 0, 0,\n",
              "       0, 0, 1, 1, 0, 1, 0, 0, 0, 0, 0, 0, 0, 0, 0, 1, 0, 0, 1, 1, 0, 1,\n",
              "       1, 0, 0, 0, 0, 0, 1, 1, 0, 0, 1, 0, 1, 0, 1, 0, 0, 0, 0, 0, 1, 1,\n",
              "       0, 0, 0, 0, 0, 0, 0, 0, 0, 1, 0, 1, 0, 0, 0, 0, 0, 1, 1, 1, 0, 0,\n",
              "       0, 0, 1, 0, 0, 1, 0, 0, 1, 1, 0, 0, 0, 0, 0, 0, 0, 1, 0, 1, 0, 0,\n",
              "       0, 0, 0, 1, 0, 1, 0, 1, 1, 0, 0, 0, 1, 0, 0, 0, 0, 0, 1, 1, 0, 0,\n",
              "       0, 1, 0, 0, 1, 0, 0, 0, 0, 0, 0, 0, 0, 0, 1, 0, 0, 1, 1, 0, 1, 1,\n",
              "       0, 0, 0, 1, 0, 0, 0, 0, 1, 1, 0, 0, 1, 1, 0, 0, 1, 0, 1, 1, 0, 0,\n",
              "       0, 0, 0, 0, 0, 0, 1, 1, 0, 1, 0, 0, 0, 0, 0, 0, 0, 1, 0, 1, 0, 0,\n",
              "       0, 0, 0, 0, 0, 1, 0, 0, 0, 0, 0, 0, 0, 0, 0, 1, 0, 0, 1, 0, 0, 0,\n",
              "       0, 0, 0, 0, 0, 0, 0, 0, 0, 0, 0, 0, 0, 0, 0, 0, 0, 0, 1, 0, 0, 0,\n",
              "       1, 1, 0, 1, 0, 1, 0, 0, 0, 1, 0, 0, 0, 0, 1, 1, 0, 0, 1, 0, 0, 0,\n",
              "       0, 1, 0, 0, 0, 0, 0, 0, 0, 1, 1, 0, 0, 1, 0, 0, 0, 1, 1, 0, 0, 0,\n",
              "       0, 0, 0, 0, 0, 0, 0, 1, 0, 0, 1, 0, 1, 1, 0, 0, 0, 1, 1, 1, 0, 0,\n",
              "       0, 0, 0, 0, 0, 1, 0, 0, 0, 0, 0, 1, 0, 0, 0, 0, 0, 0, 0, 1, 0, 0,\n",
              "       0, 0, 1, 0, 1, 0, 1, 1, 0, 0, 0, 0, 1, 0, 1, 0, 1, 0, 0, 0, 0, 0,\n",
              "       1, 1, 0, 0, 1, 0, 0, 0, 0, 1, 1, 0, 1, 0, 1, 0, 0, 1, 1, 0, 1, 0,\n",
              "       0, 0, 0, 1, 0, 0, 1, 0, 0, 0, 0, 0, 0, 0, 0, 0, 0, 1, 0, 0, 0, 0,\n",
              "       0, 0, 0, 0, 0, 0, 0, 1, 1, 1, 0, 0, 0, 0, 0, 1, 0, 1, 0, 1, 0, 0,\n",
              "       1, 1, 1, 0, 1, 0, 0, 0, 0, 0, 1, 0, 0, 0, 0, 1, 1, 0, 1, 1, 0, 0,\n",
              "       0, 0, 0, 0, 0, 0, 1, 1, 0, 0, 0, 0, 0, 1, 0, 1, 1, 0, 0, 0, 0, 0,\n",
              "       0, 0, 0, 1, 1, 0, 1, 0, 1, 1, 0, 1, 1, 0, 0, 0, 0, 1, 0, 0, 0, 0,\n",
              "       0, 0, 0, 0, 0, 0, 1, 0, 0, 0, 0, 0, 0, 0, 0, 0, 0, 0, 0, 0, 0, 0,\n",
              "       1, 1, 0, 0, 0, 1, 1, 0, 0, 0, 0, 1, 0, 1, 0, 0, 0, 0, 0, 0],\n",
              "      dtype=int32)"
            ]
          },
          "metadata": {
            "tags": []
          },
          "execution_count": 12
        }
      ]
    },
    {
      "cell_type": "code",
      "metadata": {
        "colab": {
          "base_uri": "https://localhost:8080/"
        },
        "id": "Nr74gpw3vpXi",
        "outputId": "9a0f115f-b18f-4d9e-dbb8-f8704b77a7b2"
      },
      "source": [
        "loss,acc = model.evaluate(x, y)"
      ],
      "execution_count": null,
      "outputs": [
        {
          "output_type": "stream",
          "text": [
            "24/24 [==============================] - 0s 1ms/step - loss: 0.5286 - accuracy: 0.7383\n"
          ],
          "name": "stdout"
        }
      ]
    },
    {
      "cell_type": "code",
      "metadata": {
        "colab": {
          "base_uri": "https://localhost:8080/"
        },
        "id": "Dq9VrhVUvpiG",
        "outputId": "c1e53d8c-5ebb-484d-a3a9-6ed6128b9af6"
      },
      "source": [
        "loss"
      ],
      "execution_count": null,
      "outputs": [
        {
          "output_type": "execute_result",
          "data": {
            "text/plain": [
              "0.528573215007782"
            ]
          },
          "metadata": {
            "tags": []
          },
          "execution_count": 14
        }
      ]
    },
    {
      "cell_type": "code",
      "metadata": {
        "colab": {
          "base_uri": "https://localhost:8080/"
        },
        "id": "UAnGH-FnxOXY",
        "outputId": "e93cecd2-8c40-4171-deaa-245291376bf8"
      },
      "source": [
        "acc"
      ],
      "execution_count": null,
      "outputs": [
        {
          "output_type": "execute_result",
          "data": {
            "text/plain": [
              "0.73828125"
            ]
          },
          "metadata": {
            "tags": []
          },
          "execution_count": 15
        }
      ]
    }
  ]
}