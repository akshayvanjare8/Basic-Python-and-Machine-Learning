{
 "cells": [
  {
   "cell_type": "markdown",
   "metadata": {},
   "source": [
    "### While Loop "
   ]
  },
  {
   "cell_type": "markdown",
   "metadata": {},
   "source": [
    "syntax "
   ]
  },
  {
   "cell_type": "code",
   "execution_count": 1,
   "metadata": {},
   "outputs": [
    {
     "name": "stdout",
     "output_type": "stream",
     "text": [
      "Hello World!\n",
      "Hello World!\n",
      "Hello World!\n",
      "Hello World!\n",
      "Hello World!\n"
     ]
    }
   ],
   "source": [
    "#initialisation\n",
    "i=0\n",
    "#condition\n",
    "while(i<5):\n",
    "    print(\"Hello World!\")\n",
    "    #increament/decrement\n",
    "    i=i+1"
   ]
  },
  {
   "cell_type": "markdown",
   "metadata": {},
   "source": [
    "### another example"
   ]
  },
  {
   "cell_type": "code",
   "execution_count": 3,
   "metadata": {},
   "outputs": [
    {
     "name": "stdout",
     "output_type": "stream",
     "text": [
      "enter a number: 5\n",
      "enter a number: 5\n",
      "1.Addition 2.Substraction 3.Multiplication 4.Division\n",
      "enter your choice: 1\n",
      "10\n",
      "1.Addition 2.Substraction 3.Multiplication 4.Division\n",
      "enter your choice: 2\n",
      "0\n",
      "1.Addition 2.Substraction 3.Multiplication 4.Division\n",
      "enter your choice: 3\n",
      "25\n",
      "1.Addition 2.Substraction 3.Multiplication 4.Division\n",
      "enter your choice: 4\n",
      "1.0\n",
      "1.Addition 2.Substraction 3.Multiplication 4.Division\n",
      "enter your choice: 5\n",
      ".... Invalid Choice....\n"
     ]
    }
   ],
   "source": [
    "a = int(input (\"enter a number: \"))\n",
    "b = int(input (\"enter a number: \"))\n",
    "ch=0\n",
    "while (ch<5):\n",
    "    print (\"1.Addition 2.Substraction 3.Multiplication 4.Division\")\n",
    "    ch=int(input(\"enter your choice: \"))\n",
    "    if(ch==1):\n",
    "        print(a+b)\n",
    "    elif(ch==2):\n",
    "        print (a-b)\n",
    "    elif(ch==3):\n",
    "        print (a*b)\n",
    "    elif(ch==4 and b!=0):\n",
    "        #here we may get zero division error when we get zero \n",
    "        if (b==0):\n",
    "            print (\"can't devide by zero\")\n",
    "        else:\n",
    "            print(a/b)\n",
    "    else:\n",
    "        print (\".... Invalid Choice....\")"
   ]
  },
  {
   "cell_type": "markdown",
   "metadata": {},
   "source": [
    "### Break and Continue Statement"
   ]
  },
  {
   "cell_type": "markdown",
   "metadata": {},
   "source": [
    "1. Break Statement"
   ]
  },
  {
   "cell_type": "code",
   "execution_count": 4,
   "metadata": {},
   "outputs": [
    {
     "name": "stdout",
     "output_type": "stream",
     "text": [
      "0\n",
      "1\n",
      "2\n",
      "3 is found\n"
     ]
    }
   ],
   "source": [
    "# Break Statement for For\n",
    "for i in range(5):\n",
    "    if i==3:\n",
    "        print (\"3 is found\")\n",
    "        break \n",
    "    print (i)"
   ]
  },
  {
   "cell_type": "code",
   "execution_count": 5,
   "metadata": {},
   "outputs": [
    {
     "name": "stdout",
     "output_type": "stream",
     "text": [
      "0\n",
      "1\n",
      "2\n",
      "3 is found\n"
     ]
    }
   ],
   "source": [
    "# Break statement for While\n",
    "i=0\n",
    "while(i<5):\n",
    "    if i==3:\n",
    "        print (\"3 is found\")\n",
    "        break\n",
    "    print (i)\n",
    "    i=i+1"
   ]
  },
  {
   "cell_type": "markdown",
   "metadata": {},
   "source": [
    "2. Continue Statement"
   ]
  },
  {
   "cell_type": "code",
   "execution_count": 6,
   "metadata": {},
   "outputs": [
    {
     "name": "stdout",
     "output_type": "stream",
     "text": [
      "0\n",
      "1\n",
      "2\n",
      "3 is found\n",
      "4\n"
     ]
    }
   ],
   "source": [
    "# Continue Statement for For\n",
    "for i in range(5):\n",
    "    if i==3:\n",
    "        print (\"3 is found\")\n",
    "        continue\n",
    "    print (i)"
   ]
  },
  {
   "cell_type": "code",
   "execution_count": 7,
   "metadata": {},
   "outputs": [
    {
     "name": "stdout",
     "output_type": "stream",
     "text": [
      "0\n",
      "1\n",
      "2\n",
      "3 is found\n",
      "3\n",
      "4\n"
     ]
    }
   ],
   "source": [
    "# Continue statement for While\n",
    "i=0\n",
    "while(i<5):\n",
    "    print (i)\n",
    "    i=i+1\n",
    "    if i==3:\n",
    "        print (\"3 is found\")\n",
    "        continue"
   ]
  },
  {
   "cell_type": "markdown",
   "metadata": {},
   "source": [
    "### Tupple"
   ]
  },
  {
   "cell_type": "code",
   "execution_count": 8,
   "metadata": {},
   "outputs": [
    {
     "name": "stdout",
     "output_type": "stream",
     "text": [
      "(1, 2, 3, 4, 5, 6, 7, 8, 9)\n",
      "<class 'tuple'>\n"
     ]
    }
   ],
   "source": [
    "t=1,2,3,4,5,6,7,8,9\n",
    "\n",
    "print(t)\n",
    "print(type(t))"
   ]
  },
  {
   "cell_type": "code",
   "execution_count": 9,
   "metadata": {},
   "outputs": [
    {
     "name": "stdout",
     "output_type": "stream",
     "text": [
      "()\n",
      "<class 'tuple'>\n"
     ]
    }
   ],
   "source": [
    "t= ()\n",
    "print(t)\n",
    "print (type (t))"
   ]
  },
  {
   "cell_type": "code",
   "execution_count": 10,
   "metadata": {},
   "outputs": [
    {
     "name": "stdout",
     "output_type": "stream",
     "text": [
      "(1, 2, 3, 4, 5.666, 'HELLO')\n",
      "<class 'tuple'>\n",
      "4\n",
      "HELLO\n"
     ]
    }
   ],
   "source": [
    "t=(1,2,3,4,5.666,\"HELLO\")\n",
    "print (t)\n",
    "print (type (t))\n",
    "\n",
    "\n",
    "print(t[3])\n",
    "\n",
    "print(t[5])"
   ]
  },
  {
   "cell_type": "markdown",
   "metadata": {},
   "source": [
    "Nested Tuple and Nested Index"
   ]
  },
  {
   "cell_type": "code",
   "execution_count": 11,
   "metadata": {},
   "outputs": [
    {
     "name": "stdout",
     "output_type": "stream",
     "text": [
      "5\n",
      "6\n",
      "9\n",
      "11\n",
      "33\n",
      "44\n"
     ]
    }
   ],
   "source": [
    "t=(1,2,3,4,(5,6,7,(8,9,10,(11,12,13)),(22,33,44)))\n",
    "\n",
    "print(t[4][0])\n",
    "print(t[4][1])\n",
    "print(t[4][3][1])\n",
    "print(t[4][3][3][0])\n",
    "print(t[4][4][1])\n",
    "print(t[4][4][2])"
   ]
  },
  {
   "cell_type": "code",
   "execution_count": 12,
   "metadata": {},
   "outputs": [
    {
     "name": "stdout",
     "output_type": "stream",
     "text": [
      "(4, 5, 6, 7)\n",
      "(2, 4, 6, 8)\n",
      "(1, 2, 3, 4, 5, 6, 7, 8)\n",
      "(1, 2, 3, 4, 5, 6, 7, 8, 9, 10)\n",
      "(10, 9, 8, 7, 6, 5, 4, 3, 2, 1)\n",
      "(1, 3, 5, 7, 9)\n",
      "(1, 3, 5, 7, 9)\n",
      "(2, 4, 6, 8, 10)\n",
      "(9, 7, 5, 3, 1)\n",
      "(10, 8, 6, 4, 2)\n"
     ]
    }
   ],
   "source": [
    "t=(1,2,3,4,5,6,7,8,9,10)\n",
    "\n",
    "#t[start: stop: step] Syntex\n",
    "\n",
    "print (t[3:7])\n",
    "print (t[1:8:2])\n",
    "print (t[ :8])\n",
    "print (t[ : ])\n",
    "print (t[ : :-1])\n",
    "print (t[ : :2])\n",
    "\n",
    "#odd number\n",
    "print (t[ : :2])\n",
    "\n",
    "#even number\n",
    "print (t[1:10:2])\n",
    "\n",
    "#odd reverse\n",
    "print (t[8: :-2])\n",
    "\n",
    "#even reverse\n",
    "print (t[ : :-2])"
   ]
  },
  {
   "cell_type": "code",
   "execution_count": 13,
   "metadata": {},
   "outputs": [
    {
     "name": "stdout",
     "output_type": "stream",
     "text": [
      "1\n",
      "2\n",
      "3\n",
      "4\n",
      "5\n",
      "6\n",
      "7\n",
      "8\n",
      "9\n",
      "10\n"
     ]
    }
   ],
   "source": [
    "t=(1,2,3,4,5,6,7,8,9,10)\n",
    "for i in t:\n",
    "    print (i)"
   ]
  },
  {
   "cell_type": "code",
   "execution_count": 14,
   "metadata": {},
   "outputs": [
    {
     "name": "stdout",
     "output_type": "stream",
     "text": [
      "10\n"
     ]
    }
   ],
   "source": [
    "t=(1,2,3,4,5,6,7,8,9,10)\n",
    "print (len(t))"
   ]
  },
  {
   "cell_type": "code",
   "execution_count": 15,
   "metadata": {},
   "outputs": [
    {
     "name": "stdout",
     "output_type": "stream",
     "text": [
      "0 => 1\n",
      "1 => 2\n",
      "2 => 3\n",
      "3 => 4\n",
      "4 => 5\n",
      "5 => 6\n",
      "6 => 7\n",
      "7 => 8\n",
      "8 => 9\n",
      "9 => 10\n"
     ]
    }
   ],
   "source": [
    "t=(1,2,3,4,5,6,7,8,9,10)\n",
    "for i in range(len(t)):\n",
    "    print(i, \"=>\", t[i])"
   ]
  },
  {
   "cell_type": "code",
   "execution_count": 16,
   "metadata": {},
   "outputs": [
    {
     "name": "stdout",
     "output_type": "stream",
     "text": [
      "a\n",
      "b\n",
      "c\n",
      "d\n"
     ]
    }
   ],
   "source": [
    "t=(\"a\",\"b\",\"c\",\"d\")\n",
    "for i in t:\n",
    "    print(i)"
   ]
  },
  {
   "cell_type": "code",
   "execution_count": 17,
   "metadata": {},
   "outputs": [
    {
     "name": "stdout",
     "output_type": "stream",
     "text": [
      "0 => a\n",
      "1 => b\n",
      "2 => c\n",
      "3 => d\n"
     ]
    }
   ],
   "source": [
    "t=(\"a\",\"b\",\"c\",\"d\")\n",
    "for i in range(len(t)):\n",
    "    print(i, \"=>\",t[i])"
   ]
  },
  {
   "cell_type": "markdown",
   "metadata": {},
   "source": [
    "### List"
   ]
  },
  {
   "cell_type": "code",
   "execution_count": 18,
   "metadata": {},
   "outputs": [
    {
     "name": "stdout",
     "output_type": "stream",
     "text": [
      "<class 'list'>\n"
     ]
    }
   ],
   "source": [
    "#l=[]\n",
    "\n",
    "l=[]\n",
    "print(type(l))"
   ]
  },
  {
   "cell_type": "code",
   "execution_count": 19,
   "metadata": {},
   "outputs": [
    {
     "name": "stdout",
     "output_type": "stream",
     "text": [
      "<class 'list'>\n",
      "akkii\n"
     ]
    }
   ],
   "source": [
    "l=[1,2,3.88,\"akkii\"]\n",
    "\n",
    "print(type(l))\n",
    "print(l[3])"
   ]
  },
  {
   "cell_type": "code",
   "execution_count": 20,
   "metadata": {},
   "outputs": [
    {
     "name": "stdout",
     "output_type": "stream",
     "text": [
      "6\n"
     ]
    }
   ],
   "source": [
    "l=[1,2,3,4,[5,6,7]]\n",
    "print(l[4][1])"
   ]
  },
  {
   "cell_type": "code",
   "execution_count": 21,
   "metadata": {},
   "outputs": [
    {
     "name": "stdout",
     "output_type": "stream",
     "text": [
      "[1, 4, 7, 10]\n",
      "[10, 8, 6, 4, 2]\n"
     ]
    }
   ],
   "source": [
    "l=[1,2,3,4,5,6,7,8,9,10]\n",
    "print(l[ : :3])\n",
    "print(l[ : :-2])"
   ]
  },
  {
   "cell_type": "markdown",
   "metadata": {},
   "source": [
    "### List Operation"
   ]
  },
  {
   "cell_type": "markdown",
   "metadata": {},
   "source": [
    "1. Append"
   ]
  },
  {
   "cell_type": "code",
   "execution_count": 22,
   "metadata": {},
   "outputs": [],
   "source": [
    "#list.append(value)"
   ]
  },
  {
   "cell_type": "code",
   "execution_count": 23,
   "metadata": {},
   "outputs": [
    {
     "name": "stdout",
     "output_type": "stream",
     "text": [
      "[1, 2, 3, 4]\n"
     ]
    }
   ],
   "source": [
    "l=[1,2,3,4]\n",
    "\n",
    "print(l)"
   ]
  },
  {
   "cell_type": "code",
   "execution_count": 24,
   "metadata": {},
   "outputs": [
    {
     "name": "stdout",
     "output_type": "stream",
     "text": [
      "[1, 2, 3, 4, 5]\n"
     ]
    }
   ],
   "source": [
    "l.append(5)\n",
    "print(l)"
   ]
  },
  {
   "cell_type": "markdown",
   "metadata": {},
   "source": [
    "2. Remove"
   ]
  },
  {
   "cell_type": "code",
   "execution_count": 25,
   "metadata": {},
   "outputs": [],
   "source": [
    "#list.remove(value)"
   ]
  },
  {
   "cell_type": "code",
   "execution_count": 26,
   "metadata": {},
   "outputs": [
    {
     "name": "stdout",
     "output_type": "stream",
     "text": [
      "['oil', 'eggs', 'milk', 'sugar']\n"
     ]
    }
   ],
   "source": [
    "l=[\"oil\",\"eggs\",\"milk\",\"sugar\"]\n",
    "print(l)"
   ]
  },
  {
   "cell_type": "code",
   "execution_count": 27,
   "metadata": {},
   "outputs": [
    {
     "name": "stdout",
     "output_type": "stream",
     "text": [
      "['oil', 'eggs', 'sugar']\n"
     ]
    }
   ],
   "source": [
    "l.remove(\"milk\")\n",
    "print (l)"
   ]
  },
  {
   "cell_type": "markdown",
   "metadata": {},
   "source": [
    "3. POP"
   ]
  },
  {
   "cell_type": "code",
   "execution_count": 28,
   "metadata": {},
   "outputs": [],
   "source": [
    "#list.pop(index)"
   ]
  },
  {
   "cell_type": "code",
   "execution_count": 29,
   "metadata": {},
   "outputs": [
    {
     "name": "stdout",
     "output_type": "stream",
     "text": [
      "['oil', 'eggs', 'milk', 'sugar']\n"
     ]
    }
   ],
   "source": [
    "l=[\"oil\",\"eggs\",\"milk\",\"sugar\"]\n",
    "print(l)"
   ]
  },
  {
   "cell_type": "code",
   "execution_count": 30,
   "metadata": {},
   "outputs": [
    {
     "name": "stdout",
     "output_type": "stream",
     "text": [
      "['oil', 'milk', 'sugar']\n"
     ]
    }
   ],
   "source": [
    "l.pop(1)\n",
    "print(l)"
   ]
  },
  {
   "cell_type": "code",
   "execution_count": 31,
   "metadata": {},
   "outputs": [
    {
     "name": "stdout",
     "output_type": "stream",
     "text": [
      "['oil', 'milk']\n"
     ]
    }
   ],
   "source": [
    "l.pop()\n",
    "print(l)"
   ]
  },
  {
   "cell_type": "markdown",
   "metadata": {},
   "source": [
    "4. Insert"
   ]
  },
  {
   "cell_type": "code",
   "execution_count": 32,
   "metadata": {},
   "outputs": [],
   "source": [
    "#list.insert(position, element)"
   ]
  },
  {
   "cell_type": "code",
   "execution_count": 33,
   "metadata": {},
   "outputs": [
    {
     "name": "stdout",
     "output_type": "stream",
     "text": [
      "['oil', 'eggs', 'milk', 'sugar']\n"
     ]
    }
   ],
   "source": [
    "l=[\"oil\",\"eggs\",\"milk\",\"sugar\"]\n",
    "print(l)"
   ]
  },
  {
   "cell_type": "code",
   "execution_count": 34,
   "metadata": {},
   "outputs": [
    {
     "name": "stdout",
     "output_type": "stream",
     "text": [
      "['oil', 'eggs', 'Bread', 'milk', 'sugar']\n"
     ]
    }
   ],
   "source": [
    "l.insert(2,\"Bread\")\n",
    "print (l)"
   ]
  },
  {
   "cell_type": "markdown",
   "metadata": {},
   "source": [
    "### List with For Loop"
   ]
  },
  {
   "cell_type": "code",
   "execution_count": 35,
   "metadata": {},
   "outputs": [
    {
     "name": "stdout",
     "output_type": "stream",
     "text": [
      "oil\n",
      "eggs\n",
      "milk\n",
      "sugar\n"
     ]
    }
   ],
   "source": [
    "l=[\"oil\",\"eggs\",\"milk\",\"sugar\"] #for values\n",
    "\n",
    "for i in l:\n",
    "    print(i)"
   ]
  },
  {
   "cell_type": "code",
   "execution_count": 36,
   "metadata": {},
   "outputs": [
    {
     "name": "stdout",
     "output_type": "stream",
     "text": [
      "['oil', 'eggs', 'milk', 'sugar']\n",
      "0 => oil\n",
      "1 => eggs\n",
      "2 => milk\n",
      "3 => sugar\n"
     ]
    }
   ],
   "source": [
    "l=[\"oil\",\"eggs\",\"milk\",\"sugar\"] #for value and index\n",
    "print(l)\n",
    "\n",
    "for i in range(len(l)):\n",
    "    print(i, \"=>\", l[i])"
   ]
  },
  {
   "cell_type": "markdown",
   "metadata": {},
   "source": [
    "* Dynamic List"
   ]
  },
  {
   "cell_type": "code",
   "execution_count": 37,
   "metadata": {},
   "outputs": [
    {
     "name": "stdout",
     "output_type": "stream",
     "text": [
      "Enter no. of Students: 3\n",
      "Enter the name: akki\n",
      "Enter the name: garje\n",
      "Enter the name: keshu\n",
      "['akki', 'garje', 'keshu']\n"
     ]
    }
   ],
   "source": [
    "n=int(input(\"Enter no. of Students: \"))\n",
    "stud=[]\n",
    "for i in range(n):\n",
    "    name=input (\"Enter the name: \")\n",
    "    stud.append(name)\n",
    "\n",
    "print(stud)"
   ]
  },
  {
   "cell_type": "code",
   "execution_count": 38,
   "metadata": {},
   "outputs": [
    {
     "name": "stdout",
     "output_type": "stream",
     "text": [
      "Enter no. of Students: 3\n",
      "Enter the name: akkii\n",
      "Enter the Marks: 70\n",
      "Enter the name: garje\n",
      "Enter the Marks: 80\n",
      "Enter the name: keshu\n",
      "Enter the Marks: 90\n",
      "[['akkii', 70], ['garje', 80], ['keshu', 90]]\n"
     ]
    }
   ],
   "source": [
    "n=int(input(\"Enter no. of Students: \"))\n",
    "stud=[]\n",
    "for i in range(n):\n",
    "    name=input (\"Enter the name: \")\n",
    "    marks=int(input (\"Enter the Marks: \"))\n",
    "    stud.append([name,marks])\n",
    "print(stud)"
   ]
  },
  {
   "cell_type": "markdown",
   "metadata": {},
   "source": [
    "Membership Operator"
   ]
  },
  {
   "cell_type": "code",
   "execution_count": 39,
   "metadata": {},
   "outputs": [
    {
     "name": "stdout",
     "output_type": "stream",
     "text": [
      "True\n",
      "False\n"
     ]
    }
   ],
   "source": [
    "l=[1,2,3,4]\n",
    "print(3 in l)\n",
    "print(3 not in l)"
   ]
  },
  {
   "cell_type": "code",
   "execution_count": 40,
   "metadata": {},
   "outputs": [
    {
     "name": "stdout",
     "output_type": "stream",
     "text": [
      "Enter the Key: 2\n",
      "Found\n"
     ]
    }
   ],
   "source": [
    "l=[1,2,3,4,5,6]\n",
    "a= int(input(\"Enter the Key: \"))\n",
    "if a in l:\n",
    "    print(\"Found\")\n",
    "else:\n",
    "    print(\"Not Found\")"
   ]
  },
  {
   "cell_type": "code",
   "execution_count": 41,
   "metadata": {},
   "outputs": [
    {
     "name": "stdout",
     "output_type": "stream",
     "text": [
      "Enter the Key: 9\n",
      "Not Found\n",
      "Not Found\n",
      "Not Found\n",
      "Not Found\n",
      "Not Found\n",
      "Not Found\n"
     ]
    }
   ],
   "source": [
    "l=[1,2,3,4,5,6]\n",
    "a= int(input(\"Enter the Key: \"))\n",
    "for i in range(len(l)):\n",
    "    if l[i]==a:\n",
    "        print(\"Found at location: \", i)\n",
    "    else:\n",
    "        print(\"Not Found\")"
   ]
  },
  {
   "cell_type": "markdown",
   "metadata": {},
   "source": [
    "modify above code and correct: ans is below"
   ]
  },
  {
   "cell_type": "code",
   "execution_count": 42,
   "metadata": {
    "scrolled": true
   },
   "outputs": [
    {
     "name": "stdout",
     "output_type": "stream",
     "text": [
      "Enter the Key: 5\n",
      "Element Found at location:  4\n"
     ]
    }
   ],
   "source": [
    "l=[1,2,3,4,5,6]\n",
    "a= int(input(\"Enter the Key: \"))\n",
    "flag=0\n",
    "\n",
    "for i in range(len(l)):\n",
    "    if l[i]==a:\n",
    "        pos=i \n",
    "        flag=1\n",
    "        break \n",
    "if flag==1:\n",
    "    print(\"Element Found at location: \", pos)\n",
    "else:\n",
    "    print(\"Element Not Found\")"
   ]
  },
  {
   "cell_type": "code",
   "execution_count": 43,
   "metadata": {},
   "outputs": [],
   "source": [
    "#Home Work \n",
    "\n",
    "shop = [[\"oil\",98],[\"milk\",45]]\n",
    "\n",
    "bag= []\n",
    "bill=[]\n",
    "\n",
    "#add product\n",
    "#shop display\n",
    "#product=>\n",
    "\n",
    "\n",
    "#remove product\n",
    "\n",
    "#display bag \n",
    "\n",
    "#total bill"
   ]
  },
  {
   "cell_type": "markdown",
   "metadata": {},
   "source": [
    "Ans:"
   ]
  },
  {
   "cell_type": "code",
   "execution_count": 45,
   "metadata": {},
   "outputs": [
    {
     "name": "stdout",
     "output_type": "stream",
     "text": [
      "[['oil', 98], ['milk', 45]]\n",
      "Enter choice 1 to buy oil.\n",
      " Enter choice 2 to buy milk.\n",
      " Enter choice 3 to return milk.\n",
      " Enter choice 4 to display total bill:1\n",
      "[['oil', 98]]\n",
      "[98]\n",
      "[['milk', 45]]\n",
      "Enter choice 1 to buy oil.\n",
      " Enter choice 2 to buy milk.\n",
      " Enter choice 3 to return milk.\n",
      " Enter choice 4 to display total bill:2\n",
      "[['oil', 98], ['milk', 45]]\n",
      "[98, 45]\n",
      "[]\n",
      "Enter choice 1 to buy oil.\n",
      " Enter choice 2 to buy milk.\n",
      " Enter choice 3 to return milk.\n",
      " Enter choice 4 to display total bill:3\n",
      "[['oil', 98]]\n",
      "[98]\n",
      "[['milk', 45]]\n",
      "Enter choice 1 to buy oil.\n",
      " Enter choice 2 to buy milk.\n",
      " Enter choice 3 to return milk.\n",
      " Enter choice 4 to display total bill:4\n",
      "total bill= [98]\n"
     ]
    }
   ],
   "source": [
    "shop=[[\"oil\",98],[\"milk\",45]]\n",
    "print(shop)\n",
    "bag=[]\n",
    "bill=[]\n",
    "ch=0\n",
    "while(ch<4):\n",
    "    ch=int(input(\"Enter choice 1 to buy oil.\\n Enter choice 2 to buy milk.\\n Enter choice 3 to return milk.\\n Enter choice 4 to display total bill:\"))\n",
    "  \n",
    "    if (ch==1):\n",
    "        bag.append([\"oil\",98])\n",
    "        print(bag)\n",
    "        bill.append(98)\n",
    "        print(bill)\n",
    "        shop.remove([\"oil\",98])\n",
    "        print(shop)\n",
    "    elif (ch==2):\n",
    "        bag.append([\"milk\",45])\n",
    "        shop.remove([\"milk\",45])\n",
    "        print(bag) \n",
    "        bill.append(45)\n",
    "        print(bill)\n",
    "        print(shop)\n",
    "    elif (ch==3):\n",
    "        bag.remove([\"milk\",45])\n",
    "        shop.append([\"milk\",45])\n",
    "        print(bag)\n",
    "        bill.remove(45)\n",
    "        print(bill)\n",
    "        print(shop)\n",
    "    elif (ch==4):\n",
    "        print(\"total bill=\", bill)"
   ]
  },
  {
   "cell_type": "markdown",
   "metadata": {},
   "source": [
    "another ans from mam"
   ]
  },
  {
   "cell_type": "code",
   "execution_count": 46,
   "metadata": {},
   "outputs": [
    {
     "name": "stdout",
     "output_type": "stream",
     "text": [
      "1.Add product\n",
      "2.Remove product\n",
      "Enter the number: 1\n",
      "[['oil', 98], ['milk', 45], ['sugar', 35]]\n",
      "Enter the product: oil\n",
      "Product added in bag!\n",
      "Enter the number: 2\n",
      "['oil']\n",
      "Enter the product: sugar\n",
      "Enter the number: 3\n",
      "['oil']\n",
      "[98]\n",
      "Enter the number: 4\n",
      "98\n",
      "Enter the number: 5\n"
     ]
    }
   ],
   "source": [
    "shop=[[\"oil\",98],[\"milk\",45],[\"sugar\",35]]\n",
    "print (\"1.Add product\\n2.Remove product\")\n",
    "bag=[]\n",
    "bill=[]\n",
    "ch=0\n",
    "flag=0\n",
    "while(ch<5):\n",
    "    ch=int(input (\"Enter the number: \"))\n",
    "    if ch==1:\n",
    "        print (shop)\n",
    "        prod=input (\"Enter the product: \")\n",
    "        for item in shop:\n",
    "            if prod==item[0]:\n",
    "                bag.append(item[0])\n",
    "                bill.append(item[1])\n",
    "                flag=1\n",
    "                break \n",
    "        if flag==1:\n",
    "            print(\"Product added in bag!\")\n",
    "        else:\n",
    "            print (\"product not available in shop!\")\n",
    "    elif ch==2:\n",
    "        print(bag)\n",
    "        prod=input(\"Enter the product: \")\n",
    "        for i in range(len(bag)):\n",
    "            if prod==bag[i]:\n",
    "                bag.remove(prod)\n",
    "                bill.pop(i)\n",
    "                print(\"Product Removed!\")\n",
    "                break \n",
    "    elif ch==3:\n",
    "        print (bag)\n",
    "        print (bill)\n",
    "    elif ch==4:\n",
    "        total=0\n",
    "        for i in bill:\n",
    "            total=total+i \n",
    "        print(total)"
   ]
  },
  {
   "cell_type": "code",
   "execution_count": 47,
   "metadata": {},
   "outputs": [
    {
     "name": "stdout",
     "output_type": "stream",
     "text": [
      "87\n"
     ]
    }
   ],
   "source": [
    "marks=[45,67,23,12,87]\n",
    "\n",
    "high= marks[0]\n",
    "for i in marks:\n",
    "    if i>high:\n",
    "        high=i \n",
    "print (high)"
   ]
  },
  {
   "cell_type": "code",
   "execution_count": 48,
   "metadata": {},
   "outputs": [
    {
     "name": "stdout",
     "output_type": "stream",
     "text": [
      "12\n"
     ]
    }
   ],
   "source": [
    "marks=[45,67,23,12,87]\n",
    "\n",
    "low= marks[0]\n",
    "for i in marks:\n",
    "    if i<low:\n",
    "        low=i \n",
    "print (low)"
   ]
  },
  {
   "cell_type": "code",
   "execution_count": 49,
   "metadata": {},
   "outputs": [
    {
     "name": "stdout",
     "output_type": "stream",
     "text": [
      "45\n"
     ]
    }
   ],
   "source": [
    "marks=[45,67,23,12,87]\n",
    "high= marks[0]\n",
    "for i in range(len(marks)):\n",
    "    if i>high:\n",
    "        print(\"location\", high)\n",
    "        high=i \n",
    "print (high)"
   ]
  }
 ],
 "metadata": {
  "kernelspec": {
   "display_name": "Python 3",
   "language": "python",
   "name": "python3"
  },
  "language_info": {
   "codemirror_mode": {
    "name": "ipython",
    "version": 3
   },
   "file_extension": ".py",
   "mimetype": "text/x-python",
   "name": "python",
   "nbconvert_exporter": "python",
   "pygments_lexer": "ipython3",
   "version": "3.7.3"
  }
 },
 "nbformat": 4,
 "nbformat_minor": 2
}
