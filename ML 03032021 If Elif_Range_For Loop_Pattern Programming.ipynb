{
 "cells": [
  {
   "cell_type": "code",
   "execution_count": 1,
   "metadata": {},
   "outputs": [
    {
     "name": "stdout",
     "output_type": "stream",
     "text": [
      "Enter your age: 45\n"
     ]
    }
   ],
   "source": [
    "age = int(input(\"Enter your age: \"))"
   ]
  },
  {
   "cell_type": "code",
   "execution_count": 2,
   "metadata": {},
   "outputs": [
    {
     "name": "stdout",
     "output_type": "stream",
     "text": [
      "You are Younger\n"
     ]
    }
   ],
   "source": [
    "if (age<18):\n",
    "    print(\"You are Children\")\n",
    "elif (age<=50):\n",
    "    print(\"You are Younger\")\n",
    "else:\n",
    "    print(\"You are Older\")"
   ]
  },
  {
   "cell_type": "markdown",
   "metadata": {},
   "source": [
    "### another example"
   ]
  },
  {
   "cell_type": "code",
   "execution_count": 3,
   "metadata": {
    "scrolled": true
   },
   "outputs": [
    {
     "name": "stdout",
     "output_type": "stream",
     "text": [
      "Enter age: 25\n",
      "Enter age: 14\n",
      "Enter age: 99\n",
      "a is Younger\n",
      "b is Children\n",
      "c is Older\n"
     ]
    }
   ],
   "source": [
    "a = int(input (\"Enter age: \"))\n",
    "b = int(input (\"Enter age: \"))\n",
    "c = int(input (\"Enter age: \"))\n",
    "if (a<18):\n",
    "    print(\"a is Children\")\n",
    "elif (a<=50):\n",
    "    print(\"a is Younger\")\n",
    "else:\n",
    "    print(\"a Older\")\n",
    "        \n",
    "if (b<18):\n",
    "    print(\"b is Children\")\n",
    "elif (b<=50):\n",
    "    print(\"b is Younger\")\n",
    "else:\n",
    "    print(\"b is Older\")\n",
    "    \n",
    "if (c<18):\n",
    "    print(\"c is Children\")\n",
    "elif (c<=50):\n",
    "    print(\"c is ounger\")\n",
    "else:\n",
    "    print(\"c is Older\")"
   ]
  },
  {
   "cell_type": "markdown",
   "metadata": {},
   "source": [
    "## Range Method"
   ]
  },
  {
   "cell_type": "markdown",
   "metadata": {},
   "source": [
    "Generate sequence of number"
   ]
  },
  {
   "cell_type": "code",
   "execution_count": 4,
   "metadata": {},
   "outputs": [
    {
     "name": "stdout",
     "output_type": "stream",
     "text": [
      "[1, 2, 3, 4]\n",
      "[1, 3, 5, 7, 9]\n",
      "[0, 1, 2, 3, 4, 5]\n",
      "[10, 9, 8, 7, 6, 5, 4, 3, 2]\n"
     ]
    }
   ],
   "source": [
    "#range(start, stop, step)\n",
    "\n",
    "print(list(range(1,5)))\n",
    "\n",
    "print(list(range(1,10,2)))\n",
    "\n",
    "print(list(range(6)))\n",
    "\n",
    "print(list(range(10,1,-1)))"
   ]
  },
  {
   "cell_type": "code",
   "execution_count": 5,
   "metadata": {},
   "outputs": [
    {
     "name": "stdout",
     "output_type": "stream",
     "text": [
      "[1, 2, 3, 4, 5, 6, 7, 8, 9]\n"
     ]
    }
   ],
   "source": [
    "print (list(range (1,10)))"
   ]
  },
  {
   "cell_type": "code",
   "execution_count": 6,
   "metadata": {},
   "outputs": [
    {
     "name": "stdout",
     "output_type": "stream",
     "text": [
      "[0, 2, 4, 6, 8]\n"
     ]
    }
   ],
   "source": [
    "print (list(range(0,10,2))) #even number"
   ]
  },
  {
   "cell_type": "code",
   "execution_count": 7,
   "metadata": {},
   "outputs": [
    {
     "name": "stdout",
     "output_type": "stream",
     "text": [
      "[1, 3, 5, 7, 9]\n"
     ]
    }
   ],
   "source": [
    "print (list(range (1,10,2))) #odd number"
   ]
  },
  {
   "cell_type": "code",
   "execution_count": 8,
   "metadata": {},
   "outputs": [
    {
     "name": "stdout",
     "output_type": "stream",
     "text": [
      "[10, 9, 8, 7, 6, 5, 4, 3, 2]\n"
     ]
    }
   ],
   "source": [
    "print (list(range(10,1,-1))) #reverse number"
   ]
  },
  {
   "cell_type": "code",
   "execution_count": 9,
   "metadata": {},
   "outputs": [
    {
     "name": "stdout",
     "output_type": "stream",
     "text": [
      "[11, 9, 7, 5, 3]\n"
     ]
    }
   ],
   "source": [
    "print (list(range (11,1,-2))) #reverse odd number"
   ]
  },
  {
   "cell_type": "code",
   "execution_count": 10,
   "metadata": {},
   "outputs": [
    {
     "name": "stdout",
     "output_type": "stream",
     "text": [
      "[10, 8, 6, 4, 2]\n"
     ]
    }
   ],
   "source": [
    "print(list(range(10,1,-2))) #reverse even number"
   ]
  },
  {
   "cell_type": "markdown",
   "metadata": {},
   "source": [
    "## Loop"
   ]
  },
  {
   "cell_type": "code",
   "execution_count": 11,
   "metadata": {},
   "outputs": [
    {
     "name": "stdout",
     "output_type": "stream",
     "text": [
      "0\n",
      "Hello World!\n",
      "1\n",
      "Hello World!\n",
      "2\n",
      "Hello World!\n",
      "3\n",
      "Hello World!\n",
      "4\n",
      "Hello World!\n"
     ]
    }
   ],
   "source": [
    "#for i in sequence\n",
    "#0,1,2,3,4\n",
    "\n",
    "for i in range(5):\n",
    "    print (i)\n",
    "    print (\"Hello World!\")"
   ]
  },
  {
   "cell_type": "markdown",
   "metadata": {},
   "source": [
    "### Nested for Loop"
   ]
  },
  {
   "cell_type": "code",
   "execution_count": 12,
   "metadata": {},
   "outputs": [
    {
     "name": "stdout",
     "output_type": "stream",
     "text": [
      "outer loop : 0\n",
      "inner loop : 0\n",
      "inner loop : 1\n",
      "inner loop : 2\n",
      "inner loop : 3\n",
      "outer loop : 1\n",
      "inner loop : 0\n",
      "inner loop : 1\n",
      "inner loop : 2\n",
      "inner loop : 3\n"
     ]
    }
   ],
   "source": [
    "for i in range(2):\n",
    "    print(\"outer loop :\", i)\n",
    "    for j in range(4):\n",
    "        print(\"inner loop :\", j)"
   ]
  },
  {
   "cell_type": "markdown",
   "metadata": {},
   "source": [
    "## Pattern Programming"
   ]
  },
  {
   "cell_type": "code",
   "execution_count": 13,
   "metadata": {},
   "outputs": [
    {
     "name": "stdout",
     "output_type": "stream",
     "text": [
      "*\n",
      "**\n",
      "***\n",
      "****\n",
      "*****\n",
      "******\n",
      "*******\n",
      "********\n",
      "*********\n",
      "**********\n"
     ]
    }
   ],
   "source": [
    "n = 10\n",
    "\n",
    "for i in range(n):\n",
    "    for j in range(i+1):\n",
    "        print (\"*\", end=\"\")\n",
    "    print()"
   ]
  },
  {
   "cell_type": "code",
   "execution_count": 14,
   "metadata": {},
   "outputs": [
    {
     "name": "stdout",
     "output_type": "stream",
     "text": [
      "**********\n",
      "*********\n",
      "********\n",
      "*******\n",
      "******\n",
      "*****\n",
      "****\n",
      "***\n",
      "**\n",
      "*\n"
     ]
    }
   ],
   "source": [
    "n = 10\n",
    "for i in range(n):\n",
    "    for j in range(n-i):\n",
    "        print (\"*\", end=\"\")\n",
    "    print()"
   ]
  },
  {
   "cell_type": "code",
   "execution_count": 15,
   "metadata": {},
   "outputs": [
    {
     "name": "stdout",
     "output_type": "stream",
     "text": [
      "         *\n",
      "        **\n",
      "       ***\n",
      "      ****\n",
      "     *****\n",
      "    ******\n",
      "   *******\n",
      "  ********\n",
      " *********\n",
      "**********\n"
     ]
    }
   ],
   "source": [
    "n = 10\n",
    "for i in range(n):\n",
    "    for j in range(n-i-1):\n",
    "        print (\" \", end=\"\")\n",
    "    for k in range(i+1):\n",
    "        print (\"*\", end=\"\")\n",
    "    print()"
   ]
  },
  {
   "cell_type": "code",
   "execution_count": 16,
   "metadata": {},
   "outputs": [
    {
     "name": "stdout",
     "output_type": "stream",
     "text": [
      "*\n",
      "**\n",
      "***\n",
      "****\n",
      "*****\n",
      "****\n",
      "***\n",
      "**\n",
      "*\n"
     ]
    }
   ],
   "source": [
    "n = 9\n",
    "mid = int(n/2)\n",
    "\n",
    "for i in range(n):\n",
    "    if i <= mid:\n",
    "        for j in range(i+1):\n",
    "            print(\"*\", end=\"\")\n",
    "    else:\n",
    "        for j in range(n-i):\n",
    "            print(\"*\", end=\"\")\n",
    "    print()"
   ]
  },
  {
   "cell_type": "code",
   "execution_count": 17,
   "metadata": {},
   "outputs": [
    {
     "name": "stdout",
     "output_type": "stream",
     "text": [
      "    *\n",
      "   **\n",
      "  ***\n",
      " ****\n",
      "*****\n",
      " ****\n",
      "  ***\n",
      "   **\n",
      "    *\n"
     ]
    }
   ],
   "source": [
    "n = 9\n",
    "mid = int(n/2)\n",
    "for i in range(n):\n",
    "    if i <= mid:\n",
    "        for j in range(mid-i):\n",
    "            print(\" \", end=\"\")\n",
    "        for k in range(i+1):\n",
    "            print(\"*\", end=\"\")\n",
    "    else:\n",
    "        for j in range(i-mid):\n",
    "            print(\" \", end=\"\")\n",
    "        for k in range(n-i):\n",
    "            print(\"*\", end=\"\")\n",
    "    print()"
   ]
  }
 ],
 "metadata": {
  "kernelspec": {
   "display_name": "Python 3",
   "language": "python",
   "name": "python3"
  },
  "language_info": {
   "codemirror_mode": {
    "name": "ipython",
    "version": 3
   },
   "file_extension": ".py",
   "mimetype": "text/x-python",
   "name": "python",
   "nbconvert_exporter": "python",
   "pygments_lexer": "ipython3",
   "version": "3.7.3"
  }
 },
 "nbformat": 4,
 "nbformat_minor": 2
}
