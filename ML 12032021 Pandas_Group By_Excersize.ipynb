{
 "cells": [
  {
   "cell_type": "code",
   "execution_count": 1,
   "metadata": {},
   "outputs": [],
   "source": [
    "import pandas as pd \n",
    "import numpy as np"
   ]
  },
  {
   "cell_type": "code",
   "execution_count": 2,
   "metadata": {},
   "outputs": [],
   "source": [
    "url=\"https://raw.githubusercontent.com/akshayvanjare8/datset/main/Teams.csv\"\n",
    "\n",
    "url1=\"https://raw.githubusercontent.com/akshayvanjare8/datset/main/Automobile_dataset.csv\""
   ]
  },
  {
   "cell_type": "code",
   "execution_count": 3,
   "metadata": {},
   "outputs": [],
   "source": [
    "team=pd.read_csv(url)\n",
    "\n",
    "automobile=pd.read_csv(url1)"
   ]
  },
  {
   "cell_type": "code",
   "execution_count": 4,
   "metadata": {},
   "outputs": [
    {
     "name": "stdout",
     "output_type": "stream",
     "text": [
      "   Points  Rank    Team  Year\n",
      "0     876     1  Riders  2014\n",
      "1     789     2  Riders  2015\n",
      "2     863     2  Devils  2014\n",
      "3     673     3  Devils  2015\n",
      "4     741     3   Kings  2014\n"
     ]
    }
   ],
   "source": [
    "print(team.head())"
   ]
  },
  {
   "cell_type": "code",
   "execution_count": 5,
   "metadata": {},
   "outputs": [
    {
     "name": "stdout",
     "output_type": "stream",
     "text": [
      "   index      company   body-style  wheel-base  length engine-type  \\\n",
      "0      0  alfa-romero  convertible        88.6   168.8        dohc   \n",
      "1      1  alfa-romero  convertible        88.6   168.8        dohc   \n",
      "2      2  alfa-romero    hatchback        94.5   171.2        ohcv   \n",
      "3      3         audi        sedan        99.8   176.6         ohc   \n",
      "4      4         audi        sedan        99.4   176.6         ohc   \n",
      "\n",
      "  num-of-cylinders  horsepower  average-mileage    price  \n",
      "0             four         111               21  13495.0  \n",
      "1             four         111               21  16500.0  \n",
      "2              six         154               19  16500.0  \n",
      "3             four         102               24  13950.0  \n",
      "4             five         115               18  17450.0  \n"
     ]
    }
   ],
   "source": [
    "print(automobile.head())"
   ]
  },
  {
   "cell_type": "markdown",
   "metadata": {},
   "source": [
    "#### group by continue........"
   ]
  },
  {
   "cell_type": "raw",
   "metadata": {},
   "source": [
    "#syntex => dataframe.groupby(\"column name\")"
   ]
  },
  {
   "cell_type": "code",
   "execution_count": 7,
   "metadata": {},
   "outputs": [],
   "source": [
    "teams=team.groupby(\"Team\")"
   ]
  },
  {
   "cell_type": "code",
   "execution_count": 8,
   "metadata": {},
   "outputs": [
    {
     "name": "stdout",
     "output_type": "stream",
     "text": [
      "{'Devils': Int64Index([2, 3], dtype='int64'), 'Kings': Int64Index([4, 5, 6, 7], dtype='int64'), 'Riders': Int64Index([0, 1, 8, 11], dtype='int64'), 'Royals': Int64Index([9, 10], dtype='int64')}\n"
     ]
    }
   ],
   "source": [
    "print(teams.groups)"
   ]
  },
  {
   "cell_type": "code",
   "execution_count": 9,
   "metadata": {},
   "outputs": [
    {
     "name": "stdout",
     "output_type": "stream",
     "text": [
      "   Points  Rank    Team  Year\n",
      "2     863     2  Devils  2014\n",
      "3     673     3  Devils  2015\n"
     ]
    }
   ],
   "source": [
    "#syntex => groupby_variable.get_group(\"category\")\n",
    "\n",
    "devils=teams.get_group(\"Devils\")\n",
    "\n",
    "print(devils)"
   ]
  },
  {
   "cell_type": "code",
   "execution_count": 10,
   "metadata": {},
   "outputs": [
    {
     "name": "stdout",
     "output_type": "stream",
     "text": [
      "768.0\n"
     ]
    }
   ],
   "source": [
    "#average points of devils team \n",
    "\n",
    "print(devils[\"Points\"].mean())"
   ]
  },
  {
   "cell_type": "markdown",
   "metadata": {},
   "source": [
    "### Exercise"
   ]
  },
  {
   "cell_type": "code",
   "execution_count": 11,
   "metadata": {},
   "outputs": [],
   "source": [
    "#1. Group by the team and display all teams \n",
    "\n",
    "Teams=team.groupby(\"Team\")\n",
    "#"
   ]
  },
  {
   "cell_type": "code",
   "execution_count": 12,
   "metadata": {},
   "outputs": [
    {
     "name": "stdout",
     "output_type": "stream",
     "text": [
      "{'Devils': Int64Index([2, 3], dtype='int64'), 'Kings': Int64Index([4, 5, 6, 7], dtype='int64'), 'Riders': Int64Index([0, 1, 8, 11], dtype='int64'), 'Royals': Int64Index([9, 10], dtype='int64')}\n"
     ]
    }
   ],
   "source": [
    "print(Teams.groups)"
   ]
  },
  {
   "cell_type": "code",
   "execution_count": 13,
   "metadata": {},
   "outputs": [
    {
     "name": "stdout",
     "output_type": "stream",
     "text": [
      "    Points  Rank    Team  Year\n",
      "0      876     1  Riders  2014\n",
      "1      789     2  Riders  2015\n",
      "8      694     2  Riders  2016\n",
      "11     690     2  Riders  2017\n"
     ]
    }
   ],
   "source": [
    "#2. print all riders teams details \n",
    "\n",
    "riders=teams.get_group(\"Riders\")\n",
    "print(riders)"
   ]
  },
  {
   "cell_type": "code",
   "execution_count": 14,
   "metadata": {},
   "outputs": [
    {
     "name": "stdout",
     "output_type": "stream",
     "text": [
      "{2014: Int64Index([0, 2, 4, 9], dtype='int64'), 2015: Int64Index([1, 3, 5, 10], dtype='int64'), 2016: Int64Index([6, 8], dtype='int64'), 2017: Int64Index([7, 11], dtype='int64')}\n"
     ]
    }
   ],
   "source": [
    "#3. print the maximum pints of the year 2014\n",
    "\n",
    "year=team.groupby(\"Year\")\n",
    "print(year.groups)\n",
    "\n",
    "#"
   ]
  },
  {
   "cell_type": "code",
   "execution_count": 15,
   "metadata": {},
   "outputs": [
    {
     "name": "stdout",
     "output_type": "stream",
     "text": [
      "   Points  Rank    Team  Year\n",
      "0     876     1  Riders  2014\n",
      "2     863     2  Devils  2014\n",
      "4     741     3   Kings  2014\n",
      "9     701     4  Royals  2014\n"
     ]
    }
   ],
   "source": [
    "year1=year.get_group(2014)\n",
    "print(year1)"
   ]
  },
  {
   "cell_type": "code",
   "execution_count": 16,
   "metadata": {},
   "outputs": [
    {
     "name": "stdout",
     "output_type": "stream",
     "text": [
      "876\n"
     ]
    }
   ],
   "source": [
    "print(year1[\"Points\"].max())"
   ]
  },
  {
   "cell_type": "code",
   "execution_count": 17,
   "metadata": {},
   "outputs": [],
   "source": [
    "#4. Print all ranks 1 teams \n",
    "\n",
    "#\n",
    "\n",
    "rank=team.groupby(\"Rank\")"
   ]
  },
  {
   "cell_type": "code",
   "execution_count": 18,
   "metadata": {},
   "outputs": [
    {
     "name": "stdout",
     "output_type": "stream",
     "text": [
      "0     Riders\n",
      "6      Kings\n",
      "7      Kings\n",
      "10    Royals\n",
      "Name: Team, dtype: object\n"
     ]
    }
   ],
   "source": [
    "rank_one=rank.get_group(1)\n",
    "print(rank_one[\"Team\"])"
   ]
  },
  {
   "cell_type": "code",
   "execution_count": 19,
   "metadata": {},
   "outputs": [
    {
     "name": "stdout",
     "output_type": "stream",
     "text": [
      "{'Devils': Int64Index([2, 3], dtype='int64'), 'Kings': Int64Index([4, 5, 6, 7], dtype='int64'), 'Riders': Int64Index([0, 1, 8, 11], dtype='int64'), 'Royals': Int64Index([9, 10], dtype='int64')}\n",
      "Team\n",
      "Devils    863\n",
      "Kings     812\n",
      "Riders    876\n",
      "Royals    804\n",
      "Name: Points, dtype: int64\n"
     ]
    }
   ],
   "source": [
    "#5. print each team highest points \n",
    "\n",
    "teams=team.groupby(\"Team\")\n",
    "\n",
    "print(teams.groups)\n",
    "\n",
    "print(teams[\"Points\"].max())"
   ]
  },
  {
   "cell_type": "code",
   "execution_count": 20,
   "metadata": {},
   "outputs": [
    {
     "name": "stdout",
     "output_type": "stream",
     "text": [
      "Team\n",
      "Devils    768.00\n",
      "Kings     774.25\n",
      "Riders    762.25\n",
      "Royals    752.50\n",
      "Name: Points, dtype: float64\n"
     ]
    }
   ],
   "source": [
    "#6. print average points of each team \n",
    "\n",
    "print(teams[\"Points\"].mean())"
   ]
  },
  {
   "cell_type": "markdown",
   "metadata": {},
   "source": [
    "### Exercise Team Dataset"
   ]
  },
  {
   "cell_type": "markdown",
   "metadata": {},
   "source": [
    "#1 select the first value from the points column of data sets assigning it to variable first_point\n",
    "#2 Select first row of data (the first record)\n",
    "#3 selecting first 10 values from the year columns in data set\n",
    "#4 select records with index labels 1235 and Kate assigning the results to the variable sample records\n",
    "#5 create a variable df containing variable containing the rank points table columns of the records with index labels 0 5 10\n",
    "#6 create a variable DF containing that will antrang columns of the last 5 records\n",
    "#7 create a variable df containing all even index labelsOutput should look like this=>\n",
    "#8 create a variable df containing all odd index labelsOutput should look like this=>"
   ]
  },
  {
   "cell_type": "code",
   "execution_count": 23,
   "metadata": {},
   "outputs": [
    {
     "name": "stdout",
     "output_type": "stream",
     "text": [
      "    Points  Rank    Team  Year\n",
      "0      876     1  Riders  2014\n",
      "1      789     2  Riders  2015\n",
      "2      863     2  Devils  2014\n",
      "3      673     3  Devils  2015\n",
      "4      741     3   Kings  2014\n",
      "5      812     4   Kings  2015\n",
      "6      756     1   Kings  2016\n",
      "7      788     1   Kings  2017\n",
      "8      694     2  Riders  2016\n",
      "9      701     4  Royals  2014\n",
      "10     804     1  Royals  2015\n",
      "11     690     2  Riders  2017\n",
      "876\n"
     ]
    }
   ],
   "source": [
    "#1.\n",
    "\n",
    "print(team)\n",
    "\n",
    "\n",
    "first_point = team.loc[0,\"Points\"]\n",
    "\n",
    "print(first_point)"
   ]
  },
  {
   "cell_type": "code",
   "execution_count": 24,
   "metadata": {},
   "outputs": [
    {
     "name": "stdout",
     "output_type": "stream",
     "text": [
      "Points       876\n",
      "Rank           1\n",
      "Team      Riders\n",
      "Year        2014\n",
      "Name: 0, dtype: object\n"
     ]
    }
   ],
   "source": [
    "#2. \n",
    "first_row=team.loc[0,]\n",
    "print(first_row)"
   ]
  },
  {
   "cell_type": "code",
   "execution_count": 25,
   "metadata": {},
   "outputs": [
    {
     "data": {
      "text/plain": [
       "0     2014\n",
       "1     2015\n",
       "2     2014\n",
       "3     2015\n",
       "4     2014\n",
       "5     2015\n",
       "6     2016\n",
       "7     2017\n",
       "8     2016\n",
       "9     2014\n",
       "10    2015\n",
       "Name: Year, dtype: int64"
      ]
     },
     "execution_count": 25,
     "metadata": {},
     "output_type": "execute_result"
    }
   ],
   "source": [
    "#3.\n",
    "team.iloc[:11,-1]"
   ]
  },
  {
   "cell_type": "code",
   "execution_count": 26,
   "metadata": {},
   "outputs": [
    {
     "name": "stdout",
     "output_type": "stream",
     "text": [
      "   Points  Rank    Team  Year\n",
      "1     789     2  Riders  2015\n",
      "2     863     2  Devils  2014\n",
      "3     673     3  Devils  2015\n",
      "5     812     4   Kings  2015\n",
      "8     694     2  Riders  2016\n"
     ]
    }
   ],
   "source": [
    "#4.\n",
    "sample_records=team.loc[[1,2,3,5,8],]\n",
    "print(sample_records)"
   ]
  },
  {
   "cell_type": "code",
   "execution_count": 27,
   "metadata": {},
   "outputs": [
    {
     "name": "stdout",
     "output_type": "stream",
     "text": [
      "    Rank  Points    Team\n",
      "0      1     876  Riders\n",
      "5      4     812   Kings\n",
      "10     1     804  Royals\n"
     ]
    }
   ],
   "source": [
    "#5.\n",
    "\n",
    "df=team.loc[[0,5,10],[\"Rank\",\"Points\",\"Team\"]]\n",
    "print(df)"
   ]
  },
  {
   "cell_type": "code",
   "execution_count": 28,
   "metadata": {},
   "outputs": [
    {
     "name": "stdout",
     "output_type": "stream",
     "text": [
      "    Rank    Team\n",
      "7      1   Kings\n",
      "8      2  Riders\n",
      "9      4  Royals\n",
      "10     1  Royals\n",
      "11     2  Riders\n",
      "    Rank    Team\n",
      "7      1   Kings\n",
      "8      2  Riders\n",
      "9      4  Royals\n",
      "10     1  Royals\n",
      "11     2  Riders\n"
     ]
    }
   ],
   "source": [
    "#6.\n",
    "print(team.iloc[-5:,1:3])\n",
    "\n",
    "print(team.tail(5).iloc[::,1:3])"
   ]
  },
  {
   "cell_type": "code",
   "execution_count": 29,
   "metadata": {},
   "outputs": [
    {
     "name": "stdout",
     "output_type": "stream",
     "text": [
      "    Points  Rank    Team  Year\n",
      "0      876     1  Riders  2014\n",
      "2      863     2  Devils  2014\n",
      "4      741     3   Kings  2014\n",
      "6      756     1   Kings  2016\n",
      "8      694     2  Riders  2016\n",
      "10     804     1  Royals  2015\n"
     ]
    }
   ],
   "source": [
    "#7.\n",
    "df=team.iloc[::2,]\n",
    "print(df)"
   ]
  },
  {
   "cell_type": "code",
   "execution_count": 30,
   "metadata": {},
   "outputs": [
    {
     "name": "stdout",
     "output_type": "stream",
     "text": [
      "    Points  Rank    Team  Year\n",
      "1      789     2  Riders  2015\n",
      "3      673     3  Devils  2015\n",
      "5      812     4   Kings  2015\n",
      "7      788     1   Kings  2017\n",
      "9      701     4  Royals  2014\n",
      "11     690     2  Riders  2017\n"
     ]
    }
   ],
   "source": [
    "#8\n",
    "df=team.iloc[1::2,]\n",
    "print(df)"
   ]
  },
  {
   "cell_type": "markdown",
   "metadata": {},
   "source": [
    "### Exercise Team Dataset"
   ]
  },
  {
   "cell_type": "code",
   "execution_count": 31,
   "metadata": {},
   "outputs": [
    {
     "name": "stdout",
     "output_type": "stream",
     "text": [
      "   index      company   body-style  wheel-base  length engine-type  \\\n",
      "0      0  alfa-romero  convertible        88.6   168.8        dohc   \n",
      "1      1  alfa-romero  convertible        88.6   168.8        dohc   \n",
      "2      2  alfa-romero    hatchback        94.5   171.2        ohcv   \n",
      "3      3         audi        sedan        99.8   176.6         ohc   \n",
      "4      4         audi        sedan        99.4   176.6         ohc   \n",
      "\n",
      "  num-of-cylinders  horsepower  average-mileage    price  \n",
      "0             four         111               21  13495.0  \n",
      "1             four         111               21  16500.0  \n",
      "2              six         154               19  16500.0  \n",
      "3             four         102               24  13950.0  \n",
      "4             five         115               18  17450.0  \n",
      "    index     company body-style  wheel-base  length engine-type  \\\n",
      "56     81  volkswagen      sedan        97.3   171.7         ohc   \n",
      "57     82  volkswagen      sedan        97.3   171.7         ohc   \n",
      "58     86  volkswagen      sedan        97.3   171.7         ohc   \n",
      "59     87       volvo      sedan       104.3   188.8         ohc   \n",
      "60     88       volvo      wagon       104.3   188.8         ohc   \n",
      "\n",
      "   num-of-cylinders  horsepower  average-mileage    price  \n",
      "56             four          85               27   7975.0  \n",
      "57             four          52               37   7995.0  \n",
      "58             four         100               26   9995.0  \n",
      "59             four         114               23  12940.0  \n",
      "60             four         114               23  13415.0  \n"
     ]
    }
   ],
   "source": [
    "#Question 1: From given data set print first and last five rows:\n",
    "\n",
    "print(automobile.head())\n",
    "\n",
    "\n",
    "print(automobile.tail())"
   ]
  },
  {
   "cell_type": "code",
   "execution_count": 32,
   "metadata": {},
   "outputs": [
    {
     "name": "stdout",
     "output_type": "stream",
     "text": [
      "index               0\n",
      "company             0\n",
      "body-style          0\n",
      "wheel-base          0\n",
      "length              0\n",
      "engine-type         0\n",
      "num-of-cylinders    0\n",
      "horsepower          0\n",
      "average-mileage     0\n",
      "price               3\n",
      "dtype: int64\n"
     ]
    }
   ],
   "source": [
    "#Question 2: Clean data and update the CSV file\n",
    "\n",
    "cl_auto=automobile\n",
    "\n",
    "#print(clean_automobile.isna())\n",
    "print(cl_auto.isna().sum())"
   ]
  },
  {
   "cell_type": "code",
   "execution_count": 33,
   "metadata": {},
   "outputs": [
    {
     "name": "stdout",
     "output_type": "stream",
     "text": [
      "index               0\n",
      "company             0\n",
      "body-style          0\n",
      "wheel-base          0\n",
      "length              0\n",
      "engine-type         0\n",
      "num-of-cylinders    0\n",
      "horsepower          0\n",
      "average-mileage     0\n",
      "price               0\n",
      "dtype: int64\n"
     ]
    }
   ],
   "source": [
    "cl_auto['price']=cl_auto['price'].fillna('NaN')\n",
    "#cheking null values\n",
    "print(cl_auto.isna().sum())"
   ]
  },
  {
   "cell_type": "code",
   "execution_count": 34,
   "metadata": {},
   "outputs": [
    {
     "name": "stdout",
     "output_type": "stream",
     "text": [
      "{'alfa-romero': Int64Index([0, 1, 2], dtype='int64'), 'audi': Int64Index([3, 4, 5, 6], dtype='int64'), 'bmw': Int64Index([7, 8, 9, 10, 11, 12], dtype='int64'), 'chevrolet': Int64Index([13, 14, 15], dtype='int64'), 'dodge': Int64Index([16, 17], dtype='int64'), 'honda': Int64Index([18, 19, 20], dtype='int64'), 'isuzu': Int64Index([21, 22, 23], dtype='int64'), 'jaguar': Int64Index([24, 25, 26], dtype='int64'), 'mazda': Int64Index([27, 28, 29, 30, 31], dtype='int64'), 'mercedes-benz': Int64Index([32, 33, 34, 35], dtype='int64'), 'mitsubishi': Int64Index([36, 37, 38, 39], dtype='int64'), 'nissan': Int64Index([40, 41, 42, 43, 44], dtype='int64'), 'porsche': Int64Index([45, 46, 47], dtype='int64'), 'toyota': Int64Index([48, 49, 50, 51, 52, 53, 54], dtype='int64'), 'volkswagen': Int64Index([55, 56, 57, 58], dtype='int64'), 'volvo': Int64Index([59, 60], dtype='int64')}\n"
     ]
    }
   ],
   "source": [
    "# Question 3: Find the most expensive car company name\n",
    "\n",
    "car=cl_auto.groupby('company')\n",
    "\n",
    "print(car.groups)"
   ]
  },
  {
   "cell_type": "code",
   "execution_count": 42,
   "metadata": {},
   "outputs": [],
   "source": [
    "#print(car[\"price\"].sum())"
   ]
  },
  {
   "cell_type": "code",
   "execution_count": 43,
   "metadata": {},
   "outputs": [
    {
     "name": "stdout",
     "output_type": "stream",
     "text": [
      "    index company body-style  wheel-base  length engine-type num-of-cylinders  \\\n",
      "48     66  toyota  hatchback        95.7   158.7         ohc             four   \n",
      "49     67  toyota  hatchback        95.7   158.7         ohc             four   \n",
      "50     68  toyota  hatchback        95.7   158.7         ohc             four   \n",
      "51     69  toyota      wagon        95.7   169.7         ohc             four   \n",
      "52     70  toyota      wagon        95.7   169.7         ohc             four   \n",
      "53     71  toyota      wagon        95.7   169.7         ohc             four   \n",
      "54     79  toyota      wagon       104.5   187.8        dohc              six   \n",
      "\n",
      "    horsepower  average-mileage  price  \n",
      "48          62               35   5348  \n",
      "49          62               31   6338  \n",
      "50          62               31   6488  \n",
      "51          62               31   6918  \n",
      "52          62               27   7898  \n",
      "53          62               27   8778  \n",
      "54         156               19  15750  \n"
     ]
    }
   ],
   "source": [
    "# Question 4: Print All Toyota Cars details\n",
    "\n",
    "toyota=car.get_group(\"toyota\")\n",
    "print(toyota)"
   ]
  },
  {
   "cell_type": "code",
   "execution_count": 44,
   "metadata": {},
   "outputs": [
    {
     "name": "stdout",
     "output_type": "stream",
     "text": [
      "company\n",
      "alfa-romero      3\n",
      "audi             4\n",
      "bmw              6\n",
      "chevrolet        3\n",
      "dodge            2\n",
      "honda            3\n",
      "isuzu            3\n",
      "jaguar           3\n",
      "mazda            5\n",
      "mercedes-benz    4\n",
      "mitsubishi       4\n",
      "nissan           5\n",
      "porsche          3\n",
      "toyota           7\n",
      "volkswagen       4\n",
      "volvo            2\n",
      "Name: company, dtype: int64\n"
     ]
    }
   ],
   "source": [
    "#  Question 5: Count total cars per company\n",
    "\n",
    "print(car[\"company\"].count())"
   ]
  },
  {
   "cell_type": "code",
   "execution_count": 45,
   "metadata": {},
   "outputs": [
    {
     "name": "stdout",
     "output_type": "stream",
     "text": [
      "                     company\n",
      "company                     \n",
      "alfa-romero      alfa-romero\n",
      "audi                    audi\n",
      "bmw                      bmw\n",
      "chevrolet          chevrolet\n",
      "dodge                  dodge\n",
      "honda                  honda\n",
      "isuzu                  isuzu\n",
      "jaguar                jaguar\n",
      "mazda                  mazda\n",
      "mercedes-benz  mercedes-benz\n",
      "mitsubishi        mitsubishi\n",
      "nissan                nissan\n",
      "porsche              porsche\n",
      "toyota                toyota\n",
      "volkswagen        volkswagen\n",
      "volvo                  volvo\n"
     ]
    }
   ],
   "source": [
    "# Question 6: Find each company’s Highest price car\n",
    "\n",
    "print(car[\"company\",\"price\"].max())"
   ]
  },
  {
   "cell_type": "code",
   "execution_count": 46,
   "metadata": {},
   "outputs": [
    {
     "name": "stdout",
     "output_type": "stream",
     "text": [
      "company\n",
      "alfa-romero      20.333333\n",
      "audi             20.000000\n",
      "bmw              19.000000\n",
      "chevrolet        41.000000\n",
      "dodge            31.000000\n",
      "honda            26.333333\n",
      "isuzu            33.333333\n",
      "jaguar           14.333333\n",
      "mazda            28.000000\n",
      "mercedes-benz    18.000000\n",
      "mitsubishi       29.500000\n",
      "nissan           31.400000\n",
      "porsche          17.000000\n",
      "toyota           28.714286\n",
      "volkswagen       31.750000\n",
      "volvo            23.000000\n",
      "Name: average-mileage, dtype: float64\n"
     ]
    }
   ],
   "source": [
    "# Question 7: Find the average mileage of each car making company\n",
    "\n",
    "print(car[\"average-mileage\"].mean())"
   ]
  },
  {
   "cell_type": "code",
   "execution_count": 47,
   "metadata": {},
   "outputs": [
    {
     "name": "stdout",
     "output_type": "stream",
     "text": [
      "   index      company   body-style  wheel-base  length engine-type  \\\n",
      "4      4         audi        sedan        99.4   176.6         ohc   \n",
      "1      1  alfa-romero  convertible        88.6   168.8        dohc   \n",
      "2      2  alfa-romero    hatchback        94.5   171.2        ohcv   \n",
      "3      3         audi        sedan        99.8   176.6         ohc   \n",
      "0      0  alfa-romero  convertible        88.6   168.8        dohc   \n",
      "\n",
      "  num-of-cylinders  horsepower  average-mileage  price  \n",
      "4             five         115               18  17450  \n",
      "1             four         111               21  16500  \n",
      "2              six         154               19  16500  \n",
      "3             four         102               24  13950  \n",
      "0             four         111               21  13495  \n"
     ]
    }
   ],
   "source": [
    "#Question 8: Sort all cars by Price in descending order column and display first five rows:\n",
    "\n",
    "print(cl_auto.head().sort_values(\"price\", axis=0,ascending=False))"
   ]
  },
  {
   "cell_type": "code",
   "execution_count": 48,
   "metadata": {},
   "outputs": [
    {
     "name": "stdout",
     "output_type": "stream",
     "text": [
      "              company   price\n",
      "Germany 0        Ford   23845\n",
      "        1    Mercedes  171995\n",
      "        2         BMW  135925\n",
      "        3        Audi   71400\n",
      "Japan   0      Toyota   29995\n",
      "        1       Honda   23600\n",
      "        2      Nissan   61500\n",
      "        3  Mitsubishi   58900\n"
     ]
    }
   ],
   "source": [
    "#  Question 9: Concatenate two data frames using the following conditions\n",
    "\n",
    "GermanCars={'company':[\"Ford\",\"Mercedes\",\"BMW\",\"Audi\"], 'price':[23845,171995,135925,71400]}\n",
    "GermanCars=pd.DataFrame(GermanCars)\n",
    "JapanCars={'company':[\"Toyota\",\"Honda\",\"Nissan\",\"Mitsubishi\"], 'price':[29995,23600,61500,58900]}\n",
    "JapanCars=pd.DataFrame(JapanCars)\n",
    "\n",
    "data=pd.concat((GermanCars,JapanCars), keys = [\"Germany\", \"Japan\"])\n",
    "print(data)"
   ]
  },
  {
   "cell_type": "code",
   "execution_count": 49,
   "metadata": {},
   "outputs": [
    {
     "name": "stdout",
     "output_type": "stream",
     "text": [
      "  company   price  horsepower\n",
      "0  Toyota   23845         141\n",
      "1   Honda  171995          80\n",
      "2     BMW  135925         182\n",
      "3    Audi   71400         160\n",
      "  company  horsepower     price\n",
      "0  Toyota         NaN   23845.0\n",
      "1   Honda         NaN  171995.0\n",
      "2     BMW         NaN  135925.0\n",
      "3    Audi         NaN   71400.0\n",
      "4  Toyota       141.0       NaN\n",
      "5   Honda        80.0       NaN\n",
      "6     BMW       182.0       NaN\n",
      "7    Audi       160.0       NaN\n"
     ]
    },
    {
     "name": "stderr",
     "output_type": "stream",
     "text": [
      "C:\\ProgramData\\Anaconda3\\lib\\site-packages\\pandas\\core\\frame.py:6692: FutureWarning: Sorting because non-concatenation axis is not aligned. A future version\n",
      "of pandas will change to not sort by default.\n",
      "\n",
      "To accept the future behavior, pass 'sort=False'.\n",
      "\n",
      "To retain the current behavior and silence the warning, pass 'sort=True'.\n",
      "\n",
      "  sort=sort)\n"
     ]
    }
   ],
   "source": [
    "# Question 10: Merge two data frames using the following condition\n",
    "\n",
    "Car_Price={'company':[\"Toyota\",\"Honda\",\"BMW\",\"Audi\"], 'price':[23845,171995,135925,71400]}\n",
    "Car_Price=pd.DataFrame(Car_Price)\n",
    "Horse_Power={'company':[\"Toyota\",\"Honda\",\"BMW\",\"Audi\"], 'horsepower':[141,80,182,160]}\n",
    "Horse_Power=pd.DataFrame(Horse_Power)\n",
    "\n",
    "data1=pd.merge(Car_Price,Horse_Power, on=\"company\")\n",
    "print(data1)\n",
    "\n",
    "data2=Car_Price.append(Horse_Power, ignore_index=True)\n",
    "print(data2)"
   ]
  }
 ],
 "metadata": {
  "kernelspec": {
   "display_name": "Python 3",
   "language": "python",
   "name": "python3"
  },
  "language_info": {
   "codemirror_mode": {
    "name": "ipython",
    "version": 3
   },
   "file_extension": ".py",
   "mimetype": "text/x-python",
   "name": "python",
   "nbconvert_exporter": "python",
   "pygments_lexer": "ipython3",
   "version": "3.7.3"
  }
 },
 "nbformat": 4,
 "nbformat_minor": 2
}
