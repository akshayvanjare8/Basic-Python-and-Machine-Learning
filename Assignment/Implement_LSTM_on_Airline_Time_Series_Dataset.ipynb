{
  "nbformat": 4,
  "nbformat_minor": 0,
  "metadata": {
    "colab": {
      "name": "Copy of Implement LSTM on Airline Time Series Dataset.ipynb",
      "provenance": [],
      "collapsed_sections": []
    },
    "kernelspec": {
      "name": "python3",
      "display_name": "Python 3"
    },
    "language_info": {
      "name": "python"
    }
  },
  "cells": [
    {
      "cell_type": "code",
      "metadata": {
        "id": "BVQxFA25K1w0"
      },
      "source": [
        "import pandas as pd \n",
        "import numpy as np \n",
        "import matplotlib.pyplot as plt"
      ],
      "execution_count": null,
      "outputs": []
    },
    {
      "cell_type": "code",
      "metadata": {
        "colab": {
          "base_uri": "https://localhost:8080/",
          "height": 340
        },
        "id": "JmKJYP8vLVz5",
        "outputId": "791a1f6f-2617-49fe-88f0-d8164b37a6ce"
      },
      "source": [
        "df = pd.read_csv(\"/content/international-airline-passengers.csv\")\n",
        "df.head()"
      ],
      "execution_count": null,
      "outputs": [
        {
          "output_type": "execute_result",
          "data": {
            "text/html": [
              "<div>\n",
              "<style scoped>\n",
              "    .dataframe tbody tr th:only-of-type {\n",
              "        vertical-align: middle;\n",
              "    }\n",
              "\n",
              "    .dataframe tbody tr th {\n",
              "        vertical-align: top;\n",
              "    }\n",
              "\n",
              "    .dataframe thead th {\n",
              "        text-align: right;\n",
              "    }\n",
              "</style>\n",
              "<table border=\"1\" class=\"dataframe\">\n",
              "  <thead>\n",
              "    <tr style=\"text-align: right;\">\n",
              "      <th></th>\n",
              "      <th>Month</th>\n",
              "      <th>International airline passengers: monthly totals in thousands. Jan 49 ? Dec 60</th>\n",
              "    </tr>\n",
              "  </thead>\n",
              "  <tbody>\n",
              "    <tr>\n",
              "      <th>0</th>\n",
              "      <td>1949-01</td>\n",
              "      <td>112.0</td>\n",
              "    </tr>\n",
              "    <tr>\n",
              "      <th>1</th>\n",
              "      <td>1949-02</td>\n",
              "      <td>118.0</td>\n",
              "    </tr>\n",
              "    <tr>\n",
              "      <th>2</th>\n",
              "      <td>1949-03</td>\n",
              "      <td>132.0</td>\n",
              "    </tr>\n",
              "    <tr>\n",
              "      <th>3</th>\n",
              "      <td>1949-04</td>\n",
              "      <td>129.0</td>\n",
              "    </tr>\n",
              "    <tr>\n",
              "      <th>4</th>\n",
              "      <td>1949-05</td>\n",
              "      <td>121.0</td>\n",
              "    </tr>\n",
              "  </tbody>\n",
              "</table>\n",
              "</div>"
            ],
            "text/plain": [
              "     Month  International airline passengers: monthly totals in thousands. Jan 49 ? Dec 60\n",
              "0  1949-01                                              112.0                             \n",
              "1  1949-02                                              118.0                             \n",
              "2  1949-03                                              132.0                             \n",
              "3  1949-04                                              129.0                             \n",
              "4  1949-05                                              121.0                             "
            ]
          },
          "metadata": {
            "tags": []
          },
          "execution_count": 2
        }
      ]
    },
    {
      "cell_type": "code",
      "metadata": {
        "colab": {
          "base_uri": "https://localhost:8080/"
        },
        "id": "3s-S11jOMQHg",
        "outputId": "cddca68c-f8b5-44f9-bad1-f35ff81025a6"
      },
      "source": [
        "df.info()"
      ],
      "execution_count": null,
      "outputs": [
        {
          "output_type": "stream",
          "text": [
            "<class 'pandas.core.frame.DataFrame'>\n",
            "RangeIndex: 145 entries, 0 to 144\n",
            "Data columns (total 2 columns):\n",
            " #   Column                                                                          Non-Null Count  Dtype  \n",
            "---  ------                                                                          --------------  -----  \n",
            " 0   Month                                                                           145 non-null    object \n",
            " 1   International airline passengers: monthly totals in thousands. Jan 49 ? Dec 60  144 non-null    float64\n",
            "dtypes: float64(1), object(1)\n",
            "memory usage: 2.4+ KB\n"
          ],
          "name": "stdout"
        }
      ]
    },
    {
      "cell_type": "code",
      "metadata": {
        "id": "HIgPRFthMeje"
      },
      "source": [
        "# df.columns = [['Month', 'MTIT']] #monthly total in thousands"
      ],
      "execution_count": null,
      "outputs": []
    },
    {
      "cell_type": "code",
      "metadata": {
        "colab": {
          "base_uri": "https://localhost:8080/"
        },
        "id": "RpvmLI_aRxiq",
        "outputId": "f14d09bd-0a69-42bd-b74b-c2c8f178ca09"
      },
      "source": [
        "df.columns"
      ],
      "execution_count": null,
      "outputs": [
        {
          "output_type": "execute_result",
          "data": {
            "text/plain": [
              "Index(['Month', 'International airline passengers: monthly totals in thousands. Jan 49 ? Dec 60'], dtype='object')"
            ]
          },
          "metadata": {
            "tags": []
          },
          "execution_count": 5
        }
      ]
    },
    {
      "cell_type": "code",
      "metadata": {
        "id": "LVMj_ntvRBei"
      },
      "source": [
        "df = df[[\"International airline passengers: monthly totals in thousands. Jan 49 ? Dec 60\"]]"
      ],
      "execution_count": null,
      "outputs": []
    },
    {
      "cell_type": "code",
      "metadata": {
        "id": "bbXBkTdAMp6T",
        "colab": {
          "base_uri": "https://localhost:8080/"
        },
        "outputId": "f9167e0a-8576-4d1c-9a57-749b1abb4dbb"
      },
      "source": [
        "df.isna().sum()"
      ],
      "execution_count": null,
      "outputs": [
        {
          "output_type": "execute_result",
          "data": {
            "text/plain": [
              "International airline passengers: monthly totals in thousands. Jan 49 ? Dec 60    1\n",
              "dtype: int64"
            ]
          },
          "metadata": {
            "tags": []
          },
          "execution_count": 7
        }
      ]
    },
    {
      "cell_type": "code",
      "metadata": {
        "id": "iaKrwdJGMtI0",
        "colab": {
          "base_uri": "https://localhost:8080/",
          "height": 237
        },
        "outputId": "a1740851-09f8-42dc-bacc-63ea2c4d315a"
      },
      "source": [
        "df = df.dropna()\n",
        " \n",
        "df.head()"
      ],
      "execution_count": null,
      "outputs": [
        {
          "output_type": "execute_result",
          "data": {
            "text/html": [
              "<div>\n",
              "<style scoped>\n",
              "    .dataframe tbody tr th:only-of-type {\n",
              "        vertical-align: middle;\n",
              "    }\n",
              "\n",
              "    .dataframe tbody tr th {\n",
              "        vertical-align: top;\n",
              "    }\n",
              "\n",
              "    .dataframe thead th {\n",
              "        text-align: right;\n",
              "    }\n",
              "</style>\n",
              "<table border=\"1\" class=\"dataframe\">\n",
              "  <thead>\n",
              "    <tr style=\"text-align: right;\">\n",
              "      <th></th>\n",
              "      <th>International airline passengers: monthly totals in thousands. Jan 49 ? Dec 60</th>\n",
              "    </tr>\n",
              "  </thead>\n",
              "  <tbody>\n",
              "    <tr>\n",
              "      <th>0</th>\n",
              "      <td>112.0</td>\n",
              "    </tr>\n",
              "    <tr>\n",
              "      <th>1</th>\n",
              "      <td>118.0</td>\n",
              "    </tr>\n",
              "    <tr>\n",
              "      <th>2</th>\n",
              "      <td>132.0</td>\n",
              "    </tr>\n",
              "    <tr>\n",
              "      <th>3</th>\n",
              "      <td>129.0</td>\n",
              "    </tr>\n",
              "    <tr>\n",
              "      <th>4</th>\n",
              "      <td>121.0</td>\n",
              "    </tr>\n",
              "  </tbody>\n",
              "</table>\n",
              "</div>"
            ],
            "text/plain": [
              "   International airline passengers: monthly totals in thousands. Jan 49 ? Dec 60\n",
              "0                                              112.0                             \n",
              "1                                              118.0                             \n",
              "2                                              132.0                             \n",
              "3                                              129.0                             \n",
              "4                                              121.0                             "
            ]
          },
          "metadata": {
            "tags": []
          },
          "execution_count": 8
        }
      ]
    },
    {
      "cell_type": "code",
      "metadata": {
        "colab": {
          "base_uri": "https://localhost:8080/"
        },
        "id": "RBTWyra_NMik",
        "outputId": "888148d8-dea5-4410-c115-71e6d9b96da3"
      },
      "source": [
        "train_len = int(0.8 * len(df))\n",
        "train_len"
      ],
      "execution_count": null,
      "outputs": [
        {
          "output_type": "execute_result",
          "data": {
            "text/plain": [
              "115"
            ]
          },
          "metadata": {
            "tags": []
          },
          "execution_count": 9
        }
      ]
    },
    {
      "cell_type": "code",
      "metadata": {
        "colab": {
          "base_uri": "https://localhost:8080/"
        },
        "id": "h4Cds7qkNHks",
        "outputId": "9dcc61bd-a738-4094-cac7-deb9bd15d9e2"
      },
      "source": [
        "train = df[:train_len]\n",
        "train.shape"
      ],
      "execution_count": null,
      "outputs": [
        {
          "output_type": "execute_result",
          "data": {
            "text/plain": [
              "(115, 1)"
            ]
          },
          "metadata": {
            "tags": []
          },
          "execution_count": 10
        }
      ]
    },
    {
      "cell_type": "code",
      "metadata": {
        "colab": {
          "base_uri": "https://localhost:8080/"
        },
        "id": "0D9uaGZYNIWx",
        "outputId": "2044e794-1b45-4886-b877-fd5b84a72ee0"
      },
      "source": [
        "test = df[train_len:]\n",
        "test.shape"
      ],
      "execution_count": null,
      "outputs": [
        {
          "output_type": "execute_result",
          "data": {
            "text/plain": [
              "(29, 1)"
            ]
          },
          "metadata": {
            "tags": []
          },
          "execution_count": 11
        }
      ]
    },
    {
      "cell_type": "code",
      "metadata": {
        "id": "YHNmud3-NbQ8"
      },
      "source": [
        "from sklearn.preprocessing import StandardScaler \n",
        " \n",
        "sc = StandardScaler() \n",
        " \n",
        "sc_train = sc.fit_transform(train)\n",
        "sc_test = sc.fit_transform(test)"
      ],
      "execution_count": null,
      "outputs": []
    },
    {
      "cell_type": "code",
      "metadata": {
        "id": "VG8ejfpwTCYe"
      },
      "source": [
        "def feature_transform(n_steps, data):\n",
        "  x = [] \n",
        "  y = [] \n",
        "  for i in range(n_steps, len(data)):\n",
        "    x.append(data[i-n_steps:i, 0])\n",
        "    y.append(data[i, 0])\n",
        "  return np.array(x), np.array(y)"
      ],
      "execution_count": null,
      "outputs": []
    },
    {
      "cell_type": "code",
      "metadata": {
        "id": "Ay_BnYpYTHVN"
      },
      "source": [
        "n_steps = 3"
      ],
      "execution_count": null,
      "outputs": []
    },
    {
      "cell_type": "code",
      "metadata": {
        "id": "JMj_YD3zTXFT"
      },
      "source": [
        "x_train, y_train = feature_transform(n_steps, sc_train)"
      ],
      "execution_count": null,
      "outputs": []
    },
    {
      "cell_type": "code",
      "metadata": {
        "colab": {
          "base_uri": "https://localhost:8080/"
        },
        "id": "EzNMh58OTahX",
        "outputId": "da7ef2cc-cd2c-49f7-8577-e428d51c1a82"
      },
      "source": [
        "x_train.shape, y_train.shape"
      ],
      "execution_count": null,
      "outputs": [
        {
          "output_type": "execute_result",
          "data": {
            "text/plain": [
              "((112, 3), (112,))"
            ]
          },
          "metadata": {
            "tags": []
          },
          "execution_count": 16
        }
      ]
    },
    {
      "cell_type": "code",
      "metadata": {
        "id": "4faIXdAJVabB"
      },
      "source": [
        "x_train = x_train.reshape((x_train.shape[0], x_train.shape[1], 1))"
      ],
      "execution_count": null,
      "outputs": []
    },
    {
      "cell_type": "code",
      "metadata": {
        "colab": {
          "base_uri": "https://localhost:8080/"
        },
        "id": "i9NW--VcTmNv",
        "outputId": "1a019ee8-f884-49bf-a40d-b39242b486ce"
      },
      "source": [
        "from keras.models import Sequential \n",
        "from keras.layers import LSTM, Dense \n",
        " \n",
        "model = Sequential() \n",
        " \n",
        "model.add(LSTM(200, activation = 'relu', input_shape = (n_steps, 1))) \n",
        " \n",
        "model.add(Dense(1)) \n",
        " \n",
        "model.compile(loss = 'mean_squared_error' , optimizer = 'adam') \n",
        " \n",
        "model.summary()"
      ],
      "execution_count": null,
      "outputs": [
        {
          "output_type": "stream",
          "text": [
            "Model: \"sequential_1\"\n",
            "_________________________________________________________________\n",
            "Layer (type)                 Output Shape              Param #   \n",
            "=================================================================\n",
            "lstm_1 (LSTM)                (None, 200)               161600    \n",
            "_________________________________________________________________\n",
            "dense_1 (Dense)              (None, 1)                 201       \n",
            "=================================================================\n",
            "Total params: 161,801\n",
            "Trainable params: 161,801\n",
            "Non-trainable params: 0\n",
            "_________________________________________________________________\n"
          ],
          "name": "stdout"
        }
      ]
    },
    {
      "cell_type": "code",
      "metadata": {
        "colab": {
          "base_uri": "https://localhost:8080/"
        },
        "id": "FmQi3tkST28j",
        "outputId": "40f0663a-d27f-4c28-b4d3-8a27873fc5f6"
      },
      "source": [
        "history = model.fit(x_train, y_train, epochs = 100, batch_size = 30)"
      ],
      "execution_count": null,
      "outputs": [
        {
          "output_type": "stream",
          "text": [
            "Epoch 1/100\n",
            "4/4 [==============================] - 1s 13ms/step - loss: 0.9188\n",
            "Epoch 2/100\n",
            "4/4 [==============================] - 0s 9ms/step - loss: 0.8496\n",
            "Epoch 3/100\n",
            "4/4 [==============================] - 0s 9ms/step - loss: 0.6438\n",
            "Epoch 4/100\n",
            "4/4 [==============================] - 0s 9ms/step - loss: 0.6640\n",
            "Epoch 5/100\n",
            "4/4 [==============================] - 0s 9ms/step - loss: 0.5600\n",
            "Epoch 6/100\n",
            "4/4 [==============================] - 0s 9ms/step - loss: 0.4334\n",
            "Epoch 7/100\n",
            "4/4 [==============================] - 0s 9ms/step - loss: 0.3325\n",
            "Epoch 8/100\n",
            "4/4 [==============================] - 0s 9ms/step - loss: 0.2184\n",
            "Epoch 9/100\n",
            "4/4 [==============================] - 0s 10ms/step - loss: 0.2647\n",
            "Epoch 10/100\n",
            "4/4 [==============================] - 0s 10ms/step - loss: 0.2088\n",
            "Epoch 11/100\n",
            "4/4 [==============================] - 0s 10ms/step - loss: 0.1924\n",
            "Epoch 12/100\n",
            "4/4 [==============================] - 0s 9ms/step - loss: 0.2073\n",
            "Epoch 13/100\n",
            "4/4 [==============================] - 0s 10ms/step - loss: 0.1578\n",
            "Epoch 14/100\n",
            "4/4 [==============================] - 0s 12ms/step - loss: 0.2054\n",
            "Epoch 15/100\n",
            "4/4 [==============================] - 0s 9ms/step - loss: 0.1534\n",
            "Epoch 16/100\n",
            "4/4 [==============================] - 0s 9ms/step - loss: 0.1612\n",
            "Epoch 17/100\n",
            "4/4 [==============================] - 0s 9ms/step - loss: 0.1519\n",
            "Epoch 18/100\n",
            "4/4 [==============================] - 0s 9ms/step - loss: 0.1863\n",
            "Epoch 19/100\n",
            "4/4 [==============================] - 0s 10ms/step - loss: 0.1654\n",
            "Epoch 20/100\n",
            "4/4 [==============================] - 0s 10ms/step - loss: 0.1540\n",
            "Epoch 21/100\n",
            "4/4 [==============================] - 0s 9ms/step - loss: 0.1772\n",
            "Epoch 22/100\n",
            "4/4 [==============================] - 0s 9ms/step - loss: 0.1323\n",
            "Epoch 23/100\n",
            "4/4 [==============================] - 0s 9ms/step - loss: 0.1334\n",
            "Epoch 24/100\n",
            "4/4 [==============================] - 0s 9ms/step - loss: 0.1427\n",
            "Epoch 25/100\n",
            "4/4 [==============================] - 0s 10ms/step - loss: 0.1492\n",
            "Epoch 26/100\n",
            "4/4 [==============================] - 0s 10ms/step - loss: 0.1298\n",
            "Epoch 27/100\n",
            "4/4 [==============================] - 0s 10ms/step - loss: 0.1303\n",
            "Epoch 28/100\n",
            "4/4 [==============================] - 0s 10ms/step - loss: 0.1354\n",
            "Epoch 29/100\n",
            "4/4 [==============================] - 0s 10ms/step - loss: 0.1231\n",
            "Epoch 30/100\n",
            "4/4 [==============================] - 0s 9ms/step - loss: 0.1223\n",
            "Epoch 31/100\n",
            "4/4 [==============================] - 0s 9ms/step - loss: 0.1354\n",
            "Epoch 32/100\n",
            "4/4 [==============================] - 0s 11ms/step - loss: 0.1182\n",
            "Epoch 33/100\n",
            "4/4 [==============================] - 0s 9ms/step - loss: 0.1123\n",
            "Epoch 34/100\n",
            "4/4 [==============================] - 0s 10ms/step - loss: 0.1167\n",
            "Epoch 35/100\n",
            "4/4 [==============================] - 0s 9ms/step - loss: 0.1021\n",
            "Epoch 36/100\n",
            "4/4 [==============================] - 0s 9ms/step - loss: 0.1009\n",
            "Epoch 37/100\n",
            "4/4 [==============================] - 0s 9ms/step - loss: 0.1009\n",
            "Epoch 38/100\n",
            "4/4 [==============================] - 0s 11ms/step - loss: 0.0972\n",
            "Epoch 39/100\n",
            "4/4 [==============================] - 0s 9ms/step - loss: 0.1061\n",
            "Epoch 40/100\n",
            "4/4 [==============================] - 0s 9ms/step - loss: 0.0855\n",
            "Epoch 41/100\n",
            "4/4 [==============================] - 0s 9ms/step - loss: 0.0921\n",
            "Epoch 42/100\n",
            "4/4 [==============================] - 0s 11ms/step - loss: 0.0837\n",
            "Epoch 43/100\n",
            "4/4 [==============================] - 0s 9ms/step - loss: 0.0852\n",
            "Epoch 44/100\n",
            "4/4 [==============================] - 0s 9ms/step - loss: 0.0902\n",
            "Epoch 45/100\n",
            "4/4 [==============================] - 0s 10ms/step - loss: 0.0862\n",
            "Epoch 46/100\n",
            "4/4 [==============================] - 0s 9ms/step - loss: 0.0794\n",
            "Epoch 47/100\n",
            "4/4 [==============================] - 0s 9ms/step - loss: 0.0870\n",
            "Epoch 48/100\n",
            "4/4 [==============================] - 0s 11ms/step - loss: 0.0833\n",
            "Epoch 49/100\n",
            "4/4 [==============================] - 0s 9ms/step - loss: 0.0869\n",
            "Epoch 50/100\n",
            "4/4 [==============================] - 0s 9ms/step - loss: 0.0776\n",
            "Epoch 51/100\n",
            "4/4 [==============================] - 0s 9ms/step - loss: 0.0955\n",
            "Epoch 52/100\n",
            "4/4 [==============================] - 0s 9ms/step - loss: 0.0761\n",
            "Epoch 53/100\n",
            "4/4 [==============================] - 0s 10ms/step - loss: 0.0804\n",
            "Epoch 54/100\n",
            "4/4 [==============================] - 0s 10ms/step - loss: 0.0796\n",
            "Epoch 55/100\n",
            "4/4 [==============================] - 0s 9ms/step - loss: 0.0772\n",
            "Epoch 56/100\n",
            "4/4 [==============================] - 0s 9ms/step - loss: 0.0793\n",
            "Epoch 57/100\n",
            "4/4 [==============================] - 0s 10ms/step - loss: 0.0738\n",
            "Epoch 58/100\n",
            "4/4 [==============================] - 0s 11ms/step - loss: 0.0671\n",
            "Epoch 59/100\n",
            "4/4 [==============================] - 0s 10ms/step - loss: 0.0703\n",
            "Epoch 60/100\n",
            "4/4 [==============================] - 0s 10ms/step - loss: 0.0715\n",
            "Epoch 61/100\n",
            "4/4 [==============================] - 0s 12ms/step - loss: 0.0705\n",
            "Epoch 62/100\n",
            "4/4 [==============================] - 0s 10ms/step - loss: 0.0723\n",
            "Epoch 63/100\n",
            "4/4 [==============================] - 0s 10ms/step - loss: 0.0719\n",
            "Epoch 64/100\n",
            "4/4 [==============================] - 0s 16ms/step - loss: 0.0709\n",
            "Epoch 65/100\n",
            "4/4 [==============================] - 0s 9ms/step - loss: 0.0722\n",
            "Epoch 66/100\n",
            "4/4 [==============================] - 0s 10ms/step - loss: 0.0624\n",
            "Epoch 67/100\n",
            "4/4 [==============================] - 0s 9ms/step - loss: 0.0825\n",
            "Epoch 68/100\n",
            "4/4 [==============================] - 0s 10ms/step - loss: 0.0706\n",
            "Epoch 69/100\n",
            "4/4 [==============================] - 0s 9ms/step - loss: 0.0752\n",
            "Epoch 70/100\n",
            "4/4 [==============================] - 0s 13ms/step - loss: 0.0652\n",
            "Epoch 71/100\n",
            "4/4 [==============================] - 0s 10ms/step - loss: 0.0731\n",
            "Epoch 72/100\n",
            "4/4 [==============================] - 0s 10ms/step - loss: 0.0711\n",
            "Epoch 73/100\n",
            "4/4 [==============================] - 0s 9ms/step - loss: 0.0656\n",
            "Epoch 74/100\n",
            "4/4 [==============================] - 0s 10ms/step - loss: 0.0664\n",
            "Epoch 75/100\n",
            "4/4 [==============================] - 0s 10ms/step - loss: 0.0756\n",
            "Epoch 76/100\n",
            "4/4 [==============================] - 0s 10ms/step - loss: 0.0662\n",
            "Epoch 77/100\n",
            "4/4 [==============================] - 0s 9ms/step - loss: 0.0737\n",
            "Epoch 78/100\n",
            "4/4 [==============================] - 0s 9ms/step - loss: 0.0641\n",
            "Epoch 79/100\n",
            "4/4 [==============================] - 0s 10ms/step - loss: 0.0612\n",
            "Epoch 80/100\n",
            "4/4 [==============================] - 0s 10ms/step - loss: 0.0692\n",
            "Epoch 81/100\n",
            "4/4 [==============================] - 0s 9ms/step - loss: 0.0712\n",
            "Epoch 82/100\n",
            "4/4 [==============================] - 0s 11ms/step - loss: 0.0663\n",
            "Epoch 83/100\n",
            "4/4 [==============================] - 0s 12ms/step - loss: 0.0623\n",
            "Epoch 84/100\n",
            "4/4 [==============================] - 0s 13ms/step - loss: 0.0669\n",
            "Epoch 85/100\n",
            "4/4 [==============================] - 0s 9ms/step - loss: 0.0680\n",
            "Epoch 86/100\n",
            "4/4 [==============================] - 0s 10ms/step - loss: 0.0695\n",
            "Epoch 87/100\n",
            "4/4 [==============================] - 0s 9ms/step - loss: 0.0666\n",
            "Epoch 88/100\n",
            "4/4 [==============================] - 0s 10ms/step - loss: 0.0722\n",
            "Epoch 89/100\n",
            "4/4 [==============================] - 0s 9ms/step - loss: 0.0614\n",
            "Epoch 90/100\n",
            "4/4 [==============================] - 0s 10ms/step - loss: 0.0621\n",
            "Epoch 91/100\n",
            "4/4 [==============================] - 0s 9ms/step - loss: 0.0650\n",
            "Epoch 92/100\n",
            "4/4 [==============================] - 0s 9ms/step - loss: 0.0748\n",
            "Epoch 93/100\n",
            "4/4 [==============================] - 0s 9ms/step - loss: 0.0701\n",
            "Epoch 94/100\n",
            "4/4 [==============================] - 0s 10ms/step - loss: 0.0640\n",
            "Epoch 95/100\n",
            "4/4 [==============================] - 0s 11ms/step - loss: 0.0610\n",
            "Epoch 96/100\n",
            "4/4 [==============================] - 0s 10ms/step - loss: 0.0704\n",
            "Epoch 97/100\n",
            "4/4 [==============================] - 0s 12ms/step - loss: 0.0662\n",
            "Epoch 98/100\n",
            "4/4 [==============================] - 0s 9ms/step - loss: 0.0643\n",
            "Epoch 99/100\n",
            "4/4 [==============================] - 0s 10ms/step - loss: 0.0650\n",
            "Epoch 100/100\n",
            "4/4 [==============================] - 0s 9ms/step - loss: 0.0621\n"
          ],
          "name": "stdout"
        }
      ]
    },
    {
      "cell_type": "code",
      "metadata": {
        "id": "9JPwm9WNT_HV",
        "colab": {
          "base_uri": "https://localhost:8080/",
          "height": 219
        },
        "outputId": "4e91bb04-b811-450e-c0ed-0d7fddfd4f1a"
      },
      "source": [
        "plt.plot(history.history[\"loss\"]) \n",
        "plt.show()"
      ],
      "execution_count": null,
      "outputs": [
        {
          "output_type": "display_data",
          "data": {
            "image/png": "[encoded data removed]",
            "text/plain": [
              "<Figure size 432x288 with 1 Axes>"
            ]
          },
          "metadata": {
            "tags": [],
            "needs_background": "light"
          }
        }
      ]
    },
    {
      "cell_type": "code",
      "metadata": {
        "id": "xXQkXCRyV1kZ"
      },
      "source": [
        "x_test, y_test = feature_transform(n_steps, sc_test)"
      ],
      "execution_count": null,
      "outputs": []
    },
    {
      "cell_type": "code",
      "metadata": {
        "colab": {
          "base_uri": "https://localhost:8080/"
        },
        "id": "N5-WpSQ0V9DX",
        "outputId": "1dce800f-c833-4ded-f2ca-99439e3777f5"
      },
      "source": [
        "x_test.shape, y_test.shape"
      ],
      "execution_count": null,
      "outputs": [
        {
          "output_type": "execute_result",
          "data": {
            "text/plain": [
              "((26, 3), (26,))"
            ]
          },
          "metadata": {
            "tags": []
          },
          "execution_count": 34
        }
      ]
    },
    {
      "cell_type": "code",
      "metadata": {
        "id": "dfwestl9WAKY"
      },
      "source": [
        "x_test = x_test.reshape((x_test.shape[0], x_test.shape[1], 1))"
      ],
      "execution_count": null,
      "outputs": []
    },
    {
      "cell_type": "code",
      "metadata": {
        "id": "2v7IJ1GQWTB5"
      },
      "source": [
        "y_pred = model.predict(x_test)"
      ],
      "execution_count": null,
      "outputs": []
    },
    {
      "cell_type": "code",
      "metadata": {
        "id": "opkx_MfRWVbj"
      },
      "source": [
        "predictions = sc.inverse_transform(y_pred)"
      ],
      "execution_count": null,
      "outputs": []
    },
    {
      "cell_type": "code",
      "metadata": {
        "colab": {
          "base_uri": "https://localhost:8080/"
        },
        "id": "gLBil4wQWYTx",
        "outputId": "5fa005a9-21e0-4724-e2ca-98b82386befe"
      },
      "source": [
        "predictions"
      ],
      "execution_count": null,
      "outputs": [
        {
          "output_type": "execute_result",
          "data": {
            "text/plain": [
              "array([[370.2265 ],\n",
              "       [319.95428],\n",
              "       [350.68326],\n",
              "       [367.67618],\n",
              "       [339.23914],\n",
              "       [417.21597],\n",
              "       [388.0328 ],\n",
              "       [424.13974],\n",
              "       [472.48337],\n",
              "       [548.97943],\n",
              "       [556.11017],\n",
              "       [419.39453],\n",
              "       [408.2905 ],\n",
              "       [373.5608 ],\n",
              "       [411.90475],\n",
              "       [415.50583],\n",
              "       [393.29773],\n",
              "       [425.87482],\n",
              "       [461.1233 ],\n",
              "       [472.07278],\n",
              "       [545.22705],\n",
              "       [627.41095],\n",
              "       [579.0206 ],\n",
              "       [427.6943 ],\n",
              "       [468.27197],\n",
              "       [389.93423]], dtype=float32)"
            ]
          },
          "metadata": {
            "tags": []
          },
          "execution_count": 38
        }
      ]
    },
    {
      "cell_type": "code",
      "metadata": {
        "id": "LErjXJjrWWbN"
      },
      "source": [
        "actual = sc.inverse_transform(y_test.reshape(-1, 1))"
      ],
      "execution_count": null,
      "outputs": []
    },
    {
      "cell_type": "code",
      "metadata": {
        "colab": {
          "base_uri": "https://localhost:8080/"
        },
        "id": "lJYEIdE6WX2A",
        "outputId": "f6f34e86-f64c-4733-d19a-77f0f68e94e8"
      },
      "source": [
        "actual"
      ],
      "execution_count": null,
      "outputs": [
        {
          "output_type": "execute_result",
          "data": {
            "text/plain": [
              "array([[310.],\n",
              "       [337.],\n",
              "       [360.],\n",
              "       [342.],\n",
              "       [406.],\n",
              "       [396.],\n",
              "       [420.],\n",
              "       [472.],\n",
              "       [548.],\n",
              "       [559.],\n",
              "       [463.],\n",
              "       [407.],\n",
              "       [362.],\n",
              "       [405.],\n",
              "       [417.],\n",
              "       [391.],\n",
              "       [419.],\n",
              "       [461.],\n",
              "       [472.],\n",
              "       [535.],\n",
              "       [622.],\n",
              "       [606.],\n",
              "       [508.],\n",
              "       [461.],\n",
              "       [390.],\n",
              "       [432.]])"
            ]
          },
          "metadata": {
            "tags": []
          },
          "execution_count": 40
        }
      ]
    },
    {
      "cell_type": "code",
      "metadata": {
        "colab": {
          "base_uri": "https://localhost:8080/"
        },
        "id": "LQ43QVeSWY9L",
        "outputId": "403f6739-6964-4850-9f9b-4c01343191fd"
      },
      "source": [
        "from sklearn.metrics import mean_squared_error \n",
        " \n",
        "mse = mean_squared_error(actual, predictions) \n",
        " \n",
        "rmse = np.sqrt(mse) \n",
        " \n",
        "print(\"Mean Squared Error : \", mse)\n",
        "print(\"Root Mean Squared Error : \", rmse)"
      ],
      "execution_count": null,
      "outputs": [
        {
          "output_type": "stream",
          "text": [
            "Mean Squared Error :  2216.9919656384736\n",
            "Root Mean Squared Error :  47.08494415031703\n"
          ],
          "name": "stdout"
        }
      ]
    }
  ]
}