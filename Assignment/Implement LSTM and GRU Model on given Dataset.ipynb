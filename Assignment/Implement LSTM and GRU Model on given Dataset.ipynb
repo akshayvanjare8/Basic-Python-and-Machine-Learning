{
  "nbformat": 4,
  "nbformat_minor": 0,
  "metadata": {
    "colab": {
      "name": "Assignment.ipynb",
      "provenance": [],
      "collapsed_sections": []
    },
    "kernelspec": {
      "name": "python3",
      "display_name": "Python 3"
    },
    "language_info": {
      "name": "python"
    }
  },
  "cells": [
    {
      "cell_type": "markdown",
      "metadata": {
        "id": "vITpPu3ZLifZ"
      },
      "source": [
        "# LSTM"
      ]
    },
    {
      "cell_type": "code",
      "metadata": {
        "id": "Pe5L2zFXHlLX"
      },
      "source": [
        "import pandas as pd \n",
        "import numpy as np \n",
        "import matplotlib.pyplot as plt"
      ],
      "execution_count": null,
      "outputs": []
    },
    {
      "cell_type": "code",
      "metadata": {
        "colab": {
          "base_uri": "https://localhost:8080/",
          "height": 326
        },
        "id": "TNvrCXh_Hpab",
        "outputId": "f3464bfb-e57d-424c-cb89-c8c44d2a0d35"
      },
      "source": [
        "train = pd.read_csv(\"/content/AMZN.csv\") \n",
        "train.head()"
      ],
      "execution_count": null,
      "outputs": [
        {
          "output_type": "execute_result",
          "data": {
            "text/html": [
              "<div>\n",
              "<style scoped>\n",
              "    .dataframe tbody tr th:only-of-type {\n",
              "        vertical-align: middle;\n",
              "    }\n",
              "\n",
              "    .dataframe tbody tr th {\n",
              "        vertical-align: top;\n",
              "    }\n",
              "\n",
              "    .dataframe thead th {\n",
              "        text-align: right;\n",
              "    }\n",
              "</style>\n",
              "<table border=\"1\" class=\"dataframe\">\n",
              "  <thead>\n",
              "    <tr style=\"text-align: right;\">\n",
              "      <th></th>\n",
              "      <th>Date</th>\n",
              "      <th>Open</th>\n",
              "      <th>High</th>\n",
              "      <th>Low</th>\n",
              "      <th>Close</th>\n",
              "      <th>Adj Close</th>\n",
              "      <th>Volume</th>\n",
              "    </tr>\n",
              "  </thead>\n",
              "  <tbody>\n",
              "    <tr>\n",
              "      <th>0</th>\n",
              "      <td>2014-01-02</td>\n",
              "      <td>398.799988</td>\n",
              "      <td>399.359985</td>\n",
              "      <td>394.019989</td>\n",
              "      <td>397.970001</td>\n",
              "      <td>397.970001</td>\n",
              "      <td>2137800</td>\n",
              "    </tr>\n",
              "    <tr>\n",
              "      <th>1</th>\n",
              "      <td>2014-01-03</td>\n",
              "      <td>398.290009</td>\n",
              "      <td>402.709991</td>\n",
              "      <td>396.220001</td>\n",
              "      <td>396.440002</td>\n",
              "      <td>396.440002</td>\n",
              "      <td>2210200</td>\n",
              "    </tr>\n",
              "    <tr>\n",
              "      <th>2</th>\n",
              "      <td>2014-01-06</td>\n",
              "      <td>395.850006</td>\n",
              "      <td>397.000000</td>\n",
              "      <td>388.420013</td>\n",
              "      <td>393.630005</td>\n",
              "      <td>393.630005</td>\n",
              "      <td>3170600</td>\n",
              "    </tr>\n",
              "    <tr>\n",
              "      <th>3</th>\n",
              "      <td>2014-01-07</td>\n",
              "      <td>395.040009</td>\n",
              "      <td>398.470001</td>\n",
              "      <td>394.290009</td>\n",
              "      <td>398.029999</td>\n",
              "      <td>398.029999</td>\n",
              "      <td>1916000</td>\n",
              "    </tr>\n",
              "    <tr>\n",
              "      <th>4</th>\n",
              "      <td>2014-01-08</td>\n",
              "      <td>398.470001</td>\n",
              "      <td>403.000000</td>\n",
              "      <td>396.040009</td>\n",
              "      <td>401.920013</td>\n",
              "      <td>401.920013</td>\n",
              "      <td>2316500</td>\n",
              "    </tr>\n",
              "  </tbody>\n",
              "</table>\n",
              "</div>"
            ],
            "text/plain": [
              "         Date        Open        High  ...       Close   Adj Close   Volume\n",
              "0  2014-01-02  398.799988  399.359985  ...  397.970001  397.970001  2137800\n",
              "1  2014-01-03  398.290009  402.709991  ...  396.440002  396.440002  2210200\n",
              "2  2014-01-06  395.850006  397.000000  ...  393.630005  393.630005  3170600\n",
              "3  2014-01-07  395.040009  398.470001  ...  398.029999  398.029999  1916000\n",
              "4  2014-01-08  398.470001  403.000000  ...  401.920013  401.920013  2316500\n",
              "\n",
              "[5 rows x 7 columns]"
            ]
          },
          "metadata": {
            "tags": []
          },
          "execution_count": 2
        }
      ]
    },
    {
      "cell_type": "code",
      "metadata": {
        "id": "vTjV9QVHHppE"
      },
      "source": [
        "x_train = train[[\"Open\"]]"
      ],
      "execution_count": null,
      "outputs": []
    },
    {
      "cell_type": "code",
      "metadata": {
        "id": "1apT8EO9Hp1Z"
      },
      "source": [
        "from sklearn.preprocessing import StandardScaler \n",
        " \n",
        "sc = StandardScaler() \n",
        " \n",
        "sc_x_train = sc.fit_transform(x_train)"
      ],
      "execution_count": null,
      "outputs": []
    },
    {
      "cell_type": "code",
      "metadata": {
        "colab": {
          "base_uri": "https://localhost:8080/"
        },
        "id": "pWsYuCd0Hp-J",
        "outputId": "8a30aa59-c7a7-463c-bea9-2383d36bb0d0"
      },
      "source": [
        "sc_x_train"
      ],
      "execution_count": null,
      "outputs": [
        {
          "output_type": "execute_result",
          "data": {
            "text/plain": [
              "array([[-0.88968649],\n",
              "       [-0.89075397],\n",
              "       [-0.89586134],\n",
              "       ...,\n",
              "       [ 1.31945839],\n",
              "       [ 1.35954289],\n",
              "       [ 1.43793273]])"
            ]
          },
          "metadata": {
            "tags": []
          },
          "execution_count": 5
        }
      ]
    },
    {
      "cell_type": "code",
      "metadata": {
        "id": "BK3VY-orHqHN"
      },
      "source": [
        "def feature_transform(n_steps, data):\n",
        "  x = [] \n",
        "  y = [] \n",
        "  for i in range(n_steps, len(data)):\n",
        "    x.append(data[i-n_steps:i, 0])\n",
        "    y.append(data[i, 0])\n",
        "  return np.array(x), np.array(y)"
      ],
      "execution_count": null,
      "outputs": []
    },
    {
      "cell_type": "code",
      "metadata": {
        "id": "Iqyy2nE6HqPU"
      },
      "source": [
        "n_steps = 12"
      ],
      "execution_count": null,
      "outputs": []
    },
    {
      "cell_type": "code",
      "metadata": {
        "id": "zDtuVvbLHqXY"
      },
      "source": [
        "x_train, y_train = feature_transform(n_steps, sc_x_train)"
      ],
      "execution_count": null,
      "outputs": []
    },
    {
      "cell_type": "code",
      "metadata": {
        "colab": {
          "base_uri": "https://localhost:8080/"
        },
        "id": "dXlD2M0iHqer",
        "outputId": "edc27ed3-79ff-45bd-aea0-e5892bc55b42"
      },
      "source": [
        "x_train.shape, y_train.shape"
      ],
      "execution_count": null,
      "outputs": [
        {
          "output_type": "execute_result",
          "data": {
            "text/plain": [
              "((1246, 12), (1246,))"
            ]
          },
          "metadata": {
            "tags": []
          },
          "execution_count": 9
        }
      ]
    },
    {
      "cell_type": "code",
      "metadata": {
        "id": "G4EwqopJHqmJ"
      },
      "source": [
        "x_train = x_train.reshape((x_train.shape[0], x_train.shape[1], 1))"
      ],
      "execution_count": null,
      "outputs": []
    },
    {
      "cell_type": "code",
      "metadata": {
        "colab": {
          "base_uri": "https://localhost:8080/"
        },
        "id": "Vc_2vV3THquY",
        "outputId": "ffebecfa-a762-4a25-da35-3391901733f7"
      },
      "source": [
        "x_train.shape"
      ],
      "execution_count": null,
      "outputs": [
        {
          "output_type": "execute_result",
          "data": {
            "text/plain": [
              "(1246, 12, 1)"
            ]
          },
          "metadata": {
            "tags": []
          },
          "execution_count": 11
        }
      ]
    },
    {
      "cell_type": "code",
      "metadata": {
        "colab": {
          "base_uri": "https://localhost:8080/"
        },
        "id": "v6D8rx-pHq17",
        "outputId": "f3549488-316d-440f-dd6a-4f5ddbce79e8"
      },
      "source": [
        "from keras.models import Sequential \n",
        "from keras.layers import LSTM, Dense \n",
        " \n",
        "model = Sequential() \n",
        " \n",
        "model.add(LSTM(200, activation = 'relu', input_shape = (n_steps, 1))) \n",
        " \n",
        "model.add(Dense(1)) \n",
        " \n",
        "model.compile(loss = 'mean_squared_error' , optimizer = 'adam') \n",
        " \n",
        "model.summary()"
      ],
      "execution_count": null,
      "outputs": [
        {
          "output_type": "stream",
          "text": [
            "Model: \"sequential\"\n",
            "_________________________________________________________________\n",
            "Layer (type)                 Output Shape              Param #   \n",
            "=================================================================\n",
            "lstm (LSTM)                  (None, 200)               161600    \n",
            "_________________________________________________________________\n",
            "dense (Dense)                (None, 1)                 201       \n",
            "=================================================================\n",
            "Total params: 161,801\n",
            "Trainable params: 161,801\n",
            "Non-trainable params: 0\n",
            "_________________________________________________________________\n"
          ],
          "name": "stdout"
        }
      ]
    },
    {
      "cell_type": "code",
      "metadata": {
        "colab": {
          "base_uri": "https://localhost:8080/"
        },
        "id": "NTCsRhhGHq8q",
        "outputId": "80d71d35-3e9f-4ec7-f36b-bd6f5010b9bf"
      },
      "source": [
        "history = model.fit(x_train, y_train, epochs = 100, batch_size = 30)"
      ],
      "execution_count": null,
      "outputs": [
        {
          "output_type": "stream",
          "text": [
            "Epoch 1/100\n",
            "42/42 [==============================] - 2s 21ms/step - loss: 0.3941\n",
            "Epoch 2/100\n",
            "42/42 [==============================] - 1s 20ms/step - loss: 0.0078\n",
            "Epoch 3/100\n",
            "42/42 [==============================] - 1s 20ms/step - loss: 0.0062\n",
            "Epoch 4/100\n",
            "42/42 [==============================] - 1s 20ms/step - loss: 0.0052\n",
            "Epoch 5/100\n",
            "42/42 [==============================] - 1s 21ms/step - loss: 0.0041\n",
            "Epoch 6/100\n",
            "42/42 [==============================] - 1s 21ms/step - loss: 0.0039\n",
            "Epoch 7/100\n",
            "42/42 [==============================] - 1s 21ms/step - loss: 0.0034\n",
            "Epoch 8/100\n",
            "42/42 [==============================] - 1s 21ms/step - loss: 0.0036\n",
            "Epoch 9/100\n",
            "42/42 [==============================] - 1s 21ms/step - loss: 0.0049\n",
            "Epoch 10/100\n",
            "42/42 [==============================] - 1s 20ms/step - loss: 0.0031\n",
            "Epoch 11/100\n",
            "42/42 [==============================] - 1s 21ms/step - loss: 0.0041\n",
            "Epoch 12/100\n",
            "42/42 [==============================] - 1s 21ms/step - loss: 0.0033\n",
            "Epoch 13/100\n",
            "42/42 [==============================] - 1s 21ms/step - loss: 0.0039\n",
            "Epoch 14/100\n",
            "42/42 [==============================] - 1s 20ms/step - loss: 0.0032\n",
            "Epoch 15/100\n",
            "42/42 [==============================] - 1s 20ms/step - loss: 0.0033\n",
            "Epoch 16/100\n",
            "42/42 [==============================] - 1s 21ms/step - loss: 0.0037\n",
            "Epoch 17/100\n",
            "42/42 [==============================] - 1s 21ms/step - loss: 0.0034\n",
            "Epoch 18/100\n",
            "42/42 [==============================] - 1s 21ms/step - loss: 0.0033\n",
            "Epoch 19/100\n",
            "42/42 [==============================] - 1s 20ms/step - loss: 0.0032\n",
            "Epoch 20/100\n",
            "42/42 [==============================] - 1s 20ms/step - loss: 0.0033\n",
            "Epoch 21/100\n",
            "42/42 [==============================] - 1s 20ms/step - loss: 0.0038\n",
            "Epoch 22/100\n",
            "42/42 [==============================] - 1s 20ms/step - loss: 0.0031\n",
            "Epoch 23/100\n",
            "42/42 [==============================] - 1s 19ms/step - loss: 0.0028\n",
            "Epoch 24/100\n",
            "42/42 [==============================] - 1s 20ms/step - loss: 0.0034\n",
            "Epoch 25/100\n",
            "42/42 [==============================] - 1s 21ms/step - loss: 0.0027\n",
            "Epoch 26/100\n",
            "42/42 [==============================] - 1s 21ms/step - loss: 0.0030\n",
            "Epoch 27/100\n",
            "42/42 [==============================] - 1s 20ms/step - loss: 0.0035\n",
            "Epoch 28/100\n",
            "42/42 [==============================] - 1s 21ms/step - loss: 0.0025\n",
            "Epoch 29/100\n",
            "42/42 [==============================] - 1s 21ms/step - loss: 0.0027\n",
            "Epoch 30/100\n",
            "42/42 [==============================] - 1s 20ms/step - loss: 0.0026\n",
            "Epoch 31/100\n",
            "42/42 [==============================] - 1s 20ms/step - loss: 0.0028\n",
            "Epoch 32/100\n",
            "42/42 [==============================] - 1s 21ms/step - loss: 0.0026\n",
            "Epoch 33/100\n",
            "42/42 [==============================] - 1s 21ms/step - loss: 0.0032\n",
            "Epoch 34/100\n",
            "42/42 [==============================] - 1s 20ms/step - loss: 0.0022\n",
            "Epoch 35/100\n",
            "42/42 [==============================] - 1s 21ms/step - loss: 0.0022\n",
            "Epoch 36/100\n",
            "42/42 [==============================] - 1s 21ms/step - loss: 0.0030\n",
            "Epoch 37/100\n",
            "42/42 [==============================] - 1s 21ms/step - loss: 0.0022\n",
            "Epoch 38/100\n",
            "42/42 [==============================] - 1s 20ms/step - loss: 0.0026\n",
            "Epoch 39/100\n",
            "42/42 [==============================] - 1s 21ms/step - loss: 0.0022\n",
            "Epoch 40/100\n",
            "42/42 [==============================] - 1s 20ms/step - loss: 0.0026\n",
            "Epoch 41/100\n",
            "42/42 [==============================] - 1s 21ms/step - loss: 0.0024\n",
            "Epoch 42/100\n",
            "42/42 [==============================] - 1s 21ms/step - loss: 0.0027\n",
            "Epoch 43/100\n",
            "42/42 [==============================] - 1s 21ms/step - loss: 0.0025\n",
            "Epoch 44/100\n",
            "42/42 [==============================] - 1s 21ms/step - loss: 0.0024\n",
            "Epoch 45/100\n",
            "42/42 [==============================] - 1s 21ms/step - loss: 0.0024\n",
            "Epoch 46/100\n",
            "42/42 [==============================] - 1s 21ms/step - loss: 0.0022\n",
            "Epoch 47/100\n",
            "42/42 [==============================] - 1s 20ms/step - loss: 0.0022\n",
            "Epoch 48/100\n",
            "42/42 [==============================] - 1s 21ms/step - loss: 0.0021\n",
            "Epoch 49/100\n",
            "42/42 [==============================] - 1s 21ms/step - loss: 0.0020\n",
            "Epoch 50/100\n",
            "42/42 [==============================] - 1s 21ms/step - loss: 0.0023\n",
            "Epoch 51/100\n",
            "42/42 [==============================] - 1s 21ms/step - loss: 0.0024\n",
            "Epoch 52/100\n",
            "42/42 [==============================] - 1s 21ms/step - loss: 0.0024\n",
            "Epoch 53/100\n",
            "42/42 [==============================] - 1s 21ms/step - loss: 0.0029\n",
            "Epoch 54/100\n",
            "42/42 [==============================] - 1s 21ms/step - loss: 0.0022\n",
            "Epoch 55/100\n",
            "42/42 [==============================] - 1s 20ms/step - loss: 0.0030\n",
            "Epoch 56/100\n",
            "42/42 [==============================] - 1s 21ms/step - loss: 0.0023\n",
            "Epoch 57/100\n",
            "42/42 [==============================] - 1s 22ms/step - loss: 0.0031\n",
            "Epoch 58/100\n",
            "42/42 [==============================] - 1s 21ms/step - loss: 0.0022\n",
            "Epoch 59/100\n",
            "42/42 [==============================] - 1s 21ms/step - loss: 0.0024\n",
            "Epoch 60/100\n",
            "42/42 [==============================] - 1s 21ms/step - loss: 0.0027\n",
            "Epoch 61/100\n",
            "42/42 [==============================] - 1s 21ms/step - loss: 0.0023\n",
            "Epoch 62/100\n",
            "42/42 [==============================] - 1s 21ms/step - loss: 0.0020\n",
            "Epoch 63/100\n",
            "42/42 [==============================] - 1s 21ms/step - loss: 0.0023\n",
            "Epoch 64/100\n",
            "42/42 [==============================] - 1s 21ms/step - loss: 0.0023\n",
            "Epoch 65/100\n",
            "42/42 [==============================] - 1s 20ms/step - loss: 0.0022\n",
            "Epoch 66/100\n",
            "42/42 [==============================] - 1s 20ms/step - loss: 0.0024\n",
            "Epoch 67/100\n",
            "42/42 [==============================] - 1s 20ms/step - loss: 0.0023\n",
            "Epoch 68/100\n",
            "42/42 [==============================] - 1s 21ms/step - loss: 0.0024\n",
            "Epoch 69/100\n",
            "42/42 [==============================] - 1s 20ms/step - loss: 0.0022\n",
            "Epoch 70/100\n",
            "42/42 [==============================] - 1s 20ms/step - loss: 0.0027\n",
            "Epoch 71/100\n",
            "42/42 [==============================] - 1s 20ms/step - loss: 0.0026\n",
            "Epoch 72/100\n",
            "42/42 [==============================] - 1s 21ms/step - loss: 0.0020\n",
            "Epoch 73/100\n",
            "42/42 [==============================] - 1s 20ms/step - loss: 0.0023\n",
            "Epoch 74/100\n",
            "42/42 [==============================] - 1s 21ms/step - loss: 0.0022\n",
            "Epoch 75/100\n",
            "42/42 [==============================] - 1s 21ms/step - loss: 0.0019\n",
            "Epoch 76/100\n",
            "42/42 [==============================] - 1s 20ms/step - loss: 0.0020\n",
            "Epoch 77/100\n",
            "42/42 [==============================] - 1s 20ms/step - loss: 0.0019\n",
            "Epoch 78/100\n",
            "42/42 [==============================] - 1s 20ms/step - loss: 0.0018\n",
            "Epoch 79/100\n",
            "42/42 [==============================] - 1s 20ms/step - loss: 0.0018\n",
            "Epoch 80/100\n",
            "42/42 [==============================] - 1s 20ms/step - loss: 0.0022\n",
            "Epoch 81/100\n",
            "42/42 [==============================] - 1s 21ms/step - loss: 0.0021\n",
            "Epoch 82/100\n",
            "42/42 [==============================] - 1s 20ms/step - loss: 0.0023\n",
            "Epoch 83/100\n",
            "42/42 [==============================] - 1s 21ms/step - loss: 0.0032\n",
            "Epoch 84/100\n",
            "42/42 [==============================] - 1s 21ms/step - loss: 0.0024\n",
            "Epoch 85/100\n",
            "42/42 [==============================] - 1s 21ms/step - loss: 0.0023\n",
            "Epoch 86/100\n",
            "42/42 [==============================] - 1s 22ms/step - loss: 0.0022\n",
            "Epoch 87/100\n",
            "42/42 [==============================] - 1s 21ms/step - loss: 0.0025\n",
            "Epoch 88/100\n",
            "42/42 [==============================] - 1s 21ms/step - loss: 0.0020\n",
            "Epoch 89/100\n",
            "42/42 [==============================] - 1s 21ms/step - loss: 0.0022\n",
            "Epoch 90/100\n",
            "42/42 [==============================] - 1s 21ms/step - loss: 0.0026\n",
            "Epoch 91/100\n",
            "42/42 [==============================] - 1s 21ms/step - loss: 0.0021\n",
            "Epoch 92/100\n",
            "42/42 [==============================] - 1s 21ms/step - loss: 0.0024\n",
            "Epoch 93/100\n",
            "42/42 [==============================] - 1s 21ms/step - loss: 0.0025\n",
            "Epoch 94/100\n",
            "42/42 [==============================] - 1s 21ms/step - loss: 0.0021\n",
            "Epoch 95/100\n",
            "42/42 [==============================] - 1s 21ms/step - loss: 0.0026\n",
            "Epoch 96/100\n",
            "42/42 [==============================] - 1s 21ms/step - loss: 0.0019\n",
            "Epoch 97/100\n",
            "42/42 [==============================] - 1s 22ms/step - loss: 0.0030\n",
            "Epoch 98/100\n",
            "42/42 [==============================] - 1s 21ms/step - loss: 0.0019\n",
            "Epoch 99/100\n",
            "42/42 [==============================] - 1s 22ms/step - loss: 0.0018\n",
            "Epoch 100/100\n",
            "42/42 [==============================] - 1s 21ms/step - loss: 0.0022\n"
          ],
          "name": "stdout"
        }
      ]
    },
    {
      "cell_type": "code",
      "metadata": {
        "colab": {
          "base_uri": "https://localhost:8080/",
          "height": 215
        },
        "id": "3uWiJjTkHrDl",
        "outputId": "d08647ef-8895-4fb7-a12e-67f12c805481"
      },
      "source": [
        "plt.plot(history.history[\"loss\"]) \n",
        "plt.show()"
      ],
      "execution_count": null,
      "outputs": [
        {
          "output_type": "display_data",
          "data": {
            "image/png": "[encoded data removed]",
            "text/plain": [
              "<Figure size 432x288 with 1 Axes>"
            ]
          },
          "metadata": {
            "tags": [],
            "needs_background": "light"
          }
        }
      ]
    },
    {
      "cell_type": "code",
      "metadata": {
        "colab": {
          "base_uri": "https://localhost:8080/",
          "height": 326
        },
        "id": "pPmJf_ZWJM__",
        "outputId": "6ef2dc66-dd1e-4e37-d315-b1483de5b94f"
      },
      "source": [
        "test = pd.read_csv(\"/content/AMZNtrain.csv\")\n",
        "test.head()"
      ],
      "execution_count": null,
      "outputs": [
        {
          "output_type": "execute_result",
          "data": {
            "text/html": [
              "<div>\n",
              "<style scoped>\n",
              "    .dataframe tbody tr th:only-of-type {\n",
              "        vertical-align: middle;\n",
              "    }\n",
              "\n",
              "    .dataframe tbody tr th {\n",
              "        vertical-align: top;\n",
              "    }\n",
              "\n",
              "    .dataframe thead th {\n",
              "        text-align: right;\n",
              "    }\n",
              "</style>\n",
              "<table border=\"1\" class=\"dataframe\">\n",
              "  <thead>\n",
              "    <tr style=\"text-align: right;\">\n",
              "      <th></th>\n",
              "      <th>Date</th>\n",
              "      <th>Open</th>\n",
              "      <th>High</th>\n",
              "      <th>Low</th>\n",
              "      <th>Close</th>\n",
              "      <th>Adj Close</th>\n",
              "      <th>Volume</th>\n",
              "    </tr>\n",
              "  </thead>\n",
              "  <tbody>\n",
              "    <tr>\n",
              "      <th>0</th>\n",
              "      <td>2014-01-02</td>\n",
              "      <td>398.799988</td>\n",
              "      <td>399.359985</td>\n",
              "      <td>394.019989</td>\n",
              "      <td>397.970001</td>\n",
              "      <td>397.970001</td>\n",
              "      <td>2137800</td>\n",
              "    </tr>\n",
              "    <tr>\n",
              "      <th>1</th>\n",
              "      <td>2014-01-03</td>\n",
              "      <td>398.290009</td>\n",
              "      <td>402.709991</td>\n",
              "      <td>396.220001</td>\n",
              "      <td>396.440002</td>\n",
              "      <td>396.440002</td>\n",
              "      <td>2210200</td>\n",
              "    </tr>\n",
              "    <tr>\n",
              "      <th>2</th>\n",
              "      <td>2014-01-06</td>\n",
              "      <td>395.850006</td>\n",
              "      <td>397.000000</td>\n",
              "      <td>388.420013</td>\n",
              "      <td>393.630005</td>\n",
              "      <td>393.630005</td>\n",
              "      <td>3170600</td>\n",
              "    </tr>\n",
              "    <tr>\n",
              "      <th>3</th>\n",
              "      <td>2014-01-07</td>\n",
              "      <td>395.040009</td>\n",
              "      <td>398.470001</td>\n",
              "      <td>394.290009</td>\n",
              "      <td>398.029999</td>\n",
              "      <td>398.029999</td>\n",
              "      <td>1916000</td>\n",
              "    </tr>\n",
              "    <tr>\n",
              "      <th>4</th>\n",
              "      <td>2014-01-08</td>\n",
              "      <td>398.470001</td>\n",
              "      <td>403.000000</td>\n",
              "      <td>396.040009</td>\n",
              "      <td>401.920013</td>\n",
              "      <td>401.920013</td>\n",
              "      <td>2316500</td>\n",
              "    </tr>\n",
              "  </tbody>\n",
              "</table>\n",
              "</div>"
            ],
            "text/plain": [
              "         Date        Open        High  ...       Close   Adj Close   Volume\n",
              "0  2014-01-02  398.799988  399.359985  ...  397.970001  397.970001  2137800\n",
              "1  2014-01-03  398.290009  402.709991  ...  396.440002  396.440002  2210200\n",
              "2  2014-01-06  395.850006  397.000000  ...  393.630005  393.630005  3170600\n",
              "3  2014-01-07  395.040009  398.470001  ...  398.029999  398.029999  1916000\n",
              "4  2014-01-08  398.470001  403.000000  ...  401.920013  401.920013  2316500\n",
              "\n",
              "[5 rows x 7 columns]"
            ]
          },
          "metadata": {
            "tags": []
          },
          "execution_count": 15
        }
      ]
    },
    {
      "cell_type": "code",
      "metadata": {
        "id": "JthL8SVyJNPV"
      },
      "source": [
        "x_test = test[[\"Open\"]]\n",
        " \n",
        "sc_x_test = sc.fit_transform(x_test)"
      ],
      "execution_count": null,
      "outputs": []
    },
    {
      "cell_type": "code",
      "metadata": {
        "id": "RXYvwwpBJNZ9"
      },
      "source": [
        "x_test, y_test = feature_transform(n_steps, sc_x_test)"
      ],
      "execution_count": null,
      "outputs": []
    },
    {
      "cell_type": "code",
      "metadata": {
        "colab": {
          "base_uri": "https://localhost:8080/"
        },
        "id": "2L2x33VtJNlw",
        "outputId": "02907dba-77b1-4965-fa5c-44c7b6ab7f61"
      },
      "source": [
        "x_test.shape, y_test.shape"
      ],
      "execution_count": null,
      "outputs": [
        {
          "output_type": "execute_result",
          "data": {
            "text/plain": [
              "((1246, 12), (1246,))"
            ]
          },
          "metadata": {
            "tags": []
          },
          "execution_count": 18
        }
      ]
    },
    {
      "cell_type": "code",
      "metadata": {
        "id": "8GCurSmeJNwT"
      },
      "source": [
        "x_test = x_test.reshape((x_test.shape[0], x_test.shape[1], 1))"
      ],
      "execution_count": null,
      "outputs": []
    },
    {
      "cell_type": "code",
      "metadata": {
        "id": "fuVdOnpWJN7n"
      },
      "source": [
        "y_pred = model.predict(x_test)"
      ],
      "execution_count": null,
      "outputs": []
    },
    {
      "cell_type": "code",
      "metadata": {
        "id": "PjPpHvgYJOPv"
      },
      "source": [
        "predictions = sc.inverse_transform(y_pred)"
      ],
      "execution_count": null,
      "outputs": []
    },
    {
      "cell_type": "code",
      "metadata": {
        "colab": {
          "base_uri": "https://localhost:8080/"
        },
        "id": "OCIGt65WJOa_",
        "outputId": "47d5596a-2f78-43ac-ae6b-4caf907d28a4"
      },
      "source": [
        "predictions"
      ],
      "execution_count": null,
      "outputs": [
        {
          "output_type": "execute_result",
          "data": {
            "text/plain": [
              "array([[ 400.1112 ],\n",
              "       [ 405.67517],\n",
              "       [ 410.84326],\n",
              "       ...,\n",
              "       [1381.4967 ],\n",
              "       [1440.0593 ],\n",
              "       [1476.6528 ]], dtype=float32)"
            ]
          },
          "metadata": {
            "tags": []
          },
          "execution_count": 22
        }
      ]
    },
    {
      "cell_type": "code",
      "metadata": {
        "id": "_wdIJZkOJ7G1"
      },
      "source": [
        "actual = sc.inverse_transform(y_test.reshape(-1, 1))"
      ],
      "execution_count": null,
      "outputs": []
    },
    {
      "cell_type": "code",
      "metadata": {
        "colab": {
          "base_uri": "https://localhost:8080/"
        },
        "id": "Kadh6hSbJ7tU",
        "outputId": "4eabd164-fe9b-44e0-ad5e-489f95e5ad55"
      },
      "source": [
        "actual"
      ],
      "execution_count": null,
      "outputs": [
        {
          "output_type": "execute_result",
          "data": {
            "text/plain": [
              "array([[ 403.      ],\n",
              "       [ 408.      ],\n",
              "       [ 401.      ],\n",
              "       ...,\n",
              "       [1454.199951],\n",
              "       [1473.349976],\n",
              "       [1510.800049]])"
            ]
          },
          "metadata": {
            "tags": []
          },
          "execution_count": 24
        }
      ]
    },
    {
      "cell_type": "code",
      "metadata": {
        "colab": {
          "base_uri": "https://localhost:8080/"
        },
        "id": "obNZnQBBJ8CK",
        "outputId": "31571279-ca00-4988-c4aa-d2a830cd27f4"
      },
      "source": [
        "from sklearn.metrics import mean_squared_error \n",
        " \n",
        "mse = mean_squared_error(actual, predictions) \n",
        " \n",
        "rmse = np.sqrt(mse) \n",
        " \n",
        "print(\"Mean Squared Error : \", mse)\n",
        "print(\"Root Mean Squared Error : \", rmse)"
      ],
      "execution_count": null,
      "outputs": [
        {
          "output_type": "stream",
          "text": [
            "Mean Squared Error :  457.11098262722203\n",
            "Root Mean Squared Error :  21.380153943019728\n"
          ],
          "name": "stdout"
        }
      ]
    },
    {
      "cell_type": "markdown",
      "metadata": {
        "id": "2rQ9Bgk8K2g_"
      },
      "source": [
        " # GRU"
      ]
    },
    {
      "cell_type": "code",
      "metadata": {
        "colab": {
          "base_uri": "https://localhost:8080/"
        },
        "id": "0mhMliOTKsei",
        "outputId": "be4fd842-3301-4096-ac88-2d412f6846e8"
      },
      "source": [
        "from keras.layers import GRU,Dense\n",
        "from keras.models import Sequential\n",
        " \n",
        "model=Sequential()\n",
        " \n",
        "model.add(GRU(200,activation='relu',input_shape=(n_steps,1)))\n",
        "model.add(Dense(1))\n",
        "model.compile(loss='mean_squared_error',optimizer='adam')\n",
        " \n",
        "model.summary()"
      ],
      "execution_count": null,
      "outputs": [
        {
          "output_type": "stream",
          "text": [
            "Model: \"sequential_1\"\n",
            "_________________________________________________________________\n",
            "Layer (type)                 Output Shape              Param #   \n",
            "=================================================================\n",
            "gru (GRU)                    (None, 200)               121800    \n",
            "_________________________________________________________________\n",
            "dense_1 (Dense)              (None, 1)                 201       \n",
            "=================================================================\n",
            "Total params: 122,001\n",
            "Trainable params: 122,001\n",
            "Non-trainable params: 0\n",
            "_________________________________________________________________\n"
          ],
          "name": "stdout"
        }
      ]
    },
    {
      "cell_type": "code",
      "metadata": {
        "colab": {
          "base_uri": "https://localhost:8080/"
        },
        "id": "oKN7McpaLESG",
        "outputId": "3e4af026-900e-487d-c7d1-5ddcba6165c8"
      },
      "source": [
        "history = model.fit(x_train, y_train, epochs = 100, batch_size = 30)"
      ],
      "execution_count": null,
      "outputs": [
        {
          "output_type": "stream",
          "text": [
            "Epoch 1/100\n",
            "42/42 [==============================] - 2s 18ms/step - loss: 0.4911\n",
            "Epoch 2/100\n",
            "42/42 [==============================] - 1s 18ms/step - loss: 0.0043\n",
            "Epoch 3/100\n",
            "42/42 [==============================] - 1s 19ms/step - loss: 0.0027\n",
            "Epoch 4/100\n",
            "42/42 [==============================] - 1s 18ms/step - loss: 0.0027\n",
            "Epoch 5/100\n",
            "42/42 [==============================] - 1s 18ms/step - loss: 0.0030\n",
            "Epoch 6/100\n",
            "42/42 [==============================] - 1s 17ms/step - loss: 0.0025\n",
            "Epoch 7/100\n",
            "42/42 [==============================] - 1s 18ms/step - loss: 0.0025\n",
            "Epoch 8/100\n",
            "42/42 [==============================] - 1s 18ms/step - loss: 0.0023\n",
            "Epoch 9/100\n",
            "42/42 [==============================] - 1s 18ms/step - loss: 0.0032\n",
            "Epoch 10/100\n",
            "42/42 [==============================] - 1s 18ms/step - loss: 0.0024\n",
            "Epoch 11/100\n",
            "42/42 [==============================] - 1s 18ms/step - loss: 0.0025\n",
            "Epoch 12/100\n",
            "42/42 [==============================] - 1s 18ms/step - loss: 0.0022\n",
            "Epoch 13/100\n",
            "42/42 [==============================] - 1s 17ms/step - loss: 0.0021\n",
            "Epoch 14/100\n",
            "42/42 [==============================] - 1s 18ms/step - loss: 0.0022\n",
            "Epoch 15/100\n",
            "42/42 [==============================] - 1s 18ms/step - loss: 0.0020\n",
            "Epoch 16/100\n",
            "42/42 [==============================] - 1s 18ms/step - loss: 0.0023\n",
            "Epoch 17/100\n",
            "42/42 [==============================] - 1s 18ms/step - loss: 0.0022\n",
            "Epoch 18/100\n",
            "42/42 [==============================] - 1s 18ms/step - loss: 0.0021\n",
            "Epoch 19/100\n",
            "42/42 [==============================] - 1s 18ms/step - loss: 0.0026\n",
            "Epoch 20/100\n",
            "42/42 [==============================] - 1s 18ms/step - loss: 0.0025\n",
            "Epoch 21/100\n",
            "42/42 [==============================] - 1s 18ms/step - loss: 0.0022\n",
            "Epoch 22/100\n",
            "42/42 [==============================] - 1s 18ms/step - loss: 0.0022\n",
            "Epoch 23/100\n",
            "42/42 [==============================] - 1s 18ms/step - loss: 0.0017\n",
            "Epoch 24/100\n",
            "42/42 [==============================] - 1s 18ms/step - loss: 0.0029\n",
            "Epoch 25/100\n",
            "42/42 [==============================] - 1s 18ms/step - loss: 0.0024\n",
            "Epoch 26/100\n",
            "42/42 [==============================] - 1s 18ms/step - loss: 0.0031\n",
            "Epoch 27/100\n",
            "42/42 [==============================] - 1s 18ms/step - loss: 0.0020\n",
            "Epoch 28/100\n",
            "42/42 [==============================] - 1s 19ms/step - loss: 0.0021\n",
            "Epoch 29/100\n",
            "42/42 [==============================] - 1s 18ms/step - loss: 0.0024\n",
            "Epoch 30/100\n",
            "42/42 [==============================] - 1s 18ms/step - loss: 0.0017\n",
            "Epoch 31/100\n",
            "42/42 [==============================] - 1s 18ms/step - loss: 0.0025\n",
            "Epoch 32/100\n",
            "42/42 [==============================] - 1s 19ms/step - loss: 0.0018\n",
            "Epoch 33/100\n",
            "42/42 [==============================] - 1s 18ms/step - loss: 0.0020\n",
            "Epoch 34/100\n",
            "42/42 [==============================] - 1s 18ms/step - loss: 0.0017\n",
            "Epoch 35/100\n",
            "42/42 [==============================] - 1s 18ms/step - loss: 0.0021\n",
            "Epoch 36/100\n",
            "42/42 [==============================] - 1s 18ms/step - loss: 0.0017\n",
            "Epoch 37/100\n",
            "42/42 [==============================] - 1s 18ms/step - loss: 0.0024\n",
            "Epoch 38/100\n",
            "42/42 [==============================] - 1s 18ms/step - loss: 0.0015\n",
            "Epoch 39/100\n",
            "42/42 [==============================] - 1s 18ms/step - loss: 0.0021\n",
            "Epoch 40/100\n",
            "42/42 [==============================] - 1s 18ms/step - loss: 0.0021\n",
            "Epoch 41/100\n",
            "42/42 [==============================] - 1s 18ms/step - loss: 0.0028\n",
            "Epoch 42/100\n",
            "42/42 [==============================] - 1s 19ms/step - loss: 0.0024\n",
            "Epoch 43/100\n",
            "42/42 [==============================] - 1s 18ms/step - loss: 0.0019\n",
            "Epoch 44/100\n",
            "42/42 [==============================] - 1s 18ms/step - loss: 0.0030\n",
            "Epoch 45/100\n",
            "42/42 [==============================] - 1s 18ms/step - loss: 0.0017\n",
            "Epoch 46/100\n",
            "42/42 [==============================] - 1s 18ms/step - loss: 0.0019\n",
            "Epoch 47/100\n",
            "42/42 [==============================] - 1s 18ms/step - loss: 0.0020\n",
            "Epoch 48/100\n",
            "42/42 [==============================] - 1s 18ms/step - loss: 0.0021\n",
            "Epoch 49/100\n",
            "42/42 [==============================] - 1s 18ms/step - loss: 0.0017\n",
            "Epoch 50/100\n",
            "42/42 [==============================] - 1s 18ms/step - loss: 0.0020\n",
            "Epoch 51/100\n",
            "42/42 [==============================] - 1s 18ms/step - loss: 0.0023\n",
            "Epoch 52/100\n",
            "42/42 [==============================] - 1s 18ms/step - loss: 0.0021\n",
            "Epoch 53/100\n",
            "42/42 [==============================] - 1s 18ms/step - loss: 0.0021\n",
            "Epoch 54/100\n",
            "42/42 [==============================] - 1s 18ms/step - loss: 0.0020\n",
            "Epoch 55/100\n",
            "42/42 [==============================] - 1s 18ms/step - loss: 0.0023\n",
            "Epoch 56/100\n",
            "42/42 [==============================] - 1s 19ms/step - loss: 0.0021\n",
            "Epoch 57/100\n",
            "42/42 [==============================] - 1s 19ms/step - loss: 0.0023\n",
            "Epoch 58/100\n",
            "42/42 [==============================] - 1s 19ms/step - loss: 0.0017\n",
            "Epoch 59/100\n",
            "42/42 [==============================] - 1s 19ms/step - loss: 0.0021\n",
            "Epoch 60/100\n",
            "42/42 [==============================] - 1s 18ms/step - loss: 0.0020\n",
            "Epoch 61/100\n",
            "42/42 [==============================] - 1s 19ms/step - loss: 0.0025\n",
            "Epoch 62/100\n",
            "42/42 [==============================] - 1s 19ms/step - loss: 0.0018\n",
            "Epoch 63/100\n",
            "42/42 [==============================] - 1s 19ms/step - loss: 0.0021\n",
            "Epoch 64/100\n",
            "42/42 [==============================] - 1s 18ms/step - loss: 0.0022\n",
            "Epoch 65/100\n",
            "42/42 [==============================] - 1s 18ms/step - loss: 0.0019\n",
            "Epoch 66/100\n",
            "42/42 [==============================] - 1s 19ms/step - loss: 0.0021\n",
            "Epoch 67/100\n",
            "42/42 [==============================] - 1s 19ms/step - loss: 0.0026\n",
            "Epoch 68/100\n",
            "42/42 [==============================] - 1s 18ms/step - loss: 0.0023\n",
            "Epoch 69/100\n",
            "42/42 [==============================] - 1s 18ms/step - loss: 0.0019\n",
            "Epoch 70/100\n",
            "42/42 [==============================] - 1s 19ms/step - loss: 0.0023\n",
            "Epoch 71/100\n",
            "42/42 [==============================] - 1s 18ms/step - loss: 0.0018\n",
            "Epoch 72/100\n",
            "42/42 [==============================] - 1s 19ms/step - loss: 0.0022\n",
            "Epoch 73/100\n",
            "42/42 [==============================] - 1s 18ms/step - loss: 0.0019\n",
            "Epoch 74/100\n",
            "42/42 [==============================] - 1s 19ms/step - loss: 0.0021\n",
            "Epoch 75/100\n",
            "42/42 [==============================] - 1s 19ms/step - loss: 0.0020\n",
            "Epoch 76/100\n",
            "42/42 [==============================] - 1s 19ms/step - loss: 0.0018\n",
            "Epoch 77/100\n",
            "42/42 [==============================] - 1s 18ms/step - loss: 0.0017\n",
            "Epoch 78/100\n",
            "42/42 [==============================] - 1s 19ms/step - loss: 0.0022\n",
            "Epoch 79/100\n",
            "42/42 [==============================] - 1s 19ms/step - loss: 0.0028\n",
            "Epoch 80/100\n",
            "42/42 [==============================] - 1s 19ms/step - loss: 0.0020\n",
            "Epoch 81/100\n",
            "42/42 [==============================] - 1s 19ms/step - loss: 0.0023\n",
            "Epoch 82/100\n",
            "42/42 [==============================] - 1s 18ms/step - loss: 0.0026\n",
            "Epoch 83/100\n",
            "42/42 [==============================] - 1s 19ms/step - loss: 0.0021\n",
            "Epoch 84/100\n",
            "42/42 [==============================] - 1s 19ms/step - loss: 0.0017\n",
            "Epoch 85/100\n",
            "42/42 [==============================] - 1s 19ms/step - loss: 0.0018\n",
            "Epoch 86/100\n",
            "42/42 [==============================] - 1s 18ms/step - loss: 0.0022\n",
            "Epoch 87/100\n",
            "42/42 [==============================] - 1s 19ms/step - loss: 0.0020\n",
            "Epoch 88/100\n",
            "42/42 [==============================] - 1s 18ms/step - loss: 0.0018\n",
            "Epoch 89/100\n",
            "42/42 [==============================] - 1s 19ms/step - loss: 0.0023\n",
            "Epoch 90/100\n",
            "42/42 [==============================] - 1s 19ms/step - loss: 0.0017\n",
            "Epoch 91/100\n",
            "42/42 [==============================] - 1s 19ms/step - loss: 0.0022\n",
            "Epoch 92/100\n",
            "42/42 [==============================] - 1s 19ms/step - loss: 0.0018\n",
            "Epoch 93/100\n",
            "42/42 [==============================] - 1s 19ms/step - loss: 0.0017\n",
            "Epoch 94/100\n",
            "42/42 [==============================] - 1s 19ms/step - loss: 0.0019\n",
            "Epoch 95/100\n",
            "42/42 [==============================] - 1s 19ms/step - loss: 0.0020\n",
            "Epoch 96/100\n",
            "42/42 [==============================] - 1s 19ms/step - loss: 0.0013\n",
            "Epoch 97/100\n",
            "42/42 [==============================] - 1s 19ms/step - loss: 0.0023\n",
            "Epoch 98/100\n",
            "42/42 [==============================] - 1s 19ms/step - loss: 0.0021\n",
            "Epoch 99/100\n",
            "42/42 [==============================] - 1s 19ms/step - loss: 0.0018\n",
            "Epoch 100/100\n",
            "42/42 [==============================] - 1s 18ms/step - loss: 0.0021\n"
          ],
          "name": "stdout"
        }
      ]
    },
    {
      "cell_type": "code",
      "metadata": {
        "colab": {
          "base_uri": "https://localhost:8080/",
          "height": 216
        },
        "id": "Dzr0GayiLGWO",
        "outputId": "b12200c9-2e16-43c6-91b1-656ff336f9f2"
      },
      "source": [
        "plt.plot(history.history[\"loss\"]) \n",
        "plt.show()"
      ],
      "execution_count": null,
      "outputs": [
        {
          "output_type": "display_data",
          "data": {
            "image/png": "[encoded data removed]",
            "text/plain": [
              "<Figure size 432x288 with 1 Axes>"
            ]
          },
          "metadata": {
            "tags": [],
            "needs_background": "light"
          }
        }
      ]
    },
    {
      "cell_type": "code",
      "metadata": {
        "id": "ov1tf5toLIS4"
      },
      "source": [
        "y_pred = model.predict(x_test)"
      ],
      "execution_count": null,
      "outputs": []
    },
    {
      "cell_type": "code",
      "metadata": {
        "id": "RPaN0B3oLUrx"
      },
      "source": [
        "predictions = sc.inverse_transform(y_pred)"
      ],
      "execution_count": null,
      "outputs": []
    },
    {
      "cell_type": "code",
      "metadata": {
        "colab": {
          "base_uri": "https://localhost:8080/"
        },
        "id": "qpKZ79GrLWUN",
        "outputId": "26c4ee59-2d0a-46c4-9c60-bf1881f423d9"
      },
      "source": [
        "predictions"
      ],
      "execution_count": null,
      "outputs": [
        {
          "output_type": "execute_result",
          "data": {
            "text/plain": [
              "array([[ 395.0064],\n",
              "       [ 403.5477],\n",
              "       [ 408.9341],\n",
              "       ...,\n",
              "       [1384.3668],\n",
              "       [1459.148 ],\n",
              "       [1486.2688]], dtype=float32)"
            ]
          },
          "metadata": {
            "tags": []
          },
          "execution_count": 31
        }
      ]
    },
    {
      "cell_type": "code",
      "metadata": {
        "id": "Zn81jdtGLYVL"
      },
      "source": [
        "actual = sc.inverse_transform(y_test.reshape(-1, 1))"
      ],
      "execution_count": null,
      "outputs": []
    },
    {
      "cell_type": "code",
      "metadata": {
        "colab": {
          "base_uri": "https://localhost:8080/"
        },
        "id": "dhIDaN6sLZkw",
        "outputId": "a6736f75-d690-4864-b590-7ccaf7c5c064"
      },
      "source": [
        "actual"
      ],
      "execution_count": null,
      "outputs": [
        {
          "output_type": "execute_result",
          "data": {
            "text/plain": [
              "array([[ 403.      ],\n",
              "       [ 408.      ],\n",
              "       [ 401.      ],\n",
              "       ...,\n",
              "       [1454.199951],\n",
              "       [1473.349976],\n",
              "       [1510.800049]])"
            ]
          },
          "metadata": {
            "tags": []
          },
          "execution_count": 33
        }
      ]
    },
    {
      "cell_type": "code",
      "metadata": {
        "colab": {
          "base_uri": "https://localhost:8080/"
        },
        "id": "0-HEQdjaLe6K",
        "outputId": "e76d269a-2b6e-47a7-f979-2f95c56e5ab6"
      },
      "source": [
        "from sklearn.metrics import mean_squared_error \n",
        " \n",
        "mse = mean_squared_error(actual, predictions) \n",
        " \n",
        "rmse = np.sqrt(mse) \n",
        " \n",
        "print(\"Mean Squared Error : \", mse)\n",
        "print(\"Root Mean Squared Error : \", rmse)"
      ],
      "execution_count": null,
      "outputs": [
        {
          "output_type": "stream",
          "text": [
            "Mean Squared Error :  440.566794594283\n",
            "Root Mean Squared Error :  20.989683051306017\n"
          ],
          "name": "stdout"
        }
      ]
    }
  ]
}