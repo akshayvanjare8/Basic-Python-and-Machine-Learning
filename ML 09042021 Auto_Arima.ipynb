{
 "cells": [
  {
   "cell_type": "code",
   "execution_count": 1,
   "id": "4f42fb6b",
   "metadata": {},
   "outputs": [
    {
     "name": "stdout",
     "output_type": "stream",
     "text": [
      "Requirement already satisfied: pmdarima in /data/data/ru.iiec.pydroid3/files/aarch64-linux-android/lib/python3.8/site-packages (1.8.0)\n",
      "Requirement already satisfied: joblib>=0.11 in /data/data/ru.iiec.pydroid3/files/aarch64-linux-android/lib/python3.8/site-packages (from pmdarima) (0.14.1)\n",
      "Requirement already satisfied: Cython<0.29.18,>=0.29 in /data/data/ru.iiec.pydroid3/files/aarch64-linux-android/lib/python3.8/site-packages (from pmdarima) (0.29.17)\n",
      "Requirement already satisfied: numpy>=1.17.3 in /data/data/ru.iiec.pydroid3/files/aarch64-linux-android/lib/python3.8/site-packages (from pmdarima) (1.18.4)\n",
      "Requirement already satisfied: pandas>=0.19 in /data/data/ru.iiec.pydroid3/files/aarch64-linux-android/lib/python3.8/site-packages (from pmdarima) (1.0.3)\n",
      "Requirement already satisfied: scikit-learn>=0.22 in /data/data/ru.iiec.pydroid3/files/aarch64-linux-android/lib/python3.8/site-packages (from pmdarima) (0.23.1)\n",
      "Requirement already satisfied: scipy>=1.3.2 in /data/data/ru.iiec.pydroid3/files/aarch64-linux-android/lib/python3.8/site-packages (from pmdarima) (1.4.1)\n",
      "Requirement already satisfied: statsmodels!=0.12.0,>=0.11 in /data/data/ru.iiec.pydroid3/files/aarch64-linux-android/lib/python3.8/site-packages (from pmdarima) (0.12.2)\n",
      "Requirement already satisfied: urllib3 in /data/data/ru.iiec.pydroid3/files/aarch64-linux-android/lib/python3.8/site-packages (from pmdarima) (1.26.4)\n",
      "Requirement already satisfied: setuptools!=50.0.0,>=38.6.0 in /data/data/ru.iiec.pydroid3/files/aarch64-linux-android/lib/python3.8/site-packages (from pmdarima) (46.4.0)\n",
      "Requirement already satisfied: python-dateutil>=2.6.1 in /data/data/ru.iiec.pydroid3/files/aarch64-linux-android/lib/python3.8/site-packages (from pandas>=0.19->pmdarima) (2.8.1)\n",
      "Requirement already satisfied: pytz>=2017.2 in /data/data/ru.iiec.pydroid3/files/aarch64-linux-android/lib/python3.8/site-packages (from pandas>=0.19->pmdarima) (2021.1)\n",
      "Requirement already satisfied: threadpoolctl>=2.0.0 in /data/data/ru.iiec.pydroid3/files/aarch64-linux-android/lib/python3.8/site-packages (from scikit-learn>=0.22->pmdarima) (2.1.0)\n",
      "Requirement already satisfied: patsy>=0.5 in /data/data/ru.iiec.pydroid3/files/aarch64-linux-android/lib/python3.8/site-packages (from statsmodels!=0.12.0,>=0.11->pmdarima) (0.5.1)\n",
      "Requirement already satisfied: six>=1.5 in /data/data/ru.iiec.pydroid3/files/aarch64-linux-android/lib/python3.8/site-packages (from python-dateutil>=2.6.1->pandas>=0.19->pmdarima) (1.15.0)\n",
      "\u001b[33mWARNING: You are using pip version 20.1.1; however, version 21.0.1 is available.\n",
      "You should consider upgrading via the '/data/user/0/ru.iiec.pydroid3/files/aarch64-linux-android/bin/python3.8 -m pip install --upgrade pip' command.\u001b[0m\n",
      "Note: you may need to restart the kernel to use updated packages.\n"
     ]
    }
   ],
   "source": [
    "pip install pmdarima"
   ]
  },
  {
   "cell_type": "code",
   "execution_count": 2,
   "id": "8a686264",
   "metadata": {},
   "outputs": [],
   "source": [
    "import pandas as pd \n",
    "import numpy as np \n",
    "import matplotlib.pyplot as plt \n",
    "import seaborn as sns"
   ]
  },
  {
   "cell_type": "code",
   "execution_count": 3,
   "id": "98341c96",
   "metadata": {},
   "outputs": [
    {
     "data": {
      "text/html": [
       "<div>\n",
       "<style scoped>\n",
       "    .dataframe tbody tr th:only-of-type {\n",
       "        vertical-align: middle;\n",
       "    }\n",
       "\n",
       "    .dataframe tbody tr th {\n",
       "        vertical-align: top;\n",
       "    }\n",
       "\n",
       "    .dataframe thead th {\n",
       "        text-align: right;\n",
       "    }\n",
       "</style>\n",
       "<table border=\"1\" class=\"dataframe\">\n",
       "  <thead>\n",
       "    <tr style=\"text-align: right;\">\n",
       "      <th></th>\n",
       "      <th>MinTemp</th>\n",
       "      <th>MaxTemp</th>\n",
       "      <th>AvgTemp</th>\n",
       "      <th>Sunrise</th>\n",
       "      <th>Sunset</th>\n",
       "    </tr>\n",
       "    <tr>\n",
       "      <th>DATE</th>\n",
       "      <th></th>\n",
       "      <th></th>\n",
       "      <th></th>\n",
       "      <th></th>\n",
       "      <th></th>\n",
       "    </tr>\n",
       "  </thead>\n",
       "  <tbody>\n",
       "    <tr>\n",
       "      <th>2014-01-01</th>\n",
       "      <td>33.0</td>\n",
       "      <td>46.0</td>\n",
       "      <td>40.0</td>\n",
       "      <td>657</td>\n",
       "      <td>1756</td>\n",
       "    </tr>\n",
       "    <tr>\n",
       "      <th>2014-01-02</th>\n",
       "      <td>35.0</td>\n",
       "      <td>50.0</td>\n",
       "      <td>43.0</td>\n",
       "      <td>657</td>\n",
       "      <td>1756</td>\n",
       "    </tr>\n",
       "    <tr>\n",
       "      <th>2014-01-03</th>\n",
       "      <td>36.0</td>\n",
       "      <td>45.0</td>\n",
       "      <td>41.0</td>\n",
       "      <td>657</td>\n",
       "      <td>1757</td>\n",
       "    </tr>\n",
       "    <tr>\n",
       "      <th>2014-01-04</th>\n",
       "      <td>32.0</td>\n",
       "      <td>41.0</td>\n",
       "      <td>37.0</td>\n",
       "      <td>658</td>\n",
       "      <td>1757</td>\n",
       "    </tr>\n",
       "    <tr>\n",
       "      <th>2014-01-05</th>\n",
       "      <td>24.0</td>\n",
       "      <td>38.0</td>\n",
       "      <td>31.0</td>\n",
       "      <td>658</td>\n",
       "      <td>1758</td>\n",
       "    </tr>\n",
       "  </tbody>\n",
       "</table>\n",
       "</div>"
      ],
      "text/plain": [
       "            MinTemp  MaxTemp  AvgTemp  Sunrise  Sunset\n",
       "DATE                                                  \n",
       "2014-01-01     33.0     46.0     40.0      657    1756\n",
       "2014-01-02     35.0     50.0     43.0      657    1756\n",
       "2014-01-03     36.0     45.0     41.0      657    1757\n",
       "2014-01-04     32.0     41.0     37.0      658    1757\n",
       "2014-01-05     24.0     38.0     31.0      658    1758"
      ]
     },
     "execution_count": 3,
     "metadata": {},
     "output_type": "execute_result"
    }
   ],
   "source": [
    "df = pd.read_csv(\"DailyTemps.csv\", parse_dates = ['DATE'], index_col = 'DATE')\n",
    "df.head()"
   ]
  },
  {
   "cell_type": "code",
   "execution_count": 4,
   "id": "7f54861c",
   "metadata": {},
   "outputs": [
    {
     "data": {
      "text/plain": [
       "<matplotlib.axes._subplots.AxesSubplot at 0x77c57e86a0>"
      ]
     },
     "execution_count": 4,
     "metadata": {},
     "output_type": "execute_result"
    }
   ],
   "source": [
    "df[\"AvgTemp\"].plot() "
   ]
  },
  {
   "cell_type": "code",
   "execution_count": 5,
   "id": "41acfbe2",
   "metadata": {},
   "outputs": [],
   "source": [
    "df = df.dropna()"
   ]
  },
  {
   "cell_type": "code",
   "execution_count": 6,
   "id": "b976f663",
   "metadata": {},
   "outputs": [
    {
     "data": {
      "text/plain": [
       "MinTemp    0\n",
       "MaxTemp    0\n",
       "AvgTemp    0\n",
       "Sunrise    0\n",
       "Sunset     0\n",
       "dtype: int64"
      ]
     },
     "execution_count": 6,
     "metadata": {},
     "output_type": "execute_result"
    }
   ],
   "source": [
    "df.isna().sum()"
   ]
  },
  {
   "cell_type": "code",
   "execution_count": 7,
   "id": "9d6759f6",
   "metadata": {},
   "outputs": [],
   "source": [
    "from statsmodels.tsa.stattools import adfuller"
   ]
  },
  {
   "cell_type": "code",
   "execution_count": 8,
   "id": "c3fa04a4",
   "metadata": {},
   "outputs": [
    {
     "name": "stdout",
     "output_type": "stream",
     "text": [
      "Stationary\n"
     ]
    }
   ],
   "source": [
    "result = adfuller(df.AvgTemp)\n",
    "p_val = result[1]\n",
    "if p_val > 0.05:\n",
    "    print(\"Non Stationary\")\n",
    "else:\n",
    "    print(\"Stationary\")"
   ]
  },
  {
   "cell_type": "code",
   "execution_count": 9,
   "id": "39c179de",
   "metadata": {},
   "outputs": [],
   "source": [
    "from pmdarima import auto_arima"
   ]
  },
  {
   "cell_type": "code",
   "execution_count": 10,
   "id": "465c5e63",
   "metadata": {},
   "outputs": [
    {
     "name": "stdout",
     "output_type": "stream",
     "text": [
      "Performing stepwise search to minimize aic\n",
      " ARIMA(2,0,2)(0,0,0)[0] intercept   : AIC=8344.260, Time=7.23 sec\n",
      " ARIMA(0,0,0)(0,0,0)[0] intercept   : AIC=10347.755, Time=0.10 sec\n",
      " ARIMA(1,0,0)(0,0,0)[0] intercept   : AIC=8365.701, Time=0.38 sec\n",
      " ARIMA(0,0,1)(0,0,0)[0] intercept   : AIC=9136.225, Time=0.75 sec\n",
      " ARIMA(0,0,0)(0,0,0)[0]             : AIC=19192.139, Time=0.06 sec\n",
      " ARIMA(1,0,2)(0,0,0)[0] intercept   : AIC=8355.947, Time=4.12 sec\n",
      " ARIMA(2,0,1)(0,0,0)[0] intercept   : AIC=8356.308, Time=7.42 sec\n",
      " ARIMA(3,0,2)(0,0,0)[0] intercept   : AIC=8347.317, Time=8.24 sec\n",
      " ARIMA(2,0,3)(0,0,0)[0] intercept   : AIC=8317.660, Time=8.33 sec\n",
      " ARIMA(1,0,3)(0,0,0)[0] intercept   : AIC=8330.191, Time=8.33 sec\n",
      " ARIMA(3,0,3)(0,0,0)[0] intercept   : AIC=8310.337, Time=10.33 sec\n",
      " ARIMA(4,0,3)(0,0,0)[0] intercept   : AIC=8332.504, Time=11.71 sec\n",
      " ARIMA(3,0,4)(0,0,0)[0] intercept   : AIC=8317.321, Time=11.36 sec\n",
      " ARIMA(2,0,4)(0,0,0)[0] intercept   : AIC=8305.753, Time=10.82 sec\n",
      " ARIMA(1,0,4)(0,0,0)[0] intercept   : AIC=8297.182, Time=10.53 sec\n",
      " ARIMA(0,0,4)(0,0,0)[0] intercept   : AIC=8455.435, Time=2.78 sec\n",
      " ARIMA(1,0,5)(0,0,0)[0] intercept   : AIC=8295.996, Time=11.63 sec\n",
      " ARIMA(0,0,5)(0,0,0)[0] intercept   : AIC=8419.091, Time=3.30 sec\n",
      " ARIMA(2,0,5)(0,0,0)[0] intercept   : AIC=8302.457, Time=11.86 sec\n",
      " ARIMA(1,0,5)(0,0,0)[0]             : AIC=8304.533, Time=1.30 sec\n",
      "\n",
      "Best model:  ARIMA(1,0,5)(0,0,0)[0] intercept\n",
      "Total fit time: 130.642 seconds\n"
     ]
    }
   ],
   "source": [
    "auto_model = auto_arima(df[\"AvgTemp\"], trace = True)"
   ]
  },
  {
   "cell_type": "code",
   "execution_count": 11,
   "id": "8d758954",
   "metadata": {},
   "outputs": [
    {
     "data": {
      "text/html": [
       "<table class=\"simpletable\">\n",
       "<caption>SARIMAX Results</caption>\n",
       "<tr>\n",
       "  <th>Dep. Variable:</th>           <td>y</td>        <th>  No. Observations:  </th>   <td>1821</td>   \n",
       "</tr>\n",
       "<tr>\n",
       "  <th>Model:</th>           <td>SARIMAX(1, 0, 5)</td> <th>  Log Likelihood     </th> <td>-4139.998</td>\n",
       "</tr>\n",
       "<tr>\n",
       "  <th>Date:</th>            <td>Fri, 09 Apr 2021</td> <th>  AIC                </th> <td>8295.996</td> \n",
       "</tr>\n",
       "<tr>\n",
       "  <th>Time:</th>                <td>16:47:22</td>     <th>  BIC                </th> <td>8340.053</td> \n",
       "</tr>\n",
       "<tr>\n",
       "  <th>Sample:</th>                  <td>0</td>        <th>  HQIC               </th> <td>8312.250</td> \n",
       "</tr>\n",
       "<tr>\n",
       "  <th></th>                      <td> - 1821</td>     <th>                     </th>     <td> </td>    \n",
       "</tr>\n",
       "<tr>\n",
       "  <th>Covariance Type:</th>        <td>opg</td>       <th>                     </th>     <td> </td>    \n",
       "</tr>\n",
       "</table>\n",
       "<table class=\"simpletable\">\n",
       "<tr>\n",
       "      <td></td>         <th>coef</th>     <th>std err</th>      <th>z</th>      <th>P>|z|</th>  <th>[0.025</th>    <th>0.975]</th>  \n",
       "</tr>\n",
       "<tr>\n",
       "  <th>intercept</th> <td>    1.3907</td> <td>    0.407</td> <td>    3.414</td> <td> 0.001</td> <td>    0.592</td> <td>    2.189</td>\n",
       "</tr>\n",
       "<tr>\n",
       "  <th>ar.L1</th>     <td>    0.9701</td> <td>    0.009</td> <td>  110.620</td> <td> 0.000</td> <td>    0.953</td> <td>    0.987</td>\n",
       "</tr>\n",
       "<tr>\n",
       "  <th>ma.L1</th>     <td>   -0.1189</td> <td>    0.024</td> <td>   -4.911</td> <td> 0.000</td> <td>   -0.166</td> <td>   -0.071</td>\n",
       "</tr>\n",
       "<tr>\n",
       "  <th>ma.L2</th>     <td>   -0.2126</td> <td>    0.025</td> <td>   -8.645</td> <td> 0.000</td> <td>   -0.261</td> <td>   -0.164</td>\n",
       "</tr>\n",
       "<tr>\n",
       "  <th>ma.L3</th>     <td>   -0.2034</td> <td>    0.024</td> <td>   -8.386</td> <td> 0.000</td> <td>   -0.251</td> <td>   -0.156</td>\n",
       "</tr>\n",
       "<tr>\n",
       "  <th>ma.L4</th>     <td>   -0.1312</td> <td>    0.023</td> <td>   -5.705</td> <td> 0.000</td> <td>   -0.176</td> <td>   -0.086</td>\n",
       "</tr>\n",
       "<tr>\n",
       "  <th>ma.L5</th>     <td>   -0.0428</td> <td>    0.025</td> <td>   -1.745</td> <td> 0.081</td> <td>   -0.091</td> <td>    0.005</td>\n",
       "</tr>\n",
       "<tr>\n",
       "  <th>sigma2</th>    <td>    5.5373</td> <td>    0.175</td> <td>   31.710</td> <td> 0.000</td> <td>    5.195</td> <td>    5.880</td>\n",
       "</tr>\n",
       "</table>\n",
       "<table class=\"simpletable\">\n",
       "<tr>\n",
       "  <th>Ljung-Box (L1) (Q):</th>     <td>0.01</td> <th>  Jarque-Bera (JB):  </th> <td>21.25</td>\n",
       "</tr>\n",
       "<tr>\n",
       "  <th>Prob(Q):</th>                <td>0.92</td> <th>  Prob(JB):          </th> <td>0.00</td> \n",
       "</tr>\n",
       "<tr>\n",
       "  <th>Heteroskedasticity (H):</th> <td>0.81</td> <th>  Skew:              </th> <td>-0.17</td>\n",
       "</tr>\n",
       "<tr>\n",
       "  <th>Prob(H) (two-sided):</th>    <td>0.01</td> <th>  Kurtosis:          </th> <td>3.40</td> \n",
       "</tr>\n",
       "</table><br/><br/>Warnings:<br/>[1] Covariance matrix calculated using the outer product of gradients (complex-step)."
      ],
      "text/plain": [
       "<class 'statsmodels.iolib.summary.Summary'>\n",
       "\"\"\"\n",
       "                               SARIMAX Results                                \n",
       "==============================================================================\n",
       "Dep. Variable:                      y   No. Observations:                 1821\n",
       "Model:               SARIMAX(1, 0, 5)   Log Likelihood               -4139.998\n",
       "Date:                Fri, 09 Apr 2021   AIC                           8295.996\n",
       "Time:                        16:47:22   BIC                           8340.053\n",
       "Sample:                             0   HQIC                          8312.250\n",
       "                               - 1821                                         \n",
       "Covariance Type:                  opg                                         \n",
       "==============================================================================\n",
       "                 coef    std err          z      P>|z|      [0.025      0.975]\n",
       "------------------------------------------------------------------------------\n",
       "intercept      1.3907      0.407      3.414      0.001       0.592       2.189\n",
       "ar.L1          0.9701      0.009    110.620      0.000       0.953       0.987\n",
       "ma.L1         -0.1189      0.024     -4.911      0.000      -0.166      -0.071\n",
       "ma.L2         -0.2126      0.025     -8.645      0.000      -0.261      -0.164\n",
       "ma.L3         -0.2034      0.024     -8.386      0.000      -0.251      -0.156\n",
       "ma.L4         -0.1312      0.023     -5.705      0.000      -0.176      -0.086\n",
       "ma.L5         -0.0428      0.025     -1.745      0.081      -0.091       0.005\n",
       "sigma2         5.5373      0.175     31.710      0.000       5.195       5.880\n",
       "===================================================================================\n",
       "Ljung-Box (L1) (Q):                   0.01   Jarque-Bera (JB):                21.25\n",
       "Prob(Q):                              0.92   Prob(JB):                         0.00\n",
       "Heteroskedasticity (H):               0.81   Skew:                            -0.17\n",
       "Prob(H) (two-sided):                  0.01   Kurtosis:                         3.40\n",
       "===================================================================================\n",
       "\n",
       "Warnings:\n",
       "[1] Covariance matrix calculated using the outer product of gradients (complex-step).\n",
       "\"\"\""
      ]
     },
     "execution_count": 11,
     "metadata": {},
     "output_type": "execute_result"
    }
   ],
   "source": [
    "auto_model.summary()"
   ]
  },
  {
   "cell_type": "code",
   "execution_count": 12,
   "id": "ff9a6ea1",
   "metadata": {},
   "outputs": [],
   "source": [
    "x = df[\"AvgTemp\"]"
   ]
  },
  {
   "cell_type": "code",
   "execution_count": 13,
   "id": "14ef8a10",
   "metadata": {},
   "outputs": [
    {
     "data": {
      "text/plain": [
       "(1821,)"
      ]
     },
     "execution_count": 13,
     "metadata": {},
     "output_type": "execute_result"
    }
   ],
   "source": [
    "x.shape"
   ]
  },
  {
   "cell_type": "code",
   "execution_count": 14,
   "id": "fe652124",
   "metadata": {},
   "outputs": [
    {
     "data": {
      "text/plain": [
       "1456"
      ]
     },
     "execution_count": 14,
     "metadata": {},
     "output_type": "execute_result"
    }
   ],
   "source": [
    "train_len = int(0.8 * len(x))\n",
    "train_len"
   ]
  },
  {
   "cell_type": "code",
   "execution_count": 15,
   "id": "6c5267b1",
   "metadata": {},
   "outputs": [
    {
     "data": {
      "text/plain": [
       "(1456,)"
      ]
     },
     "execution_count": 15,
     "metadata": {},
     "output_type": "execute_result"
    }
   ],
   "source": [
    "train = x[:train_len]\n",
    "train.shape"
   ]
  },
  {
   "cell_type": "code",
   "execution_count": 16,
   "id": "d22a33eb",
   "metadata": {},
   "outputs": [
    {
     "data": {
      "text/plain": [
       "(365,)"
      ]
     },
     "execution_count": 16,
     "metadata": {},
     "output_type": "execute_result"
    }
   ],
   "source": [
    "test = x[train_len:]\n",
    "test.shape"
   ]
  },
  {
   "cell_type": "code",
   "execution_count": 17,
   "id": "530c9d7c",
   "metadata": {},
   "outputs": [
    {
     "name": "stderr",
     "output_type": "stream",
     "text": [
      "/data/user/0/ru.iiec.pydroid3/files/aarch64-linux-android/lib/python3.8/site-packages/statsmodels/tsa/arima_model.py:472: FutureWarning: \n",
      "statsmodels.tsa.arima_model.ARMA and statsmodels.tsa.arima_model.ARIMA have\n",
      "been deprecated in favor of statsmodels.tsa.arima.model.ARIMA (note the .\n",
      "between arima and model) and\n",
      "statsmodels.tsa.SARIMAX. These will be removed after the 0.12 release.\n",
      "\n",
      "statsmodels.tsa.arima.model.ARIMA makes use of the statespace framework and\n",
      "is both well tested and maintained.\n",
      "\n",
      "To silence this warning and continue using ARMA and ARIMA until they are\n",
      "removed, use:\n",
      "\n",
      "import warnings\n",
      "warnings.filterwarnings('ignore', 'statsmodels.tsa.arima_model.ARMA',\n",
      "                        FutureWarning)\n",
      "warnings.filterwarnings('ignore', 'statsmodels.tsa.arima_model.ARIMA',\n",
      "                        FutureWarning)\n",
      "\n",
      "  warnings.warn(ARIMA_DEPRECATION_WARN, FutureWarning)\n",
      "/data/user/0/ru.iiec.pydroid3/files/aarch64-linux-android/lib/python3.8/site-packages/statsmodels/tsa/base/tsa_model.py:581: ValueWarning: A date index has been provided, but it has no associated frequency information and so will be ignored when e.g. forecasting.\n",
      "  warnings.warn('A date index has been provided, but it has no'\n"
     ]
    },
    {
     "data": {
      "text/html": [
       "<table class=\"simpletable\">\n",
       "<caption>ARMA Model Results</caption>\n",
       "<tr>\n",
       "  <th>Dep. Variable:</th>      <td>AvgTemp</td>     <th>  No. Observations:  </th>   <td>1456</td>   \n",
       "</tr>\n",
       "<tr>\n",
       "  <th>Model:</th>            <td>ARMA(1, 5)</td>    <th>  Log Likelihood     </th> <td>-3334.671</td>\n",
       "</tr>\n",
       "<tr>\n",
       "  <th>Method:</th>             <td>css-mle</td>     <th>  S.D. of innovations</th>   <td>2.389</td>  \n",
       "</tr>\n",
       "<tr>\n",
       "  <th>Date:</th>          <td>Fri, 09 Apr 2021</td> <th>  AIC                </th> <td>6685.343</td> \n",
       "</tr>\n",
       "<tr>\n",
       "  <th>Time:</th>              <td>16:47:25</td>     <th>  BIC                </th> <td>6727.610</td> \n",
       "</tr>\n",
       "<tr>\n",
       "  <th>Sample:</th>                <td>0</td>        <th>  HQIC               </th> <td>6701.113</td> \n",
       "</tr>\n",
       "<tr>\n",
       "  <th></th>                       <td> </td>        <th>                     </th>     <td> </td>    \n",
       "</tr>\n",
       "</table>\n",
       "<table class=\"simpletable\">\n",
       "<tr>\n",
       "        <td></td>           <th>coef</th>     <th>std err</th>      <th>z</th>      <th>P>|z|</th>  <th>[0.025</th>    <th>0.975]</th>  \n",
       "</tr>\n",
       "<tr>\n",
       "  <th>const</th>         <td>   46.5293</td> <td>    0.860</td> <td>   54.102</td> <td> 0.000</td> <td>   44.844</td> <td>   48.215</td>\n",
       "</tr>\n",
       "<tr>\n",
       "  <th>ar.L1.AvgTemp</th> <td>    0.9844</td> <td>    0.009</td> <td>  112.835</td> <td> 0.000</td> <td>    0.967</td> <td>    1.002</td>\n",
       "</tr>\n",
       "<tr>\n",
       "  <th>ma.L1.AvgTemp</th> <td>   -0.1312</td> <td>    0.028</td> <td>   -4.704</td> <td> 0.000</td> <td>   -0.186</td> <td>   -0.077</td>\n",
       "</tr>\n",
       "<tr>\n",
       "  <th>ma.L2.AvgTemp</th> <td>   -0.2444</td> <td>    0.028</td> <td>   -8.852</td> <td> 0.000</td> <td>   -0.299</td> <td>   -0.190</td>\n",
       "</tr>\n",
       "<tr>\n",
       "  <th>ma.L3.AvgTemp</th> <td>   -0.2051</td> <td>    0.029</td> <td>   -7.029</td> <td> 0.000</td> <td>   -0.262</td> <td>   -0.148</td>\n",
       "</tr>\n",
       "<tr>\n",
       "  <th>ma.L4.AvgTemp</th> <td>   -0.1476</td> <td>    0.027</td> <td>   -5.486</td> <td> 0.000</td> <td>   -0.200</td> <td>   -0.095</td>\n",
       "</tr>\n",
       "<tr>\n",
       "  <th>ma.L5.AvgTemp</th> <td>   -0.0584</td> <td>    0.028</td> <td>   -2.082</td> <td> 0.037</td> <td>   -0.113</td> <td>   -0.003</td>\n",
       "</tr>\n",
       "</table>\n",
       "<table class=\"simpletable\">\n",
       "<caption>Roots</caption>\n",
       "<tr>\n",
       "    <td></td>   <th>            Real</th>  <th>         Imaginary</th> <th>         Modulus</th>  <th>        Frequency</th>\n",
       "</tr>\n",
       "<tr>\n",
       "  <th>AR.1</th> <td>           1.0158</td> <td>          +0.0000j</td> <td>           1.0158</td> <td>           0.0000</td>\n",
       "</tr>\n",
       "<tr>\n",
       "  <th>MA.1</th> <td>           1.0910</td> <td>          -0.0000j</td> <td>           1.0910</td> <td>          -0.0000</td>\n",
       "</tr>\n",
       "<tr>\n",
       "  <th>MA.2</th> <td>           0.0718</td> <td>          -1.8558j</td> <td>           1.8572</td> <td>          -0.2438</td>\n",
       "</tr>\n",
       "<tr>\n",
       "  <th>MA.3</th> <td>           0.0718</td> <td>          +1.8558j</td> <td>           1.8572</td> <td>           0.2438</td>\n",
       "</tr>\n",
       "<tr>\n",
       "  <th>MA.4</th> <td>          -1.8803</td> <td>          -1.0060j</td> <td>           2.1325</td> <td>          -0.4218</td>\n",
       "</tr>\n",
       "<tr>\n",
       "  <th>MA.5</th> <td>          -1.8803</td> <td>          +1.0060j</td> <td>           2.1325</td> <td>           0.4218</td>\n",
       "</tr>\n",
       "</table>"
      ],
      "text/plain": [
       "<class 'statsmodels.iolib.summary.Summary'>\n",
       "\"\"\"\n",
       "                              ARMA Model Results                              \n",
       "==============================================================================\n",
       "Dep. Variable:                AvgTemp   No. Observations:                 1456\n",
       "Model:                     ARMA(1, 5)   Log Likelihood               -3334.671\n",
       "Method:                       css-mle   S.D. of innovations              2.389\n",
       "Date:                Fri, 09 Apr 2021   AIC                           6685.343\n",
       "Time:                        16:47:25   BIC                           6727.610\n",
       "Sample:                             0   HQIC                          6701.113\n",
       "                                                                              \n",
       "=================================================================================\n",
       "                    coef    std err          z      P>|z|      [0.025      0.975]\n",
       "---------------------------------------------------------------------------------\n",
       "const            46.5293      0.860     54.102      0.000      44.844      48.215\n",
       "ar.L1.AvgTemp     0.9844      0.009    112.835      0.000       0.967       1.002\n",
       "ma.L1.AvgTemp    -0.1312      0.028     -4.704      0.000      -0.186      -0.077\n",
       "ma.L2.AvgTemp    -0.2444      0.028     -8.852      0.000      -0.299      -0.190\n",
       "ma.L3.AvgTemp    -0.2051      0.029     -7.029      0.000      -0.262      -0.148\n",
       "ma.L4.AvgTemp    -0.1476      0.027     -5.486      0.000      -0.200      -0.095\n",
       "ma.L5.AvgTemp    -0.0584      0.028     -2.082      0.037      -0.113      -0.003\n",
       "                                    Roots                                    \n",
       "=============================================================================\n",
       "                  Real          Imaginary           Modulus         Frequency\n",
       "-----------------------------------------------------------------------------\n",
       "AR.1            1.0158           +0.0000j            1.0158            0.0000\n",
       "MA.1            1.0910           -0.0000j            1.0910           -0.0000\n",
       "MA.2            0.0718           -1.8558j            1.8572           -0.2438\n",
       "MA.3            0.0718           +1.8558j            1.8572            0.2438\n",
       "MA.4           -1.8803           -1.0060j            2.1325           -0.4218\n",
       "MA.5           -1.8803           +1.0060j            2.1325            0.4218\n",
       "-----------------------------------------------------------------------------\n",
       "\"\"\""
      ]
     },
     "execution_count": 17,
     "metadata": {},
     "output_type": "execute_result"
    }
   ],
   "source": [
    "# make a model \n",
    "\n",
    "from statsmodels.tsa.arima_model import ARIMA \n",
    "model = ARIMA(train, order =(1,0,5))\n",
    "\n",
    "model_fit = model.fit()\n",
    "\n",
    "model_fit.summary()"
   ]
  },
  {
   "cell_type": "code",
   "execution_count": 18,
   "id": "031581dd",
   "metadata": {},
   "outputs": [
    {
     "data": {
      "text/plain": [
       "<matplotlib.legend.Legend at 0x77bbb1da60>"
      ]
     },
     "execution_count": 18,
     "metadata": {},
     "output_type": "execute_result"
    }
   ],
   "source": [
    "plt.plot(train, label = \"Training Data\")\n",
    "plt.plot(test, label = \"Testing Data\")\n",
    "plt.legend()"
   ]
  },
  {
   "cell_type": "code",
   "execution_count": 19,
   "id": "d628ca16",
   "metadata": {},
   "outputs": [
    {
     "data": {
      "text/plain": [
       "DATE\n",
       "2014-01-01    46.529325\n",
       "2014-01-02    41.196917\n",
       "2014-01-03    43.977320\n",
       "2014-01-04    41.710022\n",
       "2014-01-05    38.275595\n",
       "                ...    \n",
       "2017-12-25    44.577266\n",
       "2017-12-26    41.599461\n",
       "2017-12-27    43.748000\n",
       "2017-12-28    44.505478\n",
       "2017-12-29    42.748242\n",
       "Length: 1456, dtype: float64"
      ]
     },
     "execution_count": 19,
     "metadata": {},
     "output_type": "execute_result"
    }
   ],
   "source": [
    "y_pred_train = model_fit.predict()\n",
    "y_pred_train"
   ]
  },
  {
   "cell_type": "code",
   "execution_count": 20,
   "id": "5b26dd4d",
   "metadata": {},
   "outputs": [
    {
     "name": "stderr",
     "output_type": "stream",
     "text": [
      "/data/user/0/ru.iiec.pydroid3/files/aarch64-linux-android/lib/python3.8/site-packages/statsmodels/tsa/base/tsa_model.py:376: ValueWarning: No supported index is available. Prediction results will be given with an integer index beginning at `start`.\n",
      "  warnings.warn('No supported index is available.'\n"
     ]
    },
    {
     "data": {
      "text/plain": [
       "1456    42.929235\n",
       "1457    42.907454\n",
       "1458    43.061219\n",
       "1459    43.165988\n",
       "1460    43.203600\n",
       "          ...    \n",
       "1816    46.516803\n",
       "1817    46.516998\n",
       "1818    46.517190\n",
       "1819    46.517378\n",
       "1820    46.517564\n",
       "Length: 365, dtype: float64"
      ]
     },
     "execution_count": 20,
     "metadata": {},
     "output_type": "execute_result"
    }
   ],
   "source": [
    "# predictions on test data set \n",
    "\n",
    "# start -> len(train) & end -> len(train) - len(test) - 1 or len(x)-1\n",
    "\n",
    "y_pred_test = model_fit.predict(start = len(train), end = len(x)-1)\n",
    "                        \n",
    "y_pred_test"
   ]
  },
  {
   "cell_type": "code",
   "execution_count": 21,
   "id": "491b3cb6",
   "metadata": {},
   "outputs": [
    {
     "data": {
      "text/plain": [
       "DatetimeIndex(['2017-12-30', '2017-12-31', '2018-01-01', '2018-01-02',\n",
       "               '2018-01-03', '2018-01-04', '2018-01-05', '2018-01-06',\n",
       "               '2018-01-07', '2018-01-08',\n",
       "               ...\n",
       "               '2018-12-20', '2018-12-21', '2018-12-22', '2018-12-23',\n",
       "               '2018-12-24', '2018-12-25', '2018-12-26', '2018-12-27',\n",
       "               '2018-12-28', '2018-12-29'],\n",
       "              dtype='datetime64[ns]', length=365, freq='D')"
      ]
     },
     "execution_count": 21,
     "metadata": {},
     "output_type": "execute_result"
    }
   ],
   "source": [
    "date_test = pd.date_range(start = '2017-12-30', end = '2018-12-29')\n",
    "date_test"
   ]
  },
  {
   "cell_type": "code",
   "execution_count": 22,
   "id": "d8801f44",
   "metadata": {},
   "outputs": [
    {
     "data": {
      "text/plain": [
       "2017-12-30    42.929235\n",
       "2017-12-31    42.907454\n",
       "2018-01-01    43.061219\n",
       "2018-01-02    43.165988\n",
       "2018-01-03    43.203600\n",
       "                ...    \n",
       "2018-12-25    46.516803\n",
       "2018-12-26    46.516998\n",
       "2018-12-27    46.517190\n",
       "2018-12-28    46.517378\n",
       "2018-12-29    46.517564\n",
       "Freq: D, Length: 365, dtype: float64"
      ]
     },
     "execution_count": 22,
     "metadata": {},
     "output_type": "execute_result"
    }
   ],
   "source": [
    "y_pred_test.index = date_test\n",
    "y_pred_test"
   ]
  },
  {
   "cell_type": "code",
   "execution_count": 23,
   "id": "002260c6",
   "metadata": {},
   "outputs": [
    {
     "data": {
      "text/plain": [
       "<matplotlib.axes._subplots.AxesSubplot at 0x77c57e86a0>"
      ]
     },
     "execution_count": 23,
     "metadata": {},
     "output_type": "execute_result"
    }
   ],
   "source": [
    "test.plot()\n",
    "y_pred_test.plot()"
   ]
  },
  {
   "cell_type": "code",
   "execution_count": 24,
   "id": "abe44fb7",
   "metadata": {},
   "outputs": [
    {
     "data": {
      "text/plain": [
       "<matplotlib.axes._subplots.AxesSubplot at 0x77c57e86a0>"
      ]
     },
     "execution_count": 24,
     "metadata": {},
     "output_type": "execute_result"
    }
   ],
   "source": [
    "residuals = model_fit.resid\n",
    "residuals.plot(kind=\"kde\")"
   ]
  },
  {
   "cell_type": "code",
   "execution_count": 25,
   "id": "e9985280",
   "metadata": {},
   "outputs": [
    {
     "name": "stdout",
     "output_type": "stream",
     "text": [
      "MSE is : 14.341740529961454\n",
      "RMSE is : 3.787049053017594\n"
     ]
    }
   ],
   "source": [
    "from sklearn.metrics import mean_squared_error\n",
    "\n",
    "mse = mean_squared_error(test, y_pred_test)\n",
    "\n",
    "print(\"MSE is :\", mse)\n",
    "print(\"RMSE is :\", np.sqrt(mse))"
   ]
  },
  {
   "cell_type": "code",
   "execution_count": 26,
   "id": "4d3374f5",
   "metadata": {},
   "outputs": [],
   "source": [
    "# predict 30 future values"
   ]
  },
  {
   "cell_type": "code",
   "execution_count": 27,
   "id": "bdf1e60e",
   "metadata": {},
   "outputs": [
    {
     "name": "stderr",
     "output_type": "stream",
     "text": [
      "/data/user/0/ru.iiec.pydroid3/files/aarch64-linux-android/lib/python3.8/site-packages/statsmodels/tsa/arima_model.py:472: FutureWarning: \n",
      "statsmodels.tsa.arima_model.ARMA and statsmodels.tsa.arima_model.ARIMA have\n",
      "been deprecated in favor of statsmodels.tsa.arima.model.ARIMA (note the .\n",
      "between arima and model) and\n",
      "statsmodels.tsa.SARIMAX. These will be removed after the 0.12 release.\n",
      "\n",
      "statsmodels.tsa.arima.model.ARIMA makes use of the statespace framework and\n",
      "is both well tested and maintained.\n",
      "\n",
      "To silence this warning and continue using ARMA and ARIMA until they are\n",
      "removed, use:\n",
      "\n",
      "import warnings\n",
      "warnings.filterwarnings('ignore', 'statsmodels.tsa.arima_model.ARMA',\n",
      "                        FutureWarning)\n",
      "warnings.filterwarnings('ignore', 'statsmodels.tsa.arima_model.ARIMA',\n",
      "                        FutureWarning)\n",
      "\n",
      "  warnings.warn(ARIMA_DEPRECATION_WARN, FutureWarning)\n",
      "/data/user/0/ru.iiec.pydroid3/files/aarch64-linux-android/lib/python3.8/site-packages/statsmodels/tsa/base/tsa_model.py:581: ValueWarning: A date index has been provided, but it has no associated frequency information and so will be ignored when e.g. forecasting.\n",
      "  warnings.warn('A date index has been provided, but it has no'\n"
     ]
    }
   ],
   "source": [
    "model = ARIMA(x , order = (1,0,5))\n",
    "model_fit = model.fit()"
   ]
  },
  {
   "cell_type": "code",
   "execution_count": 28,
   "id": "2f570170",
   "metadata": {},
   "outputs": [
    {
     "name": "stderr",
     "output_type": "stream",
     "text": [
      "/data/user/0/ru.iiec.pydroid3/files/aarch64-linux-android/lib/python3.8/site-packages/statsmodels/tsa/base/tsa_model.py:376: ValueWarning: No supported index is available. Prediction results will be given with an integer index beginning at `start`.\n",
      "  warnings.warn('No supported index is available.'\n"
     ]
    },
    {
     "data": {
      "text/plain": [
       "1821    46.418064\n",
       "1822    46.113782\n",
       "1823    45.617772\n",
       "1824    45.249556\n",
       "1825    45.116985\n",
       "1826    45.136772\n",
       "1827    45.156282\n",
       "1828    45.175518\n",
       "1829    45.194485\n",
       "1830    45.213186\n",
       "1831    45.231625\n",
       "1832    45.249806\n",
       "1833    45.267732\n",
       "1834    45.285407\n",
       "1835    45.302834\n",
       "1836    45.320017\n",
       "1837    45.336960\n",
       "1838    45.353665\n",
       "1839    45.370136\n",
       "1840    45.386376\n",
       "1841    45.402389\n",
       "1842    45.418177\n",
       "1843    45.433744\n",
       "1844    45.449094\n",
       "1845    45.464228\n",
       "1846    45.479150\n",
       "1847    45.493863\n",
       "1848    45.508370\n",
       "1849    45.522673\n",
       "1850    45.536777\n",
       "dtype: float64"
      ]
     },
     "execution_count": 28,
     "metadata": {},
     "output_type": "execute_result"
    }
   ],
   "source": [
    "forecast = model_fit.predict(start = len(x), end = len(x)+29)\n",
    "forecast"
   ]
  },
  {
   "cell_type": "code",
   "execution_count": 29,
   "id": "064e721f",
   "metadata": {},
   "outputs": [
    {
     "name": "stdout",
     "output_type": "stream",
     "text": [
      "30\n",
      "30\n"
     ]
    }
   ],
   "source": [
    "forecast_date = pd.date_range(start = \"2019-01-01\", end = \"2019-01-30\")\n",
    "forecast_date\n",
    "print(len(forecast_date))\n",
    "print(len(forecast))"
   ]
  },
  {
   "cell_type": "code",
   "execution_count": 30,
   "id": "a7688fb4",
   "metadata": {},
   "outputs": [],
   "source": [
    "forecast.index = forecast_date"
   ]
  },
  {
   "cell_type": "code",
   "execution_count": 31,
   "id": "cbc8fbf4",
   "metadata": {},
   "outputs": [
    {
     "data": {
      "text/plain": [
       "2019-01-01    46.418064\n",
       "2019-01-02    46.113782\n",
       "2019-01-03    45.617772\n",
       "2019-01-04    45.249556\n",
       "2019-01-05    45.116985\n",
       "2019-01-06    45.136772\n",
       "2019-01-07    45.156282\n",
       "2019-01-08    45.175518\n",
       "2019-01-09    45.194485\n",
       "2019-01-10    45.213186\n",
       "2019-01-11    45.231625\n",
       "2019-01-12    45.249806\n",
       "2019-01-13    45.267732\n",
       "2019-01-14    45.285407\n",
       "2019-01-15    45.302834\n",
       "2019-01-16    45.320017\n",
       "2019-01-17    45.336960\n",
       "2019-01-18    45.353665\n",
       "2019-01-19    45.370136\n",
       "2019-01-20    45.386376\n",
       "2019-01-21    45.402389\n",
       "2019-01-22    45.418177\n",
       "2019-01-23    45.433744\n",
       "2019-01-24    45.449094\n",
       "2019-01-25    45.464228\n",
       "2019-01-26    45.479150\n",
       "2019-01-27    45.493863\n",
       "2019-01-28    45.508370\n",
       "2019-01-29    45.522673\n",
       "2019-01-30    45.536777\n",
       "Freq: D, dtype: float64"
      ]
     },
     "execution_count": 31,
     "metadata": {},
     "output_type": "execute_result"
    }
   ],
   "source": [
    "forecast"
   ]
  },
  {
   "cell_type": "code",
   "execution_count": 32,
   "id": "8eafadfc",
   "metadata": {},
   "outputs": [
    {
     "data": {
      "text/plain": [
       "<matplotlib.axes._subplots.AxesSubplot at 0x77c57e86a0>"
      ]
     },
     "execution_count": 32,
     "metadata": {},
     "output_type": "execute_result"
    }
   ],
   "source": [
    "forecast.plot()"
   ]
  },
  {
   "cell_type": "markdown",
   "id": "95a046aa",
   "metadata": {},
   "source": [
    "### Air-Line Passenger Data Set"
   ]
  },
  {
   "cell_type": "code",
   "execution_count": 33,
   "id": "3944b7d7",
   "metadata": {},
   "outputs": [
    {
     "data": {
      "text/html": [
       "<div>\n",
       "<style scoped>\n",
       "    .dataframe tbody tr th:only-of-type {\n",
       "        vertical-align: middle;\n",
       "    }\n",
       "\n",
       "    .dataframe tbody tr th {\n",
       "        vertical-align: top;\n",
       "    }\n",
       "\n",
       "    .dataframe thead th {\n",
       "        text-align: right;\n",
       "    }\n",
       "</style>\n",
       "<table border=\"1\" class=\"dataframe\">\n",
       "  <thead>\n",
       "    <tr style=\"text-align: right;\">\n",
       "      <th></th>\n",
       "      <th>International airline passengers: monthly totals in thousands. Jan 49 ? Dec 60</th>\n",
       "    </tr>\n",
       "    <tr>\n",
       "      <th>Month</th>\n",
       "      <th></th>\n",
       "    </tr>\n",
       "  </thead>\n",
       "  <tbody>\n",
       "    <tr>\n",
       "      <th>1949-01</th>\n",
       "      <td>112.0</td>\n",
       "    </tr>\n",
       "    <tr>\n",
       "      <th>1949-02</th>\n",
       "      <td>118.0</td>\n",
       "    </tr>\n",
       "    <tr>\n",
       "      <th>1949-03</th>\n",
       "      <td>132.0</td>\n",
       "    </tr>\n",
       "    <tr>\n",
       "      <th>1949-04</th>\n",
       "      <td>129.0</td>\n",
       "    </tr>\n",
       "    <tr>\n",
       "      <th>1949-05</th>\n",
       "      <td>121.0</td>\n",
       "    </tr>\n",
       "  </tbody>\n",
       "</table>\n",
       "</div>"
      ],
      "text/plain": [
       "         International airline passengers: monthly totals in thousands. Jan 49 ? Dec 60\n",
       "Month                                                                                  \n",
       "1949-01                                              112.0                             \n",
       "1949-02                                              118.0                             \n",
       "1949-03                                              132.0                             \n",
       "1949-04                                              129.0                             \n",
       "1949-05                                              121.0                             "
      ]
     },
     "execution_count": 33,
     "metadata": {},
     "output_type": "execute_result"
    }
   ],
   "source": [
    "data = pd.read_csv(\"international-airline-passengers.csv\", parse_dates =[\"Month\"], index_col = 'Month')\n",
    "data.head()"
   ]
  },
  {
   "cell_type": "code",
   "execution_count": 34,
   "id": "7208b1b2",
   "metadata": {},
   "outputs": [],
   "source": [
    "data = data.dropna()"
   ]
  },
  {
   "cell_type": "code",
   "execution_count": 35,
   "id": "0bb91ca8",
   "metadata": {},
   "outputs": [
    {
     "data": {
      "text/plain": [
       "International airline passengers: monthly totals in thousands. Jan 49 ? Dec 60    0\n",
       "dtype: int64"
      ]
     },
     "execution_count": 35,
     "metadata": {},
     "output_type": "execute_result"
    }
   ],
   "source": [
    "data.isna().sum()"
   ]
  },
  {
   "cell_type": "code",
   "execution_count": 36,
   "id": "06a296ec",
   "metadata": {},
   "outputs": [],
   "source": [
    "data.columns = ['MTIT'] #monthly total in thousands"
   ]
  },
  {
   "cell_type": "code",
   "execution_count": 37,
   "id": "01b9f862",
   "metadata": {},
   "outputs": [
    {
     "data": {
      "text/html": [
       "<div>\n",
       "<style scoped>\n",
       "    .dataframe tbody tr th:only-of-type {\n",
       "        vertical-align: middle;\n",
       "    }\n",
       "\n",
       "    .dataframe tbody tr th {\n",
       "        vertical-align: top;\n",
       "    }\n",
       "\n",
       "    .dataframe thead th {\n",
       "        text-align: right;\n",
       "    }\n",
       "</style>\n",
       "<table border=\"1\" class=\"dataframe\">\n",
       "  <thead>\n",
       "    <tr style=\"text-align: right;\">\n",
       "      <th></th>\n",
       "      <th>MTIT</th>\n",
       "    </tr>\n",
       "    <tr>\n",
       "      <th>Month</th>\n",
       "      <th></th>\n",
       "    </tr>\n",
       "  </thead>\n",
       "  <tbody>\n",
       "    <tr>\n",
       "      <th>1949-01</th>\n",
       "      <td>112.0</td>\n",
       "    </tr>\n",
       "    <tr>\n",
       "      <th>1949-02</th>\n",
       "      <td>118.0</td>\n",
       "    </tr>\n",
       "    <tr>\n",
       "      <th>1949-03</th>\n",
       "      <td>132.0</td>\n",
       "    </tr>\n",
       "    <tr>\n",
       "      <th>1949-04</th>\n",
       "      <td>129.0</td>\n",
       "    </tr>\n",
       "    <tr>\n",
       "      <th>1949-05</th>\n",
       "      <td>121.0</td>\n",
       "    </tr>\n",
       "  </tbody>\n",
       "</table>\n",
       "</div>"
      ],
      "text/plain": [
       "          MTIT\n",
       "Month         \n",
       "1949-01  112.0\n",
       "1949-02  118.0\n",
       "1949-03  132.0\n",
       "1949-04  129.0\n",
       "1949-05  121.0"
      ]
     },
     "execution_count": 37,
     "metadata": {},
     "output_type": "execute_result"
    }
   ],
   "source": [
    "data.head()"
   ]
  },
  {
   "cell_type": "code",
   "execution_count": 38,
   "id": "7ba132d9",
   "metadata": {},
   "outputs": [],
   "source": [
    "#data[\"MTIT\"].plot()"
   ]
  },
  {
   "cell_type": "code",
   "execution_count": 39,
   "id": "a82e1832",
   "metadata": {},
   "outputs": [
    {
     "data": {
      "text/plain": [
       "<matplotlib.axes._subplots.AxesSubplot at 0x77bae45e20>"
      ]
     },
     "execution_count": 39,
     "metadata": {},
     "output_type": "execute_result"
    }
   ],
   "source": [
    "data.plot()"
   ]
  },
  {
   "cell_type": "code",
   "execution_count": 40,
   "id": "813b53f7",
   "metadata": {},
   "outputs": [
    {
     "name": "stdout",
     "output_type": "stream",
     "text": [
      "Non Stationary\n"
     ]
    }
   ],
   "source": [
    "result = adfuller(data.MTIT)\n",
    "p_val = result[1]\n",
    "if p_val > 0.05:\n",
    "    print(\"Non Stationary\")\n",
    "else:\n",
    "    print(\"Stationary\")"
   ]
  },
  {
   "cell_type": "code",
   "execution_count": 41,
   "id": "727d7465",
   "metadata": {},
   "outputs": [],
   "source": [
    "# now we have to convert it in stationary"
   ]
  },
  {
   "cell_type": "code",
   "execution_count": 42,
   "id": "f1b8b9f7",
   "metadata": {},
   "outputs": [
    {
     "data": {
      "text/plain": [
       "[<matplotlib.lines.Line2D at 0x77bae675b0>]"
      ]
     },
     "execution_count": 42,
     "metadata": {},
     "output_type": "execute_result"
    }
   ],
   "source": [
    "data[\"MTIT1\"] = data[\"MTIT\"]-data[\"MTIT\"].shift(1)\n",
    "data = data.dropna()\n",
    "plt.plot(data.index , data.MTIT1)"
   ]
  },
  {
   "cell_type": "code",
   "execution_count": 43,
   "id": "5ba46174",
   "metadata": {},
   "outputs": [
    {
     "name": "stdout",
     "output_type": "stream",
     "text": [
      "Non Stationary\n"
     ]
    }
   ],
   "source": [
    "result = adfuller(data.MTIT1)\n",
    "p_val = result[1]\n",
    "if p_val > 0.05:\n",
    "    print(\"Non Stationary\")\n",
    "else:\n",
    "    print(\"Stationary\")"
   ]
  },
  {
   "cell_type": "code",
   "execution_count": 44,
   "id": "36c63aa8",
   "metadata": {},
   "outputs": [
    {
     "name": "stderr",
     "output_type": "stream",
     "text": [
      "<ipython-input-44-9b60a6188b61>:3: SettingWithCopyWarning: \n",
      "A value is trying to be set on a copy of a slice from a DataFrame.\n",
      "Try using .loc[row_indexer,col_indexer] = value instead\n",
      "\n",
      "See the caveats in the documentation: https://pandas.pydata.org/pandas-docs/stable/user_guide/indexing.html#returning-a-view-versus-a-copy\n",
      "  data[\"MTIT2\"] = data[\"MTIT\"]-data[\"MTIT\"].shift(7)\n"
     ]
    },
    {
     "data": {
      "text/plain": [
       "[<matplotlib.lines.Line2D at 0x77bae45130>]"
      ]
     },
     "execution_count": 44,
     "metadata": {},
     "output_type": "execute_result"
    }
   ],
   "source": [
    "# Seasonal Difference\n",
    " \n",
    "data[\"MTIT2\"] = data[\"MTIT\"]-data[\"MTIT\"].shift(7)\n",
    "data = data.dropna()\n",
    "plt.plot(data.index, data.MTIT2)"
   ]
  },
  {
   "cell_type": "code",
   "execution_count": 45,
   "id": "aaad8509",
   "metadata": {},
   "outputs": [
    {
     "name": "stdout",
     "output_type": "stream",
     "text": [
      "Stationary\n"
     ]
    }
   ],
   "source": [
    "result = adfuller(data.MTIT2)\n",
    "p_val = result[1]\n",
    "if p_val > 0.05:\n",
    "    print(\"Non Stationary\")\n",
    "else:\n",
    "    print(\"Stationary\")"
   ]
  },
  {
   "cell_type": "code",
   "execution_count": 46,
   "id": "030d0f99",
   "metadata": {},
   "outputs": [
    {
     "name": "stdout",
     "output_type": "stream",
     "text": [
      "Performing stepwise search to minimize aic\n",
      " ARIMA(2,0,2)(0,0,0)[0] intercept   : AIC=1333.946, Time=2.11 sec\n",
      " ARIMA(0,0,0)(0,0,0)[0] intercept   : AIC=1564.277, Time=0.03 sec\n",
      " ARIMA(1,0,0)(0,0,0)[0] intercept   : AIC=1434.725, Time=0.09 sec\n",
      " ARIMA(0,0,1)(0,0,0)[0] intercept   : AIC=1433.530, Time=0.50 sec\n",
      " ARIMA(0,0,0)(0,0,0)[0]             : AIC=1570.988, Time=0.02 sec\n",
      " ARIMA(1,0,2)(0,0,0)[0] intercept   : AIC=1376.357, Time=1.10 sec\n",
      " ARIMA(2,0,1)(0,0,0)[0] intercept   : AIC=1334.436, Time=0.77 sec\n",
      " ARIMA(3,0,2)(0,0,0)[0] intercept   : AIC=inf, Time=2.01 sec\n",
      " ARIMA(2,0,3)(0,0,0)[0] intercept   : AIC=inf, Time=2.45 sec\n",
      " ARIMA(1,0,1)(0,0,0)[0] intercept   : AIC=1378.380, Time=0.66 sec\n",
      " ARIMA(1,0,3)(0,0,0)[0] intercept   : AIC=inf, Time=1.71 sec\n",
      " ARIMA(3,0,1)(0,0,0)[0] intercept   : AIC=1366.350, Time=1.58 sec\n",
      " ARIMA(3,0,3)(0,0,0)[0] intercept   : AIC=inf, Time=2.35 sec\n",
      " ARIMA(2,0,2)(0,0,0)[0]             : AIC=1356.422, Time=0.61 sec\n",
      "\n",
      "Best model:  ARIMA(2,0,2)(0,0,0)[0] intercept\n",
      "Total fit time: 16.038 seconds\n"
     ]
    }
   ],
   "source": [
    "auto_model = auto_arima(data[\"MTIT2\"], trace = True)"
   ]
  },
  {
   "cell_type": "code",
   "execution_count": 47,
   "id": "7f90d4fd",
   "metadata": {},
   "outputs": [
    {
     "data": {
      "text/html": [
       "<table class=\"simpletable\">\n",
       "<caption>SARIMAX Results</caption>\n",
       "<tr>\n",
       "  <th>Dep. Variable:</th>           <td>y</td>        <th>  No. Observations:  </th>    <td>136</td>  \n",
       "</tr>\n",
       "<tr>\n",
       "  <th>Model:</th>           <td>SARIMAX(2, 0, 2)</td> <th>  Log Likelihood     </th> <td>-660.973</td>\n",
       "</tr>\n",
       "<tr>\n",
       "  <th>Date:</th>            <td>Fri, 09 Apr 2021</td> <th>  AIC                </th> <td>1333.946</td>\n",
       "</tr>\n",
       "<tr>\n",
       "  <th>Time:</th>                <td>16:47:51</td>     <th>  BIC                </th> <td>1351.422</td>\n",
       "</tr>\n",
       "<tr>\n",
       "  <th>Sample:</th>                  <td>0</td>        <th>  HQIC               </th> <td>1341.048</td>\n",
       "</tr>\n",
       "<tr>\n",
       "  <th></th>                      <td> - 136</td>      <th>                     </th>     <td> </td>   \n",
       "</tr>\n",
       "<tr>\n",
       "  <th>Covariance Type:</th>        <td>opg</td>       <th>                     </th>     <td> </td>   \n",
       "</tr>\n",
       "</table>\n",
       "<table class=\"simpletable\">\n",
       "<tr>\n",
       "      <td></td>         <th>coef</th>     <th>std err</th>      <th>z</th>      <th>P>|z|</th>  <th>[0.025</th>    <th>0.975]</th>  \n",
       "</tr>\n",
       "<tr>\n",
       "  <th>intercept</th> <td>    4.7374</td> <td>    0.731</td> <td>    6.478</td> <td> 0.000</td> <td>    3.304</td> <td>    6.171</td>\n",
       "</tr>\n",
       "<tr>\n",
       "  <th>ar.L1</th>     <td>    1.5764</td> <td>    0.056</td> <td>   28.371</td> <td> 0.000</td> <td>    1.468</td> <td>    1.685</td>\n",
       "</tr>\n",
       "<tr>\n",
       "  <th>ar.L2</th>     <td>   -0.8242</td> <td>    0.047</td> <td>  -17.472</td> <td> 0.000</td> <td>   -0.917</td> <td>   -0.732</td>\n",
       "</tr>\n",
       "<tr>\n",
       "  <th>ma.L1</th>     <td>   -0.4354</td> <td>    0.093</td> <td>   -4.686</td> <td> 0.000</td> <td>   -0.618</td> <td>   -0.253</td>\n",
       "</tr>\n",
       "<tr>\n",
       "  <th>ma.L2</th>     <td>   -0.3982</td> <td>    0.082</td> <td>   -4.860</td> <td> 0.000</td> <td>   -0.559</td> <td>   -0.238</td>\n",
       "</tr>\n",
       "<tr>\n",
       "  <th>sigma2</th>    <td>  952.0422</td> <td>  114.398</td> <td>    8.322</td> <td> 0.000</td> <td>  727.826</td> <td> 1176.258</td>\n",
       "</tr>\n",
       "</table>\n",
       "<table class=\"simpletable\">\n",
       "<tr>\n",
       "  <th>Ljung-Box (L1) (Q):</th>     <td>1.57</td> <th>  Jarque-Bera (JB):  </th> <td>1.13</td>\n",
       "</tr>\n",
       "<tr>\n",
       "  <th>Prob(Q):</th>                <td>0.21</td> <th>  Prob(JB):          </th> <td>0.57</td>\n",
       "</tr>\n",
       "<tr>\n",
       "  <th>Heteroskedasticity (H):</th> <td>4.36</td> <th>  Skew:              </th> <td>0.21</td>\n",
       "</tr>\n",
       "<tr>\n",
       "  <th>Prob(H) (two-sided):</th>    <td>0.00</td> <th>  Kurtosis:          </th> <td>3.15</td>\n",
       "</tr>\n",
       "</table><br/><br/>Warnings:<br/>[1] Covariance matrix calculated using the outer product of gradients (complex-step)."
      ],
      "text/plain": [
       "<class 'statsmodels.iolib.summary.Summary'>\n",
       "\"\"\"\n",
       "                               SARIMAX Results                                \n",
       "==============================================================================\n",
       "Dep. Variable:                      y   No. Observations:                  136\n",
       "Model:               SARIMAX(2, 0, 2)   Log Likelihood                -660.973\n",
       "Date:                Fri, 09 Apr 2021   AIC                           1333.946\n",
       "Time:                        16:47:51   BIC                           1351.422\n",
       "Sample:                             0   HQIC                          1341.048\n",
       "                                - 136                                         \n",
       "Covariance Type:                  opg                                         \n",
       "==============================================================================\n",
       "                 coef    std err          z      P>|z|      [0.025      0.975]\n",
       "------------------------------------------------------------------------------\n",
       "intercept      4.7374      0.731      6.478      0.000       3.304       6.171\n",
       "ar.L1          1.5764      0.056     28.371      0.000       1.468       1.685\n",
       "ar.L2         -0.8242      0.047    -17.472      0.000      -0.917      -0.732\n",
       "ma.L1         -0.4354      0.093     -4.686      0.000      -0.618      -0.253\n",
       "ma.L2         -0.3982      0.082     -4.860      0.000      -0.559      -0.238\n",
       "sigma2       952.0422    114.398      8.322      0.000     727.826    1176.258\n",
       "===================================================================================\n",
       "Ljung-Box (L1) (Q):                   1.57   Jarque-Bera (JB):                 1.13\n",
       "Prob(Q):                              0.21   Prob(JB):                         0.57\n",
       "Heteroskedasticity (H):               4.36   Skew:                             0.21\n",
       "Prob(H) (two-sided):                  0.00   Kurtosis:                         3.15\n",
       "===================================================================================\n",
       "\n",
       "Warnings:\n",
       "[1] Covariance matrix calculated using the outer product of gradients (complex-step).\n",
       "\"\"\""
      ]
     },
     "execution_count": 47,
     "metadata": {},
     "output_type": "execute_result"
    }
   ],
   "source": [
    "auto_model.summary()"
   ]
  },
  {
   "cell_type": "code",
   "execution_count": 48,
   "id": "70275013",
   "metadata": {},
   "outputs": [],
   "source": [
    "x = data.MTIT2"
   ]
  },
  {
   "cell_type": "code",
   "execution_count": 49,
   "id": "d6234a62",
   "metadata": {},
   "outputs": [
    {
     "data": {
      "text/plain": [
       "(136,)"
      ]
     },
     "execution_count": 49,
     "metadata": {},
     "output_type": "execute_result"
    }
   ],
   "source": [
    "x.shape"
   ]
  },
  {
   "cell_type": "code",
   "execution_count": 50,
   "id": "51ab8be8",
   "metadata": {},
   "outputs": [
    {
     "data": {
      "text/plain": [
       "108"
      ]
     },
     "execution_count": 50,
     "metadata": {},
     "output_type": "execute_result"
    }
   ],
   "source": [
    "train_len = int(0.8 * len(x))\n",
    "train_len"
   ]
  },
  {
   "cell_type": "code",
   "execution_count": 51,
   "id": "32428cd0",
   "metadata": {},
   "outputs": [
    {
     "data": {
      "text/plain": [
       "(108,)"
      ]
     },
     "execution_count": 51,
     "metadata": {},
     "output_type": "execute_result"
    }
   ],
   "source": [
    "train = x[:train_len]\n",
    "train.shape"
   ]
  },
  {
   "cell_type": "code",
   "execution_count": 52,
   "id": "76854492",
   "metadata": {},
   "outputs": [
    {
     "data": {
      "text/plain": [
       "(28,)"
      ]
     },
     "execution_count": 52,
     "metadata": {},
     "output_type": "execute_result"
    }
   ],
   "source": [
    "test = x[train_len:]\n",
    "test.shape"
   ]
  },
  {
   "cell_type": "code",
   "execution_count": 53,
   "id": "ab24f9ff",
   "metadata": {},
   "outputs": [
    {
     "name": "stderr",
     "output_type": "stream",
     "text": [
      "/data/user/0/ru.iiec.pydroid3/files/aarch64-linux-android/lib/python3.8/site-packages/statsmodels/tsa/arima_model.py:472: FutureWarning: \n",
      "statsmodels.tsa.arima_model.ARMA and statsmodels.tsa.arima_model.ARIMA have\n",
      "been deprecated in favor of statsmodels.tsa.arima.model.ARIMA (note the .\n",
      "between arima and model) and\n",
      "statsmodels.tsa.SARIMAX. These will be removed after the 0.12 release.\n",
      "\n",
      "statsmodels.tsa.arima.model.ARIMA makes use of the statespace framework and\n",
      "is both well tested and maintained.\n",
      "\n",
      "To silence this warning and continue using ARMA and ARIMA until they are\n",
      "removed, use:\n",
      "\n",
      "import warnings\n",
      "warnings.filterwarnings('ignore', 'statsmodels.tsa.arima_model.ARMA',\n",
      "                        FutureWarning)\n",
      "warnings.filterwarnings('ignore', 'statsmodels.tsa.arima_model.ARIMA',\n",
      "                        FutureWarning)\n",
      "\n",
      "  warnings.warn(ARIMA_DEPRECATION_WARN, FutureWarning)\n",
      "/data/user/0/ru.iiec.pydroid3/files/aarch64-linux-android/lib/python3.8/site-packages/statsmodels/tsa/base/tsa_model.py:524: ValueWarning: No frequency information was provided, so inferred frequency MS will be used.\n",
      "  warnings.warn('No frequency information was'\n",
      "/data/user/0/ru.iiec.pydroid3/files/aarch64-linux-android/lib/python3.8/site-packages/statsmodels/base/model.py:547: HessianInversionWarning: Inverting hessian failed, no bse or cov_params available\n",
      "  warnings.warn('Inverting hessian failed, no bse or cov_params '\n",
      "/data/user/0/ru.iiec.pydroid3/files/aarch64-linux-android/lib/python3.8/site-packages/statsmodels/base/model.py:566: ConvergenceWarning: Maximum Likelihood optimization failed to converge. Check mle_retvals\n",
      "  warnings.warn(\"Maximum Likelihood optimization failed to \"\n",
      "/data/user/0/ru.iiec.pydroid3/files/aarch64-linux-android/lib/python3.8/site-packages/statsmodels/tsa/arima_model.py:1521: RuntimeWarning: invalid value encountered in sqrt\n",
      "  return np.sqrt(np.diag(-inv(hess)))\n"
     ]
    },
    {
     "data": {
      "text/html": [
       "<table class=\"simpletable\">\n",
       "<caption>ARMA Model Results</caption>\n",
       "<tr>\n",
       "  <th>Dep. Variable:</th>       <td>MTIT2</td>      <th>  No. Observations:  </th>     <td>108</td>    \n",
       "</tr>\n",
       "<tr>\n",
       "  <th>Model:</th>            <td>ARMA(2, 2)</td>    <th>  Log Likelihood     </th>  <td>-519.448</td>  \n",
       "</tr>\n",
       "<tr>\n",
       "  <th>Method:</th>             <td>css-mle</td>     <th>  S.D. of innovations</th> <td>1670663.896</td>\n",
       "</tr>\n",
       "<tr>\n",
       "  <th>Date:</th>          <td>Fri, 09 Apr 2021</td> <th>  AIC                </th>  <td>1050.896</td>  \n",
       "</tr>\n",
       "<tr>\n",
       "  <th>Time:</th>              <td>16:47:52</td>     <th>  BIC                </th>  <td>1066.989</td>  \n",
       "</tr>\n",
       "<tr>\n",
       "  <th>Sample:</th>           <td>09-01-1949</td>    <th>  HQIC               </th>  <td>1057.421</td>  \n",
       "</tr>\n",
       "<tr>\n",
       "  <th></th>                 <td>- 08-01-1958</td>   <th>                     </th>      <td> </td>     \n",
       "</tr>\n",
       "</table>\n",
       "<table class=\"simpletable\">\n",
       "<tr>\n",
       "       <td></td>          <th>coef</th>     <th>std err</th>      <th>z</th>      <th>P>|z|</th>  <th>[0.025</th>    <th>0.975]</th>  \n",
       "</tr>\n",
       "<tr>\n",
       "  <th>const</th>       <td>   17.2215</td> <td>      nan</td> <td>      nan</td> <td>   nan</td> <td>      nan</td> <td>      nan</td>\n",
       "</tr>\n",
       "<tr>\n",
       "  <th>ar.L1.MTIT2</th> <td>    1.7409</td> <td>      nan</td> <td>      nan</td> <td>   nan</td> <td>      nan</td> <td>      nan</td>\n",
       "</tr>\n",
       "<tr>\n",
       "  <th>ar.L2.MTIT2</th> <td>   -1.0000</td> <td>      nan</td> <td>      nan</td> <td>   nan</td> <td>      nan</td> <td>      nan</td>\n",
       "</tr>\n",
       "<tr>\n",
       "  <th>ma.L1.MTIT2</th> <td>   -1.4772</td> <td>    0.104</td> <td>  -14.222</td> <td> 0.000</td> <td>   -1.681</td> <td>   -1.274</td>\n",
       "</tr>\n",
       "<tr>\n",
       "  <th>ma.L2.MTIT2</th> <td>    0.6815</td> <td>    0.135</td> <td>    5.063</td> <td> 0.000</td> <td>    0.418</td> <td>    0.945</td>\n",
       "</tr>\n",
       "</table>\n",
       "<table class=\"simpletable\">\n",
       "<caption>Roots</caption>\n",
       "<tr>\n",
       "    <td></td>   <th>            Real</th>  <th>         Imaginary</th> <th>         Modulus</th>  <th>        Frequency</th>\n",
       "</tr>\n",
       "<tr>\n",
       "  <th>AR.1</th> <td>           0.8704</td> <td>          -0.4923j</td> <td>           1.0000</td> <td>          -0.0819</td>\n",
       "</tr>\n",
       "<tr>\n",
       "  <th>AR.2</th> <td>           0.8704</td> <td>          +0.4923j</td> <td>           1.0000</td> <td>           0.0819</td>\n",
       "</tr>\n",
       "<tr>\n",
       "  <th>MA.1</th> <td>           1.0838</td> <td>          -0.5411j</td> <td>           1.2113</td> <td>          -0.0737</td>\n",
       "</tr>\n",
       "<tr>\n",
       "  <th>MA.2</th> <td>           1.0838</td> <td>          +0.5411j</td> <td>           1.2113</td> <td>           0.0737</td>\n",
       "</tr>\n",
       "</table>"
      ],
      "text/plain": [
       "<class 'statsmodels.iolib.summary.Summary'>\n",
       "\"\"\"\n",
       "                              ARMA Model Results                              \n",
       "==============================================================================\n",
       "Dep. Variable:                  MTIT2   No. Observations:                  108\n",
       "Model:                     ARMA(2, 2)   Log Likelihood                -519.448\n",
       "Method:                       css-mle   S.D. of innovations        1670663.896\n",
       "Date:                Fri, 09 Apr 2021   AIC                           1050.896\n",
       "Time:                        16:47:52   BIC                           1066.989\n",
       "Sample:                    09-01-1949   HQIC                          1057.421\n",
       "                         - 08-01-1958                                         \n",
       "===============================================================================\n",
       "                  coef    std err          z      P>|z|      [0.025      0.975]\n",
       "-------------------------------------------------------------------------------\n",
       "const          17.2215        nan        nan        nan         nan         nan\n",
       "ar.L1.MTIT2     1.7409        nan        nan        nan         nan         nan\n",
       "ar.L2.MTIT2    -1.0000        nan        nan        nan         nan         nan\n",
       "ma.L1.MTIT2    -1.4772      0.104    -14.222      0.000      -1.681      -1.274\n",
       "ma.L2.MTIT2     0.6815      0.135      5.063      0.000       0.418       0.945\n",
       "                                    Roots                                    \n",
       "=============================================================================\n",
       "                  Real          Imaginary           Modulus         Frequency\n",
       "-----------------------------------------------------------------------------\n",
       "AR.1            0.8704           -0.4923j            1.0000           -0.0819\n",
       "AR.2            0.8704           +0.4923j            1.0000            0.0819\n",
       "MA.1            1.0838           -0.5411j            1.2113           -0.0737\n",
       "MA.2            1.0838           +0.5411j            1.2113            0.0737\n",
       "-----------------------------------------------------------------------------\n",
       "\"\"\""
      ]
     },
     "execution_count": 53,
     "metadata": {},
     "output_type": "execute_result"
    }
   ],
   "source": [
    "# make a model \n",
    "\n",
    "from statsmodels.tsa.arima_model import ARIMA\n",
    " \n",
    "model = ARIMA(train, order =(2,0,2))\n",
    "\n",
    "model_fit = model.fit()\n",
    "\n",
    "model_fit.summary()"
   ]
  },
  {
   "cell_type": "code",
   "execution_count": 54,
   "id": "972b2449",
   "metadata": {},
   "outputs": [
    {
     "data": {
      "text/plain": [
       "<matplotlib.legend.Legend at 0x77a967d400>"
      ]
     },
     "execution_count": 54,
     "metadata": {},
     "output_type": "execute_result"
    }
   ],
   "source": [
    "plt.plot(train, label = \"Training Data\")\n",
    "plt.plot(test, label = \"Testing Data\")\n",
    "plt.legend()"
   ]
  },
  {
   "cell_type": "code",
   "execution_count": 55,
   "id": "786c3592",
   "metadata": {},
   "outputs": [
    {
     "data": {
      "text/plain": [
       "1949-09-01     17.221526\n",
       "1949-10-01     17.899139\n",
       "1949-11-01    -36.168664\n",
       "1949-12-01    -33.671893\n",
       "1950-01-01     -5.383011\n",
       "                 ...    \n",
       "1958-04-01    -24.821127\n",
       "1958-05-01     35.523392\n",
       "1958-06-01     95.814677\n",
       "1958-07-01    151.177811\n",
       "1958-08-01    161.951727\n",
       "Freq: MS, Length: 108, dtype: float64"
      ]
     },
     "execution_count": 55,
     "metadata": {},
     "output_type": "execute_result"
    }
   ],
   "source": [
    "y_pred_train = model_fit.predict()\n",
    "y_pred_train"
   ]
  },
  {
   "cell_type": "code",
   "execution_count": 56,
   "id": "634d2cbc",
   "metadata": {},
   "outputs": [
    {
     "data": {
      "text/plain": [
       "1958-09-01    134.808794\n",
       "1958-10-01     76.225253\n",
       "1958-11-01      2.352356\n",
       "1958-12-01    -67.667561\n",
       "1959-01-01   -115.690564\n",
       "1959-02-01   -129.272678\n",
       "1959-03-01   -104.894436\n",
       "1959-04-01    -48.872859\n",
       "1959-05-01     24.275445\n",
       "1959-06-01     95.595897\n",
       "1959-07-01    146.607563\n",
       "1959-08-01    164.092031\n",
       "1959-09-01    143.518634\n",
       "1959-10-01     90.218460\n",
       "1959-11-01     18.002935\n",
       "1959-12-01    -54.415070\n",
       "1960-01-01   -108.270217\n",
       "1960-02-01   -129.607275\n",
       "1960-03-01   -112.897274\n",
       "1960-04-01    -62.470199\n",
       "1960-05-01      8.607017\n",
       "1960-06-01     81.916468\n",
       "1960-07-01    138.461820\n",
       "1960-08-01    163.590741\n",
       "1960-09-01    150.791693\n",
       "1960-10-01    103.381235\n",
       "1960-11-01     33.644618\n",
       "1960-12-01    -40.347636\n",
       "Freq: MS, dtype: float64"
      ]
     },
     "execution_count": 56,
     "metadata": {},
     "output_type": "execute_result"
    }
   ],
   "source": [
    "# predictions on test data set \n",
    "# start -> len(train) & end -> len(train) - len(test) - 1 or len(x)-1\n",
    "y_pred_test = model_fit.predict(start = len(train), end = len(x)-1)\n",
    "                        \n",
    "y_pred_test"
   ]
  },
  {
   "cell_type": "code",
   "execution_count": 57,
   "id": "db6b218b",
   "metadata": {},
   "outputs": [
    {
     "data": {
      "text/plain": [
       "<matplotlib.axes._subplots.AxesSubplot at 0x77bae45e20>"
      ]
     },
     "execution_count": 57,
     "metadata": {},
     "output_type": "execute_result"
    }
   ],
   "source": [
    "test.plot()\n",
    "y_pred_test.plot()"
   ]
  },
  {
   "cell_type": "code",
   "execution_count": 58,
   "id": "f2625fad",
   "metadata": {},
   "outputs": [
    {
     "data": {
      "text/plain": [
       "<matplotlib.axes._subplots.AxesSubplot at 0x77bae45e20>"
      ]
     },
     "execution_count": 58,
     "metadata": {},
     "output_type": "execute_result"
    }
   ],
   "source": [
    "residuals = model_fit.resid\n",
    "residuals.plot(kind=\"kde\")"
   ]
  },
  {
   "cell_type": "code",
   "execution_count": 59,
   "id": "37e29d32",
   "metadata": {},
   "outputs": [
    {
     "name": "stdout",
     "output_type": "stream",
     "text": [
      "MSE is : 2919.691891335386\n",
      "RMSE is : 54.034173365893054\n"
     ]
    }
   ],
   "source": [
    "from sklearn.metrics import mean_squared_error\n",
    "\n",
    "mse = mean_squared_error(test, y_pred_test)\n",
    "\n",
    "print(\"MSE is :\", mse)\n",
    "\n",
    "print(\"RMSE is :\", np.sqrt(mse))"
   ]
  },
  {
   "cell_type": "code",
   "execution_count": 60,
   "id": "29094e48",
   "metadata": {},
   "outputs": [],
   "source": [
    "# predict 30 future value"
   ]
  },
  {
   "cell_type": "code",
   "execution_count": 61,
   "id": "3483f86d",
   "metadata": {},
   "outputs": [
    {
     "name": "stderr",
     "output_type": "stream",
     "text": [
      "/data/user/0/ru.iiec.pydroid3/files/aarch64-linux-android/lib/python3.8/site-packages/statsmodels/tsa/arima_model.py:472: FutureWarning: \n",
      "statsmodels.tsa.arima_model.ARMA and statsmodels.tsa.arima_model.ARIMA have\n",
      "been deprecated in favor of statsmodels.tsa.arima.model.ARIMA (note the .\n",
      "between arima and model) and\n",
      "statsmodels.tsa.SARIMAX. These will be removed after the 0.12 release.\n",
      "\n",
      "statsmodels.tsa.arima.model.ARIMA makes use of the statespace framework and\n",
      "is both well tested and maintained.\n",
      "\n",
      "To silence this warning and continue using ARMA and ARIMA until they are\n",
      "removed, use:\n",
      "\n",
      "import warnings\n",
      "warnings.filterwarnings('ignore', 'statsmodels.tsa.arima_model.ARMA',\n",
      "                        FutureWarning)\n",
      "warnings.filterwarnings('ignore', 'statsmodels.tsa.arima_model.ARIMA',\n",
      "                        FutureWarning)\n",
      "\n",
      "  warnings.warn(ARIMA_DEPRECATION_WARN, FutureWarning)\n",
      "/data/user/0/ru.iiec.pydroid3/files/aarch64-linux-android/lib/python3.8/site-packages/statsmodels/tsa/base/tsa_model.py:524: ValueWarning: No frequency information was provided, so inferred frequency MS will be used.\n",
      "  warnings.warn('No frequency information was'\n",
      "/data/user/0/ru.iiec.pydroid3/files/aarch64-linux-android/lib/python3.8/site-packages/statsmodels/tsa/tsatools.py:657: RuntimeWarning: overflow encountered in tanh\n",
      "  newparams = np.tanh(params/2)\n",
      "/data/user/0/ru.iiec.pydroid3/files/aarch64-linux-android/lib/python3.8/site-packages/statsmodels/tsa/tsatools.py:658: RuntimeWarning: overflow encountered in tanh\n",
      "  tmp = np.tanh(params/2)\n"
     ]
    }
   ],
   "source": [
    "model = ARIMA(x , order = (2,0,2))\n",
    "model_fit = model.fit()"
   ]
  },
  {
   "cell_type": "code",
   "execution_count": 62,
   "id": "11c03608",
   "metadata": {},
   "outputs": [
    {
     "data": {
      "text/plain": [
       "1961-01-01   -29.752019\n",
       "1961-02-01   -47.951698\n",
       "1961-03-01   -46.332759\n",
       "1961-04-01   -28.779838\n",
       "1961-05-01    -2.443148\n",
       "1961-06-01    24.607296\n",
       "1961-07-01    45.543059\n",
       "1961-08-01    56.251113\n",
       "1961-09-01    55.875750\n",
       "1961-10-01    46.458087\n",
       "1961-11-01    31.921122\n",
       "1961-12-01    16.766857\n",
       "1962-01-01     4.858954\n",
       "1962-02-01    -1.422467\n",
       "1962-03-01    -1.509850\n",
       "1962-04-01     3.529747\n",
       "1962-05-01    11.546377\n",
       "1962-06-01    20.030290\n",
       "1962-07-01    26.797077\n",
       "1962-08-01    30.471772\n",
       "1962-09-01    30.687292\n",
       "1962-10-01    27.998242\n",
       "1962-11-01    23.581487\n",
       "1962-12-01    18.835153\n",
       "1963-01-01    14.993289\n",
       "1963-02-01    12.848917\n",
       "1963-03-01    12.635038\n",
       "1963-04-01    14.065332\n",
       "1963-05-01    16.496387\n",
       "1963-06-01    19.149897\n",
       "Freq: MS, dtype: float64"
      ]
     },
     "execution_count": 62,
     "metadata": {},
     "output_type": "execute_result"
    }
   ],
   "source": [
    "forecast = model_fit.predict(start = len(x), end = len(x)+29)\n",
    "forecast"
   ]
  },
  {
   "cell_type": "code",
   "execution_count": 63,
   "id": "82508e72",
   "metadata": {},
   "outputs": [
    {
     "data": {
      "text/plain": [
       "<matplotlib.axes._subplots.AxesSubplot at 0x77bae45e20>"
      ]
     },
     "execution_count": 63,
     "metadata": {},
     "output_type": "execute_result"
    }
   ],
   "source": [
    "forecast.plot()"
   ]
  },
  {
   "cell_type": "code",
   "execution_count": null,
   "id": "491b8713",
   "metadata": {},
   "outputs": [],
   "source": []
  }
 ],
 "metadata": {
  "kernelspec": {
   "display_name": "Python 3",
   "language": "python",
   "name": "python3"
  },
  "language_info": {
   "codemirror_mode": {
    "name": "ipython",
    "version": 3
   },
   "file_extension": ".py",
   "mimetype": "text/x-python",
   "name": "python",
   "nbconvert_exporter": "python",
   "pygments_lexer": "ipython3",
   "version": "3.8.3"
  }
 },
 "nbformat": 4,
 "nbformat_minor": 5
}
