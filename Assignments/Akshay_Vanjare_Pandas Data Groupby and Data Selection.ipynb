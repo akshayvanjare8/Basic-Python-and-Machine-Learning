{
 "cells": [
  {
   "cell_type": "code",
   "execution_count": 12,
   "metadata": {},
   "outputs": [],
   "source": [
    "import pandas as pd"
   ]
  },
  {
   "cell_type": "code",
   "execution_count": 13,
   "metadata": {},
   "outputs": [],
   "source": [
    "url=\"https://raw.githubusercontent.com/akshayvanjare8/datset/main/Automobile_dataset.csv\"\n",
    "\n",
    "automobile=pd.read_csv(url)"
   ]
  },
  {
   "cell_type": "code",
   "execution_count": 14,
   "metadata": {},
   "outputs": [
    {
     "name": "stdout",
     "output_type": "stream",
     "text": [
      "   index      company   body-style  wheel-base  length engine-type  \\\n",
      "0      0  alfa-romero  convertible        88.6   168.8        dohc   \n",
      "1      1  alfa-romero  convertible        88.6   168.8        dohc   \n",
      "2      2  alfa-romero    hatchback        94.5   171.2        ohcv   \n",
      "3      3         audi        sedan        99.8   176.6         ohc   \n",
      "4      4         audi        sedan        99.4   176.6         ohc   \n",
      "\n",
      "  num-of-cylinders  horsepower  average-mileage    price  \n",
      "0             four         111               21  13495.0  \n",
      "1             four         111               21  16500.0  \n",
      "2              six         154               19  16500.0  \n",
      "3             four         102               24  13950.0  \n",
      "4             five         115               18  17450.0  \n",
      "    index     company body-style  wheel-base  length engine-type  \\\n",
      "56     81  volkswagen      sedan        97.3   171.7         ohc   \n",
      "57     82  volkswagen      sedan        97.3   171.7         ohc   \n",
      "58     86  volkswagen      sedan        97.3   171.7         ohc   \n",
      "59     87       volvo      sedan       104.3   188.8         ohc   \n",
      "60     88       volvo      wagon       104.3   188.8         ohc   \n",
      "\n",
      "   num-of-cylinders  horsepower  average-mileage    price  \n",
      "56             four          85               27   7975.0  \n",
      "57             four          52               37   7995.0  \n",
      "58             four         100               26   9995.0  \n",
      "59             four         114               23  12940.0  \n",
      "60             four         114               23  13415.0  \n"
     ]
    }
   ],
   "source": [
    "#Question 1: From given data set print first and last five rows:\n",
    "print(automobile.head())\n",
    "print(automobile.tail())"
   ]
  },
  {
   "cell_type": "code",
   "execution_count": 7,
   "metadata": {},
   "outputs": [
    {
     "name": "stdout",
     "output_type": "stream",
     "text": [
      "index               0\n",
      "company             0\n",
      "body-style          0\n",
      "wheel-base          0\n",
      "length              0\n",
      "engine-type         0\n",
      "num-of-cylinders    0\n",
      "horsepower          0\n",
      "average-mileage     0\n",
      "price               3\n",
      "dtype: int64\n"
     ]
    }
   ],
   "source": [
    "#Question 2: Clean data and update the CSV file\n",
    "\n",
    "cl_auto=automobile \n",
    "\n",
    "#print(clean_automobile.isna())\n",
    "\n",
    "print(cl_auto.isna().sum())"
   ]
  },
  {
   "cell_type": "code",
   "execution_count": 15,
   "metadata": {},
   "outputs": [
    {
     "name": "stdout",
     "output_type": "stream",
     "text": [
      "    index      company   body-style  wheel-base  length engine-type  \\\n",
      "0       0  alfa-romero  convertible        88.6   168.8        dohc   \n",
      "1       1  alfa-romero  convertible        88.6   168.8        dohc   \n",
      "2       2  alfa-romero    hatchback        94.5   171.2        ohcv   \n",
      "3       3         audi        sedan        99.8   176.6         ohc   \n",
      "4       4         audi        sedan        99.4   176.6         ohc   \n",
      "..    ...          ...          ...         ...     ...         ...   \n",
      "56     81   volkswagen        sedan        97.3   171.7         ohc   \n",
      "57     82   volkswagen        sedan        97.3   171.7         ohc   \n",
      "58     86   volkswagen        sedan        97.3   171.7         ohc   \n",
      "59     87        volvo        sedan       104.3   188.8         ohc   \n",
      "60     88        volvo        wagon       104.3   188.8         ohc   \n",
      "\n",
      "   num-of-cylinders  horsepower  average-mileage    price  \n",
      "0              four         111               21  13495.0  \n",
      "1              four         111               21  16500.0  \n",
      "2               six         154               19  16500.0  \n",
      "3              four         102               24  13950.0  \n",
      "4              five         115               18  17450.0  \n",
      "..              ...         ...              ...      ...  \n",
      "56             four          85               27   7975.0  \n",
      "57             four          52               37   7995.0  \n",
      "58             four         100               26   9995.0  \n",
      "59             four         114               23  12940.0  \n",
      "60             four         114               23  13415.0  \n",
      "\n",
      "[61 rows x 10 columns]\n"
     ]
    },
    {
     "ename": "TypeError",
     "evalue": "a bytes-like object is required, not 'str'",
     "output_type": "error",
     "traceback": [
      "\u001b[0;31m---------------------------------------------------------------------------\u001b[0m",
      "\u001b[0;31mTypeError\u001b[0m                                 Traceback (most recent call last)",
      "\u001b[0;32m<ipython-input-15-1fc566557864>\u001b[0m in \u001b[0;36m<module>\u001b[0;34m\u001b[0m\n\u001b[1;32m      7\u001b[0m 'average-mileage':[\"?\",\"n.a\"]})\n\u001b[1;32m      8\u001b[0m \u001b[0mprint\u001b[0m \u001b[0;34m(\u001b[0m\u001b[0mautomobile\u001b[0m\u001b[0;34m)\u001b[0m\u001b[0;34m\u001b[0m\u001b[0;34m\u001b[0m\u001b[0m\n\u001b[0;32m----> 9\u001b[0;31m \u001b[0mautomobile\u001b[0m\u001b[0;34m.\u001b[0m\u001b[0mto_csv\u001b[0m\u001b[0;34m(\u001b[0m\u001b[0murl\u001b[0m\u001b[0;34m)\u001b[0m\u001b[0;34m\u001b[0m\u001b[0;34m\u001b[0m\u001b[0m\n\u001b[0m",
      "\u001b[0;32m/srv/conda/envs/notebook/lib/python3.6/site-packages/pandas/core/generic.py\u001b[0m in \u001b[0;36mto_csv\u001b[0;34m(self, path_or_buf, sep, na_rep, float_format, columns, header, index, index_label, mode, encoding, compression, quoting, quotechar, line_terminator, chunksize, date_format, doublequote, escapechar, decimal, errors)\u001b[0m\n\u001b[1;32m   3168\u001b[0m             \u001b[0mdecimal\u001b[0m\u001b[0;34m=\u001b[0m\u001b[0mdecimal\u001b[0m\u001b[0;34m,\u001b[0m\u001b[0;34m\u001b[0m\u001b[0;34m\u001b[0m\u001b[0m\n\u001b[1;32m   3169\u001b[0m         )\n\u001b[0;32m-> 3170\u001b[0;31m         \u001b[0mformatter\u001b[0m\u001b[0;34m.\u001b[0m\u001b[0msave\u001b[0m\u001b[0;34m(\u001b[0m\u001b[0;34m)\u001b[0m\u001b[0;34m\u001b[0m\u001b[0;34m\u001b[0m\u001b[0m\n\u001b[0m\u001b[1;32m   3171\u001b[0m \u001b[0;34m\u001b[0m\u001b[0m\n\u001b[1;32m   3172\u001b[0m         \u001b[0;32mif\u001b[0m \u001b[0mpath_or_buf\u001b[0m \u001b[0;32mis\u001b[0m \u001b[0;32mNone\u001b[0m\u001b[0;34m:\u001b[0m\u001b[0;34m\u001b[0m\u001b[0;34m\u001b[0m\u001b[0m\n",
      "\u001b[0;32m/srv/conda/envs/notebook/lib/python3.6/site-packages/pandas/io/formats/csvs.py\u001b[0m in \u001b[0;36msave\u001b[0;34m(self)\u001b[0m\n\u001b[1;32m    204\u001b[0m             )\n\u001b[1;32m    205\u001b[0m \u001b[0;34m\u001b[0m\u001b[0m\n\u001b[0;32m--> 206\u001b[0;31m             \u001b[0mself\u001b[0m\u001b[0;34m.\u001b[0m\u001b[0m_save\u001b[0m\u001b[0;34m(\u001b[0m\u001b[0;34m)\u001b[0m\u001b[0;34m\u001b[0m\u001b[0;34m\u001b[0m\u001b[0m\n\u001b[0m\u001b[1;32m    207\u001b[0m \u001b[0;34m\u001b[0m\u001b[0m\n\u001b[1;32m    208\u001b[0m         \u001b[0;32mfinally\u001b[0m\u001b[0;34m:\u001b[0m\u001b[0;34m\u001b[0m\u001b[0;34m\u001b[0m\u001b[0m\n",
      "\u001b[0;32m/srv/conda/envs/notebook/lib/python3.6/site-packages/pandas/io/formats/csvs.py\u001b[0m in \u001b[0;36m_save\u001b[0;34m(self)\u001b[0m\n\u001b[1;32m    312\u001b[0m \u001b[0;34m\u001b[0m\u001b[0m\n\u001b[1;32m    313\u001b[0m     \u001b[0;32mdef\u001b[0m \u001b[0m_save\u001b[0m\u001b[0;34m(\u001b[0m\u001b[0mself\u001b[0m\u001b[0;34m)\u001b[0m \u001b[0;34m->\u001b[0m \u001b[0;32mNone\u001b[0m\u001b[0;34m:\u001b[0m\u001b[0;34m\u001b[0m\u001b[0;34m\u001b[0m\u001b[0m\n\u001b[0;32m--> 314\u001b[0;31m         \u001b[0mself\u001b[0m\u001b[0;34m.\u001b[0m\u001b[0m_save_header\u001b[0m\u001b[0;34m(\u001b[0m\u001b[0;34m)\u001b[0m\u001b[0;34m\u001b[0m\u001b[0;34m\u001b[0m\u001b[0m\n\u001b[0m\u001b[1;32m    315\u001b[0m \u001b[0;34m\u001b[0m\u001b[0m\n\u001b[1;32m    316\u001b[0m         \u001b[0mnrows\u001b[0m \u001b[0;34m=\u001b[0m \u001b[0mlen\u001b[0m\u001b[0;34m(\u001b[0m\u001b[0mself\u001b[0m\u001b[0;34m.\u001b[0m\u001b[0mdata_index\u001b[0m\u001b[0;34m)\u001b[0m\u001b[0;34m\u001b[0m\u001b[0;34m\u001b[0m\u001b[0m\n",
      "\u001b[0;32m/srv/conda/envs/notebook/lib/python3.6/site-packages/pandas/io/formats/csvs.py\u001b[0m in \u001b[0;36m_save_header\u001b[0;34m(self)\u001b[0m\n\u001b[1;32m    281\u001b[0m         \u001b[0;32mif\u001b[0m \u001b[0;32mnot\u001b[0m \u001b[0mhas_mi_columns\u001b[0m \u001b[0;32mor\u001b[0m \u001b[0mhas_aliases\u001b[0m\u001b[0;34m:\u001b[0m\u001b[0;34m\u001b[0m\u001b[0;34m\u001b[0m\u001b[0m\n\u001b[1;32m    282\u001b[0m             \u001b[0mencoded_labels\u001b[0m \u001b[0;34m+=\u001b[0m \u001b[0mlist\u001b[0m\u001b[0;34m(\u001b[0m\u001b[0mwrite_cols\u001b[0m\u001b[0;34m)\u001b[0m\u001b[0;34m\u001b[0m\u001b[0;34m\u001b[0m\u001b[0m\n\u001b[0;32m--> 283\u001b[0;31m             \u001b[0mwriter\u001b[0m\u001b[0;34m.\u001b[0m\u001b[0mwriterow\u001b[0m\u001b[0;34m(\u001b[0m\u001b[0mencoded_labels\u001b[0m\u001b[0;34m)\u001b[0m\u001b[0;34m\u001b[0m\u001b[0;34m\u001b[0m\u001b[0m\n\u001b[0m\u001b[1;32m    284\u001b[0m         \u001b[0;32melse\u001b[0m\u001b[0;34m:\u001b[0m\u001b[0;34m\u001b[0m\u001b[0;34m\u001b[0m\u001b[0m\n\u001b[1;32m    285\u001b[0m             \u001b[0;31m# write out the mi\u001b[0m\u001b[0;34m\u001b[0m\u001b[0;34m\u001b[0m\u001b[0;34m\u001b[0m\u001b[0m\n",
      "\u001b[0;31mTypeError\u001b[0m: a bytes-like object is required, not 'str'"
     ]
    }
   ],
   "source": [
    "#giving NaN values in dataset which we want to niglect\n",
    "automobile = pd.read_csv(url, na_values={\n",
    "'price':[\"?\",\"n.a\"],\n",
    "'stroke':[\"?\",\"n.a\"],\n",
    "'horsepower':[\"?\",\"n.a\"],\n",
    "'peak-rpm':[\"?\",\"n.a\"],\n",
    "'average-mileage':[\"?\",\"n.a\"]})\n",
    "print (automobile)\n",
    "automobile.to_csv(url)"
   ]
  },
  {
   "cell_type": "code",
   "execution_count": 16,
   "metadata": {},
   "outputs": [
    {
     "name": "stdout",
     "output_type": "stream",
     "text": [
      "{'alfa-romero': [0, 1, 2], 'audi': [3, 4, 5, 6], 'bmw': [7, 8, 9, 10, 11, 12], 'chevrolet': [13, 14, 15], 'dodge': [16, 17], 'honda': [18, 19, 20], 'isuzu': [21, 22, 23], 'jaguar': [24, 25, 26], 'mazda': [27, 28, 29, 30, 31], 'mercedes-benz': [32, 33, 34, 35], 'mitsubishi': [36, 37, 38, 39], 'nissan': [40, 41, 42, 43, 44], 'porsche': [45, 46, 47], 'toyota': [48, 49, 50, 51, 52, 53, 54], 'volkswagen': [55, 56, 57, 58], 'volvo': [59, 60]}\n"
     ]
    }
   ],
   "source": [
    "# Question 3: Find the most expensive car company name\n",
    "car=automobile.groupby('company')\n",
    "print(car.groups)"
   ]
  },
  {
   "cell_type": "code",
   "execution_count": 17,
   "metadata": {},
   "outputs": [],
   "source": [
    "data=automobile[['company','price']][automobile.price==automobile['price'].max()]"
   ]
  },
  {
   "cell_type": "code",
   "execution_count": 18,
   "metadata": {},
   "outputs": [
    {
     "data": {
      "text/html": [
       "<div>\n",
       "<style scoped>\n",
       "    .dataframe tbody tr th:only-of-type {\n",
       "        vertical-align: middle;\n",
       "    }\n",
       "\n",
       "    .dataframe tbody tr th {\n",
       "        vertical-align: top;\n",
       "    }\n",
       "\n",
       "    .dataframe thead th {\n",
       "        text-align: right;\n",
       "    }\n",
       "</style>\n",
       "<table border=\"1\" class=\"dataframe\">\n",
       "  <thead>\n",
       "    <tr style=\"text-align: right;\">\n",
       "      <th></th>\n",
       "      <th>company</th>\n",
       "      <th>price</th>\n",
       "    </tr>\n",
       "  </thead>\n",
       "  <tbody>\n",
       "    <tr>\n",
       "      <th>35</th>\n",
       "      <td>mercedes-benz</td>\n",
       "      <td>45400.0</td>\n",
       "    </tr>\n",
       "  </tbody>\n",
       "</table>\n",
       "</div>"
      ],
      "text/plain": [
       "          company    price\n",
       "35  mercedes-benz  45400.0"
      ]
     },
     "execution_count": 18,
     "metadata": {},
     "output_type": "execute_result"
    }
   ],
   "source": [
    "data"
   ]
  },
  {
   "cell_type": "code",
   "execution_count": 19,
   "metadata": {},
   "outputs": [
    {
     "name": "stdout",
     "output_type": "stream",
     "text": [
      "    index company body-style  wheel-base  length engine-type num-of-cylinders  \\\n",
      "48     66  toyota  hatchback        95.7   158.7         ohc             four   \n",
      "49     67  toyota  hatchback        95.7   158.7         ohc             four   \n",
      "50     68  toyota  hatchback        95.7   158.7         ohc             four   \n",
      "51     69  toyota      wagon        95.7   169.7         ohc             four   \n",
      "52     70  toyota      wagon        95.7   169.7         ohc             four   \n",
      "53     71  toyota      wagon        95.7   169.7         ohc             four   \n",
      "54     79  toyota      wagon       104.5   187.8        dohc              six   \n",
      "\n",
      "    horsepower  average-mileage    price  \n",
      "48          62               35   5348.0  \n",
      "49          62               31   6338.0  \n",
      "50          62               31   6488.0  \n",
      "51          62               31   6918.0  \n",
      "52          62               27   7898.0  \n",
      "53          62               27   8778.0  \n",
      "54         156               19  15750.0  \n"
     ]
    }
   ],
   "source": [
    "# Question 4: Print All Toyota Cars details\n",
    "\n",
    "toyota=car.get_group(\"toyota\")\n",
    "print(toyota)"
   ]
  },
  {
   "cell_type": "code",
   "execution_count": 20,
   "metadata": {},
   "outputs": [
    {
     "name": "stdout",
     "output_type": "stream",
     "text": [
      "company\n",
      "alfa-romero      3\n",
      "audi             4\n",
      "bmw              6\n",
      "chevrolet        3\n",
      "dodge            2\n",
      "honda            3\n",
      "isuzu            3\n",
      "jaguar           3\n",
      "mazda            5\n",
      "mercedes-benz    4\n",
      "mitsubishi       4\n",
      "nissan           5\n",
      "porsche          3\n",
      "toyota           7\n",
      "volkswagen       4\n",
      "volvo            2\n",
      "Name: company, dtype: int64\n"
     ]
    }
   ],
   "source": [
    "#  Question 5: Count total cars per company\n",
    "\n",
    "print(car[\"company\"].count())"
   ]
  },
  {
   "cell_type": "code",
   "execution_count": 21,
   "metadata": {},
   "outputs": [
    {
     "name": "stdout",
     "output_type": "stream",
     "text": [
      "company\n",
      "alfa-romero      16500.0\n",
      "audi             18920.0\n",
      "bmw              41315.0\n",
      "chevrolet         6575.0\n",
      "dodge             6377.0\n",
      "honda            12945.0\n",
      "isuzu             6785.0\n",
      "jaguar           36000.0\n",
      "mazda            18344.0\n",
      "mercedes-benz    45400.0\n",
      "mitsubishi        8189.0\n",
      "nissan           13499.0\n",
      "porsche          37028.0\n",
      "toyota           15750.0\n",
      "volkswagen        9995.0\n",
      "volvo            13415.0\n",
      "Name: price, dtype: float64\n"
     ]
    }
   ],
   "source": [
    "# Question 6: Find each company’s Highest price car\n",
    "\n",
    "print(car[\"price\"].max())"
   ]
  },
  {
   "cell_type": "code",
   "execution_count": 22,
   "metadata": {},
   "outputs": [
    {
     "name": "stdout",
     "output_type": "stream",
     "text": [
      "company\n",
      "alfa-romero      20.333333\n",
      "audi             20.000000\n",
      "bmw              19.000000\n",
      "chevrolet        41.000000\n",
      "dodge            31.000000\n",
      "honda            26.333333\n",
      "isuzu            33.333333\n",
      "jaguar           14.333333\n",
      "mazda            28.000000\n",
      "mercedes-benz    18.000000\n",
      "mitsubishi       29.500000\n",
      "nissan           31.400000\n",
      "porsche          17.000000\n",
      "toyota           28.714286\n",
      "volkswagen       31.750000\n",
      "volvo            23.000000\n",
      "Name: average-mileage, dtype: float64\n"
     ]
    }
   ],
   "source": [
    "# Question 7: Find the average mileage of each car making company\n",
    "\n",
    "print(car[\"average-mileage\"].mean())"
   ]
  },
  {
   "cell_type": "code",
   "execution_count": 23,
   "metadata": {},
   "outputs": [
    {
     "name": "stdout",
     "output_type": "stream",
     "text": [
      "   index      company   body-style  wheel-base  length engine-type  \\\n",
      "4      4         audi        sedan        99.4   176.6         ohc   \n",
      "1      1  alfa-romero  convertible        88.6   168.8        dohc   \n",
      "2      2  alfa-romero    hatchback        94.5   171.2        ohcv   \n",
      "3      3         audi        sedan        99.8   176.6         ohc   \n",
      "0      0  alfa-romero  convertible        88.6   168.8        dohc   \n",
      "\n",
      "  num-of-cylinders  horsepower  average-mileage    price  \n",
      "4             five         115               18  17450.0  \n",
      "1             four         111               21  16500.0  \n",
      "2              six         154               19  16500.0  \n",
      "3             four         102               24  13950.0  \n",
      "0             four         111               21  13495.0  \n"
     ]
    }
   ],
   "source": [
    "#Question 8: Sort all cars by Price in descending order column and display first five rows:\n",
    "\n",
    "print(automobile.head().sort_values(\"price\", axis=0,ascending=False))"
   ]
  },
  {
   "cell_type": "code",
   "execution_count": 24,
   "metadata": {},
   "outputs": [
    {
     "name": "stdout",
     "output_type": "stream",
     "text": [
      "              company   price\n",
      "Germany 0        Ford   23845\n",
      "        1    Mercedes  171995\n",
      "        2         BMW  135925\n",
      "        3        Audi   71400\n",
      "Japan   0      Toyota   29995\n",
      "        1       Honda   23600\n",
      "        2      Nissan   61500\n",
      "        3  Mitsubishi   58900\n"
     ]
    }
   ],
   "source": [
    "#  Question 9: Concatenate two data frames using the following conditions\n",
    "\n",
    "GermanCars={'company':[\"Ford\",\"Mercedes\",\"BMW\",\"Audi\"], 'price':[23845,171995,135925,71400]}\n",
    "GermanCars=pd.DataFrame(GermanCars)\n",
    "JapanCars={'company':[\"Toyota\",\"Honda\",\"Nissan\",\"Mitsubishi\"], 'price':[29995,23600,61500,58900]}\n",
    "JapanCars=pd.DataFrame(JapanCars)\n",
    "\n",
    "data=pd.concat((GermanCars,JapanCars), keys = [\"Germany\", \"Japan\"])\n",
    "print(data)"
   ]
  },
  {
   "cell_type": "code",
   "execution_count": 25,
   "metadata": {},
   "outputs": [
    {
     "name": "stdout",
     "output_type": "stream",
     "text": [
      "  company   price  horsepower\n",
      "0  Toyota   23845         141\n",
      "1   Honda  171995          80\n",
      "2     BMW  135925         182\n",
      "3    Audi   71400         160\n",
      "  company     price  horsepower\n",
      "0  Toyota   23845.0         NaN\n",
      "1   Honda  171995.0         NaN\n",
      "2     BMW  135925.0         NaN\n",
      "3    Audi   71400.0         NaN\n",
      "4  Toyota       NaN       141.0\n",
      "5   Honda       NaN        80.0\n",
      "6     BMW       NaN       182.0\n",
      "7    Audi       NaN       160.0\n"
     ]
    }
   ],
   "source": [
    "# Question 10: Merge two data frames using the following condition\n",
    "Car_Price={'company':[\"Toyota\",\"Honda\",\"BMW\",\"Audi\"], 'price':[23845,171995,135925,71400]}\n",
    "Car_Price=pd.DataFrame(Car_Price)\n",
    "Horse_Power={'company':[\"Toyota\",\"Honda\",\"BMW\",\"Audi\"], 'horsepower':[141,80,182,160]}\n",
    "Horse_Power=pd.DataFrame(Horse_Power)\n",
    "data1=pd.merge(Car_Price,Horse_Power, on=\"company\")\n",
    "print(data1)\n",
    "data2=Car_Price.append(Horse_Power, ignore_index=True)\n",
    "print(data2)"
   ]
  },
  {
   "cell_type": "code",
   "execution_count": null,
   "metadata": {},
   "outputs": [],
   "source": []
  }
 ],
 "metadata": {
  "kernelspec": {
   "display_name": "Python 3",
   "language": "python",
   "name": "python3"
  },
  "language_info": {
   "codemirror_mode": {
    "name": "ipython",
    "version": 3
   },
   "file_extension": ".py",
   "mimetype": "text/x-python",
   "name": "python",
   "nbconvert_exporter": "python",
   "pygments_lexer": "ipython3",
   "version": "3.7.3"
  }
 },
 "nbformat": 4,
 "nbformat_minor": 2
}
